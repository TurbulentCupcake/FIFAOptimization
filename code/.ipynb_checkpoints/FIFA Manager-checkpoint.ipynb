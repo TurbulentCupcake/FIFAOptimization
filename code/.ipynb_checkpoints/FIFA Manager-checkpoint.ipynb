{
 "cells": [
  {
   "cell_type": "code",
   "execution_count": 5,
   "metadata": {
    "collapsed": true
   },
   "outputs": [
    {
     "name": "stderr",
     "output_type": "stream",
     "text": [
      "\u001b[1m\u001b[33mWARNING: \u001b[39m\u001b[22m\u001b[33mreadtable is deprecated, use CSV.read from the CSV package instead\u001b[39m\n",
      "Stacktrace:\n",
      " [1] \u001b[1mdepwarn\u001b[22m\u001b[22m\u001b[1m(\u001b[22m\u001b[22m::String, ::Symbol\u001b[1m)\u001b[22m\u001b[22m at \u001b[1m./deprecated.jl:70\u001b[22m\u001b[22m\n",
      " [2] \u001b[1m#readtable#233\u001b[22m\u001b[22m\u001b[1m(\u001b[22m\u001b[22m::Bool, ::Char, ::Array{Char,1}, ::Char, ::Array{String,1}, ::Array{String,1}, ::Array{String,1}, ::Bool, ::Int64, ::Array{Symbol,1}, ::Array{Any,1}, ::Bool, ::Char, ::Bool, ::Int64, ::Array{Int64,1}, ::Bool, ::Symbol, ::Bool, ::Bool, ::DataFrames.#readtable, ::String\u001b[1m)\u001b[22m\u001b[22m at \u001b[1m/home/adithya/.julia/v0.6/DataFrames/src/deprecated.jl:1050\u001b[22m\u001b[22m\n",
      " [3] \u001b[1mreadtable\u001b[22m\u001b[22m\u001b[1m(\u001b[22m\u001b[22m::String\u001b[1m)\u001b[22m\u001b[22m at \u001b[1m/home/adithya/.julia/v0.6/DataFrames/src/deprecated.jl:1050\u001b[22m\u001b[22m\n",
      " [4] \u001b[1minclude_string\u001b[22m\u001b[22m\u001b[1m(\u001b[22m\u001b[22m::String, ::String\u001b[1m)\u001b[22m\u001b[22m at \u001b[1m./loading.jl:522\u001b[22m\u001b[22m\n",
      " [5] \u001b[1minclude_string\u001b[22m\u001b[22m\u001b[1m(\u001b[22m\u001b[22m::Module, ::String, ::String\u001b[1m)\u001b[22m\u001b[22m at \u001b[1m/home/adithya/.julia/v0.6/Compat/src/Compat.jl:71\u001b[22m\u001b[22m\n",
      " [6] \u001b[1mexecute_request\u001b[22m\u001b[22m\u001b[1m(\u001b[22m\u001b[22m::ZMQ.Socket, ::IJulia.Msg\u001b[1m)\u001b[22m\u001b[22m at \u001b[1m/home/adithya/.julia/v0.6/IJulia/src/execute_request.jl:158\u001b[22m\u001b[22m\n",
      " [7] \u001b[1m(::Compat.#inner#17{Array{Any,1},IJulia.#execute_request,Tuple{ZMQ.Socket,IJulia.Msg}})\u001b[22m\u001b[22m\u001b[1m(\u001b[22m\u001b[22m\u001b[1m)\u001b[22m\u001b[22m at \u001b[1m/home/adithya/.julia/v0.6/Compat/src/Compat.jl:385\u001b[22m\u001b[22m\n",
      " [8] \u001b[1meventloop\u001b[22m\u001b[22m\u001b[1m(\u001b[22m\u001b[22m::ZMQ.Socket\u001b[1m)\u001b[22m\u001b[22m at \u001b[1m/home/adithya/.julia/v0.6/IJulia/src/eventloop.jl:8\u001b[22m\u001b[22m\n",
      " [9] \u001b[1m(::IJulia.##14#17)\u001b[22m\u001b[22m\u001b[1m(\u001b[22m\u001b[22m\u001b[1m)\u001b[22m\u001b[22m at \u001b[1m./task.jl:335\u001b[22m\u001b[22m\n",
      "while loading In[5], in expression starting on line 3\n"
     ]
    },
    {
     "data": {
      "text/html": [
       "<table class=\"data-frame\"><thead><tr><th></th><th>x</th><th>Name</th><th>Age</th><th>Photo</th><th>Nationality</th><th>Flag</th><th>Overall</th><th>Potential</th><th>Club</th><th>Club_Logo</th><th>Value</th><th>Wage</th><th>Special</th><th>Acceleration</th><th>Aggression</th><th>Agility</th><th>Balance</th><th>Ball_control</th><th>Composure</th><th>Crossing</th><th>Curve</th><th>Dribbling</th><th>Finishing</th><th>Free_kick_accuracy</th><th>GK_diving</th><th>GK_handling</th><th>GK_kicking</th><th>GK_positioning</th><th>GK_reflexes</th><th>Heading_accuracy</th><th>Interceptions</th><th>Jumping</th><th>Long_passing</th><th>Long_shots</th><th>Marking</th><th>Penalties</th><th>Positioning</th><th>Reactions</th><th>Short_passing</th><th>Shot_power</th><th>Sliding_tackle</th><th>Sprint_speed</th><th>Stamina</th><th>Standing_tackle</th><th>Strength</th><th>Vision</th><th>Volleys</th><th>CAM</th><th>CB</th><th>CDM</th><th>CF</th><th>CM</th><th>ID</th><th>LAM</th><th>LB</th><th>LCB</th><th>LCM</th><th>LDM</th><th>LF</th><th>LM</th><th>LS</th><th>LW</th><th>LWB</th><th>Preferred_Positions</th><th>RAM</th><th>RB</th><th>RCB</th><th>RCM</th><th>RDM</th><th>RF</th><th>RM</th><th>RS</th><th>RW</th><th>RWB</th><th>ST</th></tr></thead><tbody><tr><th>1</th><td>0</td><td>Cristiano Ronaldo</td><td>32</td><td>https://cdn.sofifa.org/48/18/players/20801.png</td><td>Portugal</td><td>https://cdn.sofifa.org/flags/38.png</td><td>94</td><td>94</td><td>Real Madrid CF</td><td>https://cdn.sofifa.org/24/18/teams/243.png</td><td>€95.5M</td><td>€565K</td><td>2228</td><td>89</td><td>63</td><td>89</td><td>63</td><td>93</td><td>95</td><td>85</td><td>81</td><td>91</td><td>94</td><td>76</td><td>7</td><td>11</td><td>15</td><td>14</td><td>11</td><td>88</td><td>29</td><td>95</td><td>77</td><td>92</td><td>22</td><td>85</td><td>95</td><td>96</td><td>83</td><td>94</td><td>23</td><td>91</td><td>92</td><td>31</td><td>80</td><td>85</td><td>88</td><td>89.0</td><td>53.0</td><td>62.0</td><td>91.0</td><td>82.0</td><td>20801</td><td>89.0</td><td>61.0</td><td>53.0</td><td>82.0</td><td>62.0</td><td>91.0</td><td>89.0</td><td>92.0</td><td>91.0</td><td>66.0</td><td>ST LW</td><td>89.0</td><td>61.0</td><td>53.0</td><td>82.0</td><td>62.0</td><td>91.0</td><td>89.0</td><td>92.0</td><td>91.0</td><td>66.0</td><td>92.0</td></tr><tr><th>2</th><td>1</td><td>L. Messi</td><td>30</td><td>https://cdn.sofifa.org/48/18/players/158023.png</td><td>Argentina</td><td>https://cdn.sofifa.org/flags/52.png</td><td>93</td><td>93</td><td>FC Barcelona</td><td>https://cdn.sofifa.org/24/18/teams/241.png</td><td>€105M</td><td>€565K</td><td>2154</td><td>92</td><td>48</td><td>90</td><td>95</td><td>95</td><td>96</td><td>77</td><td>89</td><td>97</td><td>95</td><td>90</td><td>6</td><td>11</td><td>15</td><td>14</td><td>8</td><td>71</td><td>22</td><td>68</td><td>87</td><td>88</td><td>13</td><td>74</td><td>93</td><td>95</td><td>88</td><td>85</td><td>26</td><td>87</td><td>73</td><td>28</td><td>59</td><td>90</td><td>85</td><td>92.0</td><td>45.0</td><td>59.0</td><td>92.0</td><td>84.0</td><td>158023</td><td>92.0</td><td>57.0</td><td>45.0</td><td>84.0</td><td>59.0</td><td>92.0</td><td>90.0</td><td>88.0</td><td>91.0</td><td>62.0</td><td>RW</td><td>92.0</td><td>57.0</td><td>45.0</td><td>84.0</td><td>59.0</td><td>92.0</td><td>90.0</td><td>88.0</td><td>91.0</td><td>62.0</td><td>88.0</td></tr><tr><th>3</th><td>2</td><td>Neymar</td><td>25</td><td>https://cdn.sofifa.org/48/18/players/190871.png</td><td>Brazil</td><td>https://cdn.sofifa.org/flags/54.png</td><td>92</td><td>94</td><td>Paris Saint-Germain</td><td>https://cdn.sofifa.org/24/18/teams/73.png</td><td>€123M</td><td>€280K</td><td>2100</td><td>94</td><td>56</td><td>96</td><td>82</td><td>95</td><td>92</td><td>75</td><td>81</td><td>96</td><td>89</td><td>84</td><td>9</td><td>9</td><td>15</td><td>15</td><td>11</td><td>62</td><td>36</td><td>61</td><td>75</td><td>77</td><td>21</td><td>81</td><td>90</td><td>88</td><td>81</td><td>80</td><td>33</td><td>90</td><td>78</td><td>24</td><td>53</td><td>80</td><td>83</td><td>88.0</td><td>46.0</td><td>59.0</td><td>88.0</td><td>79.0</td><td>190871</td><td>88.0</td><td>59.0</td><td>46.0</td><td>79.0</td><td>59.0</td><td>88.0</td><td>87.0</td><td>84.0</td><td>89.0</td><td>64.0</td><td>LW</td><td>88.0</td><td>59.0</td><td>46.0</td><td>79.0</td><td>59.0</td><td>88.0</td><td>87.0</td><td>84.0</td><td>89.0</td><td>64.0</td><td>84.0</td></tr><tr><th>4</th><td>3</td><td>L. Suárez</td><td>30</td><td>https://cdn.sofifa.org/48/18/players/176580.png</td><td>Uruguay</td><td>https://cdn.sofifa.org/flags/60.png</td><td>92</td><td>92</td><td>FC Barcelona</td><td>https://cdn.sofifa.org/24/18/teams/241.png</td><td>€97M</td><td>€510K</td><td>2291</td><td>88</td><td>78</td><td>86</td><td>60</td><td>91</td><td>83</td><td>77</td><td>86</td><td>86</td><td>94</td><td>84</td><td>27</td><td>25</td><td>31</td><td>33</td><td>37</td><td>77</td><td>41</td><td>69</td><td>64</td><td>86</td><td>30</td><td>85</td><td>92</td><td>93</td><td>83</td><td>87</td><td>38</td><td>77</td><td>89</td><td>45</td><td>80</td><td>84</td><td>88</td><td>87.0</td><td>58.0</td><td>65.0</td><td>88.0</td><td>80.0</td><td>176580</td><td>87.0</td><td>64.0</td><td>58.0</td><td>80.0</td><td>65.0</td><td>88.0</td><td>85.0</td><td>88.0</td><td>87.0</td><td>68.0</td><td>ST</td><td>87.0</td><td>64.0</td><td>58.0</td><td>80.0</td><td>65.0</td><td>88.0</td><td>85.0</td><td>88.0</td><td>87.0</td><td>68.0</td><td>88.0</td></tr><tr><th>5</th><td>4</td><td>M. Neuer</td><td>31</td><td>https://cdn.sofifa.org/48/18/players/167495.png</td><td>Germany</td><td>https://cdn.sofifa.org/flags/21.png</td><td>92</td><td>92</td><td>FC Bayern Munich</td><td>https://cdn.sofifa.org/24/18/teams/21.png</td><td>€61M</td><td>€230K</td><td>1493</td><td>58</td><td>29</td><td>52</td><td>35</td><td>48</td><td>70</td><td>15</td><td>14</td><td>30</td><td>13</td><td>11</td><td>91</td><td>90</td><td>95</td><td>91</td><td>89</td><td>25</td><td>30</td><td>78</td><td>59</td><td>16</td><td>10</td><td>47</td><td>12</td><td>85</td><td>55</td><td>25</td><td>11</td><td>61</td><td>44</td><td>10</td><td>83</td><td>70</td><td>11</td><td>missing</td><td>missing</td><td>missing</td><td>missing</td><td>missing</td><td>167495</td><td>missing</td><td>missing</td><td>missing</td><td>missing</td><td>missing</td><td>missing</td><td>missing</td><td>missing</td><td>missing</td><td>missing</td><td>GK</td><td>missing</td><td>missing</td><td>missing</td><td>missing</td><td>missing</td><td>missing</td><td>missing</td><td>missing</td><td>missing</td><td>missing</td><td>missing</td></tr><tr><th>6</th><td>5</td><td>R. Lewandowski</td><td>28</td><td>https://cdn.sofifa.org/48/18/players/188545.png</td><td>Poland</td><td>https://cdn.sofifa.org/flags/37.png</td><td>91</td><td>91</td><td>FC Bayern Munich</td><td>https://cdn.sofifa.org/24/18/teams/21.png</td><td>€92M</td><td>€355K</td><td>2143</td><td>79</td><td>80</td><td>78</td><td>80</td><td>89</td><td>87</td><td>62</td><td>77</td><td>85</td><td>91</td><td>84</td><td>15</td><td>6</td><td>12</td><td>8</td><td>10</td><td>85</td><td>39</td><td>84</td><td>65</td><td>83</td><td>25</td><td>81</td><td>91</td><td>91</td><td>83</td><td>88</td><td>19</td><td>83</td><td>79</td><td>42</td><td>84</td><td>78</td><td>87</td><td>84.0</td><td>57.0</td><td>62.0</td><td>87.0</td><td>78.0</td><td>188545</td><td>84.0</td><td>58.0</td><td>57.0</td><td>78.0</td><td>62.0</td><td>87.0</td><td>82.0</td><td>88.0</td><td>84.0</td><td>61.0</td><td>ST</td><td>84.0</td><td>58.0</td><td>57.0</td><td>78.0</td><td>62.0</td><td>87.0</td><td>82.0</td><td>88.0</td><td>84.0</td><td>61.0</td><td>88.0</td></tr><tr><th>7</th><td>6</td><td>De Gea</td><td>26</td><td>https://cdn.sofifa.org/48/18/players/193080.png</td><td>Spain</td><td>https://cdn.sofifa.org/flags/45.png</td><td>90</td><td>92</td><td>Manchester United</td><td>https://cdn.sofifa.org/24/18/teams/11.png</td><td>€64.5M</td><td>€215K</td><td>1458</td><td>57</td><td>38</td><td>60</td><td>43</td><td>42</td><td>64</td><td>17</td><td>21</td><td>18</td><td>13</td><td>19</td><td>90</td><td>85</td><td>87</td><td>86</td><td>90</td><td>21</td><td>30</td><td>67</td><td>51</td><td>12</td><td>13</td><td>40</td><td>12</td><td>88</td><td>50</td><td>31</td><td>13</td><td>58</td><td>40</td><td>21</td><td>64</td><td>68</td><td>13</td><td>missing</td><td>missing</td><td>missing</td><td>missing</td><td>missing</td><td>193080</td><td>missing</td><td>missing</td><td>missing</td><td>missing</td><td>missing</td><td>missing</td><td>missing</td><td>missing</td><td>missing</td><td>missing</td><td>GK</td><td>missing</td><td>missing</td><td>missing</td><td>missing</td><td>missing</td><td>missing</td><td>missing</td><td>missing</td><td>missing</td><td>missing</td><td>missing</td></tr><tr><th>8</th><td>7</td><td>E. Hazard</td><td>26</td><td>https://cdn.sofifa.org/48/18/players/183277.png</td><td>Belgium</td><td>https://cdn.sofifa.org/flags/7.png</td><td>90</td><td>91</td><td>Chelsea</td><td>https://cdn.sofifa.org/24/18/teams/5.png</td><td>€90.5M</td><td>€295K</td><td>2096</td><td>93</td><td>54</td><td>93</td><td>91</td><td>92</td><td>87</td><td>80</td><td>82</td><td>93</td><td>83</td><td>79</td><td>11</td><td>12</td><td>6</td><td>8</td><td>8</td><td>57</td><td>41</td><td>59</td><td>81</td><td>82</td><td>25</td><td>86</td><td>85</td><td>85</td><td>86</td><td>79</td><td>22</td><td>87</td><td>79</td><td>27</td><td>65</td><td>86</td><td>79</td><td>88.0</td><td>47.0</td><td>61.0</td><td>87.0</td><td>81.0</td><td>183277</td><td>88.0</td><td>59.0</td><td>47.0</td><td>81.0</td><td>61.0</td><td>87.0</td><td>87.0</td><td>82.0</td><td>88.0</td><td>64.0</td><td>LW</td><td>88.0</td><td>59.0</td><td>47.0</td><td>81.0</td><td>61.0</td><td>87.0</td><td>87.0</td><td>82.0</td><td>88.0</td><td>64.0</td><td>82.0</td></tr><tr><th>9</th><td>8</td><td>T. Kroos</td><td>27</td><td>https://cdn.sofifa.org/48/18/players/182521.png</td><td>Germany</td><td>https://cdn.sofifa.org/flags/21.png</td><td>90</td><td>90</td><td>Real Madrid CF</td><td>https://cdn.sofifa.org/24/18/teams/243.png</td><td>€79M</td><td>€340K</td><td>2165</td><td>60</td><td>60</td><td>71</td><td>69</td><td>89</td><td>85</td><td>85</td><td>85</td><td>79</td><td>76</td><td>84</td><td>10</td><td>11</td><td>13</td><td>7</td><td>10</td><td>54</td><td>85</td><td>32</td><td>93</td><td>90</td><td>63</td><td>73</td><td>79</td><td>86</td><td>90</td><td>87</td><td>69</td><td>52</td><td>77</td><td>82</td><td>74</td><td>88</td><td>82</td><td>83.0</td><td>72.0</td><td>82.0</td><td>81.0</td><td>87.0</td><td>182521</td><td>83.0</td><td>76.0</td><td>72.0</td><td>87.0</td><td>82.0</td><td>81.0</td><td>81.0</td><td>77.0</td><td>80.0</td><td>78.0</td><td>CDM CM</td><td>83.0</td><td>76.0</td><td>72.0</td><td>87.0</td><td>82.0</td><td>81.0</td><td>81.0</td><td>77.0</td><td>80.0</td><td>78.0</td><td>77.0</td></tr><tr><th>10</th><td>9</td><td>G. Higuaín</td><td>29</td><td>https://cdn.sofifa.org/48/18/players/167664.png</td><td>Argentina</td><td>https://cdn.sofifa.org/flags/52.png</td><td>90</td><td>90</td><td>Juventus</td><td>https://cdn.sofifa.org/24/18/teams/45.png</td><td>€77M</td><td>€275K</td><td>1961</td><td>78</td><td>50</td><td>75</td><td>69</td><td>85</td><td>86</td><td>68</td><td>74</td><td>84</td><td>91</td><td>62</td><td>5</td><td>12</td><td>7</td><td>5</td><td>10</td><td>86</td><td>20</td><td>79</td><td>59</td><td>82</td><td>12</td><td>70</td><td>92</td><td>88</td><td>75</td><td>88</td><td>18</td><td>80</td><td>72</td><td>22</td><td>85</td><td>70</td><td>88</td><td>81.0</td><td>46.0</td><td>52.0</td><td>84.0</td><td>71.0</td><td>167664</td><td>81.0</td><td>51.0</td><td>46.0</td><td>71.0</td><td>52.0</td><td>84.0</td><td>79.0</td><td>87.0</td><td>82.0</td><td>55.0</td><td>ST</td><td>81.0</td><td>51.0</td><td>46.0</td><td>71.0</td><td>52.0</td><td>84.0</td><td>79.0</td><td>87.0</td><td>82.0</td><td>55.0</td><td>87.0</td></tr><tr><th>11</th><td>10</td><td>Sergio Ramos</td><td>31</td><td>https://cdn.sofifa.org/48/18/players/155862.png</td><td>Spain</td><td>https://cdn.sofifa.org/flags/45.png</td><td>90</td><td>90</td><td>Real Madrid CF</td><td>https://cdn.sofifa.org/24/18/teams/243.png</td><td>€52M</td><td>€310K</td><td>2153</td><td>75</td><td>84</td><td>79</td><td>60</td><td>84</td><td>80</td><td>66</td><td>73</td><td>61</td><td>60</td><td>67</td><td>11</td><td>8</td><td>9</td><td>7</td><td>11</td><td>91</td><td>88</td><td>93</td><td>72</td><td>55</td><td>86</td><td>68</td><td>52</td><td>85</td><td>78</td><td>79</td><td>91</td><td>77</td><td>84</td><td>89</td><td>81</td><td>63</td><td>66</td><td>70.0</td><td>87.0</td><td>83.0</td><td>70.0</td><td>74.0</td><td>155862</td><td>70.0</td><td>84.0</td><td>87.0</td><td>74.0</td><td>83.0</td><td>70.0</td><td>71.0</td><td>72.0</td><td>69.0</td><td>81.0</td><td>CB</td><td>70.0</td><td>84.0</td><td>87.0</td><td>74.0</td><td>83.0</td><td>70.0</td><td>71.0</td><td>72.0</td><td>69.0</td><td>81.0</td><td>72.0</td></tr><tr><th>12</th><td>11</td><td>K. De Bruyne</td><td>26</td><td>https://cdn.sofifa.org/48/18/players/192985.png</td><td>Belgium</td><td>https://cdn.sofifa.org/flags/7.png</td><td>89</td><td>92</td><td>Manchester City</td><td>https://cdn.sofifa.org/24/18/teams/10.png</td><td>€83M</td><td>€285K</td><td>2162</td><td>76</td><td>68</td><td>80</td><td>75</td><td>87</td><td>84</td><td>90</td><td>83</td><td>85</td><td>83</td><td>83</td><td>15</td><td>13</td><td>5</td><td>10</td><td>13</td><td>53</td><td>56</td><td>65</td><td>84</td><td>86</td><td>30</td><td>77</td><td>84</td><td>88</td><td>90</td><td>85</td><td>40</td><td>75</td><td>87</td><td>51</td><td>73</td><td>90</td><td>82</td><td>86.0</td><td>57.0</td><td>70.0</td><td>85.0</td><td>84.0</td><td>192985</td><td>86.0</td><td>66.0</td><td>57.0</td><td>84.0</td><td>70.0</td><td>85.0</td><td>85.0</td><td>81.0</td><td>85.0</td><td>71.0</td><td>RM CM CAM</td><td>86.0</td><td>66.0</td><td>57.0</td><td>84.0</td><td>70.0</td><td>85.0</td><td>85.0</td><td>81.0</td><td>85.0</td><td>71.0</td><td>81.0</td></tr><tr><th>13</th><td>12</td><td>T. Courtois</td><td>25</td><td>https://cdn.sofifa.org/48/18/players/192119.png</td><td>Belgium</td><td>https://cdn.sofifa.org/flags/7.png</td><td>89</td><td>92</td><td>Chelsea</td><td>https://cdn.sofifa.org/24/18/teams/5.png</td><td>€59M</td><td>€190K</td><td>1282</td><td>46</td><td>23</td><td>61</td><td>45</td><td>23</td><td>52</td><td>14</td><td>19</td><td>13</td><td>14</td><td>11</td><td>85</td><td>91</td><td>69</td><td>86</td><td>88</td><td>13</td><td>15</td><td>68</td><td>31</td><td>17</td><td>11</td><td>27</td><td>13</td><td>81</td><td>32</td><td>36</td><td>16</td><td>52</td><td>38</td><td>18</td><td>70</td><td>44</td><td>12</td><td>missing</td><td>missing</td><td>missing</td><td>missing</td><td>missing</td><td>192119</td><td>missing</td><td>missing</td><td>missing</td><td>missing</td><td>missing</td><td>missing</td><td>missing</td><td>missing</td><td>missing</td><td>missing</td><td>GK</td><td>missing</td><td>missing</td><td>missing</td><td>missing</td><td>missing</td><td>missing</td><td>missing</td><td>missing</td><td>missing</td><td>missing</td><td>missing</td></tr><tr><th>14</th><td>13</td><td>A. Sánchez</td><td>28</td><td>https://cdn.sofifa.org/48/18/players/184941.png</td><td>Chile</td><td>https://cdn.sofifa.org/flags/55.png</td><td>89</td><td>89</td><td>Arsenal</td><td>https://cdn.sofifa.org/24/18/teams/1.png</td><td>€67.5M</td><td>€265K</td><td>2181</td><td>88</td><td>80</td><td>90</td><td>87</td><td>87</td><td>86</td><td>80</td><td>78</td><td>90</td><td>85</td><td>78</td><td>10</td><td>10</td><td>15</td><td>12</td><td>13</td><td>70</td><td>42</td><td>85</td><td>73</td><td>82</td><td>30</td><td>77</td><td>86</td><td>87</td><td>81</td><td>84</td><td>35</td><td>84</td><td>85</td><td>39</td><td>72</td><td>83</td><td>83</td><td>85.0</td><td>56.0</td><td>64.0</td><td>85.0</td><td>79.0</td><td>184941</td><td>85.0</td><td>62.0</td><td>56.0</td><td>79.0</td><td>64.0</td><td>85.0</td><td>85.0</td><td>83.0</td><td>86.0</td><td>66.0</td><td>RM LW ST LM</td><td>85.0</td><td>62.0</td><td>56.0</td><td>79.0</td><td>64.0</td><td>85.0</td><td>85.0</td><td>83.0</td><td>86.0</td><td>66.0</td><td>83.0</td></tr><tr><th>15</th><td>14</td><td>L. Modrić</td><td>31</td><td>https://cdn.sofifa.org/48/18/players/177003.png</td><td>Croatia</td><td>https://cdn.sofifa.org/flags/10.png</td><td>89</td><td>89</td><td>Real Madrid CF</td><td>https://cdn.sofifa.org/24/18/teams/243.png</td><td>€57M</td><td>€340K</td><td>2228</td><td>75</td><td>62</td><td>93</td><td>94</td><td>92</td><td>84</td><td>78</td><td>79</td><td>86</td><td>71</td><td>77</td><td>13</td><td>9</td><td>7</td><td>14</td><td>9</td><td>55</td><td>76</td><td>67</td><td>83</td><td>82</td><td>66</td><td>80</td><td>79</td><td>88</td><td>92</td><td>73</td><td>73</td><td>71</td><td>82</td><td>80</td><td>58</td><td>90</td><td>74</td><td>86.0</td><td>72.0</td><td>80.0</td><td>83.0</td><td>86.0</td><td>177003</td><td>86.0</td><td>78.0</td><td>72.0</td><td>86.0</td><td>80.0</td><td>83.0</td><td>84.0</td><td>76.0</td><td>83.0</td><td>80.0</td><td>CDM CM</td><td>86.0</td><td>78.0</td><td>72.0</td><td>86.0</td><td>80.0</td><td>83.0</td><td>84.0</td><td>76.0</td><td>83.0</td><td>80.0</td><td>76.0</td></tr><tr><th>16</th><td>15</td><td>G. Bale</td><td>27</td><td>https://cdn.sofifa.org/48/18/players/173731.png</td><td>Wales</td><td>https://cdn.sofifa.org/flags/50.png</td><td>89</td><td>89</td><td>Real Madrid CF</td><td>https://cdn.sofifa.org/24/18/teams/243.png</td><td>€69.5M</td><td>€370K</td><td>2263</td><td>93</td><td>65</td><td>77</td><td>65</td><td>87</td><td>85</td><td>87</td><td>86</td><td>89</td><td>87</td><td>85</td><td>15</td><td>15</td><td>11</td><td>5</td><td>6</td><td>86</td><td>59</td><td>85</td><td>80</td><td>90</td><td>51</td><td>76</td><td>86</td><td>87</td><td>86</td><td>91</td><td>52</td><td>95</td><td>76</td><td>55</td><td>80</td><td>79</td><td>76</td><td>86.0</td><td>67.0</td><td>71.0</td><td>87.0</td><td>81.0</td><td>173731</td><td>86.0</td><td>72.0</td><td>67.0</td><td>81.0</td><td>71.0</td><td>87.0</td><td>87.0</td><td>87.0</td><td>87.0</td><td>74.0</td><td>RW</td><td>86.0</td><td>72.0</td><td>67.0</td><td>81.0</td><td>71.0</td><td>87.0</td><td>87.0</td><td>87.0</td><td>87.0</td><td>74.0</td><td>87.0</td></tr><tr><th>17</th><td>16</td><td>S. Agüero</td><td>29</td><td>https://cdn.sofifa.org/48/18/players/153079.png</td><td>Argentina</td><td>https://cdn.sofifa.org/flags/52.png</td><td>89</td><td>89</td><td>Manchester City</td><td>https://cdn.sofifa.org/24/18/teams/10.png</td><td>€66.5M</td><td>€325K</td><td>2074</td><td>90</td><td>63</td><td>86</td><td>91</td><td>89</td><td>90</td><td>70</td><td>82</td><td>89</td><td>90</td><td>72</td><td>13</td><td>15</td><td>6</td><td>11</td><td>14</td><td>68</td><td>24</td><td>80</td><td>63</td><td>83</td><td>13</td><td>83</td><td>91</td><td>89</td><td>79</td><td>88</td><td>12</td><td>84</td><td>74</td><td>20</td><td>74</td><td>83</td><td>85</td><td>85.0</td><td>44.0</td><td>54.0</td><td>87.0</td><td>75.0</td><td>153079</td><td>85.0</td><td>52.0</td><td>44.0</td><td>75.0</td><td>54.0</td><td>87.0</td><td>84.0</td><td>86.0</td><td>86.0</td><td>57.0</td><td>ST</td><td>85.0</td><td>52.0</td><td>44.0</td><td>75.0</td><td>54.0</td><td>87.0</td><td>84.0</td><td>86.0</td><td>86.0</td><td>57.0</td><td>86.0</td></tr><tr><th>18</th><td>17</td><td>G. Chiellini</td><td>32</td><td>https://cdn.sofifa.org/48/18/players/138956.png</td><td>Italy</td><td>https://cdn.sofifa.org/flags/27.png</td><td>89</td><td>89</td><td>Juventus</td><td>https://cdn.sofifa.org/24/18/teams/45.png</td><td>€38M</td><td>€225K</td><td>1867</td><td>68</td><td>92</td><td>59</td><td>64</td><td>57</td><td>82</td><td>58</td><td>60</td><td>58</td><td>33</td><td>31</td><td>3</td><td>3</td><td>2</td><td>4</td><td>3</td><td>84</td><td>88</td><td>89</td><td>59</td><td>49</td><td>92</td><td>50</td><td>28</td><td>82</td><td>59</td><td>78</td><td>90</td><td>78</td><td>68</td><td>92</td><td>91</td><td>50</td><td>45</td><td>55.0</td><td>86.0</td><td>76.0</td><td>55.0</td><td>60.0</td><td>138956</td><td>55.0</td><td>78.0</td><td>86.0</td><td>60.0</td><td>76.0</td><td>55.0</td><td>58.0</td><td>59.0</td><td>56.0</td><td>75.0</td><td>CB</td><td>55.0</td><td>78.0</td><td>86.0</td><td>60.0</td><td>76.0</td><td>55.0</td><td>58.0</td><td>59.0</td><td>56.0</td><td>75.0</td><td>59.0</td></tr><tr><th>19</th><td>18</td><td>G. Buffon</td><td>39</td><td>https://cdn.sofifa.org/48/18/players/1179.png</td><td>Italy</td><td>https://cdn.sofifa.org/flags/27.png</td><td>89</td><td>89</td><td>Juventus</td><td>https://cdn.sofifa.org/24/18/teams/45.png</td><td>€4.5M</td><td>€110K</td><td>1335</td><td>49</td><td>38</td><td>55</td><td>49</td><td>28</td><td>70</td><td>13</td><td>20</td><td>26</td><td>15</td><td>13</td><td>89</td><td>88</td><td>74</td><td>90</td><td>84</td><td>13</td><td>28</td><td>75</td><td>35</td><td>13</td><td>10</td><td>22</td><td>12</td><td>80</td><td>37</td><td>39</td><td>11</td><td>43</td><td>39</td><td>11</td><td>69</td><td>50</td><td>17</td><td>missing</td><td>missing</td><td>missing</td><td>missing</td><td>missing</td><td>1179</td><td>missing</td><td>missing</td><td>missing</td><td>missing</td><td>missing</td><td>missing</td><td>missing</td><td>missing</td><td>missing</td><td>missing</td><td>GK</td><td>missing</td><td>missing</td><td>missing</td><td>missing</td><td>missing</td><td>missing</td><td>missing</td><td>missing</td><td>missing</td><td>missing</td><td>missing</td></tr><tr><th>20</th><td>19</td><td>P. Dybala</td><td>23</td><td>https://cdn.sofifa.org/48/18/players/211110.png</td><td>Argentina</td><td>https://cdn.sofifa.org/flags/52.png</td><td>88</td><td>93</td><td>Juventus</td><td>https://cdn.sofifa.org/24/18/teams/45.png</td><td>€79M</td><td>€215K</td><td>2063</td><td>88</td><td>48</td><td>91</td><td>85</td><td>93</td><td>84</td><td>80</td><td>88</td><td>92</td><td>85</td><td>84</td><td>5</td><td>4</td><td>4</td><td>5</td><td>8</td><td>68</td><td>24</td><td>75</td><td>71</td><td>88</td><td>14</td><td>86</td><td>84</td><td>84</td><td>83</td><td>82</td><td>20</td><td>84</td><td>83</td><td>20</td><td>65</td><td>84</td><td>88</td><td>86.0</td><td>43.0</td><td>55.0</td><td>86.0</td><td>78.0</td><td>211110</td><td>86.0</td><td>55.0</td><td>43.0</td><td>78.0</td><td>55.0</td><td>86.0</td><td>86.0</td><td>83.0</td><td>87.0</td><td>60.0</td><td>ST CAM</td><td>86.0</td><td>55.0</td><td>43.0</td><td>78.0</td><td>55.0</td><td>86.0</td><td>86.0</td><td>83.0</td><td>87.0</td><td>60.0</td><td>83.0</td></tr><tr><th>21</th><td>20</td><td>J. Oblak</td><td>24</td><td>https://cdn.sofifa.org/48/18/players/200389.png</td><td>Slovenia</td><td>https://cdn.sofifa.org/flags/44.png</td><td>88</td><td>93</td><td>Atlético Madrid</td><td>https://cdn.sofifa.org/24/18/teams/240.png</td><td>€57M</td><td>€82K</td><td>1290</td><td>43</td><td>34</td><td>67</td><td>49</td><td>16</td><td>55</td><td>13</td><td>13</td><td>12</td><td>11</td><td>14</td><td>84</td><td>90</td><td>77</td><td>87</td><td>84</td><td>15</td><td>19</td><td>76</td><td>26</td><td>12</td><td>14</td><td>11</td><td>11</td><td>84</td><td>29</td><td>22</td><td>18</td><td>60</td><td>41</td><td>12</td><td>78</td><td>55</td><td>13</td><td>missing</td><td>missing</td><td>missing</td><td>missing</td><td>missing</td><td>200389</td><td>missing</td><td>missing</td><td>missing</td><td>missing</td><td>missing</td><td>missing</td><td>missing</td><td>missing</td><td>missing</td><td>missing</td><td>GK</td><td>missing</td><td>missing</td><td>missing</td><td>missing</td><td>missing</td><td>missing</td><td>missing</td><td>missing</td><td>missing</td><td>missing</td><td>missing</td></tr><tr><th>22</th><td>21</td><td>A. Griezmann</td><td>26</td><td>https://cdn.sofifa.org/48/18/players/194765.png</td><td>France</td><td>https://cdn.sofifa.org/flags/18.png</td><td>88</td><td>91</td><td>Atlético Madrid</td><td>https://cdn.sofifa.org/24/18/teams/240.png</td><td>€75M</td><td>€150K</td><td>2104</td><td>87</td><td>69</td><td>90</td><td>80</td><td>86</td><td>86</td><td>82</td><td>84</td><td>87</td><td>88</td><td>75</td><td>14</td><td>8</td><td>14</td><td>13</td><td>14</td><td>80</td><td>35</td><td>87</td><td>75</td><td>82</td><td>23</td><td>71</td><td>91</td><td>90</td><td>79</td><td>81</td><td>11</td><td>86</td><td>76</td><td>22</td><td>61</td><td>76</td><td>87</td><td>84.0</td><td>48.0</td><td>57.0</td><td>85.0</td><td>76.0</td><td>194765</td><td>84.0</td><td>56.0</td><td>48.0</td><td>76.0</td><td>57.0</td><td>85.0</td><td>84.0</td><td>85.0</td><td>86.0</td><td>60.0</td><td>LW RW ST</td><td>84.0</td><td>56.0</td><td>48.0</td><td>76.0</td><td>57.0</td><td>85.0</td><td>84.0</td><td>85.0</td><td>86.0</td><td>60.0</td><td>85.0</td></tr><tr><th>23</th><td>22</td><td>Thiago</td><td>26</td><td>https://cdn.sofifa.org/48/18/players/189509.png</td><td>Spain</td><td>https://cdn.sofifa.org/flags/45.png</td><td>88</td><td>90</td><td>FC Bayern Munich</td><td>https://cdn.sofifa.org/24/18/teams/21.png</td><td>€70.5M</td><td>€225K</td><td>2185</td><td>77</td><td>57</td><td>90</td><td>86</td><td>92</td><td>83</td><td>72</td><td>85</td><td>90</td><td>69</td><td>77</td><td>6</td><td>11</td><td>7</td><td>9</td><td>13</td><td>58</td><td>78</td><td>75</td><td>90</td><td>82</td><td>49</td><td>75</td><td>83</td><td>84</td><td>91</td><td>75</td><td>62</td><td>68</td><td>75</td><td>64</td><td>59</td><td>86</td><td>90</td><td>86.0</td><td>66.0</td><td>76.0</td><td>83.0</td><td>85.0</td><td>189509</td><td>86.0</td><td>72.0</td><td>66.0</td><td>85.0</td><td>76.0</td><td>83.0</td><td>83.0</td><td>77.0</td><td>83.0</td><td>75.0</td><td>CDM CAM CM</td><td>86.0</td><td>72.0</td><td>66.0</td><td>85.0</td><td>76.0</td><td>83.0</td><td>83.0</td><td>77.0</td><td>83.0</td><td>75.0</td><td>77.0</td></tr><tr><th>24</th><td>23</td><td>P. Aubameyang</td><td>28</td><td>https://cdn.sofifa.org/48/18/players/188567.png</td><td>Gabon</td><td>https://cdn.sofifa.org/flags/115.png</td><td>88</td><td>88</td><td>Borussia Dortmund</td><td>https://cdn.sofifa.org/24/18/teams/22.png</td><td>€61M</td><td>€165K</td><td>2078</td><td>95</td><td>43</td><td>77</td><td>70</td><td>82</td><td>84</td><td>77</td><td>78</td><td>82</td><td>88</td><td>74</td><td>6</td><td>9</td><td>15</td><td>9</td><td>9</td><td>79</td><td>48</td><td>77</td><td>64</td><td>79</td><td>28</td><td>79</td><td>89</td><td>87</td><td>77</td><td>81</td><td>36</td><td>96</td><td>79</td><td>25</td><td>77</td><td>77</td><td>86</td><td>82.0</td><td>52.0</td><td>59.0</td><td>84.0</td><td>74.0</td><td>188567</td><td>82.0</td><td>62.0</td><td>52.0</td><td>74.0</td><td>59.0</td><td>84.0</td><td>83.0</td><td>85.0</td><td>84.0</td><td>65.0</td><td>ST</td><td>82.0</td><td>62.0</td><td>52.0</td><td>74.0</td><td>59.0</td><td>84.0</td><td>83.0</td><td>85.0</td><td>84.0</td><td>65.0</td><td>85.0</td></tr><tr><th>25</th><td>24</td><td>L. Bonucci</td><td>30</td><td>https://cdn.sofifa.org/48/18/players/184344.png</td><td>Italy</td><td>https://cdn.sofifa.org/flags/27.png</td><td>88</td><td>88</td><td>Milan</td><td>https://cdn.sofifa.org/24/18/teams/47.png</td><td>€44M</td><td>€210K</td><td>1995</td><td>62</td><td>82</td><td>60</td><td>52</td><td>75</td><td>84</td><td>44</td><td>56</td><td>69</td><td>39</td><td>61</td><td>2</td><td>2</td><td>3</td><td>2</td><td>4</td><td>88</td><td>90</td><td>85</td><td>85</td><td>65</td><td>84</td><td>70</td><td>38</td><td>86</td><td>79</td><td>74</td><td>88</td><td>72</td><td>73</td><td>88</td><td>85</td><td>74</td><td>58</td><td>68.0</td><td>86.0</td><td>83.0</td><td>66.0</td><td>75.0</td><td>184344</td><td>68.0</td><td>79.0</td><td>86.0</td><td>75.0</td><td>83.0</td><td>66.0</td><td>66.0</td><td>65.0</td><td>63.0</td><td>76.0</td><td>CB</td><td>68.0</td><td>79.0</td><td>86.0</td><td>75.0</td><td>83.0</td><td>66.0</td><td>66.0</td><td>65.0</td><td>63.0</td><td>76.0</td><td>65.0</td></tr><tr><th>26</th><td>25</td><td>J. Boateng</td><td>28</td><td>https://cdn.sofifa.org/48/18/players/183907.png</td><td>Germany</td><td>https://cdn.sofifa.org/flags/21.png</td><td>88</td><td>88</td><td>FC Bayern Munich</td><td>https://cdn.sofifa.org/24/18/teams/21.png</td><td>€48M</td><td>€215K</td><td>1989</td><td>72</td><td>82</td><td>58</td><td>53</td><td>71</td><td>86</td><td>69</td><td>56</td><td>67</td><td>34</td><td>31</td><td>7</td><td>12</td><td>15</td><td>6</td><td>5</td><td>85</td><td>83</td><td>75</td><td>80</td><td>58</td><td>88</td><td>46</td><td>47</td><td>82</td><td>75</td><td>79</td><td>90</td><td>78</td><td>74</td><td>91</td><td>91</td><td>76</td><td>53</td><td>67.0</td><td>85.0</td><td>82.0</td><td>66.0</td><td>73.0</td><td>183907</td><td>67.0</td><td>81.0</td><td>85.0</td><td>73.0</td><td>82.0</td><td>66.0</td><td>69.0</td><td>65.0</td><td>65.0</td><td>79.0</td><td>CB</td><td>67.0</td><td>81.0</td><td>85.0</td><td>73.0</td><td>82.0</td><td>66.0</td><td>69.0</td><td>65.0</td><td>65.0</td><td>79.0</td><td>65.0</td></tr><tr><th>27</th><td>26</td><td>D. Godín</td><td>31</td><td>https://cdn.sofifa.org/48/18/players/182493.png</td><td>Uruguay</td><td>https://cdn.sofifa.org/flags/60.png</td><td>88</td><td>88</td><td>Atlético Madrid</td><td>https://cdn.sofifa.org/24/18/teams/240.png</td><td>€40M</td><td>€125K</td><td>1930</td><td>62</td><td>86</td><td>63</td><td>58</td><td>76</td><td>82</td><td>55</td><td>49</td><td>53</td><td>42</td><td>51</td><td>6</td><td>8</td><td>15</td><td>5</td><td>15</td><td>92</td><td>88</td><td>89</td><td>70</td><td>43</td><td>87</td><td>50</td><td>48</td><td>85</td><td>79</td><td>67</td><td>89</td><td>67</td><td>67</td><td>86</td><td>80</td><td>52</td><td>47</td><td>63.0</td><td>86.0</td><td>80.0</td><td>62.0</td><td>69.0</td><td>182493</td><td>63.0</td><td>79.0</td><td>86.0</td><td>69.0</td><td>80.0</td><td>62.0</td><td>63.0</td><td>64.0</td><td>61.0</td><td>76.0</td><td>CB</td><td>63.0</td><td>79.0</td><td>86.0</td><td>69.0</td><td>80.0</td><td>62.0</td><td>63.0</td><td>64.0</td><td>61.0</td><td>76.0</td><td>64.0</td></tr><tr><th>28</th><td>27</td><td>M. Hummels</td><td>28</td><td>https://cdn.sofifa.org/48/18/players/178603.png</td><td>Germany</td><td>https://cdn.sofifa.org/flags/21.png</td><td>88</td><td>88</td><td>FC Bayern Munich</td><td>https://cdn.sofifa.org/24/18/teams/21.png</td><td>€48M</td><td>€215K</td><td>2038</td><td>62</td><td>66</td><td>64</td><td>58</td><td>77</td><td>91</td><td>64</td><td>65</td><td>68</td><td>55</td><td>53</td><td>15</td><td>6</td><td>10</td><td>5</td><td>6</td><td>89</td><td>89</td><td>68</td><td>85</td><td>51</td><td>85</td><td>68</td><td>56</td><td>85</td><td>80</td><td>71</td><td>90</td><td>65</td><td>66</td><td>92</td><td>85</td><td>79</td><td>60</td><td>71.0</td><td>85.0</td><td>83.0</td><td>69.0</td><td>77.0</td><td>178603</td><td>71.0</td><td>80.0</td><td>85.0</td><td>77.0</td><td>83.0</td><td>69.0</td><td>70.0</td><td>69.0</td><td>68.0</td><td>78.0</td><td>CB</td><td>71.0</td><td>80.0</td><td>85.0</td><td>77.0</td><td>83.0</td><td>69.0</td><td>70.0</td><td>69.0</td><td>68.0</td><td>78.0</td><td>69.0</td></tr><tr><th>29</th><td>28</td><td>M. Özil</td><td>28</td><td>https://cdn.sofifa.org/48/18/players/176635.png</td><td>Germany</td><td>https://cdn.sofifa.org/flags/21.png</td><td>88</td><td>88</td><td>Arsenal</td><td>https://cdn.sofifa.org/24/18/teams/1.png</td><td>€60M</td><td>€265K</td><td>1927</td><td>75</td><td>48</td><td>83</td><td>70</td><td>90</td><td>78</td><td>82</td><td>84</td><td>86</td><td>74</td><td>79</td><td>6</td><td>14</td><td>10</td><td>6</td><td>14</td><td>54</td><td>24</td><td>52</td><td>84</td><td>76</td><td>22</td><td>67</td><td>83</td><td>87</td><td>89</td><td>70</td><td>19</td><td>68</td><td>69</td><td>16</td><td>57</td><td>92</td><td>77</td><td>85.0</td><td>41.0</td><td>57.0</td><td>82.0</td><td>79.0</td><td>176635</td><td>85.0</td><td>52.0</td><td>41.0</td><td>79.0</td><td>57.0</td><td>82.0</td><td>83.0</td><td>76.0</td><td>83.0</td><td>58.0</td><td>RW CAM</td><td>85.0</td><td>52.0</td><td>41.0</td><td>79.0</td><td>57.0</td><td>82.0</td><td>83.0</td><td>76.0</td><td>83.0</td><td>58.0</td><td>76.0</td></tr><tr><th>30</th><td>29</td><td>H. Lloris</td><td>30</td><td>https://cdn.sofifa.org/48/18/players/167948.png</td><td>France</td><td>https://cdn.sofifa.org/flags/18.png</td><td>88</td><td>88</td><td>Tottenham Hotspur</td><td>https://cdn.sofifa.org/24/18/teams/18.png</td><td>€38M</td><td>€165K</td><td>1318</td><td>65</td><td>31</td><td>55</td><td>54</td><td>34</td><td>61</td><td>13</td><td>11</td><td>10</td><td>10</td><td>10</td><td>88</td><td>86</td><td>68</td><td>82</td><td>90</td><td>10</td><td>27</td><td>74</td><td>50</td><td>14</td><td>12</td><td>40</td><td>10</td><td>85</td><td>50</td><td>23</td><td>18</td><td>63</td><td>41</td><td>10</td><td>43</td><td>30</td><td>11</td><td>missing</td><td>missing</td><td>missing</td><td>missing</td><td>missing</td><td>167948</td><td>missing</td><td>missing</td><td>missing</td><td>missing</td><td>missing</td><td>missing</td><td>missing</td><td>missing</td><td>missing</td><td>missing</td><td>GK</td><td>missing</td><td>missing</td><td>missing</td><td>missing</td><td>missing</td><td>missing</td><td>missing</td><td>missing</td><td>missing</td><td>missing</td><td>missing</td></tr><tr><th>&vellip;</th><td>&vellip;</td><td>&vellip;</td><td>&vellip;</td><td>&vellip;</td><td>&vellip;</td><td>&vellip;</td><td>&vellip;</td><td>&vellip;</td><td>&vellip;</td><td>&vellip;</td><td>&vellip;</td><td>&vellip;</td><td>&vellip;</td><td>&vellip;</td><td>&vellip;</td><td>&vellip;</td><td>&vellip;</td><td>&vellip;</td><td>&vellip;</td><td>&vellip;</td><td>&vellip;</td><td>&vellip;</td><td>&vellip;</td><td>&vellip;</td><td>&vellip;</td><td>&vellip;</td><td>&vellip;</td><td>&vellip;</td><td>&vellip;</td><td>&vellip;</td><td>&vellip;</td><td>&vellip;</td><td>&vellip;</td><td>&vellip;</td><td>&vellip;</td><td>&vellip;</td><td>&vellip;</td><td>&vellip;</td><td>&vellip;</td><td>&vellip;</td><td>&vellip;</td><td>&vellip;</td><td>&vellip;</td><td>&vellip;</td><td>&vellip;</td><td>&vellip;</td><td>&vellip;</td><td>&vellip;</td><td>&vellip;</td><td>&vellip;</td><td>&vellip;</td><td>&vellip;</td><td>&vellip;</td><td>&vellip;</td><td>&vellip;</td><td>&vellip;</td><td>&vellip;</td><td>&vellip;</td><td>&vellip;</td><td>&vellip;</td><td>&vellip;</td><td>&vellip;</td><td>&vellip;</td><td>&vellip;</td><td>&vellip;</td><td>&vellip;</td><td>&vellip;</td><td>&vellip;</td><td>&vellip;</td><td>&vellip;</td><td>&vellip;</td><td>&vellip;</td><td>&vellip;</td><td>&vellip;</td><td>&vellip;</td></tr></tbody></table>"
      ],
      "text/plain": [
       "17981×75 DataFrames.DataFrame. Omitted printing of 72 columns\n",
       "│ Row   │ x     │ Name              │ Age │\n",
       "├───────┼───────┼───────────────────┼─────┤\n",
       "│ 1     │ 0     │ Cristiano Ronaldo │ 32  │\n",
       "│ 2     │ 1     │ L. Messi          │ 30  │\n",
       "│ 3     │ 2     │ Neymar            │ 25  │\n",
       "│ 4     │ 3     │ L. Suárez         │ 30  │\n",
       "│ 5     │ 4     │ M. Neuer          │ 31  │\n",
       "│ 6     │ 5     │ R. Lewandowski    │ 28  │\n",
       "│ 7     │ 6     │ De Gea            │ 26  │\n",
       "│ 8     │ 7     │ E. Hazard         │ 26  │\n",
       "│ 9     │ 8     │ T. Kroos          │ 27  │\n",
       "│ 10    │ 9     │ G. Higuaín        │ 29  │\n",
       "│ 11    │ 10    │ Sergio Ramos      │ 31  │\n",
       "⋮\n",
       "│ 17970 │ 17969 │ F. Prohart        │ 18  │\n",
       "│ 17971 │ 17970 │ A. Kilgour        │ 19  │\n",
       "│ 17972 │ 17971 │ R. White          │ 18  │\n",
       "│ 17973 │ 17972 │ A. Conway         │ 19  │\n",
       "│ 17974 │ 17973 │ T. Sawyer         │ 18  │\n",
       "│ 17975 │ 17974 │ J. Keeble         │ 18  │\n",
       "│ 17976 │ 17975 │ T. Käßemodel      │ 28  │\n",
       "│ 17977 │ 17976 │ A. Kelsey         │ 17  │\n",
       "│ 17978 │ 17977 │ B. Richardson     │ 47  │\n",
       "│ 17979 │ 17978 │ J. Young          │ 17  │\n",
       "│ 17980 │ 17979 │ J. Lundstram      │ 18  │\n",
       "│ 17981 │ 17980 │ L. Sackey         │ 18  │"
      ]
     },
     "execution_count": 5,
     "metadata": {},
     "output_type": "execute_result"
    }
   ],
   "source": [
    "using DataFrames\n",
    "# read in the fifa 18 dataset\n",
    "dataset = readtable(\"../data/CompleteDataset.csv\")\n",
    "\n",
    "df = DataFrame(dataset)"
   ]
  },
  {
   "cell_type": "markdown",
   "metadata": {},
   "source": [
    "# Cleaning the Data"
   ]
  },
  {
   "cell_type": "code",
   "execution_count": 6,
   "metadata": {},
   "outputs": [],
   "source": [
    "## replace missing data for player clubs\n",
    "for i in 1:nrow(df)\n",
    "    if ismissing(df[i,9])\n",
    "       df[i,9] = \"No Club\"\n",
    "    end\n",
    "end"
   ]
  },
  {
   "cell_type": "code",
   "execution_count": 7,
   "metadata": {},
   "outputs": [],
   "source": [
    "## replace goal keepers missing positions with missing \n",
    "for i in 1:nrow(df)\n",
    "    if(df[i,64] == \"GK\")\n",
    "        for j in 1:ncol(df)\n",
    "            if(ismissing(df[i,j]))\n",
    "                df[i,j] = 0\n",
    "            end\n",
    "        end\n",
    "    end\n",
    "end\n"
   ]
  },
  {
   "cell_type": "markdown",
   "metadata": {},
   "source": [
    "Let us say we are the manager of a mid-table team in the premier league. As such a team, we are faced with more difficult decisions than that of an upper table team such as Chelsea or Manchester United. We may not have access to the best supoprt staff or money or attract players with great skill. Here, we will assume the role of manager of Southampton. They placed in 8th position in the Premier League in 2016-17 season with 46 points. "
   ]
  },
  {
   "cell_type": "markdown",
   "metadata": {},
   "source": [
    "# Defining Functions"
   ]
  },
  {
   "cell_type": "code",
   "execution_count": 8,
   "metadata": {},
   "outputs": [
    {
     "data": {
      "text/plain": [
       "\"Chelsea\""
      ]
     },
     "execution_count": 8,
     "metadata": {},
     "output_type": "execute_result"
    }
   ],
   "source": [
    "# extract all premier league teams in 2016-17\n",
    "teams = [\"Chelsea\",\"Tottenham Hotspur\",\"Manchester City\",\"Liverpool\",\"Arsenal\",\"Manchester United\",\n",
    "    \"Everton\",\"Southampton\",\"Bournemouth\",\"West Bromwich Albion\",\"West Ham United\",\"Leicester City\",\n",
    "    \"Stoke City\", \"Crystal Palace\",\"Swansea City\",\"Burnley\",\"Watford\",\"Hull City\",\"Middlesbrough\",\"Sunderland\"]\n",
    "\n",
    "# select my team\n",
    "my_team = \"Chelsea\""
   ]
  },
  {
   "cell_type": "code",
   "execution_count": 9,
   "metadata": {
    "collapsed": true
   },
   "outputs": [
    {
     "data": {
      "text/html": [
       "<table class=\"data-frame\"><thead><tr><th></th><th>x</th><th>Name</th><th>Age</th><th>Photo</th><th>Nationality</th><th>Flag</th><th>Overall</th><th>Potential</th><th>Club</th><th>Club_Logo</th><th>Value</th><th>Wage</th><th>Special</th><th>Acceleration</th><th>Aggression</th><th>Agility</th><th>Balance</th><th>Ball_control</th><th>Composure</th><th>Crossing</th><th>Curve</th><th>Dribbling</th><th>Finishing</th><th>Free_kick_accuracy</th><th>GK_diving</th><th>GK_handling</th><th>GK_kicking</th><th>GK_positioning</th><th>GK_reflexes</th><th>Heading_accuracy</th><th>Interceptions</th><th>Jumping</th><th>Long_passing</th><th>Long_shots</th><th>Marking</th><th>Penalties</th><th>Positioning</th><th>Reactions</th><th>Short_passing</th><th>Shot_power</th><th>Sliding_tackle</th><th>Sprint_speed</th><th>Stamina</th><th>Standing_tackle</th><th>Strength</th><th>Vision</th><th>Volleys</th><th>CAM</th><th>CB</th><th>CDM</th><th>CF</th><th>CM</th><th>ID</th><th>LAM</th><th>LB</th><th>LCB</th><th>LCM</th><th>LDM</th><th>LF</th><th>LM</th><th>LS</th><th>LW</th><th>LWB</th><th>Preferred_Positions</th><th>RAM</th><th>RB</th><th>RCB</th><th>RCM</th><th>RDM</th><th>RF</th><th>RM</th><th>RS</th><th>RW</th><th>RWB</th><th>ST</th></tr></thead><tbody><tr><th>1</th><td>7</td><td>E. Hazard</td><td>26</td><td>https://cdn.sofifa.org/48/18/players/183277.png</td><td>Belgium</td><td>https://cdn.sofifa.org/flags/7.png</td><td>90</td><td>91</td><td>Chelsea</td><td>https://cdn.sofifa.org/24/18/teams/5.png</td><td>€90.5M</td><td>€295K</td><td>2096</td><td>93</td><td>54</td><td>93</td><td>91</td><td>92</td><td>87</td><td>80</td><td>82</td><td>93</td><td>83</td><td>79</td><td>11</td><td>12</td><td>6</td><td>8</td><td>8</td><td>57</td><td>41</td><td>59</td><td>81</td><td>82</td><td>25</td><td>86</td><td>85</td><td>85</td><td>86</td><td>79</td><td>22</td><td>87</td><td>79</td><td>27</td><td>65</td><td>86</td><td>79</td><td>88.0</td><td>47.0</td><td>61.0</td><td>87.0</td><td>81.0</td><td>183277</td><td>88.0</td><td>59.0</td><td>47.0</td><td>81.0</td><td>61.0</td><td>87.0</td><td>87.0</td><td>82.0</td><td>88.0</td><td>64.0</td><td>LW</td><td>88.0</td><td>59.0</td><td>47.0</td><td>81.0</td><td>61.0</td><td>87.0</td><td>87.0</td><td>82.0</td><td>88.0</td><td>64.0</td><td>82.0</td></tr><tr><th>2</th><td>12</td><td>T. Courtois</td><td>25</td><td>https://cdn.sofifa.org/48/18/players/192119.png</td><td>Belgium</td><td>https://cdn.sofifa.org/flags/7.png</td><td>89</td><td>92</td><td>Chelsea</td><td>https://cdn.sofifa.org/24/18/teams/5.png</td><td>€59M</td><td>€190K</td><td>1282</td><td>46</td><td>23</td><td>61</td><td>45</td><td>23</td><td>52</td><td>14</td><td>19</td><td>13</td><td>14</td><td>11</td><td>85</td><td>91</td><td>69</td><td>86</td><td>88</td><td>13</td><td>15</td><td>68</td><td>31</td><td>17</td><td>11</td><td>27</td><td>13</td><td>81</td><td>32</td><td>36</td><td>16</td><td>52</td><td>38</td><td>18</td><td>70</td><td>44</td><td>12</td><td>0.0</td><td>0.0</td><td>0.0</td><td>0.0</td><td>0.0</td><td>192119</td><td>0.0</td><td>0.0</td><td>0.0</td><td>0.0</td><td>0.0</td><td>0.0</td><td>0.0</td><td>0.0</td><td>0.0</td><td>0.0</td><td>GK</td><td>0.0</td><td>0.0</td><td>0.0</td><td>0.0</td><td>0.0</td><td>0.0</td><td>0.0</td><td>0.0</td><td>0.0</td><td>0.0</td><td>0.0</td></tr><tr><th>3</th><td>33</td><td>N. Kanté</td><td>26</td><td>https://cdn.sofifa.org/48/18/players/215914.png</td><td>France</td><td>https://cdn.sofifa.org/flags/18.png</td><td>87</td><td>90</td><td>Chelsea</td><td>https://cdn.sofifa.org/24/18/teams/5.png</td><td>€52.5M</td><td>€190K</td><td>2154</td><td>82</td><td>90</td><td>83</td><td>90</td><td>79</td><td>84</td><td>67</td><td>49</td><td>77</td><td>65</td><td>49</td><td>15</td><td>12</td><td>10</td><td>7</td><td>10</td><td>54</td><td>91</td><td>79</td><td>79</td><td>66</td><td>75</td><td>54</td><td>71</td><td>87</td><td>84</td><td>72</td><td>85</td><td>80</td><td>94</td><td>89</td><td>77</td><td>76</td><td>56</td><td>78.0</td><td>81.0</td><td>84.0</td><td>76.0</td><td>81.0</td><td>215914</td><td>78.0</td><td>82.0</td><td>81.0</td><td>81.0</td><td>84.0</td><td>76.0</td><td>78.0</td><td>72.0</td><td>76.0</td><td>83.0</td><td>CM CDM</td><td>78.0</td><td>82.0</td><td>81.0</td><td>81.0</td><td>84.0</td><td>76.0</td><td>78.0</td><td>72.0</td><td>76.0</td><td>83.0</td><td>72.0</td></tr><tr><th>4</th><td>57</td><td>David Luiz</td><td>30</td><td>https://cdn.sofifa.org/48/18/players/179944.png</td><td>Brazil</td><td>https://cdn.sofifa.org/flags/54.png</td><td>86</td><td>86</td><td>Chelsea</td><td>https://cdn.sofifa.org/24/18/teams/5.png</td><td>€33M</td><td>€190K</td><td>2123</td><td>68</td><td>86</td><td>72</td><td>56</td><td>79</td><td>78</td><td>68</td><td>70</td><td>66</td><td>55</td><td>76</td><td>11</td><td>12</td><td>10</td><td>7</td><td>14</td><td>83</td><td>87</td><td>80</td><td>78</td><td>71</td><td>80</td><td>75</td><td>54</td><td>79</td><td>79</td><td>77</td><td>84</td><td>71</td><td>76</td><td>85</td><td>81</td><td>69</td><td>64</td><td>71.0</td><td>83.0</td><td>81.0</td><td>69.0</td><td>75.0</td><td>179944</td><td>71.0</td><td>79.0</td><td>83.0</td><td>75.0</td><td>81.0</td><td>69.0</td><td>70.0</td><td>69.0</td><td>69.0</td><td>78.0</td><td>CB</td><td>71.0</td><td>79.0</td><td>83.0</td><td>75.0</td><td>81.0</td><td>69.0</td><td>70.0</td><td>69.0</td><td>69.0</td><td>78.0</td><td>69.0</td></tr><tr><th>5</th><td>58</td><td>Diego Costa</td><td>28</td><td>https://cdn.sofifa.org/48/18/players/179844.png</td><td>Spain</td><td>https://cdn.sofifa.org/flags/45.png</td><td>86</td><td>86</td><td>Chelsea</td><td>https://cdn.sofifa.org/24/18/teams/5.png</td><td>€46M</td><td>€235K</td><td>1984</td><td>74</td><td>93</td><td>58</td><td>52</td><td>83</td><td>84</td><td>65</td><td>62</td><td>77</td><td>88</td><td>59</td><td>11</td><td>13</td><td>12</td><td>8</td><td>11</td><td>83</td><td>40</td><td>64</td><td>52</td><td>73</td><td>28</td><td>76</td><td>88</td><td>86</td><td>67</td><td>84</td><td>34</td><td>75</td><td>83</td><td>39</td><td>91</td><td>74</td><td>81</td><td>76.0</td><td>57.0</td><td>60.0</td><td>80.0</td><td>71.0</td><td>179844</td><td>76.0</td><td>58.0</td><td>57.0</td><td>71.0</td><td>60.0</td><td>80.0</td><td>76.0</td><td>83.0</td><td>77.0</td><td>60.0</td><td>ST</td><td>76.0</td><td>58.0</td><td>57.0</td><td>71.0</td><td>60.0</td><td>80.0</td><td>76.0</td><td>83.0</td><td>77.0</td><td>60.0</td><td>83.0</td></tr><tr><th>6</th><td>65</td><td>Cesc Fàbregas</td><td>30</td><td>https://cdn.sofifa.org/48/18/players/162895.png</td><td>Spain</td><td>https://cdn.sofifa.org/flags/45.png</td><td>86</td><td>86</td><td>Chelsea</td><td>https://cdn.sofifa.org/24/18/teams/5.png</td><td>€41M</td><td>€210K</td><td>2118</td><td>65</td><td>45</td><td>65</td><td>77</td><td>86</td><td>92</td><td>85</td><td>77</td><td>80</td><td>76</td><td>81</td><td>6</td><td>10</td><td>8</td><td>15</td><td>15</td><td>74</td><td>50</td><td>68</td><td>90</td><td>75</td><td>60</td><td>80</td><td>78</td><td>81</td><td>91</td><td>77</td><td>62</td><td>62</td><td>80</td><td>63</td><td>64</td><td>91</td><td>81</td><td>82.0</td><td>64.0</td><td>72.0</td><td>80.0</td><td>83.0</td><td>162895</td><td>82.0</td><td>70.0</td><td>64.0</td><td>83.0</td><td>72.0</td><td>80.0</td><td>81.0</td><td>77.0</td><td>80.0</td><td>72.0</td><td>CAM CDM CM</td><td>82.0</td><td>70.0</td><td>64.0</td><td>83.0</td><td>72.0</td><td>80.0</td><td>81.0</td><td>77.0</td><td>80.0</td><td>72.0</td><td>77.0</td></tr><tr><th>7</th><td>82</td><td>Azpilicueta</td><td>27</td><td>https://cdn.sofifa.org/48/18/players/184432.png</td><td>Spain</td><td>https://cdn.sofifa.org/flags/45.png</td><td>85</td><td>87</td><td>Chelsea</td><td>https://cdn.sofifa.org/24/18/teams/5.png</td><td>€37.5M</td><td>€160K</td><td>2099</td><td>78</td><td>80</td><td>75</td><td>73</td><td>79</td><td>78</td><td>78</td><td>66</td><td>69</td><td>46</td><td>58</td><td>13</td><td>9</td><td>10</td><td>6</td><td>5</td><td>76</td><td>85</td><td>76</td><td>74</td><td>60</td><td>87</td><td>66</td><td>62</td><td>86</td><td>80</td><td>68</td><td>87</td><td>79</td><td>88</td><td>88</td><td>73</td><td>68</td><td>51</td><td>72.0</td><td>83.0</td><td>82.0</td><td>70.0</td><td>76.0</td><td>184432</td><td>72.0</td><td>84.0</td><td>83.0</td><td>76.0</td><td>82.0</td><td>70.0</td><td>74.0</td><td>68.0</td><td>71.0</td><td>83.0</td><td>LB RB CB</td><td>72.0</td><td>84.0</td><td>83.0</td><td>76.0</td><td>82.0</td><td>70.0</td><td>74.0</td><td>68.0</td><td>71.0</td><td>83.0</td><td>68.0</td></tr><tr><th>8</th><td>101</td><td>Morata</td><td>24</td><td>https://cdn.sofifa.org/48/18/players/201153.png</td><td>Spain</td><td>https://cdn.sofifa.org/flags/45.png</td><td>84</td><td>88</td><td>Chelsea</td><td>https://cdn.sofifa.org/24/18/teams/5.png</td><td>€41M</td><td>€170K</td><td>1862</td><td>78</td><td>54</td><td>62</td><td>56</td><td>84</td><td>79</td><td>73</td><td>76</td><td>83</td><td>82</td><td>44</td><td>4</td><td>5</td><td>4</td><td>4</td><td>5</td><td>79</td><td>24</td><td>79</td><td>51</td><td>78</td><td>14</td><td>72</td><td>83</td><td>81</td><td>78</td><td>80</td><td>20</td><td>86</td><td>70</td><td>14</td><td>82</td><td>76</td><td>81</td><td>79.0</td><td>45.0</td><td>51.0</td><td>81.0</td><td>70.0</td><td>201153</td><td>79.0</td><td>51.0</td><td>45.0</td><td>70.0</td><td>51.0</td><td>81.0</td><td>78.0</td><td>82.0</td><td>80.0</td><td>56.0</td><td>ST</td><td>79.0</td><td>51.0</td><td>45.0</td><td>70.0</td><td>51.0</td><td>81.0</td><td>78.0</td><td>82.0</td><td>80.0</td><td>56.0</td><td>82.0</td></tr><tr><th>9</th><td>109</td><td>Pedro</td><td>29</td><td>https://cdn.sofifa.org/48/18/players/189505.png</td><td>Spain</td><td>https://cdn.sofifa.org/flags/45.png</td><td>84</td><td>84</td><td>Chelsea</td><td>https://cdn.sofifa.org/24/18/teams/5.png</td><td>€30.5M</td><td>€200K</td><td>1987</td><td>84</td><td>56</td><td>84</td><td>82</td><td>87</td><td>78</td><td>78</td><td>81</td><td>84</td><td>81</td><td>57</td><td>5</td><td>11</td><td>12</td><td>15</td><td>9</td><td>55</td><td>49</td><td>67</td><td>70</td><td>78</td><td>30</td><td>66</td><td>84</td><td>84</td><td>83</td><td>71</td><td>31</td><td>80</td><td>78</td><td>32</td><td>56</td><td>77</td><td>70</td><td>82.0</td><td>50.0</td><td>61.0</td><td>82.0</td><td>77.0</td><td>189505</td><td>82.0</td><td>60.0</td><td>50.0</td><td>77.0</td><td>61.0</td><td>82.0</td><td>82.0</td><td>77.0</td><td>83.0</td><td>65.0</td><td>LW RW</td><td>82.0</td><td>60.0</td><td>50.0</td><td>77.0</td><td>61.0</td><td>82.0</td><td>82.0</td><td>77.0</td><td>83.0</td><td>65.0</td><td>77.0</td></tr><tr><th>10</th><td>114</td><td>Willian</td><td>28</td><td>https://cdn.sofifa.org/48/18/players/180403.png</td><td>Brazil</td><td>https://cdn.sofifa.org/flags/54.png</td><td>84</td><td>84</td><td>Chelsea</td><td>https://cdn.sofifa.org/24/18/teams/5.png</td><td>€31.5M</td><td>€200K</td><td>2061</td><td>91</td><td>44</td><td>89</td><td>81</td><td>86</td><td>79</td><td>77</td><td>82</td><td>87</td><td>77</td><td>85</td><td>14</td><td>12</td><td>13</td><td>7</td><td>13</td><td>29</td><td>55</td><td>46</td><td>77</td><td>81</td><td>43</td><td>70</td><td>80</td><td>83</td><td>82</td><td>71</td><td>51</td><td>86</td><td>87</td><td>58</td><td>62</td><td>83</td><td>59</td><td>83.0</td><td>55.0</td><td>68.0</td><td>82.0</td><td>80.0</td><td>180403</td><td>83.0</td><td>68.0</td><td>55.0</td><td>80.0</td><td>68.0</td><td>82.0</td><td>83.0</td><td>74.0</td><td>83.0</td><td>72.0</td><td>CAM RM RW</td><td>83.0</td><td>68.0</td><td>55.0</td><td>80.0</td><td>68.0</td><td>82.0</td><td>83.0</td><td>74.0</td><td>83.0</td><td>72.0</td><td>74.0</td></tr><tr><th>11</th><td>123</td><td>G. Cahill</td><td>31</td><td>https://cdn.sofifa.org/48/18/players/164468.png</td><td>England</td><td>https://cdn.sofifa.org/flags/14.png</td><td>84</td><td>84</td><td>Chelsea</td><td>https://cdn.sofifa.org/24/18/teams/5.png</td><td>€21M</td><td>€160K</td><td>1839</td><td>62</td><td>84</td><td>62</td><td>51</td><td>63</td><td>75</td><td>28</td><td>48</td><td>58</td><td>56</td><td>27</td><td>5</td><td>12</td><td>9</td><td>5</td><td>12</td><td>86</td><td>83</td><td>82</td><td>61</td><td>66</td><td>84</td><td>53</td><td>45</td><td>85</td><td>65</td><td>63</td><td>84</td><td>63</td><td>69</td><td>85</td><td>80</td><td>56</td><td>47</td><td>61.0</td><td>82.0</td><td>75.0</td><td>61.0</td><td>65.0</td><td>164468</td><td>61.0</td><td>73.0</td><td>82.0</td><td>65.0</td><td>75.0</td><td>61.0</td><td>58.0</td><td>64.0</td><td>58.0</td><td>69.0</td><td>CB</td><td>61.0</td><td>73.0</td><td>82.0</td><td>65.0</td><td>75.0</td><td>61.0</td><td>58.0</td><td>64.0</td><td>58.0</td><td>69.0</td><td>64.0</td></tr><tr><th>12</th><td>200</td><td>T. Bakayoko</td><td>22</td><td>https://cdn.sofifa.org/48/18/players/219809.png</td><td>France</td><td>https://cdn.sofifa.org/flags/18.png</td><td>82</td><td>88</td><td>Chelsea</td><td>https://cdn.sofifa.org/24/18/teams/5.png</td><td>€26M</td><td>€105K</td><td>1973</td><td>75</td><td>85</td><td>66</td><td>62</td><td>78</td><td>74</td><td>54</td><td>49</td><td>75</td><td>39</td><td>37</td><td>11</td><td>15</td><td>11</td><td>14</td><td>10</td><td>72</td><td>81</td><td>78</td><td>78</td><td>51</td><td>80</td><td>45</td><td>60</td><td>78</td><td>80</td><td>72</td><td>82</td><td>72</td><td>86</td><td>84</td><td>82</td><td>75</td><td>36</td><td>71.0</td><td>80.0</td><td>81.0</td><td>69.0</td><td>76.0</td><td>219809</td><td>71.0</td><td>78.0</td><td>80.0</td><td>76.0</td><td>81.0</td><td>69.0</td><td>71.0</td><td>65.0</td><td>68.0</td><td>77.0</td><td>CM CDM</td><td>71.0</td><td>78.0</td><td>80.0</td><td>76.0</td><td>81.0</td><td>69.0</td><td>71.0</td><td>65.0</td><td>68.0</td><td>77.0</td><td>65.0</td></tr><tr><th>13</th><td>221</td><td>A. Rüdiger</td><td>24</td><td>https://cdn.sofifa.org/48/18/players/205452.png</td><td>Germany</td><td>https://cdn.sofifa.org/flags/21.png</td><td>82</td><td>86</td><td>Chelsea</td><td>https://cdn.sofifa.org/24/18/teams/5.png</td><td>€24.5M</td><td>€105K</td><td>1838</td><td>73</td><td>89</td><td>63</td><td>50</td><td>68</td><td>73</td><td>68</td><td>34</td><td>59</td><td>27</td><td>56</td><td>14</td><td>15</td><td>10</td><td>12</td><td>8</td><td>78</td><td>79</td><td>74</td><td>65</td><td>40</td><td>82</td><td>40</td><td>33</td><td>82</td><td>70</td><td>70</td><td>81</td><td>75</td><td>65</td><td>84</td><td>83</td><td>57</td><td>34</td><td>59.0</td><td>81.0</td><td>75.0</td><td>58.0</td><td>64.0</td><td>205452</td><td>59.0</td><td>76.0</td><td>81.0</td><td>64.0</td><td>75.0</td><td>58.0</td><td>62.0</td><td>58.0</td><td>59.0</td><td>74.0</td><td>RB CB</td><td>59.0</td><td>76.0</td><td>81.0</td><td>64.0</td><td>75.0</td><td>58.0</td><td>62.0</td><td>58.0</td><td>59.0</td><td>74.0</td><td>58.0</td></tr><tr><th>14</th><td>309</td><td>A. Christensen</td><td>21</td><td>https://cdn.sofifa.org/48/18/players/213661.png</td><td>Denmark</td><td>https://cdn.sofifa.org/flags/13.png</td><td>81</td><td>89</td><td>Chelsea</td><td>https://cdn.sofifa.org/24/18/teams/5.png</td><td>€23M</td><td>€86K</td><td>1720</td><td>70+9</td><td>73</td><td>60+6</td><td>62</td><td>72</td><td>74+2</td><td>49</td><td>32</td><td>68+3</td><td>36</td><td>22</td><td>10</td><td>12</td><td>8</td><td>6</td><td>8</td><td>79</td><td>81</td><td>74</td><td>72+2</td><td>20</td><td>83</td><td>36</td><td>32</td><td>80</td><td>76</td><td>31</td><td>84</td><td>73+7</td><td>68+2</td><td>88</td><td>70+1</td><td>60</td><td>25</td><td>62.0</td><td>80.0</td><td>77.0</td><td>58.0</td><td>67.0</td><td>213661</td><td>62.0</td><td>76.0</td><td>80.0</td><td>67.0</td><td>77.0</td><td>58.0</td><td>64.0</td><td>55.0</td><td>60.0</td><td>74.0</td><td>CDM CB</td><td>62.0</td><td>76.0</td><td>80.0</td><td>67.0</td><td>77.0</td><td>58.0</td><td>64.0</td><td>55.0</td><td>60.0</td><td>74.0</td><td>55.0</td></tr><tr><th>15</th><td>346</td><td>Marcos Alonso</td><td>26</td><td>https://cdn.sofifa.org/48/18/players/192638.png</td><td>Spain</td><td>https://cdn.sofifa.org/flags/45.png</td><td>81</td><td>83</td><td>Chelsea</td><td>https://cdn.sofifa.org/24/18/teams/5.png</td><td>€17.5M</td><td>€115K</td><td>2118</td><td>74</td><td>72</td><td>68</td><td>58</td><td>79</td><td>75</td><td>81</td><td>75</td><td>78</td><td>64</td><td>80</td><td>9</td><td>7</td><td>13</td><td>9</td><td>12</td><td>70</td><td>74</td><td>70</td><td>73</td><td>75</td><td>77</td><td>64</td><td>73</td><td>82</td><td>79</td><td>79</td><td>78</td><td>79</td><td>90</td><td>80</td><td>79</td><td>65</td><td>52</td><td>75.0</td><td>77.0</td><td>78.0</td><td>75.0</td><td>76.0</td><td>192638</td><td>75.0</td><td>79.0</td><td>77.0</td><td>76.0</td><td>78.0</td><td>75.0</td><td>77.0</td><td>74.0</td><td>76.0</td><td>80.0</td><td>LB LM LWB</td><td>75.0</td><td>79.0</td><td>77.0</td><td>76.0</td><td>78.0</td><td>75.0</td><td>77.0</td><td>74.0</td><td>76.0</td><td>80.0</td><td>74.0</td></tr><tr><th>16</th><td>417</td><td>M. Batshuayi</td><td>23</td><td>https://cdn.sofifa.org/48/18/players/204529.png</td><td>Belgium</td><td>https://cdn.sofifa.org/flags/7.png</td><td>80</td><td>85</td><td>Chelsea</td><td>https://cdn.sofifa.org/24/18/teams/5.png</td><td>€20M</td><td>€120K</td><td>1852</td><td>77</td><td>61</td><td>78</td><td>78</td><td>77</td><td>81</td><td>65</td><td>61</td><td>76</td><td>83</td><td>46</td><td>9</td><td>10</td><td>16</td><td>7</td><td>15</td><td>73</td><td>23</td><td>81</td><td>36</td><td>76</td><td>16</td><td>67</td><td>83</td><td>79</td><td>64</td><td>83</td><td>22</td><td>80</td><td>65</td><td>26</td><td>82</td><td>63</td><td>74</td><td>72.0</td><td>46.0</td><td>47.0</td><td>77.0</td><td>62.0</td><td>204529</td><td>72.0</td><td>50.0</td><td>46.0</td><td>62.0</td><td>47.0</td><td>77.0</td><td>72.0</td><td>79.0</td><td>75.0</td><td>52.0</td><td>ST</td><td>72.0</td><td>50.0</td><td>46.0</td><td>62.0</td><td>47.0</td><td>77.0</td><td>72.0</td><td>79.0</td><td>75.0</td><td>52.0</td><td>79.0</td></tr><tr><th>17</th><td>529</td><td>D. Zappacosta</td><td>25</td><td>https://cdn.sofifa.org/48/18/players/216150.png</td><td>Italy</td><td>https://cdn.sofifa.org/flags/27.png</td><td>79</td><td>83</td><td>Chelsea</td><td>https://cdn.sofifa.org/24/18/teams/5.png</td><td>€13.5M</td><td>€110K</td><td>2079</td><td>78</td><td>75</td><td>75</td><td>77</td><td>73</td><td>72</td><td>79</td><td>72</td><td>76</td><td>60</td><td>59</td><td>11</td><td>9</td><td>8</td><td>6</td><td>11</td><td>68</td><td>75</td><td>69</td><td>66</td><td>72</td><td>75</td><td>59</td><td>71</td><td>75</td><td>72</td><td>74</td><td>79</td><td>85</td><td>90</td><td>77</td><td>71</td><td>64</td><td>68</td><td>71.0</td><td>74.0</td><td>74.0</td><td>72.0</td><td>72.0</td><td>216150</td><td>71.0</td><td>78.0</td><td>74.0</td><td>72.0</td><td>74.0</td><td>72.0</td><td>74.0</td><td>71.0</td><td>73.0</td><td>78.0</td><td>RM RWB RB</td><td>71.0</td><td>78.0</td><td>74.0</td><td>72.0</td><td>74.0</td><td>72.0</td><td>74.0</td><td>71.0</td><td>73.0</td><td>78.0</td><td>71.0</td></tr><tr><th>18</th><td>626</td><td>D. Drinkwater</td><td>27</td><td>https://cdn.sofifa.org/48/18/players/186132.png</td><td>England</td><td>https://cdn.sofifa.org/flags/14.png</td><td>79</td><td>80</td><td>Chelsea</td><td>https://cdn.sofifa.org/24/18/teams/5.png</td><td>€14M</td><td>€125K</td><td>2069</td><td>67+2</td><td>74</td><td>70+1</td><td>78</td><td>79</td><td>77</td><td>64</td><td>72</td><td>76+1</td><td>60+2</td><td>69</td><td>12</td><td>6</td><td>8</td><td>9</td><td>12</td><td>61</td><td>76</td><td>56</td><td>82-1</td><td>72+2</td><td>70</td><td>53</td><td>74</td><td>79</td><td>80+1</td><td>77</td><td>76</td><td>69+2</td><td>85+2</td><td>79</td><td>76+2</td><td>78+1</td><td>70+1</td><td>76.0</td><td>74.0</td><td>78.0</td><td>74.0</td><td>78.0</td><td>186132</td><td>76.0</td><td>75.0</td><td>74.0</td><td>78.0</td><td>78.0</td><td>74.0</td><td>75.0</td><td>71.0</td><td>73.0</td><td>75.0</td><td>CM</td><td>76.0</td><td>75.0</td><td>74.0</td><td>78.0</td><td>78.0</td><td>74.0</td><td>75.0</td><td>71.0</td><td>73.0</td><td>75.0</td><td>71.0</td></tr><tr><th>19</th><td>653</td><td>V. Moses</td><td>26</td><td>https://cdn.sofifa.org/48/18/players/172962.png</td><td>Nigeria</td><td>https://cdn.sofifa.org/flags/133.png</td><td>79</td><td>81</td><td>Chelsea</td><td>https://cdn.sofifa.org/24/18/teams/5.png</td><td>€12.5M</td><td>€115K</td><td>2103</td><td>84</td><td>45</td><td>80</td><td>83</td><td>80</td><td>75</td><td>75</td><td>75</td><td>84</td><td>70</td><td>61</td><td>9</td><td>7</td><td>8</td><td>16</td><td>16</td><td>69</td><td>72</td><td>66</td><td>70</td><td>68</td><td>68+2</td><td>71</td><td>76</td><td>76</td><td>73</td><td>75</td><td>70+3</td><td>83</td><td>87</td><td>72</td><td>80</td><td>71</td><td>63</td><td>76.0</td><td>70.0</td><td>72.0</td><td>77.0</td><td>75.0</td><td>172962</td><td>76.0</td><td>75.0</td><td>70.0</td><td>75.0</td><td>72.0</td><td>77.0</td><td>78.0</td><td>75.0</td><td>77.0</td><td>76.0</td><td>LM RM RWB</td><td>76.0</td><td>75.0</td><td>70.0</td><td>75.0</td><td>72.0</td><td>77.0</td><td>78.0</td><td>75.0</td><td>77.0</td><td>76.0</td><td>75.0</td></tr><tr><th>20</th><td>683</td><td>W. Caballero</td><td>35</td><td>https://cdn.sofifa.org/48/18/players/139062.png</td><td>Argentina</td><td>https://cdn.sofifa.org/flags/52.png</td><td>79</td><td>79</td><td>Chelsea</td><td>https://cdn.sofifa.org/24/18/teams/5.png</td><td>€3M</td><td>€59K</td><td>1241</td><td>44</td><td>30</td><td>39</td><td>55</td><td>30</td><td>56</td><td>12</td><td>23</td><td>12</td><td>11</td><td>11</td><td>80</td><td>76</td><td>73</td><td>78</td><td>81</td><td>22</td><td>19</td><td>70</td><td>48</td><td>14</td><td>15</td><td>16</td><td>7</td><td>75</td><td>33</td><td>23</td><td>12</td><td>47</td><td>44</td><td>11</td><td>70</td><td>47</td><td>13</td><td>0.0</td><td>0.0</td><td>0.0</td><td>0.0</td><td>0.0</td><td>139062</td><td>0.0</td><td>0.0</td><td>0.0</td><td>0.0</td><td>0.0</td><td>0.0</td><td>0.0</td><td>0.0</td><td>0.0</td><td>0.0</td><td>GK</td><td>0.0</td><td>0.0</td><td>0.0</td><td>0.0</td><td>0.0</td><td>0.0</td><td>0.0</td><td>0.0</td><td>0.0</td><td>0.0</td><td>0.0</td></tr><tr><th>21</th><td>1172</td><td>A. Baba</td><td>22</td><td>https://cdn.sofifa.org/48/18/players/209620.png</td><td>Ghana</td><td>https://cdn.sofifa.org/flags/117.png</td><td>77</td><td>84</td><td>Chelsea</td><td>https://cdn.sofifa.org/24/18/teams/5.png</td><td>€10.5M</td><td>€80K</td><td>1918</td><td>81</td><td>73</td><td>77</td><td>74</td><td>77</td><td>69</td><td>77</td><td>67</td><td>76</td><td>48</td><td>23</td><td>12</td><td>11</td><td>6</td><td>11</td><td>10</td><td>67</td><td>71</td><td>76</td><td>67</td><td>47</td><td>72</td><td>42</td><td>63</td><td>76</td><td>73</td><td>59</td><td>77</td><td>83</td><td>77</td><td>78</td><td>71</td><td>55</td><td>41</td><td>68.0</td><td>74.0</td><td>73.0</td><td>68.0</td><td>69.0</td><td>209620</td><td>68.0</td><td>76.0</td><td>74.0</td><td>69.0</td><td>73.0</td><td>68.0</td><td>72.0</td><td>65.0</td><td>70.0</td><td>76.0</td><td>LM LB</td><td>68.0</td><td>76.0</td><td>74.0</td><td>69.0</td><td>73.0</td><td>68.0</td><td>72.0</td><td>65.0</td><td>70.0</td><td>76.0</td><td>65.0</td></tr><tr><th>22</th><td>1509</td><td>C. Musonda</td><td>20</td><td>https://cdn.sofifa.org/48/18/players/204233.png</td><td>Belgium</td><td>https://cdn.sofifa.org/flags/7.png</td><td>76</td><td>85</td><td>Chelsea</td><td>https://cdn.sofifa.org/24/18/teams/5.png</td><td>€12M</td><td>€80K</td><td>1712</td><td>89</td><td>32</td><td>92</td><td>85+2</td><td>80</td><td>64</td><td>72+1</td><td>67+3</td><td>83</td><td>66</td><td>56+4</td><td>6</td><td>6</td><td>7</td><td>8</td><td>9</td><td>39</td><td>21</td><td>44</td><td>70</td><td>62</td><td>21</td><td>55+1</td><td>68+2</td><td>72</td><td>73</td><td>69</td><td>22</td><td>86</td><td>66+4</td><td>20</td><td>47+3</td><td>67</td><td>52</td><td>74.0</td><td>36.0</td><td>49.0</td><td>74.0</td><td>67.0</td><td>204233</td><td>74.0</td><td>50.0</td><td>36.0</td><td>67.0</td><td>49.0</td><td>74.0</td><td>75.0</td><td>68.0</td><td>76.0</td><td>55.0</td><td>LM RM</td><td>74.0</td><td>50.0</td><td>36.0</td><td>67.0</td><td>49.0</td><td>74.0</td><td>75.0</td><td>68.0</td><td>76.0</td><td>55.0</td><td>68.0</td></tr><tr><th>23</th><td>1639</td><td>Eduardo</td><td>34</td><td>https://cdn.sofifa.org/48/18/players/163873.png</td><td>Portugal</td><td>https://cdn.sofifa.org/flags/38.png</td><td>75</td><td>75</td><td>Chelsea</td><td>https://cdn.sofifa.org/24/18/teams/5.png</td><td>€2.7M</td><td>€64K</td><td>1245</td><td>46</td><td>28</td><td>60</td><td>58</td><td>32</td><td>53</td><td>13</td><td>11</td><td>11</td><td>20</td><td>14</td><td>75</td><td>74</td><td>71</td><td>78</td><td>75</td><td>12</td><td>24</td><td>75</td><td>32</td><td>18</td><td>13</td><td>37</td><td>11</td><td>68</td><td>22</td><td>38</td><td>20</td><td>44</td><td>20</td><td>20</td><td>72</td><td>42</td><td>11</td><td>0.0</td><td>0.0</td><td>0.0</td><td>0.0</td><td>0.0</td><td>163873</td><td>0.0</td><td>0.0</td><td>0.0</td><td>0.0</td><td>0.0</td><td>0.0</td><td>0.0</td><td>0.0</td><td>0.0</td><td>0.0</td><td>GK</td><td>0.0</td><td>0.0</td><td>0.0</td><td>0.0</td><td>0.0</td><td>0.0</td><td>0.0</td><td>0.0</td><td>0.0</td><td>0.0</td><td>0.0</td></tr><tr><th>24</th><td>3553</td><td>Kenedy</td><td>21</td><td>https://cdn.sofifa.org/48/18/players/215639.png</td><td>Brazil</td><td>https://cdn.sofifa.org/flags/54.png</td><td>72</td><td>81</td><td>Chelsea</td><td>https://cdn.sofifa.org/24/18/teams/5.png</td><td>€4.8M</td><td>€48K</td><td>1858</td><td>83</td><td>34</td><td>84</td><td>62</td><td>77</td><td>66</td><td>63</td><td>60</td><td>77</td><td>64</td><td>54</td><td>11</td><td>15</td><td>11</td><td>15</td><td>12</td><td>66</td><td>52</td><td>69</td><td>65</td><td>66</td><td>43</td><td>67</td><td>67</td><td>67</td><td>66</td><td>75</td><td>44</td><td>78</td><td>73</td><td>48</td><td>70</td><td>65</td><td>55</td><td>71.0</td><td>55.0</td><td>59.0</td><td>71.0</td><td>67.0</td><td>215639</td><td>71.0</td><td>60.0</td><td>55.0</td><td>67.0</td><td>59.0</td><td>71.0</td><td>71.0</td><td>70.0</td><td>71.0</td><td>62.0</td><td>LB LM</td><td>71.0</td><td>60.0</td><td>55.0</td><td>67.0</td><td>59.0</td><td>71.0</td><td>71.0</td><td>70.0</td><td>71.0</td><td>62.0</td><td>70.0</td></tr><tr><th>25</th><td>5876</td><td>M. Delač</td><td>24</td><td>https://cdn.sofifa.org/48/18/players/195356.png</td><td>Croatia</td><td>https://cdn.sofifa.org/flags/10.png</td><td>69</td><td>72</td><td>Chelsea</td><td>https://cdn.sofifa.org/24/18/teams/5.png</td><td>€950K</td><td>€31K</td><td>1008</td><td>31</td><td>32</td><td>40</td><td>37</td><td>16</td><td>40</td><td>16</td><td>15</td><td>13</td><td>14</td><td>17</td><td>71</td><td>67</td><td>64</td><td>64</td><td>73</td><td>14</td><td>12</td><td>57</td><td>14</td><td>12</td><td>13</td><td>19</td><td>11</td><td>65</td><td>14</td><td>14</td><td>11</td><td>36</td><td>23</td><td>13</td><td>64</td><td>34</td><td>12</td><td>0.0</td><td>0.0</td><td>0.0</td><td>0.0</td><td>0.0</td><td>195356</td><td>0.0</td><td>0.0</td><td>0.0</td><td>0.0</td><td>0.0</td><td>0.0</td><td>0.0</td><td>0.0</td><td>0.0</td><td>0.0</td><td>GK</td><td>0.0</td><td>0.0</td><td>0.0</td><td>0.0</td><td>0.0</td><td>0.0</td><td>0.0</td><td>0.0</td><td>0.0</td><td>0.0</td><td>0.0</td></tr><tr><th>26</th><td>6545</td><td>Wallace Oliveira</td><td>23</td><td>https://cdn.sofifa.org/48/18/players/204254.png</td><td>Brazil</td><td>https://cdn.sofifa.org/flags/54.png</td><td>69</td><td>78</td><td>Chelsea</td><td>https://cdn.sofifa.org/24/18/teams/5.png</td><td>€1.4M</td><td>€40K</td><td>1888</td><td>76</td><td>75</td><td>72</td><td>73</td><td>72</td><td>58</td><td>70</td><td>41</td><td>71</td><td>59</td><td>59</td><td>13</td><td>14</td><td>8</td><td>11</td><td>13</td><td>44</td><td>61</td><td>71</td><td>66</td><td>60</td><td>65</td><td>60</td><td>63</td><td>64</td><td>70</td><td>75</td><td>72</td><td>75</td><td>76</td><td>69</td><td>67</td><td>59</td><td>44</td><td>67.0</td><td>66.0</td><td>68.0</td><td>67.0</td><td>67.0</td><td>204254</td><td>67.0</td><td>68.0</td><td>66.0</td><td>67.0</td><td>68.0</td><td>67.0</td><td>69.0</td><td>64.0</td><td>68.0</td><td>70.0</td><td>RB</td><td>67.0</td><td>68.0</td><td>66.0</td><td>67.0</td><td>68.0</td><td>67.0</td><td>69.0</td><td>64.0</td><td>68.0</td><td>70.0</td><td>64.0</td></tr><tr><th>27</th><td>12360</td><td>J. Clarke-Salter</td><td>19</td><td>https://cdn.sofifa.org/48/18/players/230774.png</td><td>England</td><td>https://cdn.sofifa.org/flags/14.png</td><td>63</td><td>79</td><td>Chelsea</td><td>https://cdn.sofifa.org/24/18/teams/5.png</td><td>€725K</td><td>€8K</td><td>1429</td><td>62+2</td><td>49+4</td><td>48+3</td><td>55</td><td>50+4</td><td>58+2</td><td>36</td><td>33</td><td>34+3</td><td>32</td><td>28</td><td>8</td><td>12</td><td>11</td><td>9</td><td>6</td><td>65+1</td><td>63+2</td><td>67</td><td>56+2</td><td>25</td><td>61+2</td><td>41</td><td>28</td><td>55+2</td><td>54+6</td><td>44</td><td>67+2</td><td>64+2</td><td>66</td><td>68</td><td>68+3</td><td>34</td><td>30</td><td>43.0</td><td>62.0</td><td>58.0</td><td>43.0</td><td>48.0</td><td>230774</td><td>43.0</td><td>60.0</td><td>62.0</td><td>48.0</td><td>58.0</td><td>43.0</td><td>46.0</td><td>45.0</td><td>43.0</td><td>57.0</td><td>CB</td><td>43.0</td><td>60.0</td><td>62.0</td><td>48.0</td><td>58.0</td><td>43.0</td><td>46.0</td><td>45.0</td><td>43.0</td><td>57.0</td><td>45.0</td></tr><tr><th>28</th><td>12631</td><td>K. Hazard</td><td>21</td><td>https://cdn.sofifa.org/48/18/players/223938.png</td><td>Belgium</td><td>https://cdn.sofifa.org/flags/7.png</td><td>63</td><td>73</td><td>Chelsea</td><td>https://cdn.sofifa.org/24/18/teams/5.png</td><td>€600K</td><td>€14K</td><td>1565</td><td>78</td><td>40</td><td>73</td><td>78</td><td>70</td><td>57</td><td>54</td><td>56</td><td>69</td><td>52</td><td>54</td><td>12</td><td>15</td><td>7</td><td>6</td><td>9</td><td>39</td><td>28</td><td>65</td><td>62</td><td>56</td><td>25</td><td>56</td><td>53</td><td>42</td><td>64</td><td>54</td><td>32</td><td>73</td><td>40</td><td>34</td><td>46</td><td>66</td><td>57</td><td>63.0</td><td>39.0</td><td>46.0</td><td>61.0</td><td>57.0</td><td>223938</td><td>63.0</td><td>45.0</td><td>39.0</td><td>57.0</td><td>46.0</td><td>61.0</td><td>62.0</td><td>56.0</td><td>63.0</td><td>47.0</td><td>CAM LW</td><td>63.0</td><td>45.0</td><td>39.0</td><td>57.0</td><td>46.0</td><td>61.0</td><td>62.0</td><td>56.0</td><td>63.0</td><td>47.0</td><td>56.0</td></tr><tr><th>29</th><td>13647</td><td>D. Sterling</td><td>17</td><td>https://cdn.sofifa.org/48/18/players/238071.png</td><td>England</td><td>https://cdn.sofifa.org/flags/14.png</td><td>62</td><td>82</td><td>Chelsea</td><td>https://cdn.sofifa.org/24/18/teams/5.png</td><td>€525K</td><td>€8K</td><td>1549</td><td>73</td><td>59</td><td>60</td><td>56</td><td>54</td><td>49</td><td>55</td><td>35</td><td>69</td><td>50</td><td>34</td><td>11</td><td>8</td><td>8</td><td>7</td><td>5</td><td>56</td><td>54</td><td>60</td><td>38</td><td>37</td><td>60</td><td>43</td><td>42</td><td>58</td><td>54</td><td>53</td><td>67</td><td>75</td><td>59</td><td>64</td><td>70</td><td>46</td><td>29</td><td>54.0</td><td>61.0</td><td>56.0</td><td>55.0</td><td>52.0</td><td>238071</td><td>54.0</td><td>61.0</td><td>61.0</td><td>52.0</td><td>56.0</td><td>55.0</td><td>57.0</td><td>55.0</td><td>57.0</td><td>60.0</td><td>RM RB</td><td>54.0</td><td>61.0</td><td>61.0</td><td>52.0</td><td>56.0</td><td>55.0</td><td>57.0</td><td>55.0</td><td>57.0</td><td>60.0</td><td>55.0</td></tr><tr><th>30</th><td>14374</td><td>T. Chalobah</td><td>17</td><td>https://cdn.sofifa.org/48/18/players/230918.png</td><td>England</td><td>https://cdn.sofifa.org/flags/14.png</td><td>60</td><td>77</td><td>Chelsea</td><td>https://cdn.sofifa.org/24/18/teams/5.png</td><td>€375K</td><td>€6K</td><td>1491</td><td>71</td><td>58+7</td><td>53+2</td><td>59</td><td>51+2</td><td>51+3</td><td>48</td><td>48</td><td>49+3</td><td>35+3</td><td>46</td><td>5</td><td>5</td><td>9</td><td>9</td><td>7</td><td>60+2</td><td>57+1</td><td>66+2</td><td>48+2</td><td>31</td><td>57+3</td><td>42</td><td>34</td><td>54</td><td>54+2</td><td>50+4</td><td>59+3</td><td>72</td><td>54+12</td><td>60+1</td><td>70+3</td><td>36</td><td>34</td><td>47.0</td><td>59.0</td><td>55.0</td><td>47.0</td><td>48.0</td><td>230918</td><td>47.0</td><td>58.0</td><td>59.0</td><td>48.0</td><td>55.0</td><td>47.0</td><td>50.0</td><td>49.0</td><td>49.0</td><td>56.0</td><td>CB</td><td>47.0</td><td>58.0</td><td>59.0</td><td>48.0</td><td>55.0</td><td>47.0</td><td>50.0</td><td>49.0</td><td>49.0</td><td>56.0</td><td>49.0</td></tr><tr><th>&vellip;</th><td>&vellip;</td><td>&vellip;</td><td>&vellip;</td><td>&vellip;</td><td>&vellip;</td><td>&vellip;</td><td>&vellip;</td><td>&vellip;</td><td>&vellip;</td><td>&vellip;</td><td>&vellip;</td><td>&vellip;</td><td>&vellip;</td><td>&vellip;</td><td>&vellip;</td><td>&vellip;</td><td>&vellip;</td><td>&vellip;</td><td>&vellip;</td><td>&vellip;</td><td>&vellip;</td><td>&vellip;</td><td>&vellip;</td><td>&vellip;</td><td>&vellip;</td><td>&vellip;</td><td>&vellip;</td><td>&vellip;</td><td>&vellip;</td><td>&vellip;</td><td>&vellip;</td><td>&vellip;</td><td>&vellip;</td><td>&vellip;</td><td>&vellip;</td><td>&vellip;</td><td>&vellip;</td><td>&vellip;</td><td>&vellip;</td><td>&vellip;</td><td>&vellip;</td><td>&vellip;</td><td>&vellip;</td><td>&vellip;</td><td>&vellip;</td><td>&vellip;</td><td>&vellip;</td><td>&vellip;</td><td>&vellip;</td><td>&vellip;</td><td>&vellip;</td><td>&vellip;</td><td>&vellip;</td><td>&vellip;</td><td>&vellip;</td><td>&vellip;</td><td>&vellip;</td><td>&vellip;</td><td>&vellip;</td><td>&vellip;</td><td>&vellip;</td><td>&vellip;</td><td>&vellip;</td><td>&vellip;</td><td>&vellip;</td><td>&vellip;</td><td>&vellip;</td><td>&vellip;</td><td>&vellip;</td><td>&vellip;</td><td>&vellip;</td><td>&vellip;</td><td>&vellip;</td><td>&vellip;</td><td>&vellip;</td></tr></tbody></table>"
      ],
      "text/plain": [
       "33×75 DataFrames.DataFrame. Omitted printing of 72 columns\n",
       "│ Row │ x     │ Name             │ Age │\n",
       "├─────┼───────┼──────────────────┼─────┤\n",
       "│ 1   │ 7     │ E. Hazard        │ 26  │\n",
       "│ 2   │ 12    │ T. Courtois      │ 25  │\n",
       "│ 3   │ 33    │ N. Kanté         │ 26  │\n",
       "│ 4   │ 57    │ David Luiz       │ 30  │\n",
       "│ 5   │ 58    │ Diego Costa      │ 28  │\n",
       "│ 6   │ 65    │ Cesc Fàbregas    │ 30  │\n",
       "│ 7   │ 82    │ Azpilicueta      │ 27  │\n",
       "│ 8   │ 101   │ Morata           │ 24  │\n",
       "│ 9   │ 109   │ Pedro            │ 29  │\n",
       "│ 10  │ 114   │ Willian          │ 28  │\n",
       "│ 11  │ 123   │ G. Cahill        │ 31  │\n",
       "⋮\n",
       "│ 22  │ 1509  │ C. Musonda       │ 20  │\n",
       "│ 23  │ 1639  │ Eduardo          │ 34  │\n",
       "│ 24  │ 3553  │ Kenedy           │ 21  │\n",
       "│ 25  │ 5876  │ M. Delač         │ 24  │\n",
       "│ 26  │ 6545  │ Wallace Oliveira │ 23  │\n",
       "│ 27  │ 12360 │ J. Clarke-Salter │ 19  │\n",
       "│ 28  │ 12631 │ K. Hazard        │ 21  │\n",
       "│ 29  │ 13647 │ D. Sterling      │ 17  │\n",
       "│ 30  │ 14374 │ T. Chalobah      │ 17  │\n",
       "│ 31  │ 14511 │ K. Scott         │ 19  │\n",
       "│ 32  │ 15063 │ G. McEachran     │ 16  │\n",
       "│ 33  │ 15718 │ J. Maddox        │ 18  │"
      ]
     },
     "execution_count": 9,
     "metadata": {},
     "output_type": "execute_result"
    }
   ],
   "source": [
    "## narrow down the dataset to only teams in the premier league(defined in the teams variable)\n",
    "\n",
    "premierLeagueTeamPlayerIndices = []\n",
    "\n",
    "for i in 1:nrow(df)\n",
    "#     println(i)\n",
    "    if in(df[i, 9],teams) == true\n",
    "        push!(premierLeagueTeamPlayerIndices, i) ## add this index into our array\n",
    "    end\n",
    "end\n",
    "\n",
    "premierLeagueTeamPlayers = df[premierLeagueTeamPlayerIndices,:]\n",
    "\n",
    "# from the players in the premier league, obtain players for my team\n",
    "myteamPlayers = premierLeagueTeamPlayers[premierLeagueTeamPlayers[:,9] .== my_team,:]"
   ]
  },
  {
   "cell_type": "markdown",
   "metadata": {},
   "source": [
    "## Construct best possible squad "
   ]
  },
  {
   "cell_type": "code",
   "execution_count": 10,
   "metadata": {
    "scrolled": false
   },
   "outputs": [
    {
     "data": {
      "text/html": [
       "<table class=\"data-frame\"><thead><tr><th></th><th>x</th><th>Name</th><th>Age</th><th>Photo</th><th>Nationality</th><th>Flag</th><th>Overall</th><th>Potential</th><th>Club</th><th>Club_Logo</th><th>Value</th><th>Wage</th><th>Special</th><th>Acceleration</th><th>Aggression</th><th>Agility</th><th>Balance</th><th>Ball_control</th><th>Composure</th><th>Crossing</th><th>Curve</th><th>Dribbling</th><th>Finishing</th><th>Free_kick_accuracy</th><th>GK_diving</th><th>GK_handling</th><th>GK_kicking</th><th>GK_positioning</th><th>GK_reflexes</th><th>Heading_accuracy</th><th>Interceptions</th><th>Jumping</th><th>Long_passing</th><th>Long_shots</th><th>Marking</th><th>Penalties</th><th>Positioning</th><th>Reactions</th><th>Short_passing</th><th>Shot_power</th><th>Sliding_tackle</th><th>Sprint_speed</th><th>Stamina</th><th>Standing_tackle</th><th>Strength</th><th>Vision</th><th>Volleys</th><th>CAM</th><th>CB</th><th>CDM</th><th>CF</th><th>CM</th><th>ID</th><th>LAM</th><th>LB</th><th>LCB</th><th>LCM</th><th>LDM</th><th>LF</th><th>LM</th><th>LS</th><th>LW</th><th>LWB</th><th>Preferred_Positions</th><th>RAM</th><th>RB</th><th>RCB</th><th>RCM</th><th>RDM</th><th>RF</th><th>RM</th><th>RS</th><th>RW</th><th>RWB</th><th>ST</th></tr></thead><tbody><tr><th>1</th><td>7</td><td>E. Hazard</td><td>26</td><td>https://cdn.sofifa.org/48/18/players/183277.png</td><td>Belgium</td><td>https://cdn.sofifa.org/flags/7.png</td><td>90</td><td>91</td><td>Chelsea</td><td>https://cdn.sofifa.org/24/18/teams/5.png</td><td>€90.5M</td><td>€295K</td><td>2096</td><td>93</td><td>54</td><td>93</td><td>91</td><td>92</td><td>87</td><td>80</td><td>82</td><td>93</td><td>83</td><td>79</td><td>11</td><td>12</td><td>6</td><td>8</td><td>8</td><td>57</td><td>41</td><td>59</td><td>81</td><td>82</td><td>25</td><td>86</td><td>85</td><td>85</td><td>86</td><td>79</td><td>22</td><td>87</td><td>79</td><td>27</td><td>65</td><td>86</td><td>79</td><td>88.0</td><td>47.0</td><td>61.0</td><td>87.0</td><td>81.0</td><td>183277</td><td>88.0</td><td>59.0</td><td>47.0</td><td>81.0</td><td>61.0</td><td>87.0</td><td>87.0</td><td>82.0</td><td>88.0</td><td>64.0</td><td>LW</td><td>88.0</td><td>59.0</td><td>47.0</td><td>81.0</td><td>61.0</td><td>87.0</td><td>87.0</td><td>82.0</td><td>88.0</td><td>64.0</td><td>82.0</td></tr><tr><th>2</th><td>12</td><td>T. Courtois</td><td>25</td><td>https://cdn.sofifa.org/48/18/players/192119.png</td><td>Belgium</td><td>https://cdn.sofifa.org/flags/7.png</td><td>89</td><td>92</td><td>Chelsea</td><td>https://cdn.sofifa.org/24/18/teams/5.png</td><td>€59M</td><td>€190K</td><td>1282</td><td>46</td><td>23</td><td>61</td><td>45</td><td>23</td><td>52</td><td>14</td><td>19</td><td>13</td><td>14</td><td>11</td><td>85</td><td>91</td><td>69</td><td>86</td><td>88</td><td>13</td><td>15</td><td>68</td><td>31</td><td>17</td><td>11</td><td>27</td><td>13</td><td>81</td><td>32</td><td>36</td><td>16</td><td>52</td><td>38</td><td>18</td><td>70</td><td>44</td><td>12</td><td>0.0</td><td>0.0</td><td>0.0</td><td>0.0</td><td>0.0</td><td>192119</td><td>0.0</td><td>0.0</td><td>0.0</td><td>0.0</td><td>0.0</td><td>0.0</td><td>0.0</td><td>0.0</td><td>0.0</td><td>0.0</td><td>GK</td><td>0.0</td><td>0.0</td><td>0.0</td><td>0.0</td><td>0.0</td><td>0.0</td><td>0.0</td><td>0.0</td><td>0.0</td><td>0.0</td><td>0.0</td></tr><tr><th>3</th><td>33</td><td>N. Kanté</td><td>26</td><td>https://cdn.sofifa.org/48/18/players/215914.png</td><td>France</td><td>https://cdn.sofifa.org/flags/18.png</td><td>87</td><td>90</td><td>Chelsea</td><td>https://cdn.sofifa.org/24/18/teams/5.png</td><td>€52.5M</td><td>€190K</td><td>2154</td><td>82</td><td>90</td><td>83</td><td>90</td><td>79</td><td>84</td><td>67</td><td>49</td><td>77</td><td>65</td><td>49</td><td>15</td><td>12</td><td>10</td><td>7</td><td>10</td><td>54</td><td>91</td><td>79</td><td>79</td><td>66</td><td>75</td><td>54</td><td>71</td><td>87</td><td>84</td><td>72</td><td>85</td><td>80</td><td>94</td><td>89</td><td>77</td><td>76</td><td>56</td><td>78.0</td><td>81.0</td><td>84.0</td><td>76.0</td><td>81.0</td><td>215914</td><td>78.0</td><td>82.0</td><td>81.0</td><td>81.0</td><td>84.0</td><td>76.0</td><td>78.0</td><td>72.0</td><td>76.0</td><td>83.0</td><td>CM CDM</td><td>78.0</td><td>82.0</td><td>81.0</td><td>81.0</td><td>84.0</td><td>76.0</td><td>78.0</td><td>72.0</td><td>76.0</td><td>83.0</td><td>72.0</td></tr><tr><th>4</th><td>57</td><td>David Luiz</td><td>30</td><td>https://cdn.sofifa.org/48/18/players/179944.png</td><td>Brazil</td><td>https://cdn.sofifa.org/flags/54.png</td><td>86</td><td>86</td><td>Chelsea</td><td>https://cdn.sofifa.org/24/18/teams/5.png</td><td>€33M</td><td>€190K</td><td>2123</td><td>68</td><td>86</td><td>72</td><td>56</td><td>79</td><td>78</td><td>68</td><td>70</td><td>66</td><td>55</td><td>76</td><td>11</td><td>12</td><td>10</td><td>7</td><td>14</td><td>83</td><td>87</td><td>80</td><td>78</td><td>71</td><td>80</td><td>75</td><td>54</td><td>79</td><td>79</td><td>77</td><td>84</td><td>71</td><td>76</td><td>85</td><td>81</td><td>69</td><td>64</td><td>71.0</td><td>83.0</td><td>81.0</td><td>69.0</td><td>75.0</td><td>179944</td><td>71.0</td><td>79.0</td><td>83.0</td><td>75.0</td><td>81.0</td><td>69.0</td><td>70.0</td><td>69.0</td><td>69.0</td><td>78.0</td><td>CB</td><td>71.0</td><td>79.0</td><td>83.0</td><td>75.0</td><td>81.0</td><td>69.0</td><td>70.0</td><td>69.0</td><td>69.0</td><td>78.0</td><td>69.0</td></tr><tr><th>5</th><td>58</td><td>Diego Costa</td><td>28</td><td>https://cdn.sofifa.org/48/18/players/179844.png</td><td>Spain</td><td>https://cdn.sofifa.org/flags/45.png</td><td>86</td><td>86</td><td>Chelsea</td><td>https://cdn.sofifa.org/24/18/teams/5.png</td><td>€46M</td><td>€235K</td><td>1984</td><td>74</td><td>93</td><td>58</td><td>52</td><td>83</td><td>84</td><td>65</td><td>62</td><td>77</td><td>88</td><td>59</td><td>11</td><td>13</td><td>12</td><td>8</td><td>11</td><td>83</td><td>40</td><td>64</td><td>52</td><td>73</td><td>28</td><td>76</td><td>88</td><td>86</td><td>67</td><td>84</td><td>34</td><td>75</td><td>83</td><td>39</td><td>91</td><td>74</td><td>81</td><td>76.0</td><td>57.0</td><td>60.0</td><td>80.0</td><td>71.0</td><td>179844</td><td>76.0</td><td>58.0</td><td>57.0</td><td>71.0</td><td>60.0</td><td>80.0</td><td>76.0</td><td>83.0</td><td>77.0</td><td>60.0</td><td>ST</td><td>76.0</td><td>58.0</td><td>57.0</td><td>71.0</td><td>60.0</td><td>80.0</td><td>76.0</td><td>83.0</td><td>77.0</td><td>60.0</td><td>83.0</td></tr><tr><th>6</th><td>65</td><td>Cesc Fàbregas</td><td>30</td><td>https://cdn.sofifa.org/48/18/players/162895.png</td><td>Spain</td><td>https://cdn.sofifa.org/flags/45.png</td><td>86</td><td>86</td><td>Chelsea</td><td>https://cdn.sofifa.org/24/18/teams/5.png</td><td>€41M</td><td>€210K</td><td>2118</td><td>65</td><td>45</td><td>65</td><td>77</td><td>86</td><td>92</td><td>85</td><td>77</td><td>80</td><td>76</td><td>81</td><td>6</td><td>10</td><td>8</td><td>15</td><td>15</td><td>74</td><td>50</td><td>68</td><td>90</td><td>75</td><td>60</td><td>80</td><td>78</td><td>81</td><td>91</td><td>77</td><td>62</td><td>62</td><td>80</td><td>63</td><td>64</td><td>91</td><td>81</td><td>82.0</td><td>64.0</td><td>72.0</td><td>80.0</td><td>83.0</td><td>162895</td><td>82.0</td><td>70.0</td><td>64.0</td><td>83.0</td><td>72.0</td><td>80.0</td><td>81.0</td><td>77.0</td><td>80.0</td><td>72.0</td><td>CAM CDM CM</td><td>82.0</td><td>70.0</td><td>64.0</td><td>83.0</td><td>72.0</td><td>80.0</td><td>81.0</td><td>77.0</td><td>80.0</td><td>72.0</td><td>77.0</td></tr><tr><th>7</th><td>82</td><td>Azpilicueta</td><td>27</td><td>https://cdn.sofifa.org/48/18/players/184432.png</td><td>Spain</td><td>https://cdn.sofifa.org/flags/45.png</td><td>85</td><td>87</td><td>Chelsea</td><td>https://cdn.sofifa.org/24/18/teams/5.png</td><td>€37.5M</td><td>€160K</td><td>2099</td><td>78</td><td>80</td><td>75</td><td>73</td><td>79</td><td>78</td><td>78</td><td>66</td><td>69</td><td>46</td><td>58</td><td>13</td><td>9</td><td>10</td><td>6</td><td>5</td><td>76</td><td>85</td><td>76</td><td>74</td><td>60</td><td>87</td><td>66</td><td>62</td><td>86</td><td>80</td><td>68</td><td>87</td><td>79</td><td>88</td><td>88</td><td>73</td><td>68</td><td>51</td><td>72.0</td><td>83.0</td><td>82.0</td><td>70.0</td><td>76.0</td><td>184432</td><td>72.0</td><td>84.0</td><td>83.0</td><td>76.0</td><td>82.0</td><td>70.0</td><td>74.0</td><td>68.0</td><td>71.0</td><td>83.0</td><td>LB RB CB</td><td>72.0</td><td>84.0</td><td>83.0</td><td>76.0</td><td>82.0</td><td>70.0</td><td>74.0</td><td>68.0</td><td>71.0</td><td>83.0</td><td>68.0</td></tr><tr><th>8</th><td>109</td><td>Pedro</td><td>29</td><td>https://cdn.sofifa.org/48/18/players/189505.png</td><td>Spain</td><td>https://cdn.sofifa.org/flags/45.png</td><td>84</td><td>84</td><td>Chelsea</td><td>https://cdn.sofifa.org/24/18/teams/5.png</td><td>€30.5M</td><td>€200K</td><td>1987</td><td>84</td><td>56</td><td>84</td><td>82</td><td>87</td><td>78</td><td>78</td><td>81</td><td>84</td><td>81</td><td>57</td><td>5</td><td>11</td><td>12</td><td>15</td><td>9</td><td>55</td><td>49</td><td>67</td><td>70</td><td>78</td><td>30</td><td>66</td><td>84</td><td>84</td><td>83</td><td>71</td><td>31</td><td>80</td><td>78</td><td>32</td><td>56</td><td>77</td><td>70</td><td>82.0</td><td>50.0</td><td>61.0</td><td>82.0</td><td>77.0</td><td>189505</td><td>82.0</td><td>60.0</td><td>50.0</td><td>77.0</td><td>61.0</td><td>82.0</td><td>82.0</td><td>77.0</td><td>83.0</td><td>65.0</td><td>LW RW</td><td>82.0</td><td>60.0</td><td>50.0</td><td>77.0</td><td>61.0</td><td>82.0</td><td>82.0</td><td>77.0</td><td>83.0</td><td>65.0</td><td>77.0</td></tr><tr><th>9</th><td>123</td><td>G. Cahill</td><td>31</td><td>https://cdn.sofifa.org/48/18/players/164468.png</td><td>England</td><td>https://cdn.sofifa.org/flags/14.png</td><td>84</td><td>84</td><td>Chelsea</td><td>https://cdn.sofifa.org/24/18/teams/5.png</td><td>€21M</td><td>€160K</td><td>1839</td><td>62</td><td>84</td><td>62</td><td>51</td><td>63</td><td>75</td><td>28</td><td>48</td><td>58</td><td>56</td><td>27</td><td>5</td><td>12</td><td>9</td><td>5</td><td>12</td><td>86</td><td>83</td><td>82</td><td>61</td><td>66</td><td>84</td><td>53</td><td>45</td><td>85</td><td>65</td><td>63</td><td>84</td><td>63</td><td>69</td><td>85</td><td>80</td><td>56</td><td>47</td><td>61.0</td><td>82.0</td><td>75.0</td><td>61.0</td><td>65.0</td><td>164468</td><td>61.0</td><td>73.0</td><td>82.0</td><td>65.0</td><td>75.0</td><td>61.0</td><td>58.0</td><td>64.0</td><td>58.0</td><td>69.0</td><td>CB</td><td>61.0</td><td>73.0</td><td>82.0</td><td>65.0</td><td>75.0</td><td>61.0</td><td>58.0</td><td>64.0</td><td>58.0</td><td>69.0</td><td>64.0</td></tr><tr><th>10</th><td>200</td><td>T. Bakayoko</td><td>22</td><td>https://cdn.sofifa.org/48/18/players/219809.png</td><td>France</td><td>https://cdn.sofifa.org/flags/18.png</td><td>82</td><td>88</td><td>Chelsea</td><td>https://cdn.sofifa.org/24/18/teams/5.png</td><td>€26M</td><td>€105K</td><td>1973</td><td>75</td><td>85</td><td>66</td><td>62</td><td>78</td><td>74</td><td>54</td><td>49</td><td>75</td><td>39</td><td>37</td><td>11</td><td>15</td><td>11</td><td>14</td><td>10</td><td>72</td><td>81</td><td>78</td><td>78</td><td>51</td><td>80</td><td>45</td><td>60</td><td>78</td><td>80</td><td>72</td><td>82</td><td>72</td><td>86</td><td>84</td><td>82</td><td>75</td><td>36</td><td>71.0</td><td>80.0</td><td>81.0</td><td>69.0</td><td>76.0</td><td>219809</td><td>71.0</td><td>78.0</td><td>80.0</td><td>76.0</td><td>81.0</td><td>69.0</td><td>71.0</td><td>65.0</td><td>68.0</td><td>77.0</td><td>CM CDM</td><td>71.0</td><td>78.0</td><td>80.0</td><td>76.0</td><td>81.0</td><td>69.0</td><td>71.0</td><td>65.0</td><td>68.0</td><td>77.0</td><td>65.0</td></tr><tr><th>11</th><td>221</td><td>A. Rüdiger</td><td>24</td><td>https://cdn.sofifa.org/48/18/players/205452.png</td><td>Germany</td><td>https://cdn.sofifa.org/flags/21.png</td><td>82</td><td>86</td><td>Chelsea</td><td>https://cdn.sofifa.org/24/18/teams/5.png</td><td>€24.5M</td><td>€105K</td><td>1838</td><td>73</td><td>89</td><td>63</td><td>50</td><td>68</td><td>73</td><td>68</td><td>34</td><td>59</td><td>27</td><td>56</td><td>14</td><td>15</td><td>10</td><td>12</td><td>8</td><td>78</td><td>79</td><td>74</td><td>65</td><td>40</td><td>82</td><td>40</td><td>33</td><td>82</td><td>70</td><td>70</td><td>81</td><td>75</td><td>65</td><td>84</td><td>83</td><td>57</td><td>34</td><td>59.0</td><td>81.0</td><td>75.0</td><td>58.0</td><td>64.0</td><td>205452</td><td>59.0</td><td>76.0</td><td>81.0</td><td>64.0</td><td>75.0</td><td>58.0</td><td>62.0</td><td>58.0</td><td>59.0</td><td>74.0</td><td>RB CB</td><td>59.0</td><td>76.0</td><td>81.0</td><td>64.0</td><td>75.0</td><td>58.0</td><td>62.0</td><td>58.0</td><td>59.0</td><td>74.0</td><td>58.0</td></tr></tbody></table>"
      ],
      "text/plain": [
       "11×75 DataFrames.DataFrame. Omitted printing of 72 columns\n",
       "│ Row │ x   │ Name          │ Age │\n",
       "├─────┼─────┼───────────────┼─────┤\n",
       "│ 1   │ 7   │ E. Hazard     │ 26  │\n",
       "│ 2   │ 12  │ T. Courtois   │ 25  │\n",
       "│ 3   │ 33  │ N. Kanté      │ 26  │\n",
       "│ 4   │ 57  │ David Luiz    │ 30  │\n",
       "│ 5   │ 58  │ Diego Costa   │ 28  │\n",
       "│ 6   │ 65  │ Cesc Fàbregas │ 30  │\n",
       "│ 7   │ 82  │ Azpilicueta   │ 27  │\n",
       "│ 8   │ 109 │ Pedro         │ 29  │\n",
       "│ 9   │ 123 │ G. Cahill     │ 31  │\n",
       "│ 10  │ 200 │ T. Bakayoko   │ 22  │\n",
       "│ 11  │ 221 │ A. Rüdiger    │ 24  │"
      ]
     },
     "execution_count": 10,
     "metadata": {},
     "output_type": "execute_result"
    }
   ],
   "source": [
    "## the following function will take your existing squad and optimize it to be the best it can be for a given game\n",
    "## For sake of simplicity, we will assume that every team always plays the regular (and debatably effective) 4-3-3 formation. \n",
    "## This involves 4 defenders, 3 midfielders and 3 strikers\n",
    "\n",
    "# returns a sparse matrix indicating player positions\n",
    "# takes as input the dataframe of your team (eg: Southampton)\n",
    "positions_labels = [\"ST\",\"LW\",\"RW\",\"GK\",\"CDM\",\"CM\",\"CB\",\"RM\",\"CAM\",\"LM\",\"LB\",\"CF\",\"RB\",\"RWB\",\"LWB\"]\n",
    "\n",
    "function createSquadPosition(team_df)\n",
    "    positionsMatrix = Array{Int}(nrow(team_df),length(positions_labels)) # initialize an array to hold positions\n",
    "    for i in 1:nrow(team_df)\n",
    "        preferredPos =  split(lstrip(rstrip(team_df[i, 64])))\n",
    "        positionsMatrix[i,:] = 0\n",
    "        for j in 1:length(preferredPos) # locate the position definition\n",
    "            f(x) = x .== preferredPos[j]\n",
    "            positionsMatrix[i,find(f, positions_labels)[1]] = 1\n",
    "        end\n",
    "    end\n",
    "    return positionsMatrix\n",
    "end\n",
    "\n",
    "\n",
    "using JuMP, Cbc\n",
    "\n",
    "squad = myteamPlayers\n",
    "positions = createSquadPosition(squad) # get preferred positions of each player (returns a sparse matrix)\n",
    "formation = [1,1,1,1,1,2,2,0,0,0,1,0,1,0,0] # 4-3-3 formation\n",
    "overall = squad[:,7]\n",
    "\n",
    "m = Model(solver=CbcSolver())\n",
    "@variable(m, my_squad[1:nrow(squad)], Bin) # create a variable to hold 33 players\n",
    "@variable(m, position_preference[1:nrow(squad),1:length(positions_labels)], Bin) # holds player preference positions\n",
    "\n",
    "# constraint to pick preferred player\n",
    "for j in 1:length(formation)\n",
    "    @constraint(m, sum(positions[i,j]*(position_preference[i,j]) for i in 1:nrow(squad)) == formation[j])\n",
    "end\n",
    "\n",
    "#constraint to ensure that only one player is picked per position\n",
    "for j in 1:nrow(squad)\n",
    "    @constraint(m,  0 <= sum(position_preference[j,:]) <= 1)\n",
    "end\n",
    "\n",
    "# constraint to ensure that only 11 players are picked in a team\n",
    "@constraint(m, sum(position_preference) == 11)\n",
    "\n",
    "# maximize the overall team rating \n",
    "@objective(m, Max, sum(sum(position_preference[i,:])*overall[i] for i in 1:nrow(squad)))\n",
    "solve(m)\n",
    "\n",
    "selection = []\n",
    "for i in 1:nrow(squad)\n",
    "    if(sum(getvalue(position_preference)[i,:]) == 1)\n",
    "        push!(selection, i)\n",
    "    end\n",
    "end\n",
    "squad[selection,:]\n"
   ]
  },
  {
   "cell_type": "code",
   "execution_count": 11,
   "metadata": {},
   "outputs": [
    {
     "name": "stdout",
     "output_type": "stream",
     "text": [
      "Average team rating for Chelsea = 85.54545454545455\n"
     ]
    }
   ],
   "source": [
    "println(\"Average team rating for \", my_team, \" = \", getobjectivevalue(m)/11)"
   ]
  },
  {
   "cell_type": "markdown",
   "metadata": {},
   "source": [
    "## Team Chemistry"
   ]
  },
  {
   "cell_type": "code",
   "execution_count": 12,
   "metadata": {},
   "outputs": [
    {
     "data": {
      "text/plain": [
       "33×33 Array{Int64,2}:\n",
       " 1  1  0  0  0  0  0  0  0  0  0  0  0  …  1  0  0  0  0  0  1  0  0  0  0  0\n",
       " 1  1  0  0  0  0  0  0  0  0  0  0  0     1  0  0  0  0  0  1  0  0  0  0  0\n",
       " 0  0  1  0  0  0  0  0  0  0  0  1  0     0  0  0  0  0  0  0  0  0  0  0  0\n",
       " 0  0  0  1  0  0  0  0  0  1  0  0  0     0  0  1  0  1  0  0  0  0  0  0  0\n",
       " 0  0  0  0  1  1  1  1  1  0  0  0  0     0  0  0  0  0  0  0  0  0  0  0  0\n",
       " 0  0  0  0  1  1  1  1  1  0  0  0  0  …  0  0  0  0  0  0  0  0  0  0  0  0\n",
       " 0  0  0  0  1  1  1  1  1  0  0  0  0     0  0  0  0  0  0  0  0  0  0  0  0\n",
       " 0  0  0  0  1  1  1  1  1  0  0  0  0     0  0  0  0  0  0  0  0  0  0  0  0\n",
       " 0  0  0  0  1  1  1  1  1  0  0  0  0     0  0  0  0  0  0  0  0  0  0  0  0\n",
       " 0  0  0  1  0  0  0  0  0  1  0  0  0     0  0  1  0  1  0  0  0  0  0  0  0\n",
       " 0  0  0  0  0  0  0  0  0  0  1  0  0  …  0  0  0  0  0  1  0  1  1  0  1  1\n",
       " 0  0  1  0  0  0  0  0  0  0  0  1  0     0  0  0  0  0  0  0  0  0  0  0  0\n",
       " 0  0  0  0  0  0  0  0  0  0  0  0  1     0  0  0  0  0  0  0  0  0  0  0  0\n",
       " ⋮              ⋮              ⋮        ⋱              ⋮              ⋮      \n",
       " 1  1  0  0  0  0  0  0  0  0  0  0  0     1  0  0  0  0  0  1  0  0  0  0  0\n",
       " 0  0  0  0  0  0  0  0  0  0  0  0  0     0  1  0  0  0  0  0  0  0  0  0  0\n",
       " 0  0  0  1  0  0  0  0  0  1  0  0  0     0  0  1  0  1  0  0  0  0  0  0  0\n",
       " 0  0  0  0  0  0  0  0  0  0  0  0  0     0  0  0  1  0  0  0  0  0  0  0  0\n",
       " 0  0  0  1  0  0  0  0  0  1  0  0  0  …  0  0  1  0  1  0  0  0  0  0  0  0\n",
       " 0  0  0  0  0  0  0  0  0  0  1  0  0     0  0  0  0  0  1  0  1  1  0  1  1\n",
       " 1  1  0  0  0  0  0  0  0  0  0  0  0     1  0  0  0  0  0  1  0  0  0  0  0\n",
       " 0  0  0  0  0  0  0  0  0  0  1  0  0     0  0  0  0  0  1  0  1  1  0  1  1\n",
       " 0  0  0  0  0  0  0  0  0  0  1  0  0     0  0  0  0  0  1  0  1  1  0  1  1\n",
       " 0  0  0  0  0  0  0  0  0  0  0  0  0  …  0  0  0  0  0  0  0  0  0  1  0  0\n",
       " 0  0  0  0  0  0  0  0  0  0  1  0  0     0  0  0  0  0  1  0  1  1  0  1  1\n",
       " 0  0  0  0  0  0  0  0  0  0  1  0  0     0  0  0  0  0  1  0  1  1  0  1  1"
      ]
     },
     "execution_count": 12,
     "metadata": {},
     "output_type": "execute_result"
    }
   ],
   "source": [
    "\n",
    "function createChemistryMatrix(squad)\n",
    "    nationality = squad[:,5]\n",
    "    \n",
    "    chemistryMatrix = Array{Int}(nrow(squad),nrow(squad))\n",
    "    for i in 1:length(nationality)\n",
    "        chemistryMatrix[i,:] = 0\n",
    "        chemistryMatrix[i,find(x -> x == nationality[i], nationality)] = 1\n",
    "    end\n",
    "    return chemistryMatrix\n",
    "end\n",
    "createChemistryMatrix(squad)"
   ]
  },
  {
   "cell_type": "code",
   "execution_count": 16,
   "metadata": {},
   "outputs": [],
   "source": [
    "using JuMP, Cbc\n",
    "\n",
    "# obtain our squad of players and set their formations\n",
    "squad = myteamPlayers\n",
    "positions = createSquadPosition(squad) # get preferred positions of each player (returns a sparse matrix)\n",
    "formation = [1,1,1,1,1,2,2,0,0,0,1,0,1,0,0] # 4-3-3 formation\n",
    "overall = squad[:,7]\n",
    "\n",
    "#incidence matrix for 4-3-3 formation\n",
    "# it tells us which position links up with which other position\n",
    "# in the 4-3-3 formation. The neighboring players\n",
    "# that a certain player links up with determines the chemistry\n",
    "# at that position\n",
    "\n",
    "\n",
    "linkups = [0 1 1 0 0 0 0 0 0 0 0 0 0 0 0 0 0  \n",
    "             1 0 1 0 1 0 0 0 1 0 0 0 0 0 0 0 0 \n",
    "             1 1 0 0 0 1 0 0 1 0 0 0 0 0 0 0 0 \n",
    "             0 0 0 0 0 0 0 0 0 0 0 0 0 0 0 0 0 \n",
    "             0 1 0 0 0 0 1 0 0 0 0 0 0 0 0 0 0 \n",
    "             0 0 1 0 0 0 0 1 0 0 0 0 0 0 0 0 0 \n",
    "             0 0 0 0 1 0 0 1 1 0 1 1 0 0 0 0 0 \n",
    "             0 0 0 0 0 1 1 0 1 1 0 1 0 0 0 0 0 \n",
    "             0 1 1 0 0 0 1 1 0 0 0 0 0 0 0 0 0 \n",
    "             0 0 0 0 0 0 0 1 0 0 0 1 0 0 0 0 0 \n",
    "             0 0 0 0 0 0 1 0 0 0 0 1 0 0 0 0 0 \n",
    "             0 0 0 0 0 0 1 1 0 1 1 0 0 0 0 0 0 \n",
    "             0 0 0 0 0 0 0 0 0 0 0 0 0 0 0 0 0 \n",
    "             0 0 0 0 0 0 0 0 0 0 0 0 0 0 0 0 0 \n",
    "             0 0 0 0 0 0 0 0 0 0 0 0 0 0 0 0 0 \n",
    "             0 0 0 0 0 0 0 0 0 0 0 0 0 0 0 0 0 \n",
    "             0 0 0 0 0 0 0 0 0 0 0 0 0 0 0 0 0]\n",
    "                    \n",
    "chemistry = createChemistryMatrix(squad)\n",
    "# for positions in the formation array that have more than 2 players,\n",
    "# they are in reality two different positions that perform the same function \n",
    "# and hence can be performed by players in the same region\n",
    "\n",
    "# find positions with more than one player\n",
    "duplicates = find(x-> x > 1, formation)\n",
    "clone_columns = [] #  store the columns pertaining to the duplicate positions\n",
    "# clone the columns of the duplicates to the right.\n",
    "duplicate_col_pos = length(positions_labels)+1\n",
    "for i in 1:length(duplicates)\n",
    "    dupcol = []\n",
    "    # repeat for formation[j]-1 times\n",
    "    for j in 1:(formation[duplicates[i]] - 1)\n",
    "        positions = hcat(positions, positions[:,duplicates[i]])\n",
    "        push!(dupcol, duplicate_col_pos) # push this new column index\n",
    "        duplicate_col_pos = duplicate_col_pos+1\n",
    "    end\n",
    "    push!(clone_columns, dupcol)\n",
    "end\n",
    "        "
   ]
  },
  {
   "cell_type": "code",
   "execution_count": 39,
   "metadata": {},
   "outputs": [
    {
     "ename": "LoadError",
     "evalue": "\u001b[91mIncompatible dimensions\u001b[39m",
     "output_type": "error",
     "traceback": [
      "\u001b[91mIncompatible dimensions\u001b[39m",
      "",
      "Stacktrace:",
      " [1] \u001b[1m_dot\u001b[22m\u001b[22m\u001b[1m(\u001b[22m\u001b[22m::Array{Int64,2}, ::Array{JuMP.Variable,2}\u001b[1m)\u001b[22m\u001b[22m at \u001b[1m/home/adithya/.julia/v0.6/JuMP/src/operators.jl:319\u001b[22m\u001b[22m",
      " [2] \u001b[1mvecdot\u001b[22m\u001b[22m\u001b[1m(\u001b[22m\u001b[22m::Array{Int64,2}, ::Array{JuMP.Variable,2}\u001b[1m)\u001b[22m\u001b[22m at \u001b[1m/home/adithya/.julia/v0.6/JuMP/src/operators.jl:316\u001b[22m\u001b[22m",
      " [3] \u001b[1mmacro expansion\u001b[22m\u001b[22m at \u001b[1m/home/adithya/.julia/v0.6/JuMP/src/macros.jl:719\u001b[22m\u001b[22m [inlined]",
      " [4] \u001b[1manonymous\u001b[22m\u001b[22m at \u001b[1m./<missing>:?\u001b[22m\u001b[22m",
      " [5] \u001b[1minclude_string\u001b[22m\u001b[22m\u001b[1m(\u001b[22m\u001b[22m::String, ::String\u001b[1m)\u001b[22m\u001b[22m at \u001b[1m./loading.jl:522\u001b[22m\u001b[22m"
     ]
    }
   ],
   "source": [
    "# create a model\n",
    "m = Model(solver=CbcSolver())\n",
    "\n",
    "@variable(m, position_preference[1:nrow(squad),1:size(positions)[2]], Bin) # holds player preference positions\n",
    "\n",
    "\n",
    "# constraint to pick preferred player\n",
    "for j in 1:length(formation) # now that we have split columns to identify unique positions, we each positionw ill sum up to be 1\n",
    "    if formation[j] == 0 #if there are no players in a position, then make sure that the sum of that column is 0\n",
    "        @constraint(m, sum(positions[i,j]*(position_preference[i,j]) for i in 1:nrow(squad)) == 0)\n",
    "    else\n",
    "        @constraint(m, sum(positions[i,j]*(position_preference[i,j]) for i in 1:nrow(squad)) == 1)\n",
    "    end\n",
    "end\n",
    "\n",
    "# deal with multiple positions\n",
    "# clone_columns and duplicates have the same size\n",
    "for i in 1:length(clone_columns)\n",
    "    \n",
    "    # ensure that the sum of each clone column is 1, since each position is now treated as unique\n",
    "    for j in 1:length(clone_columns[i])\n",
    "        @constraint(m, sum(positions[k,clone_columns[i][j]]*(position_preference[k,clone_columns[i][j]]) for k in 1:nrow(squad)) == 1)\n",
    "    end\n",
    "    # ensure that the colsums of the clones and the original columns is equal to the number of occurances of that position in the formation vector\n",
    "    @constraint(m, sum(position_preference[:, duplicates[i]]) +\n",
    "            sum(sum(position_preference[:, clone_columns[i][k]]) for k in 1:length(clone_columns[i]))  \n",
    "     == formation[duplicates[i]])\n",
    "    \n",
    "end\n",
    "\n",
    "\n",
    "\n",
    "#constraint to ensure that only one player is picked per position\n",
    "for j in 1:nrow(squad)\n",
    "    @constraint(m,  0 <= sum(position_preference[j,:]) <= 1)\n",
    "end\n",
    "\n",
    "# constraint to ensure that only 11 players are picked in a team\n",
    "@constraint(m, sum(position_preference) == 11)\n",
    "lambda = 0;\n",
    "# maximize the overall team rating \n",
    "@objective(m, Max, sum(sum(position_preference[i,:])*overall[i] for i in 1:nrow(squad))\n",
    "                    + sum(\n",
    "        lambda*(vecdot(vecdot(vecdot(vecdot(chemistry,position_preference),linkups),ones(size(linkups)[1])),overall))))\n",
    "solve(m)"
   ]
  },
  {
   "cell_type": "code",
   "execution_count": 41,
   "metadata": {},
   "outputs": [
    {
     "ename": "LoadError",
     "evalue": "\u001b[91mUndefVarError: chemitry not defined\u001b[39m",
     "output_type": "error",
     "traceback": [
      "\u001b[91mUndefVarError: chemitry not defined\u001b[39m",
      "",
      "Stacktrace:",
      " [1] \u001b[1minclude_string\u001b[22m\u001b[22m\u001b[1m(\u001b[22m\u001b[22m::String, ::String\u001b[1m)\u001b[22m\u001b[22m at \u001b[1m./loading.jl:522\u001b[22m\u001b[22m"
     ]
    }
   ],
   "source": [
    "dot(chemitry, position_preference)"
   ]
  },
  {
   "cell_type": "code",
   "execution_count": 45,
   "metadata": {},
   "outputs": [
    {
     "data": {
      "text/html": [
       "15"
      ],
      "text/plain": [
       "15"
      ]
     },
     "execution_count": 45,
     "metadata": {},
     "output_type": "execute_result"
    }
   ],
   "source": [
    "duplicate_col_no = length(positions_labels)\n",
    "\n"
   ]
  }
 ],
 "metadata": {
  "kernelspec": {
   "display_name": "Julia 0.6.2",
   "language": "julia",
   "name": "julia-0.6"
  },
  "language_info": {
   "file_extension": ".jl",
   "mimetype": "application/julia",
   "name": "julia",
   "version": "0.6.2"
  }
 },
 "nbformat": 4,
 "nbformat_minor": 2
}
