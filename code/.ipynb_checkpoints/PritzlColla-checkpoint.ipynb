{
 "cells": [
  {
   "cell_type": "markdown",
   "metadata": {},
   "source": [
    "### CS/ECE/ISyE 524 &mdash; Introduction to Optimization &mdash; Spring 2016 ###\n",
    "\n",
    "# Fantasy Football Roster Optimization\n",
    "**Nate Pritzl (npritzl@wisc.edu), Logan Colla (lcolla@wisc.edu)**\n",
    "\n",
    "*****\n",
    "\n",
    "### Table of Contents\n",
    "1. [Introduction](#1.-Introduction)\n",
    "1. [Mathematical Model](#2.-Mathematical-Model)\n",
    "    1. [Weekly Mathematical Model](#2A.-Weekly-Mathematical-Model)\n",
    "    1. [Season Mathematical Model](#2B.-Season-Mathematical-Model)\n",
    "1. [Solution](#3.-Solution)\n",
    "    1. [Weekly Model](#3A.-Weekly-Model)\n",
    "    1. [Season Model](#3B.-Season-Model)\n",
    "1. [Results and Discussion](#4.-Results-and-Discussion)\n",
    "    1. [Weekly Model Results](#4A.-Weekly-Model-Results)\n",
    "    1. [Tradeoff Curve:  Points vs Ownership](#4B.-Tradeoff-Curve:--Points-vs-Ownership)\n",
    "    1. [Season Model Results](#4C.-Season-Model-Results)\n",
    "    1. [Tradeoff Curve:  Points vs Transactions](#4D.-Tradeoff-Curve:--Points-vs-Transactions)\n",
    "    1. [Model Limitations and Further Improvements](#4E.-Model-Limitations-and-Further-Improvements)\n",
    "1. [Conclusion](#5.-Conclusion)\n",
    "1. [Appendix A: Data](#Appendix-A:--Data)"
   ]
  },
  {
   "cell_type": "markdown",
   "metadata": {},
   "source": [
    "## 1. Introduction"
   ]
  },
  {
   "cell_type": "markdown",
   "metadata": {},
   "source": [
    "This report was designed to explore the optimization of a fantasy football roster.  New websites such as Draft Kings and Fan Dual have revolutionized gambling in sports.  Optimization and statistics play an important role in these fantasy games and a steady return can be achieved with the right tools and knowledge.  In this report, we will examine two models used to optimize a fantasy football roster in their own specific scenarios.\n",
    "    \n",
    "The first model optimizes a fantasy football roster for one particular week.  Most games on fantasy sports gambling websites are week to week.  Each week, players are assigned a projected point value and a salary.  It is then up to the user to fill their roster in a way in which they think the most points can be accumulated while staying under the salary cap.  As expected, the better players with higher projected points are assigned a higher salary.  However, just these two statistics isn’t enough when determining the optimal roster.  Knowing your competitors picks can increase your chances of winning significantly.  Picking the less popular players results in a better chance to finish at the top.  Therefore, there is a tradeoff between projected points and percent chance that a similar roster is used by another competitor.  An example of the data being analyzed is shown below.\n",
    "\n",
    "| Player         | Position | Team  | Projection | Salary | Ownerhsip |\n",
    "| ---------------|----------| ------| ---------- | ------ | --------- |\n",
    "| Tom Brady      | QB       | NE    | 10         | 4000   | 1         |\n",
    "| Aaron Rodgers  | QB       | GB    | 5          | 2000   | 0         |\n",
    "| Eddie Lacy     | RB       | GB    | 5          | 4000   | 0         |\n",
    "| Marshawn Lynch | RB       | SEA   | 10         | 2000   | 1         |\n",
    "\n",
    "The second model optimizes a fantasy football roster and the transactions throughout the season.  The user is to pick the best roster for each week of the season given projected points and salary constraints.  However, in this scenario, each time a player is added or dropped, a transaction cost is accrued.  Therefore, the seasonal optimizer is a tradeoff between projected points and transaction cost.  An example of the data being analyzed is shown below.\n",
    "\n",
    "| Player         | Position | Team  | Projection 1 | Salary 1 | Projection 2 | Salary 2 |\n",
    "| ---------------|----------| ------| ------------ | -------- | ------------ | -------- |\n",
    "| Tom Brady      | QB       | NE    | 10           | 4000     | 5            | 2000     |\n",
    "| Aaron Rodgers  | QB       | GB    | 5            | 2000     | 10           | 4000     |\n",
    "| Eddie Lacy     | RB       | GB    | 5            | 4000     | 10           | 2000     |\n",
    "| Marshawn Lynch | RB       | SEA   | 10           | 2000     | 5            | 4000     |\n",
    "   \n",
    "Two datasets are available for use in this report.  The first data set is a synthetic trial dataset, in which an optimal solution for given parameters is able to be found with the naked eye in just a few seconds.  This data set is provided so that the viewer can assure themselves that the model is working correctly and the results are as expected.  A snapshot of the trial data is shown above.  The second dataset is raw data from two websites.  Player position, team, projection, and salary were obtained from [fantasydata.com](https://fantasydata.com).  Player ownership percentages were attained from [draftkings.com](https://www.draftkings.com).  \n",
    "\n",
    "The outline of this report is as follows:  First, we present the mathematical models.  Next, we present the code behind the model.  Then we examine the results and interpretation of the model, as well as its limitations.  We also provide interactive parameters in the results secion.  Finally, we provide our closing remarks.\n"
   ]
  },
  {
   "cell_type": "markdown",
   "metadata": {},
   "source": [
    "## 2. Mathematical Model"
   ]
  },
  {
   "cell_type": "markdown",
   "metadata": {},
   "source": [
    "### 2A. Weekly Mathematical Model\n",
    "\n",
    "The weekly model is a linear program with binary variables.  In order to capture which players should be picked, a binary vector is created.  Each spot in the vector represents a particular player.  If a player is assigned a one, they are picked.  Otherwise, they are assigned a zero. The vector \"p\" represents this variable.\n",
    "\n",
    "There are three types of constraints in this model.  The first constraint requires that the total player salary does not exceed the salary cap.  The total salary is found by taking the sum of an element wise product between the binary variable vector and the salary data column.  Here is the constraint:\n",
    "\n",
    "$p^T\\cdot s \\le salaryCap$\n",
    "\n",
    "The second type of constraint requires that the correct amounts of players from each position are selected.  There is one special position in this model, called the flex position.  A running back, wide receiver, or tight end may be assigned to the flex position.  In order to capture this requirement, the total players at each of these positions must be greater than or equal to their respective position requirement, but less than or equal to their position requirement plus the flex position requirement.  Then, the amount of players from each of these three positions must equal the sum of each position’s requirements plus the flex position requirement.  Taking the sum over the indices of the binary decision variable elements that represent a player for that position assures that we are assigning the players to the right positions.  Here is one example of a position constraint:\n",
    "\n",
    "$\\displaystyle RBlimit \\le \\sum_{i \\in RB} p_i \\le RBlimit + FXlimit$\n",
    "\n",
    "The third constraint requires that only a given amount of players can come from the same team.  Having players from the same team is risky and often detrimental to the fantasy team.  This is because if the team does poorly, most likely both players will perform poorly.  However, if the team does well, not all of the players perform well.  In order to represent this constraint, a vector of unique team names is derived and represented by \"T\".  Then, the sum over the indices of the binary decision variable elements that represent a player from that particular team must be less than or equal to the given parameter amount.  Here is the team constraint:\n",
    "\n",
    "$\\displaystyle \\sum_{i \\in Team_j} p_i \\le TMlimit, \\forall j \\in T$\n",
    "\n",
    "The objective demonstrates the tradeoff between projected points and ownership percentage.  For the objective, the sum of the ownership percentages, represented by \"w\", is subtracted from the sum of the projected points, represented by \"f\".  Therefore, we attempt to maximize this objective.  The sum of ownership percentages and projected points is found the same way as the total salary.\n",
    "\n",
    "Here is a look at the entire weekly model:\n",
    "\n",
    "$$\n",
    "\\begin{aligned}\n",
    "\\underset{p}{\\text{maximize}} && p^T\\cdot f - \\lambda(p^T\\cdot w) \\\\\n",
    "\\text{subject to: } && p^T\\cdot s \\le salaryCap \\\\\n",
    "&& \\displaystyle \\sum_{i \\in QB} p_i = QBlimit \\\\\n",
    "&& \\displaystyle RBlimit \\le \\sum_{i \\in RB} p_i \\le RBlimit + FXlimit \\\\\n",
    "&& \\displaystyle TElimit \\le \\sum_{i \\in TE} p_i \\le TElimit + FXlimit \\\\\n",
    "&& \\displaystyle WRlimit \\le \\sum_{i \\in WR} p_i \\le WRlimit + FXlimit \\\\\n",
    "&& \\displaystyle \\sum_{i \\in RB \\cup TE \\cup WR} p_i = RBlimit + TElimit + WRlimit + FXlimit \\\\\n",
    "&& \\displaystyle \\sum_{i \\in Team_j} p_i \\le TMlimit && \\forall j \\in T \\\\\n",
    "&& p_i \\in {0,1} && \\forall i=1,\\dots,n\\\\\n",
    "\\end{aligned}\n",
    "$$\n"
   ]
  },
  {
   "cell_type": "markdown",
   "metadata": {},
   "source": [
    "### 2B. Season Mathematical Model\n",
    "\n",
    "The season model is also a linear program with binary variables.  A binary variable is again used to keep track of what players are to be picked, but in this case, it is a matrix with the rows representing the player, and columns representing the week to use the player. The matrix, \"p\", represents this variable\n",
    "\n",
    "Another binary matrix variable is introduced to keep track of the transactions for each week.  In this variable, rows represent players, and columns represent the subsequent week (e.g. column 1 represents transactions between week 1 and 2).  A one represents a transaction for a specified player and week has occurred.  The matrix, \"z\", represents this variable.\n",
    "\n",
    "The salary constraint from the weekly model is used for each week of the season.  We also introduced a season salary constraint to what affects it may have on the results.  The weekly salary totals are found the same way as in the weekly model, and the season salary total is attained by taking the sum of an element wise product between the player binary variable and the salary columns in the data.  Here are the salary constraints:\n",
    "\n",
    "$\\displaystyle \\sum_{i=1}^{m} p_{.i}^T\\cdot s_{.i} \\le seasonCap$\n",
    "\n",
    "$p_{.i}^T\\cdot s_{.i} \\le weeklyCap, \\forall i=1,\\dots,m$\n",
    "\n",
    "The player position constraints were applied to each week, the same as they were applied to one particular week in the weekly model.  We removed the players per unique team constraint because iterating over each team for each week slowed the model down substantially.  Here is one position constraint:\n",
    "\n",
    "$\\displaystyle \\sum_{i \\in QB} p_{ij} = QBlimit, \\forall j=1,\\dots,m$\n",
    "\n",
    "New conditional constraints are necessary to detect a transaction.  In order to construct these constraints, the element wise difference between adjacent columns in the player variable is used to assign a value to the transaction variable.  If the difference is zero, then a zero is recorded in the transaction variable.  If the difference is one or negative one, a one is recorded.  Here are the conditional constraints:\n",
    "\n",
    "$-z_{ij} \\le p_{ij+1}-p_{ij} \\le z_{ij}, \\forall i=1,\\dots,n, \\forall j=1,\\dots,m-1$\n",
    "\n",
    "The objective consists of the difference between points and transaction cost.  We attempt to maximize this objective.  Total points come from element wise multiplication of the player variable and the projected point’s data columns.  Total transaction cost comes from taking the sum of all elements in the transaction variable and multiplying it by the given cost.\n",
    "\n",
    "Here is a look at the entire season model:\n",
    "\n",
    "\n",
    "$$\n",
    "\\begin{aligned}\n",
    "\\underset{p}{\\text{maximize}} && \\displaystyle \\sum_{i=1}^{m} p_{.i}^T\\cdot f_{.i} - transCost(p_{.i}^T\\cdot z_{.i}) \\\\\n",
    "\\text{subject to: } && \\displaystyle \\sum_{i=1}^{m} p_{.i}^T\\cdot s_{.i} \\le seasonCap \\\\\n",
    "&& p_{.i}^T\\cdot s_{.i} \\le weeklyCap && \\forall i=1,\\dots,m \\\\\n",
    "&& \\displaystyle \\sum_{i \\in QB} p_{ij} = QBlimit && \\forall j=1,\\dots,m \\\\\n",
    "&& \\displaystyle RBlimit \\le \\sum_{i \\in RB} p_{ij} \\le RBlimit + FXlimit && \\forall j=1,\\dots,m \\\\\n",
    "&& \\displaystyle TElimit \\le \\sum_{i \\in TE} p_{ij} \\le TElimit + FXlimit && \\forall j=1,\\dots,m \\\\\n",
    "&& \\displaystyle WRlimit \\le \\sum_{i \\in WR} p_{ij} \\le WRlimit + FXlimit && \\forall j=1,\\dots,m \\\\\n",
    "&& \\displaystyle \\sum_{i \\in RB \\cup TE \\cup WR} p_{ij} = RBlimit + TElimit + WRlimit + FXlimit && \\forall j=1,\\dots,m \\\\\n",
    "&& -z_{ij} \\le p_{ij+1}-p_{ij} \\le z_{ij} && \\forall i=1,\\dots,n, \\forall j=1,\\dots,m-1 \\\\\n",
    "&& p_{ij} \\in {0,1} && \\forall i=1,\\dots,n, \\forall j=1,\\dots,m \\\\\n",
    "&& z_{ij} \\in {0,1} && \\forall i=1,\\dots,n, \\forall j=1,\\dots,m \\\\\n",
    "\\end{aligned}\n",
    "$$"
   ]
  },
  {
   "cell_type": "markdown",
   "metadata": {},
   "source": [
    "## 3. Solution"
   ]
  },
  {
   "cell_type": "markdown",
   "metadata": {},
   "source": [
    "### 3A. Weekly Model\n"
   ]
  },
  {
   "cell_type": "code",
   "execution_count": 1,
   "metadata": {},
   "outputs": [],
   "source": [
    "using JuMP, DataFrames\n",
    "\n",
    "function weeklyModel(λ, QBlimit, RBlimit, TElimit, WRlimit, FXlimit, TMlimit, salaryCap, week, df)\n",
    "\n",
    "    N = size(df)[1]                     # Number of players\n",
    "    QBindicies = find(df[:,2].==\"QB\")   # Rows containing QB's\n",
    "    RBindicies = find(df[:,2].==\"RB\")   # Rows containing RB's\n",
    "    WRindicies = find(df[:,2].==\"WR\")   # Rows containing WR's\n",
    "    TEindicies = find(df[:,2].==\"TE\")   # Rows containing TE's\n",
    "    teams = unique(df[:,3])             # List of unique teams of the players\n",
    "    M = QBlimit+RBlimit+TElimit+WRlimit+FXlimit      # Total players on desired roster\n",
    "    T = length(teams)                   # Number of unique teams\n",
    "\n",
    "\n",
    "    m = Model()\n",
    "    @variable(m, p[1:N], Bin)             # Indicator variable:  1-Player on roster, 0-Player not on roster\n",
    "    @constraint(m, sum{p[i]*df[i,6], i=1:N} <= salaryCap)                       # Salary cap constraint\n",
    "    @constraint(m, sum{p[i], i = QBindicies} == QBlimit)                        # Number of QB's constraint\n",
    "    @constraint(m, RBlimit <= sum{p[i], i = RBindicies} <= RBlimit + FXlimit)   # Number of RB's constraint\n",
    "    @constraint(m, TElimit <= sum{p[i], i = TEindicies} <= TElimit + FXlimit)   # Number of TE's constraint\n",
    "    @constraint(m, WRlimit <= sum{p[i], i = WRindicies} <= WRlimit + FXlimit)   # Number of WR's constraint\n",
    "    # Number of Flex players constraint\n",
    "    @constraint(m, sum{p[i], i = [RBindicies; TEindicies; WRindicies]} == RBlimit+TElimit+WRlimit+FXlimit)\n",
    "    \n",
    "    # Limit amount of players from one particular team\n",
    "    for t = 1:T\n",
    "        teamInd = find(df[:,3].==teams[t])\n",
    "        @constraint(m, sum{p[i], i = teamInd} <= TMlimit)\n",
    "    end\n",
    "    \n",
    "    # Maximize projected points but minimize chance someone else has that roster too\n",
    "    @objective(m, Max, sum{p[i]*df[i,4], i=1:N} - λ*sum{p[i]*df[i,5], i=1:N})\n",
    "    \n",
    "    solve(m);\n",
    "    \n",
    "    J1 = getvalue(sum(p.*df[:,4]))  # Projected Points\n",
    "    J2 = getvalue(sum(p.*df[:,5]))  # Sum of ownership percentages\n",
    "    pp = getvalue(p)                # Indicator player vector\n",
    "    \n",
    "    return(J1,J2, pp)\n",
    "end;"
   ]
  },
  {
   "cell_type": "markdown",
   "metadata": {},
   "source": [
    "### 3B. Season Model"
   ]
  },
  {
   "cell_type": "code",
   "execution_count": 8,
   "metadata": {},
   "outputs": [],
   "source": [
    "using JuMP, DataFrames\n",
    "\n",
    "function seasonModel(transCost, QBlimit, RBlimit, TElimit, WRlimit, FXlimit, seasonCap, weeklyCap, raw)\n",
    "    \n",
    "    pts = raw[:,4:13]       # Columns that contain projected point values\n",
    "    cost = raw[:,24:33]     # Columns that contain salary values\n",
    "    N = size(raw)[1]        # Number of players from data\n",
    "    M = size(pts)[2]        # Number of weeks in the season\n",
    "\n",
    "    QBindicies = find(raw[:,2].==\"QB\")    # Rows containing QB's\n",
    "    RBindicies = find(raw[:,2].==\"RB\")    # Rows containing RB's\n",
    "    WRindicies = find(raw[:,2].==\"WR\")    # Rows containing WR's\n",
    "    TEindicies = find(raw[:,2].==\"TE\")    # Rows containing TE's\n",
    "    \n",
    "    m = Model()\n",
    "    @variable(m, p[1:N,1:M], Bin)           # Indicator matrix:  1-select player for that week, 2-don't\n",
    "    @variable(m, z[1:N,1:M-1], Bin)         # Indicator matrix:  1-transaction, 2-no transaction\n",
    "    @constraint(m, sum{p[i,j]*cost[i,j], i=1:N, j=1:M} <= seasonCap)                 # Total season salary constraint\n",
    "    for j = 1:M\n",
    "        @constraint(m, sum{p[i,j]*cost[i,j], i=1:N} <= weeklyCap)                    # Weekly slary constraint\n",
    "        @constraint(m, sum{p[i,j], i = QBindicies} == QBlimit)                       # QB limit constraint\n",
    "        @constraint(m, RBlimit <= sum{p[i,j], i = RBindicies} <= RBlimit + FXlimit)  # RB limit constraint\n",
    "        @constraint(m, TElimit <= sum{p[i,j], i = TEindicies} <= TElimit + FXlimit)  # TE limit constraint\n",
    "        @constraint(m, WRlimit <= sum{p[i,j], i = WRindicies} <= WRlimit + FXlimit)  # WR limit constraint\n",
    "        # Flex player limit constraint\n",
    "        @constraint(m, sum{p[i,j], i = [RBindicies; TEindicies; WRindicies]} == RBlimit+TElimit+WRlimit+FXlimit)\n",
    "\n",
    "    end\n",
    "    \n",
    "    # Record if transaction occurred, aka if player was selected one week but not for an adjacent week\n",
    "    for i = 1:N\n",
    "        for j = 1:M-1\n",
    "            @constraint(m, p[i,j+1]-p[i,j] <= z[i,j])\n",
    "            @constraint(m, p[i,j+1]-p[i,j] >= -z[i,j])\n",
    "        end\n",
    "    end\n",
    "    \n",
    "    # Maximize projected points but minimize tranactions\n",
    "    @objective(m, Max, sum{p[i,j]*pts[i,j], i=1:N, j=1:M} - transCost*sum{z[i,j], i=1:N, j=1:M-1})\n",
    "\n",
    "    solve(m);\n",
    "    J1=0                                    # Total projected points\n",
    "    for i=1:N\n",
    "        for j=1:M\n",
    "            J1=J1+getvalue(p[i,j])*pts[i,j]\n",
    "        end\n",
    "    end\n",
    "    J2 = getvalue(sum(z)/2)                # Total transactions\n",
    "    pp = getvalue(p)                       # Player indicator matrix\n",
    "    zz = getvalue(z)                       # Transaction indicator matrix\n",
    "    return(J1,J2,pp,zz,pts,cost)\n",
    "end;"
   ]
  },
  {
   "cell_type": "markdown",
   "metadata": {},
   "source": [
    "## 4. Results and Discussion"
   ]
  },
  {
   "cell_type": "markdown",
   "metadata": {},
   "source": [
    "### 4A. Weekly Model Results\n",
    "Note: Be sure to run the [weekly model](#3A.-Weekly-Model) first"
   ]
  },
  {
   "cell_type": "markdown",
   "metadata": {},
   "source": [
    "#### Parameters\n",
    "\n",
    "Week - Valid weeks include 1 to 10.  However, the data used for these weeks was gathered form 2015 weeks 3,5 through 10, 12, 13, and 15\n",
    "\n",
    "Tradeoff - Increase the tradeoff parameter by factors of 10 to see the effect of ownership percentage on the optimal roster.  Unfortunately, due to data limitations, there are generally only 2 or 3 optimal rosters no matter what the parameter is set at\n",
    "\n",
    "Position limits - Must be greater than or equal to 0.  Increasing the position limits will give more variety in output when changing other parameters.  However, due to lack of data, increasing these parameters past 4 or 5 will not provide any more variety in results.\n",
    "\n",
    "Team limit - Must be greater than or equal to 1.\n",
    "\n",
    "Salary Cap - We advise that salary cap should be at least greater than or equal to 4,000 times the number of players required to fill the roster.  Even at 4,000 per player, infeasibility is possible.\n",
    "\n",
    "#### Adjust your parameters here:"
   ]
  },
  {
   "cell_type": "code",
   "execution_count": 3,
   "metadata": {},
   "outputs": [],
   "source": [
    "using DataFrames\n",
    "\n",
    "# Choose Data Set\n",
    "trial = \"PritzlColla_trial.csv\"           # will only work for weeks 1 and 2\n",
    "full = \"PritzlColla_full.csv\"\n",
    "chosenData = full\n",
    "\n",
    "raw = DataFrame(readtable(chosenData, header = true));\n",
    "\n",
    "# Pick week\n",
    "week = 2\n",
    "\n",
    "# Tradeoff parameter\n",
    "λ = 10^3;\n",
    "\n",
    "# Amount of players per position\n",
    "QBlimit = 1;\n",
    "RBlimit = 2;\n",
    "TElimit = 1;\n",
    "WRlimit = 2;\n",
    "FXlimit = 1;\n",
    "\n",
    "# Max amount of players from the same team\n",
    "TMlimit = 2;\n",
    "\n",
    "# Salary cap for the week\n",
    "salaryCap = 28000;"
   ]
  },
  {
   "cell_type": "code",
   "execution_count": 4,
   "metadata": {},
   "outputs": [
    {
     "data": {
      "text/html": [
       "<table class=\"data-frame\"><tr><th></th><th>Player</th><th>Position</th><th>Team</th><th>Projection</th><th>Ownership</th><th>Salary</th></tr><tr><th>1</th><td>Josh McCown</td><td>QB</td><td>CLE</td><td>16.9</td><td>0.019</td><td>5100</td></tr><tr><th>2</th><td>Dion Lewis</td><td>RB</td><td>NE</td><td>13.9</td><td>0.033</td><td>4800</td></tr><tr><th>3</th><td>Todd Gurley</td><td>RB</td><td>STL</td><td>14.5</td><td>0.033</td><td>4300</td></tr><tr><th>4</th><td>Scott Chandler</td><td>TE</td><td>NE</td><td>2.4</td><td>0.02</td><td>2500</td></tr><tr><th>5</th><td>Garrett Graham</td><td>TE</td><td>HOU</td><td>2.4</td><td>0.02</td><td>2500</td></tr><tr><th>6</th><td>Travis Benjamin</td><td>WR</td><td>SD</td><td>11.8</td><td>0.063</td><td>4500</td></tr><tr><th>7</th><td>Terrance Williams</td><td>WR</td><td>DAL</td><td>11.8</td><td>0.063</td><td>4300</td></tr><tr><th>8</th><td>Totals</td><td></td><td></td><td>73.7</td><td>3.285e-11</td><td>28000</td></tr></table>"
      ],
      "text/plain": [
       "8×6 DataFrames.DataFrame\n",
       "│ Row │ Player              │ Position │ Team  │ Projection │ Ownership │\n",
       "├─────┼─────────────────────┼──────────┼───────┼────────────┼───────────┤\n",
       "│ 1   │ \"Josh McCown\"       │ \"QB\"     │ \"CLE\" │ 16.9       │ 0.019     │\n",
       "│ 2   │ \"Dion Lewis\"        │ \"RB\"     │ \"NE\"  │ 13.9       │ 0.033     │\n",
       "│ 3   │ \"Todd Gurley\"       │ \"RB\"     │ \"STL\" │ 14.5       │ 0.033     │\n",
       "│ 4   │ \"Scott Chandler\"    │ \"TE\"     │ \"NE\"  │ 2.4        │ 0.02      │\n",
       "│ 5   │ \"Garrett Graham\"    │ \"TE\"     │ \"HOU\" │ 2.4        │ 0.02      │\n",
       "│ 6   │ \"Travis Benjamin\"   │ \"WR\"     │ \"SD\"  │ 11.8       │ 0.063     │\n",
       "│ 7   │ \"Terrance Williams\" │ \"WR\"     │ \"DAL\" │ 11.8       │ 0.063     │\n",
       "│ 8   │ \"Totals\"            │ \"\"       │ \"\"    │ 73.7       │ 3.285e-11 │\n",
       "\n",
       "│ Row │ Salary │\n",
       "├─────┼────────┤\n",
       "│ 1   │ 5100   │\n",
       "│ 2   │ 4800   │\n",
       "│ 3   │ 4300   │\n",
       "│ 4   │ 2500   │\n",
       "│ 5   │ 2500   │\n",
       "│ 6   │ 4500   │\n",
       "│ 7   │ 4300   │\n",
       "│ 8   │ 28000  │"
      ]
     },
     "execution_count": 4,
     "metadata": {},
     "output_type": "execute_result"
    }
   ],
   "source": [
    "using JuMP\n",
    "\n",
    "df = raw[:,[1:3;week+3;week+13;week+23]]       # Dataframe for chosen week\n",
    "M = QBlimit+RBlimit+TElimit+WRlimit+FXlimit    # Number of players to fill roster\n",
    "\n",
    "# Run weekly model\n",
    "(J1, J2, xopt) = weeklyModel(λ, QBlimit, RBlimit, TElimit, WRlimit, FXlimit, TMlimit, salaryCap, week, df)\n",
    "\n",
    "# Initialize data frame containing solution\n",
    "soln = DataFrame(Player = UTF8String[], Position = UTF8String[], Team = UTF8String[], \n",
    "                        Projection = Float64[], Ownership = Float64[], Salary = Int64[])\n",
    "for i = 1:length(xopt)\n",
    "    if xopt[i]==1\n",
    "        push!(soln, [df[i,1] df[i,2] df[i,3] df[i,4] df[i,5] df[i,6]])   # Add to dataframe if player is selected\n",
    "    end\n",
    "end\n",
    "\n",
    "# Add total row (Note: Ownership is shown as the product, not the sum, but the sum is ued in the model)\n",
    "push!(soln, [\"Totals\", \"\", \"\", round(sum(soln[:,4]),3), round(prod(soln[:,5]),2*M), sum(soln[:,6])])\n",
    "\n",
    "# Display optimal roster\n",
    "soln"
   ]
  },
  {
   "cell_type": "markdown",
   "metadata": {},
   "source": [
    "### 4B. Tradeoff Curve:  Points vs Ownership"
   ]
  },
  {
   "cell_type": "code",
   "execution_count": 5,
   "metadata": {},
   "outputs": [
    {
     "data": {
      "image/png": "[encoded data removed]",
      "text/plain": [
       "PyPlot.Figure(PyObject <matplotlib.figure.Figure object at 0x000000001A31CE48>)"
      ]
     },
     "metadata": {},
     "output_type": "display_data"
    }
   ],
   "source": [
    "using PyPlot\n",
    "\n",
    "Npts = 10                 # Number of points to be tested\n",
    "J1 = zeros(Npts)          # Vector containing projected points\n",
    "J2 = zeros(Npts)          # Vector containing sum of ownership percentages\n",
    "pp = zeros(size(raw)[1], Npts)         # Player indicator vectors\n",
    "\n",
    "# Run weekly model for each test point\n",
    "for (i,λ) in enumerate(logspace(1,15,Npts))\n",
    "    (J1[i],J2[i],pp[:,i]) = weeklyModel(λ, QBlimit, RBlimit, TElimit, WRlimit, FXlimit, TMlimit, salaryCap, week, df)\n",
    "end;\n",
    "\n",
    "# Plot tradeoff curve\n",
    "figure(figsize=(8,4))\n",
    "plot( J1, J2, \"b.-\" )\n",
    "xlabel(L\"J_1\\, (\\sf Point\\, Projection)\")\n",
    "ylabel(L\"J_2\\, (\\sf Ownership\\, Percentage)\");\n"
   ]
  },
  {
   "cell_type": "markdown",
   "metadata": {},
   "source": [
    "#### Discussion of Results\n",
    "\n",
    "The weekly model optimizer provides a roster that best utilizes the available players given player projections, salary, and ownership percentage for a given week.  The projected point total increases with salary, number of players allowed from a unique team, and number of players at each position.  Introducing more flex positions will increase the projected points more than increasing a specific position.\n",
    "\n",
    "   The point total decreases with an increase in the tradeoff parameter for salary, as expected.  This tradeoff is plotted here.  One hopes to attain the highest point total and lowest ownership percentage, making the bottom right of the graph most desirable.  Unfortunately, with the data attained, not many points are shown on the graph.  Making the salary constraints looser and increasing the position limits will give a few more points.  As expected, there is an upward sloping curve or line representing the tradeoff from low points and ownership percentage, to high points and ownership percentage.\n",
    "\n",
    "   Below is a link to the adjustable parameters.  I encourage you to play around with them and observe the effects described above.\n",
    "\n",
    "[Adjust Parameters](#4A.-Weekly-Model-Results)"
   ]
  },
  {
   "cell_type": "markdown",
   "metadata": {},
   "source": [
    "### 4C. Season Model Results\n",
    "Note: Be sure to run the [season model](#3B.-Season-Model) first"
   ]
  },
  {
   "cell_type": "markdown",
   "metadata": {},
   "source": [
    "#### Parameters\n",
    "\n",
    "Salary Caps - We advise that weekly salary cap should be greater than or equal to 4000 times the number of players required to fill the roster.  In order for the season cap to be relevant, make it less than 10 times the weekly cap.  However, making it significantly less than the weekly cap can eliminate the effects of the weekly cap or result in infeasibility.  Relaxing salary constraints will show a better tradeoff between points and transactions.\n",
    "\n",
    "Tradeoff Parameter - Transaction cost must be greater than or equal to 0 and may be a decimal.  Varying transaction cost from 0 to 10 provides a good variety of linups and transaction sequences, as shown by the tradeoff plot.\n",
    "\n",
    "Position limits - Must be greater than or equal to 0.  Increasing the position limits will give more variety in output when changing other parameters.  However, increasing the total number of players will increase the time it takes to optimize.  For the tradeoff plot, we suggest that total players should not exceed 12.\n",
    "\n",
    "#### Adjust your parameters here:"
   ]
  },
  {
   "cell_type": "code",
   "execution_count": 6,
   "metadata": {
    "collapsed": true
   },
   "outputs": [],
   "source": [
    "using DataFrames\n",
    "\n",
    "# Choose Data Set\n",
    "trial = \"PritzlColla_trial.csv\"\n",
    "full = \"PritzlColla_full.csv\"\n",
    "chosenData = full\n",
    "\n",
    "raw = DataFrame(readtable(chosenData, header = true));\n",
    "\n",
    "# Season Model Salary Caps\n",
    "seasonCap = 280000;\n",
    "weeklyCap = 30000;\n",
    "\n",
    "# Tradeoff Parameter\n",
    "transCost=3;\n",
    "\n",
    "# Amount of Players for each Position\n",
    "QBlimit = 1;\n",
    "RBlimit = 2;\n",
    "TElimit = 1;\n",
    "WRlimit = 2;\n",
    "FXlimit = 1;"
   ]
  },
  {
   "cell_type": "code",
   "execution_count": 9,
   "metadata": {},
   "outputs": [
    {
     "data": {
      "text/html": [
       "<table class=\"data-frame\"><tr><th></th><th>Player</th><th>Position</th><th>Team</th></tr><tr><th>1</th><td>Ryan Mallett</td><td>QB</td><td>HOU</td></tr><tr><th>2</th><td>Frank Gore</td><td>RB</td><td>IND</td></tr><tr><th>3</th><td>LeGarrette Blount</td><td>RB</td><td>NE</td></tr><tr><th>4</th><td>Zach Ertz</td><td>TE</td><td>PHI</td></tr><tr><th>5</th><td>Scott Chandler</td><td>TE</td><td>NE</td></tr><tr><th>6</th><td>Travis Benjamin</td><td>WR</td><td>SD</td></tr><tr><th>7</th><td>Nate Washington</td><td>WR</td><td>NE</td></tr></table>"
      ],
      "text/plain": [
       "7×3 DataFrames.DataFrame\n",
       "│ Row │ Player              │ Position │ Team  │\n",
       "├─────┼─────────────────────┼──────────┼───────┤\n",
       "│ 1   │ \"Ryan Mallett\"      │ \"QB\"     │ \"HOU\" │\n",
       "│ 2   │ \"Frank Gore\"        │ \"RB\"     │ \"IND\" │\n",
       "│ 3   │ \"LeGarrette Blount\" │ \"RB\"     │ \"NE\"  │\n",
       "│ 4   │ \"Zach Ertz\"         │ \"TE\"     │ \"PHI\" │\n",
       "│ 5   │ \"Scott Chandler\"    │ \"TE\"     │ \"NE\"  │\n",
       "│ 6   │ \"Travis Benjamin\"   │ \"WR\"     │ \"SD\"  │\n",
       "│ 7   │ \"Nate Washington\"   │ \"WR\"     │ \"NE\"  │"
      ]
     },
     "execution_count": 9,
     "metadata": {},
     "output_type": "execute_result"
    }
   ],
   "source": [
    "using JuMP\n",
    "\n",
    "# Run season model for given parameters\n",
    "(J1, J2, xopt, zopt, pts, cost) = seasonModel(transCost, QBlimit, RBlimit, TElimit, WRlimit, FXlimit, seasonCap, weeklyCap, raw)\n",
    "N = size(xopt)[1]     # Number of players in roster\n",
    "M = size(xopt)[2]     # Number of weeks\n",
    "\n",
    "# Create week 1 roster data frame\n",
    "start = DataFrame(Player = UTF8String[], Position = UTF8String[], Team = UTF8String[])\n",
    "\n",
    "for i = 1:N\n",
    "    if xopt[i,1]==1\n",
    "        push!(start, [raw[i,1] raw[i,2] raw[i,3]])\n",
    "    end\n",
    "end\n",
    "\n",
    "# Display week 1 roster\n",
    "start"
   ]
  },
  {
   "cell_type": "code",
   "execution_count": 10,
   "metadata": {},
   "outputs": [
    {
     "data": {
      "text/html": [
       "<table class=\"data-frame\"><tr><th></th><th>Week</th><th>Projection</th><th>Salary</th><th>Transactions</th></tr><tr><th>1</th><td>1</td><td>58.94</td><td>26300</td><td>0</td></tr><tr><th>2</th><td>2</td><td>69.9</td><td>28400</td><td>1</td></tr><tr><th>3</th><td>3</td><td>73.42</td><td>28400</td><td>2</td></tr><tr><th>4</th><td>4</td><td>80.88</td><td>29800</td><td>1</td></tr><tr><th>5</th><td>5</td><td>72.28</td><td>26900</td><td>2</td></tr><tr><th>6</th><td>6</td><td>72.98</td><td>27500</td><td>0</td></tr><tr><th>7</th><td>7</td><td>74.4</td><td>28700</td><td>2</td></tr><tr><th>8</th><td>8</td><td>82.36</td><td>29900</td><td>2</td></tr><tr><th>9</th><td>9</td><td>78.18</td><td>29500</td><td>0</td></tr><tr><th>10</th><td>10</td><td>31.8</td><td>24500</td><td>0</td></tr></table>"
      ],
      "text/plain": [
       "10×4 DataFrames.DataFrame\n",
       "│ Row │ Week │ Projection │ Salary │ Transactions │\n",
       "├─────┼──────┼────────────┼────────┼──────────────┤\n",
       "│ 1   │ 1    │ 58.94      │ 26300  │ 0            │\n",
       "│ 2   │ 2    │ 69.9       │ 28400  │ 1            │\n",
       "│ 3   │ 3    │ 73.42      │ 28400  │ 2            │\n",
       "│ 4   │ 4    │ 80.88      │ 29800  │ 1            │\n",
       "│ 5   │ 5    │ 72.28      │ 26900  │ 2            │\n",
       "│ 6   │ 6    │ 72.98      │ 27500  │ 0            │\n",
       "│ 7   │ 7    │ 74.4       │ 28700  │ 2            │\n",
       "│ 8   │ 8    │ 82.36      │ 29900  │ 2            │\n",
       "│ 9   │ 9    │ 78.18      │ 29500  │ 0            │\n",
       "│ 10  │ 10   │ 31.8       │ 24500  │ 0            │"
      ]
     },
     "execution_count": 10,
     "metadata": {},
     "output_type": "execute_result"
    }
   ],
   "source": [
    "# Create Summary Table\n",
    "summary = DataFrame(Week = Int64[], Projection = Float64[], Salary = Int64[], Transactions = Int64[])\n",
    "\n",
    "points = zeros(M)         # Vector of projected points for each week\n",
    "salary = zeros(M)         # Vector of salary for each week\n",
    "transactions = zeros(M)   # Vector of transactions for each week\n",
    "for i = 1:N\n",
    "    for j = 2:M\n",
    "        transactions[j] = transactions[j] + .5*zopt[i,j-1]     # Take half since each transaction is counted twice\n",
    "    end\n",
    "end\n",
    "for j = 1:M\n",
    "    for i = 1:N\n",
    "        if xopt[i,j]==1\n",
    "            points[j] = points[j] + pts[i,j]\n",
    "            salary[j] = salary[j] + cost[i,j]\n",
    "        end\n",
    "    end\n",
    "end\n",
    "for j = 1:M\n",
    "    push!(summary, [j round(points[j],3) salary[j] transactions[j]])\n",
    "end\n",
    "\n",
    "# Display summary\n",
    "summary"
   ]
  },
  {
   "cell_type": "code",
   "execution_count": 11,
   "metadata": {},
   "outputs": [
    {
     "data": {
      "text/html": [
       "<table class=\"data-frame\"><tr><th></th><th>AddPlayer</th><th>AddPos</th><th>AddTeam</th><th>Week</th><th>DropPlayer</th><th>DropPos</th><th>DropTeam</th></tr><tr><th>1</th><td>Leonard Hankerson</td><td>WR</td><td>ATL</td><td>2</td><td>Nate Washington</td><td>WR</td><td>NE</td></tr><tr><th>2</th><td>Ryan Fitzpatrick</td><td>QB</td><td>NYJ</td><td>3</td><td>Ryan Mallett</td><td>QB</td><td>HOU</td></tr><tr><th>3</th><td>Mike Wallace</td><td>WR</td><td>MIN</td><td>3</td><td>Travis Benjamin</td><td>WR</td><td>SD</td></tr><tr><th>4</th><td>Jonathan Stewart</td><td>RB</td><td>CAR</td><td>4</td><td>Zach Ertz</td><td>TE</td><td>PHI</td></tr><tr><th>5</th><td>Heath Miller</td><td>TE</td><td>PIT</td><td>5</td><td>Frank Gore</td><td>RB</td><td>IND</td></tr><tr><th>6</th><td>Malcom Floyd</td><td>WR</td><td>SD</td><td>5</td><td>Leonard Hankerson</td><td>WR</td><td>ATL</td></tr><tr><th>7</th><td>Zach Ertz</td><td>TE</td><td>PHI</td><td>7</td><td>Heath Miller</td><td>TE</td><td>PIT</td></tr><tr><th>8</th><td>Travis Benjamin</td><td>WR</td><td>SD</td><td>7</td><td>Malcom Floyd</td><td>WR</td><td>SD</td></tr><tr><th>9</th><td>Coby Fleener</td><td>TE</td><td>IND</td><td>8</td><td>Zach Ertz</td><td>TE</td><td>PHI</td></tr><tr><th>10</th><td>Nate Washington</td><td>WR</td><td>NE</td><td>8</td><td>Mike Wallace</td><td>WR</td><td>MIN</td></tr></table>"
      ],
      "text/plain": [
       "10×7 DataFrames.DataFrame\n",
       "│ Row │ AddPlayer           │ AddPos │ AddTeam │ Week │ DropPlayer          │\n",
       "├─────┼─────────────────────┼────────┼─────────┼──────┼─────────────────────┤\n",
       "│ 1   │ \"Leonard Hankerson\" │ \"WR\"   │ \"ATL\"   │ 2    │ \"Nate Washington\"   │\n",
       "│ 2   │ \"Ryan Fitzpatrick\"  │ \"QB\"   │ \"NYJ\"   │ 3    │ \"Ryan Mallett\"      │\n",
       "│ 3   │ \"Mike Wallace\"      │ \"WR\"   │ \"MIN\"   │ 3    │ \"Travis Benjamin\"   │\n",
       "│ 4   │ \"Jonathan Stewart\"  │ \"RB\"   │ \"CAR\"   │ 4    │ \"Zach Ertz\"         │\n",
       "│ 5   │ \"Heath Miller\"      │ \"TE\"   │ \"PIT\"   │ 5    │ \"Frank Gore\"        │\n",
       "│ 6   │ \"Malcom Floyd\"      │ \"WR\"   │ \"SD\"    │ 5    │ \"Leonard Hankerson\" │\n",
       "│ 7   │ \"Zach Ertz\"         │ \"TE\"   │ \"PHI\"   │ 7    │ \"Heath Miller\"      │\n",
       "│ 8   │ \"Travis Benjamin\"   │ \"WR\"   │ \"SD\"    │ 7    │ \"Malcom Floyd\"      │\n",
       "│ 9   │ \"Coby Fleener\"      │ \"TE\"   │ \"IND\"   │ 8    │ \"Zach Ertz\"         │\n",
       "│ 10  │ \"Nate Washington\"   │ \"WR\"   │ \"NE\"    │ 8    │ \"Mike Wallace\"      │\n",
       "\n",
       "│ Row │ DropPos │ DropTeam │\n",
       "├─────┼─────────┼──────────┤\n",
       "│ 1   │ \"WR\"    │ \"NE\"     │\n",
       "│ 2   │ \"QB\"    │ \"HOU\"    │\n",
       "│ 3   │ \"WR\"    │ \"SD\"     │\n",
       "│ 4   │ \"TE\"    │ \"PHI\"    │\n",
       "│ 5   │ \"RB\"    │ \"IND\"    │\n",
       "│ 6   │ \"WR\"    │ \"ATL\"    │\n",
       "│ 7   │ \"TE\"    │ \"PIT\"    │\n",
       "│ 8   │ \"WR\"    │ \"SD\"     │\n",
       "│ 9   │ \"TE\"    │ \"PHI\"    │\n",
       "│ 10  │ \"WR\"    │ \"MIN\"    │"
      ]
     },
     "execution_count": 11,
     "metadata": {},
     "output_type": "execute_result"
    }
   ],
   "source": [
    "# Create Transaction List\n",
    "translist = DataFrame(AddPlayer = UTF8String[], AddPos = UTF8String[], AddTeam = UTF8String[],\n",
    "    Week = Int64[], DropPlayer = UTF8String[], DropPos = UTF8String[], DropTeam = UTF8String[])\n",
    "\n",
    "addrow = Int64[]      # Players that are added at some point during the season\n",
    "droprow = Int64[]     # Players that are dropped at some point during the season\n",
    "transcol = Int64[]    # Week of a particular transaction\n",
    "for j = 2:M\n",
    "    for i = 1:N\n",
    "        if xopt[i,j]-xopt[i,j-1] == 1         # If player is added\n",
    "            push!(addrow, i)                  # Add row index to addrow vector\n",
    "            push!(transcol, j)                # Add column index to transcol vector\n",
    "        elseif xopt[i,j]-xopt[i,j-1] == -1    # If player is dropped\n",
    "            push!(droprow, i)                 # Add row index to droprow vector\n",
    "        end\n",
    "    end\n",
    "end\n",
    "for i=1:length(addrow)    # For each transaction, record name, position, team, and week of added and dropped player\n",
    "    push!(translist, [raw[addrow[i], 1], raw[addrow[i], 2], raw[addrow[i], 3],\n",
    "        transcol[i], raw[droprow[i], 1], raw[droprow[i], 2], raw[droprow[i], 3]])\n",
    "end\n",
    "\n",
    "# Display transaction list\n",
    "translist"
   ]
  },
  {
   "cell_type": "markdown",
   "metadata": {},
   "source": [
    "### 4D. Tradeoff Curve:  Points vs Transactions"
   ]
  },
  {
   "cell_type": "code",
   "execution_count": 12,
   "metadata": {},
   "outputs": [
    {
     "data": {
      "image/png": "[encoded data removed]",
      "text/plain": [
       "PyPlot.Figure(PyObject <matplotlib.figure.Figure object at 0x0000000029318240>)"
      ]
     },
     "metadata": {},
     "output_type": "display_data"
    }
   ],
   "source": [
    "using PyPlot\n",
    "\n",
    "testCosts=[.5,1,2,3,5,7]                  # Transaction costs to be tested\n",
    "J1 = zeros(length(testCosts))             # Vector of projected points\n",
    "J2 = zeros(length(testCosts))             # Vector of transactions\n",
    "\n",
    "# Run season model for each test point\n",
    "for (i,λ) in enumerate(testCosts)\n",
    "    (J1[i],J2[i]) = seasonModel(testCosts[i], QBlimit, RBlimit, TElimit, WRlimit, FXlimit, seasonCap, weeklyCap, raw)\n",
    "end;\n",
    "\n",
    "# Plot tradeoff curve\n",
    "figure(figsize=(8,4))\n",
    "plot( J1, J2, \"b.-\" )\n",
    "xlabel(L\"J_1\\, (\\sf Point\\, Projection)\")\n",
    "ylabel(L\"J_2\\, (\\sf Transactions\\, Made)\");"
   ]
  },
  {
   "cell_type": "markdown",
   "metadata": {},
   "source": [
    "#### Discussion of Results\n",
    "\n",
    "The seasonal model optimizes a roster for each week of the season, given projected points and salary.  The output is split into three parts.  The first table shows the optimal week one lineup.  Next, a summary of the projected points and salary for each week’s lineup is shown.  Finally, a transaction table provides the transactions that are to be made to achieve optimality.\n",
    "\n",
    "Just as the weekly model suggests, the projected season points increase with an increase in salary and position limits. Adjusting salary can greatly change your weekly lineups and transactions.\n",
    "\n",
    "Projected points and transaction also have a positive relationship.  Ideally, one would like the highest projected points and the lowest transaction cost.  The tradeoff curve is plotted.  As expected, there is an upward sloping curve.  Each point on this curve is optimal.  It is up to the user to determine how much they want to spend on their team to achieve maximum points.\n",
    "\n",
    "Below is a link to the adjustable parameters.  I encourage you to play around with them and observe the effects described above.\n",
    "\n",
    "\n",
    "[Adjust Parameters](#4C.-Season-Model-Results)"
   ]
  },
  {
   "cell_type": "markdown",
   "metadata": {},
   "source": [
    "### 4E. Model Limitations and Further Improvements"
   ]
  },
  {
   "cell_type": "markdown",
   "metadata": {},
   "source": [
    "One limitation of these models is the quality of data.  Using these models effectively relies heavily on the quality of data being used.  Since the intent of this project was not to assess the data quality, the results serve no purpose other than to validate that the model is indeed working.  The proceedure for obtaining the data used in this reports is in [Appendix A](#Appendix-A:--Data)\n",
    "\n",
    "A simple improvement to the weekly model could be to introduce a standard deviation variable for each of the players.  Including this variable essentially makes each player act as an investment, and now the problem becomes quite similar to financial optimization, resulting in an efficient frontier of possible rosters.\n",
    "\n",
    "Further improvements for the weekly model can be made through the implementation of ownership percentages.  In order to truly capture the gains from knowing ownership percentages, a product should be included in the objective function rather than a sum.\n",
    "\n",
    "Another way of approaching the ownership percentage implementation problem is to create more than one tradeoff parameter for ownership percentages.  A user may want to minimize the chance that another competitor has 3 of the same players, rather than all of the same players.  Finding the ideal setting for these tradeoff parameters is another study in itself.\n",
    "\n",
    "This model could also be transformed into a combinatorial optimization problem where the user can attempt to maximize their chance of placing in a payout position.\n",
    "\n",
    "There are more variables beyond ownership percentage that can increase the chances of winning a fantasy league that are not considered here.  It is important to understand that these models are sound for their intended purpose, but require extensive reconstruction to be used for real world applications.\n"
   ]
  },
  {
   "cell_type": "markdown",
   "metadata": {},
   "source": [
    "## 5. Conclusion"
   ]
  },
  {
   "cell_type": "markdown",
   "metadata": {},
   "source": [
    "This report presents two models used to optimize a fantasy football roster in different scenarios.  We examined the tradeoff between points in salary though an adjustable parameter and hard constraint.  We also looked at the tradeoff between points and ownership percentage, as well as points and transaction cost.  However, as discussed previously, the model is only as good as the quality of data.  Optimizing a roster relies on three important variables:  points, salary, and ownership percentage.  In real world applications, salary is given, but points and ownership percentage are not.  Therefore, further regression research should be done to predict points and ownership percentage.  Better predictions lead to better data, ultimately ending in better results and returns. "
   ]
  },
  {
   "cell_type": "markdown",
   "metadata": {},
   "source": [
    "[Back to top](#Table-of-Contents)"
   ]
  },
  {
   "cell_type": "markdown",
   "metadata": {
    "collapsed": true
   },
   "source": [
    "### Appendix A:  Data\n",
    "\n",
    "Obtaining the full data set:\n",
    "\n",
    "Only weeks 3, 5 through 10, 12, 13, and 15 had data on ownership percentages.  Only the top 50 players from each position each week were available for free, so there was plenty of missing data.  We attempted to make proxies for the missing data so we could have a full data set.  Since the data is not the main concern of this project, we didn’t spend much time determining the best proxies.  For missing projections, salaries, and ownership percentages, we assigned the lowest value of their respective position (e.g. if a projection was missing for a quarterback and the lowest quarterback projection was 5.4 points, they were assigned 5.4 points).  Also, only the players that were significantly owned in week 3 were used as observations for simplicity.\n",
    "\n",
    "Making the trial data set:\n",
    "\n",
    "Only two players from each of two postions are used.  Two of the players are from the same team.  Only two weeks of data was made up.  The remaining weeks are filled in as 1 so that the dimensions line up."
   ]
  },
  {
   "cell_type": "markdown",
   "metadata": {},
   "source": [
    "\n",
    "\n"
   ]
  }
 ],
 "metadata": {
  "kernelspec": {
   "display_name": "Julia 0.6.2",
   "language": "julia",
   "name": "julia-0.6"
  },
  "language_info": {
   "file_extension": ".jl",
   "mimetype": "application/julia",
   "name": "julia",
   "version": "0.6.2"
  }
 },
 "nbformat": 4,
 "nbformat_minor": 1
}
