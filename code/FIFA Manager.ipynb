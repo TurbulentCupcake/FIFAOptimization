{
 "cells": [
  {
   "cell_type": "code",
   "execution_count": 1,
   "metadata": {
    "collapsed": true
   },
   "outputs": [
    {
     "name": "stderr",
     "output_type": "stream",
     "text": [
      "\u001b[1m\u001b[33mWARNING: \u001b[39m\u001b[22m\u001b[33mreadtable is deprecated, use CSV.read from the CSV package instead\u001b[39m\n",
      "Stacktrace:\n",
      " [1] \u001b[1mdepwarn\u001b[22m\u001b[22m\u001b[1m(\u001b[22m\u001b[22m::String, ::Symbol\u001b[1m)\u001b[22m\u001b[22m at \u001b[1m./deprecated.jl:70\u001b[22m\u001b[22m\n",
      " [2] \u001b[1m#readtable#233\u001b[22m\u001b[22m\u001b[1m(\u001b[22m\u001b[22m::Bool, ::Char, ::Array{Char,1}, ::Char, ::Array{String,1}, ::Array{String,1}, ::Array{String,1}, ::Bool, ::Int64, ::Array{Symbol,1}, ::Array{Any,1}, ::Bool, ::Char, ::Bool, ::Int64, ::Array{Int64,1}, ::Bool, ::Symbol, ::Bool, ::Bool, ::DataFrames.#readtable, ::String\u001b[1m)\u001b[22m\u001b[22m at \u001b[1m/home/adithya/.julia/v0.6/DataFrames/src/deprecated.jl:1050\u001b[22m\u001b[22m\n",
      " [3] \u001b[1mreadtable\u001b[22m\u001b[22m\u001b[1m(\u001b[22m\u001b[22m::String\u001b[1m)\u001b[22m\u001b[22m at \u001b[1m/home/adithya/.julia/v0.6/DataFrames/src/deprecated.jl:1050\u001b[22m\u001b[22m\n",
      " [4] \u001b[1minclude_string\u001b[22m\u001b[22m\u001b[1m(\u001b[22m\u001b[22m::String, ::String\u001b[1m)\u001b[22m\u001b[22m at \u001b[1m./loading.jl:522\u001b[22m\u001b[22m\n",
      " [5] \u001b[1minclude_string\u001b[22m\u001b[22m\u001b[1m(\u001b[22m\u001b[22m::Module, ::String, ::String\u001b[1m)\u001b[22m\u001b[22m at \u001b[1m/home/adithya/.julia/v0.6/Compat/src/Compat.jl:71\u001b[22m\u001b[22m\n",
      " [6] \u001b[1mexecute_request\u001b[22m\u001b[22m\u001b[1m(\u001b[22m\u001b[22m::ZMQ.Socket, ::IJulia.Msg\u001b[1m)\u001b[22m\u001b[22m at \u001b[1m/home/adithya/.julia/v0.6/IJulia/src/execute_request.jl:158\u001b[22m\u001b[22m\n",
      " [7] \u001b[1m(::Compat.#inner#17{Array{Any,1},IJulia.#execute_request,Tuple{ZMQ.Socket,IJulia.Msg}})\u001b[22m\u001b[22m\u001b[1m(\u001b[22m\u001b[22m\u001b[1m)\u001b[22m\u001b[22m at \u001b[1m/home/adithya/.julia/v0.6/Compat/src/Compat.jl:385\u001b[22m\u001b[22m\n",
      " [8] \u001b[1meventloop\u001b[22m\u001b[22m\u001b[1m(\u001b[22m\u001b[22m::ZMQ.Socket\u001b[1m)\u001b[22m\u001b[22m at \u001b[1m/home/adithya/.julia/v0.6/IJulia/src/eventloop.jl:8\u001b[22m\u001b[22m\n",
      " [9] \u001b[1m(::IJulia.##14#17)\u001b[22m\u001b[22m\u001b[1m(\u001b[22m\u001b[22m\u001b[1m)\u001b[22m\u001b[22m at \u001b[1m./task.jl:335\u001b[22m\u001b[22m\n",
      "while loading In[1], in expression starting on line 3\n"
     ]
    },
    {
     "data": {
      "text/html": [
       "<table class=\"data-frame\"><thead><tr><th></th><th>x</th><th>Name</th><th>Age</th><th>Photo</th><th>Nationality</th><th>Flag</th><th>Overall</th><th>Potential</th><th>Club</th><th>Club_Logo</th><th>Value</th><th>Wage</th><th>Special</th><th>Acceleration</th><th>Aggression</th><th>Agility</th><th>Balance</th><th>Ball_control</th><th>Composure</th><th>Crossing</th><th>Curve</th><th>Dribbling</th><th>Finishing</th><th>Free_kick_accuracy</th><th>GK_diving</th><th>GK_handling</th><th>GK_kicking</th><th>GK_positioning</th><th>GK_reflexes</th><th>Heading_accuracy</th><th>Interceptions</th><th>Jumping</th><th>Long_passing</th><th>Long_shots</th><th>Marking</th><th>Penalties</th><th>Positioning</th><th>Reactions</th><th>Short_passing</th><th>Shot_power</th><th>Sliding_tackle</th><th>Sprint_speed</th><th>Stamina</th><th>Standing_tackle</th><th>Strength</th><th>Vision</th><th>Volleys</th><th>CAM</th><th>CB</th><th>CDM</th><th>CF</th><th>CM</th><th>ID</th><th>LAM</th><th>LB</th><th>LCB</th><th>LCM</th><th>LDM</th><th>LF</th><th>LM</th><th>LS</th><th>LW</th><th>LWB</th><th>Preferred_Positions</th><th>RAM</th><th>RB</th><th>RCB</th><th>RCM</th><th>RDM</th><th>RF</th><th>RM</th><th>RS</th><th>RW</th><th>RWB</th><th>ST</th></tr></thead><tbody><tr><th>1</th><td>1</td><td>Cristiano Ronaldo</td><td>32</td><td>https://cdn.sofifa.org/48/18/players/20801.png</td><td>Portugal</td><td>https://cdn.sofifa.org/flags/38.png</td><td>94</td><td>94</td><td>Real Madrid CF</td><td>https://cdn.sofifa.org/24/18/teams/243.png</td><td>9.5e7</td><td>€565K</td><td>2228</td><td>89</td><td>63</td><td>89</td><td>63</td><td>93</td><td>95</td><td>85</td><td>81</td><td>91</td><td>94</td><td>76</td><td>7</td><td>11</td><td>15</td><td>14</td><td>11</td><td>88</td><td>29</td><td>95</td><td>77</td><td>92</td><td>22</td><td>85</td><td>95</td><td>96</td><td>83</td><td>94</td><td>23</td><td>91</td><td>92</td><td>31</td><td>80</td><td>85</td><td>88</td><td>89.0</td><td>53.0</td><td>62.0</td><td>91.0</td><td>82.0</td><td>20801.0</td><td>89.0</td><td>61.0</td><td>53.0</td><td>82.0</td><td>62.0</td><td>91.0</td><td>89.0</td><td>92.0</td><td>91.0</td><td>66.0</td><td>ST LW </td><td>89.0</td><td>61.0</td><td>53.0</td><td>82.0</td><td>62.0</td><td>91.0</td><td>89.0</td><td>92.0</td><td>91.0</td><td>66.0</td><td>92.0</td></tr><tr><th>2</th><td>2</td><td>L. Messi</td><td>30</td><td>https://cdn.sofifa.org/48/18/players/158023.png</td><td>Argentina</td><td>https://cdn.sofifa.org/flags/52.png</td><td>93</td><td>93</td><td>FC Barcelona</td><td>https://cdn.sofifa.org/24/18/teams/241.png</td><td>1.05e8</td><td>€565K</td><td>2154</td><td>92</td><td>48</td><td>90</td><td>95</td><td>95</td><td>96</td><td>77</td><td>89</td><td>97</td><td>95</td><td>90</td><td>6</td><td>11</td><td>15</td><td>14</td><td>8</td><td>71</td><td>22</td><td>68</td><td>87</td><td>88</td><td>13</td><td>74</td><td>93</td><td>95</td><td>88</td><td>85</td><td>26</td><td>87</td><td>73</td><td>28</td><td>59</td><td>90</td><td>85</td><td>92.0</td><td>45.0</td><td>59.0</td><td>92.0</td><td>84.0</td><td>158023.0</td><td>92.0</td><td>57.0</td><td>45.0</td><td>84.0</td><td>59.0</td><td>92.0</td><td>90.0</td><td>88.0</td><td>91.0</td><td>62.0</td><td>RW </td><td>92.0</td><td>57.0</td><td>45.0</td><td>84.0</td><td>59.0</td><td>92.0</td><td>90.0</td><td>88.0</td><td>91.0</td><td>62.0</td><td>88.0</td></tr><tr><th>3</th><td>3</td><td>Neymar</td><td>25</td><td>https://cdn.sofifa.org/48/18/players/190871.png</td><td>Brazil</td><td>https://cdn.sofifa.org/flags/54.png</td><td>92</td><td>94</td><td>Paris Saint-Germain</td><td>https://cdn.sofifa.org/24/18/teams/73.png</td><td>1.23e8</td><td>€280K</td><td>2100</td><td>94</td><td>56</td><td>96</td><td>82</td><td>95</td><td>92</td><td>75</td><td>81</td><td>96</td><td>89</td><td>84</td><td>9</td><td>9</td><td>15</td><td>15</td><td>11</td><td>62</td><td>36</td><td>61</td><td>75</td><td>77</td><td>21</td><td>81</td><td>90</td><td>88</td><td>81</td><td>80</td><td>33</td><td>90</td><td>78</td><td>24</td><td>53</td><td>80</td><td>83</td><td>88.0</td><td>46.0</td><td>59.0</td><td>88.0</td><td>79.0</td><td>190871.0</td><td>88.0</td><td>59.0</td><td>46.0</td><td>79.0</td><td>59.0</td><td>88.0</td><td>87.0</td><td>84.0</td><td>89.0</td><td>64.0</td><td>LW </td><td>88.0</td><td>59.0</td><td>46.0</td><td>79.0</td><td>59.0</td><td>88.0</td><td>87.0</td><td>84.0</td><td>89.0</td><td>64.0</td><td>84.0</td></tr><tr><th>4</th><td>4</td><td>L. Suárez</td><td>30</td><td>https://cdn.sofifa.org/48/18/players/176580.png</td><td>Uruguay</td><td>https://cdn.sofifa.org/flags/60.png</td><td>92</td><td>92</td><td>FC Barcelona</td><td>https://cdn.sofifa.org/24/18/teams/241.png</td><td>9.7e7</td><td>€510K</td><td>2291</td><td>88</td><td>78</td><td>86</td><td>60</td><td>91</td><td>83</td><td>77</td><td>86</td><td>86</td><td>94</td><td>84</td><td>27</td><td>25</td><td>31</td><td>33</td><td>37</td><td>77</td><td>41</td><td>69</td><td>64</td><td>86</td><td>30</td><td>85</td><td>92</td><td>93</td><td>83</td><td>87</td><td>38</td><td>77</td><td>89</td><td>45</td><td>80</td><td>84</td><td>88</td><td>87.0</td><td>58.0</td><td>65.0</td><td>88.0</td><td>80.0</td><td>176580.0</td><td>87.0</td><td>64.0</td><td>58.0</td><td>80.0</td><td>65.0</td><td>88.0</td><td>85.0</td><td>88.0</td><td>87.0</td><td>68.0</td><td>ST </td><td>87.0</td><td>64.0</td><td>58.0</td><td>80.0</td><td>65.0</td><td>88.0</td><td>85.0</td><td>88.0</td><td>87.0</td><td>68.0</td><td>88.0</td></tr><tr><th>5</th><td>5</td><td>M. Neuer</td><td>31</td><td>https://cdn.sofifa.org/48/18/players/167495.png</td><td>Germany</td><td>https://cdn.sofifa.org/flags/21.png</td><td>92</td><td>92</td><td>FC Bayern Munich</td><td>https://cdn.sofifa.org/24/18/teams/21.png</td><td>6.1e7</td><td>€230K</td><td>1493</td><td>58</td><td>29</td><td>52</td><td>35</td><td>48</td><td>70</td><td>15</td><td>14</td><td>30</td><td>13</td><td>11</td><td>91</td><td>90</td><td>95</td><td>91</td><td>89</td><td>25</td><td>30</td><td>78</td><td>59</td><td>16</td><td>10</td><td>47</td><td>12</td><td>85</td><td>55</td><td>25</td><td>11</td><td>61</td><td>44</td><td>10</td><td>83</td><td>70</td><td>11</td><td>0.0</td><td>0.0</td><td>0.0</td><td>0.0</td><td>0.0</td><td>167495.0</td><td>0.0</td><td>0.0</td><td>0.0</td><td>0.0</td><td>0.0</td><td>0.0</td><td>0.0</td><td>0.0</td><td>0.0</td><td>0.0</td><td>GK </td><td>0.0</td><td>0.0</td><td>0.0</td><td>0.0</td><td>0.0</td><td>0.0</td><td>0.0</td><td>0.0</td><td>0.0</td><td>0.0</td><td>0.0</td></tr><tr><th>6</th><td>6</td><td>R. Lewandowski</td><td>28</td><td>https://cdn.sofifa.org/48/18/players/188545.png</td><td>Poland</td><td>https://cdn.sofifa.org/flags/37.png</td><td>91</td><td>91</td><td>FC Bayern Munich</td><td>https://cdn.sofifa.org/24/18/teams/21.png</td><td>9.2e7</td><td>€355K</td><td>2143</td><td>79</td><td>80</td><td>78</td><td>80</td><td>89</td><td>87</td><td>62</td><td>77</td><td>85</td><td>91</td><td>84</td><td>15</td><td>6</td><td>12</td><td>8</td><td>10</td><td>85</td><td>39</td><td>84</td><td>65</td><td>83</td><td>25</td><td>81</td><td>91</td><td>91</td><td>83</td><td>88</td><td>19</td><td>83</td><td>79</td><td>42</td><td>84</td><td>78</td><td>87</td><td>84.0</td><td>57.0</td><td>62.0</td><td>87.0</td><td>78.0</td><td>188545.0</td><td>84.0</td><td>58.0</td><td>57.0</td><td>78.0</td><td>62.0</td><td>87.0</td><td>82.0</td><td>88.0</td><td>84.0</td><td>61.0</td><td>ST </td><td>84.0</td><td>58.0</td><td>57.0</td><td>78.0</td><td>62.0</td><td>87.0</td><td>82.0</td><td>88.0</td><td>84.0</td><td>61.0</td><td>88.0</td></tr><tr><th>7</th><td>7</td><td>De Gea</td><td>26</td><td>https://cdn.sofifa.org/48/18/players/193080.png</td><td>Spain</td><td>https://cdn.sofifa.org/flags/45.png</td><td>90</td><td>92</td><td>Manchester United</td><td>https://cdn.sofifa.org/24/18/teams/11.png</td><td>6.4e7</td><td>€215K</td><td>1458</td><td>57</td><td>38</td><td>60</td><td>43</td><td>42</td><td>64</td><td>17</td><td>21</td><td>18</td><td>13</td><td>19</td><td>90</td><td>85</td><td>87</td><td>86</td><td>90</td><td>21</td><td>30</td><td>67</td><td>51</td><td>12</td><td>13</td><td>40</td><td>12</td><td>88</td><td>50</td><td>31</td><td>13</td><td>58</td><td>40</td><td>21</td><td>64</td><td>68</td><td>13</td><td>0.0</td><td>0.0</td><td>0.0</td><td>0.0</td><td>0.0</td><td>193080.0</td><td>0.0</td><td>0.0</td><td>0.0</td><td>0.0</td><td>0.0</td><td>0.0</td><td>0.0</td><td>0.0</td><td>0.0</td><td>0.0</td><td>GK </td><td>0.0</td><td>0.0</td><td>0.0</td><td>0.0</td><td>0.0</td><td>0.0</td><td>0.0</td><td>0.0</td><td>0.0</td><td>0.0</td><td>0.0</td></tr><tr><th>8</th><td>8</td><td>E. Hazard</td><td>26</td><td>https://cdn.sofifa.org/48/18/players/183277.png</td><td>Belgium</td><td>https://cdn.sofifa.org/flags/7.png</td><td>90</td><td>91</td><td>Chelsea</td><td>https://cdn.sofifa.org/24/18/teams/5.png</td><td>9.0e7</td><td>€295K</td><td>2096</td><td>93</td><td>54</td><td>93</td><td>91</td><td>92</td><td>87</td><td>80</td><td>82</td><td>93</td><td>83</td><td>79</td><td>11</td><td>12</td><td>6</td><td>8</td><td>8</td><td>57</td><td>41</td><td>59</td><td>81</td><td>82</td><td>25</td><td>86</td><td>85</td><td>85</td><td>86</td><td>79</td><td>22</td><td>87</td><td>79</td><td>27</td><td>65</td><td>86</td><td>79</td><td>88.0</td><td>47.0</td><td>61.0</td><td>87.0</td><td>81.0</td><td>183277.0</td><td>88.0</td><td>59.0</td><td>47.0</td><td>81.0</td><td>61.0</td><td>87.0</td><td>87.0</td><td>82.0</td><td>88.0</td><td>64.0</td><td>LW </td><td>88.0</td><td>59.0</td><td>47.0</td><td>81.0</td><td>61.0</td><td>87.0</td><td>87.0</td><td>82.0</td><td>88.0</td><td>64.0</td><td>82.0</td></tr><tr><th>9</th><td>9</td><td>T. Kroos</td><td>27</td><td>https://cdn.sofifa.org/48/18/players/182521.png</td><td>Germany</td><td>https://cdn.sofifa.org/flags/21.png</td><td>90</td><td>90</td><td>Real Madrid CF</td><td>https://cdn.sofifa.org/24/18/teams/243.png</td><td>7.9e7</td><td>€340K</td><td>2165</td><td>60</td><td>60</td><td>71</td><td>69</td><td>89</td><td>85</td><td>85</td><td>85</td><td>79</td><td>76</td><td>84</td><td>10</td><td>11</td><td>13</td><td>7</td><td>10</td><td>54</td><td>85</td><td>32</td><td>93</td><td>90</td><td>63</td><td>73</td><td>79</td><td>86</td><td>90</td><td>87</td><td>69</td><td>52</td><td>77</td><td>82</td><td>74</td><td>88</td><td>82</td><td>83.0</td><td>72.0</td><td>82.0</td><td>81.0</td><td>87.0</td><td>182521.0</td><td>83.0</td><td>76.0</td><td>72.0</td><td>87.0</td><td>82.0</td><td>81.0</td><td>81.0</td><td>77.0</td><td>80.0</td><td>78.0</td><td>CDM CM </td><td>83.0</td><td>76.0</td><td>72.0</td><td>87.0</td><td>82.0</td><td>81.0</td><td>81.0</td><td>77.0</td><td>80.0</td><td>78.0</td><td>77.0</td></tr><tr><th>10</th><td>10</td><td>G. Higuaín</td><td>29</td><td>https://cdn.sofifa.org/48/18/players/167664.png</td><td>Argentina</td><td>https://cdn.sofifa.org/flags/52.png</td><td>90</td><td>90</td><td>Juventus</td><td>https://cdn.sofifa.org/24/18/teams/45.png</td><td>7.7e7</td><td>€275K</td><td>1961</td><td>78</td><td>50</td><td>75</td><td>69</td><td>85</td><td>86</td><td>68</td><td>74</td><td>84</td><td>91</td><td>62</td><td>5</td><td>12</td><td>7</td><td>5</td><td>10</td><td>86</td><td>20</td><td>79</td><td>59</td><td>82</td><td>12</td><td>70</td><td>92</td><td>88</td><td>75</td><td>88</td><td>18</td><td>80</td><td>72</td><td>22</td><td>85</td><td>70</td><td>88</td><td>81.0</td><td>46.0</td><td>52.0</td><td>84.0</td><td>71.0</td><td>167664.0</td><td>81.0</td><td>51.0</td><td>46.0</td><td>71.0</td><td>52.0</td><td>84.0</td><td>79.0</td><td>87.0</td><td>82.0</td><td>55.0</td><td>ST </td><td>81.0</td><td>51.0</td><td>46.0</td><td>71.0</td><td>52.0</td><td>84.0</td><td>79.0</td><td>87.0</td><td>82.0</td><td>55.0</td><td>87.0</td></tr><tr><th>11</th><td>11</td><td>Sergio Ramos</td><td>31</td><td>https://cdn.sofifa.org/48/18/players/155862.png</td><td>Spain</td><td>https://cdn.sofifa.org/flags/45.png</td><td>90</td><td>90</td><td>Real Madrid CF</td><td>https://cdn.sofifa.org/24/18/teams/243.png</td><td>5.2e7</td><td>€310K</td><td>2153</td><td>75</td><td>84</td><td>79</td><td>60</td><td>84</td><td>80</td><td>66</td><td>73</td><td>61</td><td>60</td><td>67</td><td>11</td><td>8</td><td>9</td><td>7</td><td>11</td><td>91</td><td>88</td><td>93</td><td>72</td><td>55</td><td>86</td><td>68</td><td>52</td><td>85</td><td>78</td><td>79</td><td>91</td><td>77</td><td>84</td><td>89</td><td>81</td><td>63</td><td>66</td><td>70.0</td><td>87.0</td><td>83.0</td><td>70.0</td><td>74.0</td><td>155862.0</td><td>70.0</td><td>84.0</td><td>87.0</td><td>74.0</td><td>83.0</td><td>70.0</td><td>71.0</td><td>72.0</td><td>69.0</td><td>81.0</td><td>CB </td><td>70.0</td><td>84.0</td><td>87.0</td><td>74.0</td><td>83.0</td><td>70.0</td><td>71.0</td><td>72.0</td><td>69.0</td><td>81.0</td><td>72.0</td></tr><tr><th>12</th><td>12</td><td>K. De Bruyne</td><td>26</td><td>https://cdn.sofifa.org/48/18/players/192985.png</td><td>Belgium</td><td>https://cdn.sofifa.org/flags/7.png</td><td>89</td><td>92</td><td>Manchester City</td><td>https://cdn.sofifa.org/24/18/teams/10.png</td><td>8.3e7</td><td>€285K</td><td>2162</td><td>76</td><td>68</td><td>80</td><td>75</td><td>87</td><td>84</td><td>90</td><td>83</td><td>85</td><td>83</td><td>83</td><td>15</td><td>13</td><td>5</td><td>10</td><td>13</td><td>53</td><td>56</td><td>65</td><td>84</td><td>86</td><td>30</td><td>77</td><td>84</td><td>88</td><td>90</td><td>85</td><td>40</td><td>75</td><td>87</td><td>51</td><td>73</td><td>90</td><td>82</td><td>86.0</td><td>57.0</td><td>70.0</td><td>85.0</td><td>84.0</td><td>192985.0</td><td>86.0</td><td>66.0</td><td>57.0</td><td>84.0</td><td>70.0</td><td>85.0</td><td>85.0</td><td>81.0</td><td>85.0</td><td>71.0</td><td>RM CM CAM </td><td>86.0</td><td>66.0</td><td>57.0</td><td>84.0</td><td>70.0</td><td>85.0</td><td>85.0</td><td>81.0</td><td>85.0</td><td>71.0</td><td>81.0</td></tr><tr><th>13</th><td>13</td><td>T. Courtois</td><td>25</td><td>https://cdn.sofifa.org/48/18/players/192119.png</td><td>Belgium</td><td>https://cdn.sofifa.org/flags/7.png</td><td>89</td><td>92</td><td>Chelsea</td><td>https://cdn.sofifa.org/24/18/teams/5.png</td><td>5.9e7</td><td>€190K</td><td>1282</td><td>46</td><td>23</td><td>61</td><td>45</td><td>23</td><td>52</td><td>14</td><td>19</td><td>13</td><td>14</td><td>11</td><td>85</td><td>91</td><td>69</td><td>86</td><td>88</td><td>13</td><td>15</td><td>68</td><td>31</td><td>17</td><td>11</td><td>27</td><td>13</td><td>81</td><td>32</td><td>36</td><td>16</td><td>52</td><td>38</td><td>18</td><td>70</td><td>44</td><td>12</td><td>0.0</td><td>0.0</td><td>0.0</td><td>0.0</td><td>0.0</td><td>192119.0</td><td>0.0</td><td>0.0</td><td>0.0</td><td>0.0</td><td>0.0</td><td>0.0</td><td>0.0</td><td>0.0</td><td>0.0</td><td>0.0</td><td>GK </td><td>0.0</td><td>0.0</td><td>0.0</td><td>0.0</td><td>0.0</td><td>0.0</td><td>0.0</td><td>0.0</td><td>0.0</td><td>0.0</td><td>0.0</td></tr><tr><th>14</th><td>14</td><td>A. Sánchez</td><td>28</td><td>https://cdn.sofifa.org/48/18/players/184941.png</td><td>Chile</td><td>https://cdn.sofifa.org/flags/55.png</td><td>89</td><td>89</td><td>Arsenal</td><td>https://cdn.sofifa.org/24/18/teams/1.png</td><td>6.7e7</td><td>€265K</td><td>2181</td><td>88</td><td>80</td><td>90</td><td>87</td><td>87</td><td>86</td><td>80</td><td>78</td><td>90</td><td>85</td><td>78</td><td>10</td><td>10</td><td>15</td><td>12</td><td>13</td><td>70</td><td>42</td><td>85</td><td>73</td><td>82</td><td>30</td><td>77</td><td>86</td><td>87</td><td>81</td><td>84</td><td>35</td><td>84</td><td>85</td><td>39</td><td>72</td><td>83</td><td>83</td><td>85.0</td><td>56.0</td><td>64.0</td><td>85.0</td><td>79.0</td><td>184941.0</td><td>85.0</td><td>62.0</td><td>56.0</td><td>79.0</td><td>64.0</td><td>85.0</td><td>85.0</td><td>83.0</td><td>86.0</td><td>66.0</td><td>RM LW ST LM </td><td>85.0</td><td>62.0</td><td>56.0</td><td>79.0</td><td>64.0</td><td>85.0</td><td>85.0</td><td>83.0</td><td>86.0</td><td>66.0</td><td>83.0</td></tr><tr><th>15</th><td>15</td><td>L. Modrić</td><td>31</td><td>https://cdn.sofifa.org/48/18/players/177003.png</td><td>Croatia</td><td>https://cdn.sofifa.org/flags/10.png</td><td>89</td><td>89</td><td>Real Madrid CF</td><td>https://cdn.sofifa.org/24/18/teams/243.png</td><td>5.7e7</td><td>€340K</td><td>2228</td><td>75</td><td>62</td><td>93</td><td>94</td><td>92</td><td>84</td><td>78</td><td>79</td><td>86</td><td>71</td><td>77</td><td>13</td><td>9</td><td>7</td><td>14</td><td>9</td><td>55</td><td>76</td><td>67</td><td>83</td><td>82</td><td>66</td><td>80</td><td>79</td><td>88</td><td>92</td><td>73</td><td>73</td><td>71</td><td>82</td><td>80</td><td>58</td><td>90</td><td>74</td><td>86.0</td><td>72.0</td><td>80.0</td><td>83.0</td><td>86.0</td><td>177003.0</td><td>86.0</td><td>78.0</td><td>72.0</td><td>86.0</td><td>80.0</td><td>83.0</td><td>84.0</td><td>76.0</td><td>83.0</td><td>80.0</td><td>CDM CM </td><td>86.0</td><td>78.0</td><td>72.0</td><td>86.0</td><td>80.0</td><td>83.0</td><td>84.0</td><td>76.0</td><td>83.0</td><td>80.0</td><td>76.0</td></tr><tr><th>16</th><td>16</td><td>G. Bale</td><td>27</td><td>https://cdn.sofifa.org/48/18/players/173731.png</td><td>Wales</td><td>https://cdn.sofifa.org/flags/50.png</td><td>89</td><td>89</td><td>Real Madrid CF</td><td>https://cdn.sofifa.org/24/18/teams/243.png</td><td>6.9e7</td><td>€370K</td><td>2263</td><td>93</td><td>65</td><td>77</td><td>65</td><td>87</td><td>85</td><td>87</td><td>86</td><td>89</td><td>87</td><td>85</td><td>15</td><td>15</td><td>11</td><td>5</td><td>6</td><td>86</td><td>59</td><td>85</td><td>80</td><td>90</td><td>51</td><td>76</td><td>86</td><td>87</td><td>86</td><td>91</td><td>52</td><td>95</td><td>76</td><td>55</td><td>80</td><td>79</td><td>76</td><td>86.0</td><td>67.0</td><td>71.0</td><td>87.0</td><td>81.0</td><td>173731.0</td><td>86.0</td><td>72.0</td><td>67.0</td><td>81.0</td><td>71.0</td><td>87.0</td><td>87.0</td><td>87.0</td><td>87.0</td><td>74.0</td><td>RW </td><td>86.0</td><td>72.0</td><td>67.0</td><td>81.0</td><td>71.0</td><td>87.0</td><td>87.0</td><td>87.0</td><td>87.0</td><td>74.0</td><td>87.0</td></tr><tr><th>17</th><td>17</td><td>S. Agüero</td><td>29</td><td>https://cdn.sofifa.org/48/18/players/153079.png</td><td>Argentina</td><td>https://cdn.sofifa.org/flags/52.png</td><td>89</td><td>89</td><td>Manchester City</td><td>https://cdn.sofifa.org/24/18/teams/10.png</td><td>6.6e7</td><td>€325K</td><td>2074</td><td>90</td><td>63</td><td>86</td><td>91</td><td>89</td><td>90</td><td>70</td><td>82</td><td>89</td><td>90</td><td>72</td><td>13</td><td>15</td><td>6</td><td>11</td><td>14</td><td>68</td><td>24</td><td>80</td><td>63</td><td>83</td><td>13</td><td>83</td><td>91</td><td>89</td><td>79</td><td>88</td><td>12</td><td>84</td><td>74</td><td>20</td><td>74</td><td>83</td><td>85</td><td>85.0</td><td>44.0</td><td>54.0</td><td>87.0</td><td>75.0</td><td>153079.0</td><td>85.0</td><td>52.0</td><td>44.0</td><td>75.0</td><td>54.0</td><td>87.0</td><td>84.0</td><td>86.0</td><td>86.0</td><td>57.0</td><td>ST </td><td>85.0</td><td>52.0</td><td>44.0</td><td>75.0</td><td>54.0</td><td>87.0</td><td>84.0</td><td>86.0</td><td>86.0</td><td>57.0</td><td>86.0</td></tr><tr><th>18</th><td>18</td><td>G. Chiellini</td><td>32</td><td>https://cdn.sofifa.org/48/18/players/138956.png</td><td>Italy</td><td>https://cdn.sofifa.org/flags/27.png</td><td>89</td><td>89</td><td>Juventus</td><td>https://cdn.sofifa.org/24/18/teams/45.png</td><td>3.8e7</td><td>€225K</td><td>1867</td><td>68</td><td>92</td><td>59</td><td>64</td><td>57</td><td>82</td><td>58</td><td>60</td><td>58</td><td>33</td><td>31</td><td>3</td><td>3</td><td>2</td><td>4</td><td>3</td><td>84</td><td>88</td><td>89</td><td>59</td><td>49</td><td>92</td><td>50</td><td>28</td><td>82</td><td>59</td><td>78</td><td>90</td><td>78</td><td>68</td><td>92</td><td>91</td><td>50</td><td>45</td><td>55.0</td><td>86.0</td><td>76.0</td><td>55.0</td><td>60.0</td><td>138956.0</td><td>55.0</td><td>78.0</td><td>86.0</td><td>60.0</td><td>76.0</td><td>55.0</td><td>58.0</td><td>59.0</td><td>56.0</td><td>75.0</td><td>CB </td><td>55.0</td><td>78.0</td><td>86.0</td><td>60.0</td><td>76.0</td><td>55.0</td><td>58.0</td><td>59.0</td><td>56.0</td><td>75.0</td><td>59.0</td></tr><tr><th>19</th><td>19</td><td>G. Buffon</td><td>39</td><td>https://cdn.sofifa.org/48/18/players/1179.png</td><td>Italy</td><td>https://cdn.sofifa.org/flags/27.png</td><td>89</td><td>89</td><td>Juventus</td><td>https://cdn.sofifa.org/24/18/teams/45.png</td><td>4.0e6</td><td>€110K</td><td>1335</td><td>49</td><td>38</td><td>55</td><td>49</td><td>28</td><td>70</td><td>13</td><td>20</td><td>26</td><td>15</td><td>13</td><td>89</td><td>88</td><td>74</td><td>90</td><td>84</td><td>13</td><td>28</td><td>75</td><td>35</td><td>13</td><td>10</td><td>22</td><td>12</td><td>80</td><td>37</td><td>39</td><td>11</td><td>43</td><td>39</td><td>11</td><td>69</td><td>50</td><td>17</td><td>0.0</td><td>0.0</td><td>0.0</td><td>0.0</td><td>0.0</td><td>1179.0</td><td>0.0</td><td>0.0</td><td>0.0</td><td>0.0</td><td>0.0</td><td>0.0</td><td>0.0</td><td>0.0</td><td>0.0</td><td>0.0</td><td>GK </td><td>0.0</td><td>0.0</td><td>0.0</td><td>0.0</td><td>0.0</td><td>0.0</td><td>0.0</td><td>0.0</td><td>0.0</td><td>0.0</td><td>0.0</td></tr><tr><th>20</th><td>20</td><td>P. Dybala</td><td>23</td><td>https://cdn.sofifa.org/48/18/players/211110.png</td><td>Argentina</td><td>https://cdn.sofifa.org/flags/52.png</td><td>88</td><td>93</td><td>Juventus</td><td>https://cdn.sofifa.org/24/18/teams/45.png</td><td>7.9e7</td><td>€215K</td><td>2063</td><td>88</td><td>48</td><td>91</td><td>85</td><td>93</td><td>84</td><td>80</td><td>88</td><td>92</td><td>85</td><td>84</td><td>5</td><td>4</td><td>4</td><td>5</td><td>8</td><td>68</td><td>24</td><td>75</td><td>71</td><td>88</td><td>14</td><td>86</td><td>84</td><td>84</td><td>83</td><td>82</td><td>20</td><td>84</td><td>83</td><td>20</td><td>65</td><td>84</td><td>88</td><td>86.0</td><td>43.0</td><td>55.0</td><td>86.0</td><td>78.0</td><td>211110.0</td><td>86.0</td><td>55.0</td><td>43.0</td><td>78.0</td><td>55.0</td><td>86.0</td><td>86.0</td><td>83.0</td><td>87.0</td><td>60.0</td><td>ST CAM </td><td>86.0</td><td>55.0</td><td>43.0</td><td>78.0</td><td>55.0</td><td>86.0</td><td>86.0</td><td>83.0</td><td>87.0</td><td>60.0</td><td>83.0</td></tr><tr><th>21</th><td>21</td><td>J. Oblak</td><td>24</td><td>https://cdn.sofifa.org/48/18/players/200389.png</td><td>Slovenia</td><td>https://cdn.sofifa.org/flags/44.png</td><td>88</td><td>93</td><td>Atlético Madrid</td><td>https://cdn.sofifa.org/24/18/teams/240.png</td><td>5.7e7</td><td>€82K</td><td>1290</td><td>43</td><td>34</td><td>67</td><td>49</td><td>16</td><td>55</td><td>13</td><td>13</td><td>12</td><td>11</td><td>14</td><td>84</td><td>90</td><td>77</td><td>87</td><td>84</td><td>15</td><td>19</td><td>76</td><td>26</td><td>12</td><td>14</td><td>11</td><td>11</td><td>84</td><td>29</td><td>22</td><td>18</td><td>60</td><td>41</td><td>12</td><td>78</td><td>55</td><td>13</td><td>0.0</td><td>0.0</td><td>0.0</td><td>0.0</td><td>0.0</td><td>200389.0</td><td>0.0</td><td>0.0</td><td>0.0</td><td>0.0</td><td>0.0</td><td>0.0</td><td>0.0</td><td>0.0</td><td>0.0</td><td>0.0</td><td>GK </td><td>0.0</td><td>0.0</td><td>0.0</td><td>0.0</td><td>0.0</td><td>0.0</td><td>0.0</td><td>0.0</td><td>0.0</td><td>0.0</td><td>0.0</td></tr><tr><th>22</th><td>22</td><td>A. Griezmann</td><td>26</td><td>https://cdn.sofifa.org/48/18/players/194765.png</td><td>France</td><td>https://cdn.sofifa.org/flags/18.png</td><td>88</td><td>91</td><td>Atlético Madrid</td><td>https://cdn.sofifa.org/24/18/teams/240.png</td><td>7.5e7</td><td>€150K</td><td>2104</td><td>87</td><td>69</td><td>90</td><td>80</td><td>86</td><td>86</td><td>82</td><td>84</td><td>87</td><td>88</td><td>75</td><td>14</td><td>8</td><td>14</td><td>13</td><td>14</td><td>80</td><td>35</td><td>87</td><td>75</td><td>82</td><td>23</td><td>71</td><td>91</td><td>90</td><td>79</td><td>81</td><td>11</td><td>86</td><td>76</td><td>22</td><td>61</td><td>76</td><td>87</td><td>84.0</td><td>48.0</td><td>57.0</td><td>85.0</td><td>76.0</td><td>194765.0</td><td>84.0</td><td>56.0</td><td>48.0</td><td>76.0</td><td>57.0</td><td>85.0</td><td>84.0</td><td>85.0</td><td>86.0</td><td>60.0</td><td>LW RW ST </td><td>84.0</td><td>56.0</td><td>48.0</td><td>76.0</td><td>57.0</td><td>85.0</td><td>84.0</td><td>85.0</td><td>86.0</td><td>60.0</td><td>85.0</td></tr><tr><th>23</th><td>23</td><td>Thiago</td><td>26</td><td>https://cdn.sofifa.org/48/18/players/189509.png</td><td>Spain</td><td>https://cdn.sofifa.org/flags/45.png</td><td>88</td><td>90</td><td>FC Bayern Munich</td><td>https://cdn.sofifa.org/24/18/teams/21.png</td><td>7.0e7</td><td>€225K</td><td>2185</td><td>77</td><td>57</td><td>90</td><td>86</td><td>92</td><td>83</td><td>72</td><td>85</td><td>90</td><td>69</td><td>77</td><td>6</td><td>11</td><td>7</td><td>9</td><td>13</td><td>58</td><td>78</td><td>75</td><td>90</td><td>82</td><td>49</td><td>75</td><td>83</td><td>84</td><td>91</td><td>75</td><td>62</td><td>68</td><td>75</td><td>64</td><td>59</td><td>86</td><td>90</td><td>86.0</td><td>66.0</td><td>76.0</td><td>83.0</td><td>85.0</td><td>189509.0</td><td>86.0</td><td>72.0</td><td>66.0</td><td>85.0</td><td>76.0</td><td>83.0</td><td>83.0</td><td>77.0</td><td>83.0</td><td>75.0</td><td>CDM CAM CM </td><td>86.0</td><td>72.0</td><td>66.0</td><td>85.0</td><td>76.0</td><td>83.0</td><td>83.0</td><td>77.0</td><td>83.0</td><td>75.0</td><td>77.0</td></tr><tr><th>24</th><td>24</td><td>P. Aubameyang</td><td>28</td><td>https://cdn.sofifa.org/48/18/players/188567.png</td><td>Gabon</td><td>https://cdn.sofifa.org/flags/115.png</td><td>88</td><td>88</td><td>Borussia Dortmund</td><td>https://cdn.sofifa.org/24/18/teams/22.png</td><td>6.1e7</td><td>€165K</td><td>2078</td><td>95</td><td>43</td><td>77</td><td>70</td><td>82</td><td>84</td><td>77</td><td>78</td><td>82</td><td>88</td><td>74</td><td>6</td><td>9</td><td>15</td><td>9</td><td>9</td><td>79</td><td>48</td><td>77</td><td>64</td><td>79</td><td>28</td><td>79</td><td>89</td><td>87</td><td>77</td><td>81</td><td>36</td><td>96</td><td>79</td><td>25</td><td>77</td><td>77</td><td>86</td><td>82.0</td><td>52.0</td><td>59.0</td><td>84.0</td><td>74.0</td><td>188567.0</td><td>82.0</td><td>62.0</td><td>52.0</td><td>74.0</td><td>59.0</td><td>84.0</td><td>83.0</td><td>85.0</td><td>84.0</td><td>65.0</td><td>ST </td><td>82.0</td><td>62.0</td><td>52.0</td><td>74.0</td><td>59.0</td><td>84.0</td><td>83.0</td><td>85.0</td><td>84.0</td><td>65.0</td><td>85.0</td></tr><tr><th>25</th><td>25</td><td>L. Bonucci</td><td>30</td><td>https://cdn.sofifa.org/48/18/players/184344.png</td><td>Italy</td><td>https://cdn.sofifa.org/flags/27.png</td><td>88</td><td>88</td><td>Milan</td><td>https://cdn.sofifa.org/24/18/teams/47.png</td><td>4.4e7</td><td>€210K</td><td>1995</td><td>62</td><td>82</td><td>60</td><td>52</td><td>75</td><td>84</td><td>44</td><td>56</td><td>69</td><td>39</td><td>61</td><td>2</td><td>2</td><td>3</td><td>2</td><td>4</td><td>88</td><td>90</td><td>85</td><td>85</td><td>65</td><td>84</td><td>70</td><td>38</td><td>86</td><td>79</td><td>74</td><td>88</td><td>72</td><td>73</td><td>88</td><td>85</td><td>74</td><td>58</td><td>68.0</td><td>86.0</td><td>83.0</td><td>66.0</td><td>75.0</td><td>184344.0</td><td>68.0</td><td>79.0</td><td>86.0</td><td>75.0</td><td>83.0</td><td>66.0</td><td>66.0</td><td>65.0</td><td>63.0</td><td>76.0</td><td>CB </td><td>68.0</td><td>79.0</td><td>86.0</td><td>75.0</td><td>83.0</td><td>66.0</td><td>66.0</td><td>65.0</td><td>63.0</td><td>76.0</td><td>65.0</td></tr><tr><th>26</th><td>26</td><td>J. Boateng</td><td>28</td><td>https://cdn.sofifa.org/48/18/players/183907.png</td><td>Germany</td><td>https://cdn.sofifa.org/flags/21.png</td><td>88</td><td>88</td><td>FC Bayern Munich</td><td>https://cdn.sofifa.org/24/18/teams/21.png</td><td>4.8e7</td><td>€215K</td><td>1989</td><td>72</td><td>82</td><td>58</td><td>53</td><td>71</td><td>86</td><td>69</td><td>56</td><td>67</td><td>34</td><td>31</td><td>7</td><td>12</td><td>15</td><td>6</td><td>5</td><td>85</td><td>83</td><td>75</td><td>80</td><td>58</td><td>88</td><td>46</td><td>47</td><td>82</td><td>75</td><td>79</td><td>90</td><td>78</td><td>74</td><td>91</td><td>91</td><td>76</td><td>53</td><td>67.0</td><td>85.0</td><td>82.0</td><td>66.0</td><td>73.0</td><td>183907.0</td><td>67.0</td><td>81.0</td><td>85.0</td><td>73.0</td><td>82.0</td><td>66.0</td><td>69.0</td><td>65.0</td><td>65.0</td><td>79.0</td><td>CB </td><td>67.0</td><td>81.0</td><td>85.0</td><td>73.0</td><td>82.0</td><td>66.0</td><td>69.0</td><td>65.0</td><td>65.0</td><td>79.0</td><td>65.0</td></tr><tr><th>27</th><td>27</td><td>D. Godín</td><td>31</td><td>https://cdn.sofifa.org/48/18/players/182493.png</td><td>Uruguay</td><td>https://cdn.sofifa.org/flags/60.png</td><td>88</td><td>88</td><td>Atlético Madrid</td><td>https://cdn.sofifa.org/24/18/teams/240.png</td><td>4.0e7</td><td>€125K</td><td>1930</td><td>62</td><td>86</td><td>63</td><td>58</td><td>76</td><td>82</td><td>55</td><td>49</td><td>53</td><td>42</td><td>51</td><td>6</td><td>8</td><td>15</td><td>5</td><td>15</td><td>92</td><td>88</td><td>89</td><td>70</td><td>43</td><td>87</td><td>50</td><td>48</td><td>85</td><td>79</td><td>67</td><td>89</td><td>67</td><td>67</td><td>86</td><td>80</td><td>52</td><td>47</td><td>63.0</td><td>86.0</td><td>80.0</td><td>62.0</td><td>69.0</td><td>182493.0</td><td>63.0</td><td>79.0</td><td>86.0</td><td>69.0</td><td>80.0</td><td>62.0</td><td>63.0</td><td>64.0</td><td>61.0</td><td>76.0</td><td>CB </td><td>63.0</td><td>79.0</td><td>86.0</td><td>69.0</td><td>80.0</td><td>62.0</td><td>63.0</td><td>64.0</td><td>61.0</td><td>76.0</td><td>64.0</td></tr><tr><th>28</th><td>28</td><td>M. Hummels</td><td>28</td><td>https://cdn.sofifa.org/48/18/players/178603.png</td><td>Germany</td><td>https://cdn.sofifa.org/flags/21.png</td><td>88</td><td>88</td><td>FC Bayern Munich</td><td>https://cdn.sofifa.org/24/18/teams/21.png</td><td>4.8e7</td><td>€215K</td><td>2038</td><td>62</td><td>66</td><td>64</td><td>58</td><td>77</td><td>91</td><td>64</td><td>65</td><td>68</td><td>55</td><td>53</td><td>15</td><td>6</td><td>10</td><td>5</td><td>6</td><td>89</td><td>89</td><td>68</td><td>85</td><td>51</td><td>85</td><td>68</td><td>56</td><td>85</td><td>80</td><td>71</td><td>90</td><td>65</td><td>66</td><td>92</td><td>85</td><td>79</td><td>60</td><td>71.0</td><td>85.0</td><td>83.0</td><td>69.0</td><td>77.0</td><td>178603.0</td><td>71.0</td><td>80.0</td><td>85.0</td><td>77.0</td><td>83.0</td><td>69.0</td><td>70.0</td><td>69.0</td><td>68.0</td><td>78.0</td><td>CB </td><td>71.0</td><td>80.0</td><td>85.0</td><td>77.0</td><td>83.0</td><td>69.0</td><td>70.0</td><td>69.0</td><td>68.0</td><td>78.0</td><td>69.0</td></tr><tr><th>29</th><td>29</td><td>M. Özil</td><td>28</td><td>https://cdn.sofifa.org/48/18/players/176635.png</td><td>Germany</td><td>https://cdn.sofifa.org/flags/21.png</td><td>88</td><td>88</td><td>Arsenal</td><td>https://cdn.sofifa.org/24/18/teams/1.png</td><td>6.0e7</td><td>€265K</td><td>1927</td><td>75</td><td>48</td><td>83</td><td>70</td><td>90</td><td>78</td><td>82</td><td>84</td><td>86</td><td>74</td><td>79</td><td>6</td><td>14</td><td>10</td><td>6</td><td>14</td><td>54</td><td>24</td><td>52</td><td>84</td><td>76</td><td>22</td><td>67</td><td>83</td><td>87</td><td>89</td><td>70</td><td>19</td><td>68</td><td>69</td><td>16</td><td>57</td><td>92</td><td>77</td><td>85.0</td><td>41.0</td><td>57.0</td><td>82.0</td><td>79.0</td><td>176635.0</td><td>85.0</td><td>52.0</td><td>41.0</td><td>79.0</td><td>57.0</td><td>82.0</td><td>83.0</td><td>76.0</td><td>83.0</td><td>58.0</td><td>RW CAM </td><td>85.0</td><td>52.0</td><td>41.0</td><td>79.0</td><td>57.0</td><td>82.0</td><td>83.0</td><td>76.0</td><td>83.0</td><td>58.0</td><td>76.0</td></tr><tr><th>30</th><td>30</td><td>H. Lloris</td><td>30</td><td>https://cdn.sofifa.org/48/18/players/167948.png</td><td>France</td><td>https://cdn.sofifa.org/flags/18.png</td><td>88</td><td>88</td><td>Tottenham Hotspur</td><td>https://cdn.sofifa.org/24/18/teams/18.png</td><td>3.8e7</td><td>€165K</td><td>1318</td><td>65</td><td>31</td><td>55</td><td>54</td><td>34</td><td>61</td><td>13</td><td>11</td><td>10</td><td>10</td><td>10</td><td>88</td><td>86</td><td>68</td><td>82</td><td>90</td><td>10</td><td>27</td><td>74</td><td>50</td><td>14</td><td>12</td><td>40</td><td>10</td><td>85</td><td>50</td><td>23</td><td>18</td><td>63</td><td>41</td><td>10</td><td>43</td><td>30</td><td>11</td><td>0.0</td><td>0.0</td><td>0.0</td><td>0.0</td><td>0.0</td><td>167948.0</td><td>0.0</td><td>0.0</td><td>0.0</td><td>0.0</td><td>0.0</td><td>0.0</td><td>0.0</td><td>0.0</td><td>0.0</td><td>0.0</td><td>GK </td><td>0.0</td><td>0.0</td><td>0.0</td><td>0.0</td><td>0.0</td><td>0.0</td><td>0.0</td><td>0.0</td><td>0.0</td><td>0.0</td><td>0.0</td></tr><tr><th>&vellip;</th><td>&vellip;</td><td>&vellip;</td><td>&vellip;</td><td>&vellip;</td><td>&vellip;</td><td>&vellip;</td><td>&vellip;</td><td>&vellip;</td><td>&vellip;</td><td>&vellip;</td><td>&vellip;</td><td>&vellip;</td><td>&vellip;</td><td>&vellip;</td><td>&vellip;</td><td>&vellip;</td><td>&vellip;</td><td>&vellip;</td><td>&vellip;</td><td>&vellip;</td><td>&vellip;</td><td>&vellip;</td><td>&vellip;</td><td>&vellip;</td><td>&vellip;</td><td>&vellip;</td><td>&vellip;</td><td>&vellip;</td><td>&vellip;</td><td>&vellip;</td><td>&vellip;</td><td>&vellip;</td><td>&vellip;</td><td>&vellip;</td><td>&vellip;</td><td>&vellip;</td><td>&vellip;</td><td>&vellip;</td><td>&vellip;</td><td>&vellip;</td><td>&vellip;</td><td>&vellip;</td><td>&vellip;</td><td>&vellip;</td><td>&vellip;</td><td>&vellip;</td><td>&vellip;</td><td>&vellip;</td><td>&vellip;</td><td>&vellip;</td><td>&vellip;</td><td>&vellip;</td><td>&vellip;</td><td>&vellip;</td><td>&vellip;</td><td>&vellip;</td><td>&vellip;</td><td>&vellip;</td><td>&vellip;</td><td>&vellip;</td><td>&vellip;</td><td>&vellip;</td><td>&vellip;</td><td>&vellip;</td><td>&vellip;</td><td>&vellip;</td><td>&vellip;</td><td>&vellip;</td><td>&vellip;</td><td>&vellip;</td><td>&vellip;</td><td>&vellip;</td><td>&vellip;</td><td>&vellip;</td><td>&vellip;</td></tr></tbody></table>"
      ],
      "text/plain": [
       "17980×75 DataFrames.DataFrame. Omitted printing of 72 columns\n",
       "│ Row   │ x     │ Name              │ Age │\n",
       "├───────┼───────┼───────────────────┼─────┤\n",
       "│ 1     │ 1     │ Cristiano Ronaldo │ 32  │\n",
       "│ 2     │ 2     │ L. Messi          │ 30  │\n",
       "│ 3     │ 3     │ Neymar            │ 25  │\n",
       "│ 4     │ 4     │ L. Suárez         │ 30  │\n",
       "│ 5     │ 5     │ M. Neuer          │ 31  │\n",
       "│ 6     │ 6     │ R. Lewandowski    │ 28  │\n",
       "│ 7     │ 7     │ De Gea            │ 26  │\n",
       "│ 8     │ 8     │ E. Hazard         │ 26  │\n",
       "│ 9     │ 9     │ T. Kroos          │ 27  │\n",
       "│ 10    │ 10    │ G. Higuaín        │ 29  │\n",
       "│ 11    │ 11    │ Sergio Ramos      │ 31  │\n",
       "⋮\n",
       "│ 17969 │ 17970 │ F. Prohart        │ 18  │\n",
       "│ 17970 │ 17971 │ A. Kilgour        │ 19  │\n",
       "│ 17971 │ 17972 │ R. White          │ 18  │\n",
       "│ 17972 │ 17973 │ A. Conway         │ 19  │\n",
       "│ 17973 │ 17974 │ T. Sawyer         │ 18  │\n",
       "│ 17974 │ 17975 │ J. Keeble         │ 18  │\n",
       "│ 17975 │ 17976 │ T. Käßemodel      │ 28  │\n",
       "│ 17976 │ 17977 │ A. Kelsey         │ 17  │\n",
       "│ 17977 │ 17978 │ B. Richardson     │ 47  │\n",
       "│ 17978 │ 17979 │ J. Young          │ 17  │\n",
       "│ 17979 │ 17980 │ J. Lundstram      │ 18  │\n",
       "│ 17980 │ 17981 │ L. Sackey         │ 18  │"
      ]
     },
     "execution_count": 1,
     "metadata": {},
     "output_type": "execute_result"
    }
   ],
   "source": [
    "using DataFrames\n",
    "# read in the fifa 18 dataset\n",
    "dataset = readtable(\"../data/modifiedCompleteDataset.csv\")\n",
    "\n",
    "df = DataFrame(dataset)"
   ]
  },
  {
   "cell_type": "markdown",
   "metadata": {},
   "source": [
    "# Cleaning the Data"
   ]
  },
  {
   "cell_type": "markdown",
   "metadata": {},
   "source": [
    "Let us say we are the manager of a mid-table team in the premier league. As such a team, we are faced with more difficult decisions than that of an upper table team such as Chelsea or Manchester United. We may not have access to the best supoprt staff or money or attract players with great skill. Here, we will assume the role of manager of Southampton. They placed in 8th position in the Premier League in 2016-17 season with 46 points. "
   ]
  },
  {
   "cell_type": "markdown",
   "metadata": {},
   "source": [
    "# Defining Functions"
   ]
  },
  {
   "cell_type": "code",
   "execution_count": 2,
   "metadata": {},
   "outputs": [
    {
     "data": {
      "text/plain": [
       "\"Liverpool\""
      ]
     },
     "execution_count": 2,
     "metadata": {},
     "output_type": "execute_result"
    }
   ],
   "source": [
    "# extract all premier league teams in 2016-17\n",
    "teams = [\"Chelsea\",\"Tottenham Hotspur\",\"Manchester City\",\"Liverpool\",\"Arsenal\",\"Manchester United\",\n",
    "    \"Everton\",\"Southampton\",\"Bournemouth\",\"West Bromwich Albion\",\"West Ham United\",\"Leicester City\",\n",
    "    \"Stoke City\", \"Crystal Palace\",\"Swansea City\",\"Burnley\",\"Watford\",\"Hull City\",\"Middlesbrough\",\"Sunderland\"]\n",
    "\n",
    "# select my team\n",
    "my_team = \"Liverpool\""
   ]
  },
  {
   "cell_type": "code",
   "execution_count": 3,
   "metadata": {
    "collapsed": true
   },
   "outputs": [
    {
     "data": {
      "text/html": [
       "<table class=\"data-frame\"><thead><tr><th></th><th>x</th><th>Name</th><th>Age</th><th>Photo</th><th>Nationality</th><th>Flag</th><th>Overall</th><th>Potential</th><th>Club</th><th>Club_Logo</th><th>Value</th><th>Wage</th><th>Special</th><th>Acceleration</th><th>Aggression</th><th>Agility</th><th>Balance</th><th>Ball_control</th><th>Composure</th><th>Crossing</th><th>Curve</th><th>Dribbling</th><th>Finishing</th><th>Free_kick_accuracy</th><th>GK_diving</th><th>GK_handling</th><th>GK_kicking</th><th>GK_positioning</th><th>GK_reflexes</th><th>Heading_accuracy</th><th>Interceptions</th><th>Jumping</th><th>Long_passing</th><th>Long_shots</th><th>Marking</th><th>Penalties</th><th>Positioning</th><th>Reactions</th><th>Short_passing</th><th>Shot_power</th><th>Sliding_tackle</th><th>Sprint_speed</th><th>Stamina</th><th>Standing_tackle</th><th>Strength</th><th>Vision</th><th>Volleys</th><th>CAM</th><th>CB</th><th>CDM</th><th>CF</th><th>CM</th><th>ID</th><th>LAM</th><th>LB</th><th>LCB</th><th>LCM</th><th>LDM</th><th>LF</th><th>LM</th><th>LS</th><th>LW</th><th>LWB</th><th>Preferred_Positions</th><th>RAM</th><th>RB</th><th>RCB</th><th>RCM</th><th>RDM</th><th>RF</th><th>RM</th><th>RS</th><th>RW</th><th>RWB</th><th>ST</th></tr></thead><tbody><tr><th>1</th><td>55</td><td>Coutinho</td><td>25</td><td>https://cdn.sofifa.org/48/18/players/189242.png</td><td>Brazil</td><td>https://cdn.sofifa.org/flags/54.png</td><td>86</td><td>89</td><td>Liverpool</td><td>https://cdn.sofifa.org/24/18/teams/9.png</td><td>5.6e7</td><td>€205K</td><td>2049</td><td>88</td><td>55</td><td>92</td><td>92</td><td>88</td><td>85</td><td>77</td><td>84</td><td>88</td><td>74</td><td>82</td><td>12</td><td>7</td><td>9</td><td>14</td><td>6</td><td>47</td><td>30</td><td>59</td><td>78</td><td>86</td><td>24</td><td>64</td><td>83</td><td>81</td><td>85</td><td>80</td><td>40</td><td>77</td><td>80</td><td>44</td><td>61</td><td>87</td><td>75</td><td>85.0</td><td>49.0</td><td>61.0</td><td>83.0</td><td>79.0</td><td>189242.0</td><td>85.0</td><td>60.0</td><td>49.0</td><td>79.0</td><td>61.0</td><td>83.0</td><td>83.0</td><td>77.0</td><td>84.0</td><td>64.0</td><td>CAM LW </td><td>85.0</td><td>60.0</td><td>49.0</td><td>79.0</td><td>61.0</td><td>83.0</td><td>83.0</td><td>77.0</td><td>84.0</td><td>64.0</td><td>77.0</td></tr><tr><th>2</th><td>98</td><td>S. Mané</td><td>25</td><td>https://cdn.sofifa.org/48/18/players/208722.png</td><td>Senegal</td><td>https://cdn.sofifa.org/flags/136.png</td><td>84</td><td>87</td><td>Liverpool</td><td>https://cdn.sofifa.org/24/18/teams/9.png</td><td>3.9e7</td><td>€175K</td><td>2046</td><td>94</td><td>73</td><td>89</td><td>85</td><td>84</td><td>78</td><td>72</td><td>74</td><td>86</td><td>83</td><td>64</td><td>10</td><td>10</td><td>15</td><td>7</td><td>14</td><td>53</td><td>31</td><td>75</td><td>71</td><td>69</td><td>33</td><td>71</td><td>84</td><td>80</td><td>77</td><td>77</td><td>38</td><td>92</td><td>82</td><td>35</td><td>72</td><td>78</td><td>68</td><td>81.0</td><td>51.0</td><td>60.0</td><td>82.0</td><td>74.0</td><td>208722.0</td><td>81.0</td><td>60.0</td><td>51.0</td><td>74.0</td><td>60.0</td><td>82.0</td><td>82.0</td><td>79.0</td><td>83.0</td><td>63.0</td><td>LW RW </td><td>81.0</td><td>60.0</td><td>51.0</td><td>74.0</td><td>60.0</td><td>82.0</td><td>82.0</td><td>79.0</td><td>83.0</td><td>63.0</td><td>79.0</td></tr><tr><th>3</th><td>138</td><td>M. Salah</td><td>25</td><td>https://cdn.sofifa.org/48/18/players/209331.png</td><td>Egypt</td><td>https://cdn.sofifa.org/flags/111.png</td><td>83</td><td>86</td><td>Liverpool</td><td>https://cdn.sofifa.org/24/18/teams/9.png</td><td>3.2e7</td><td>€135K</td><td>2032</td><td>93</td><td>63</td><td>86</td><td>84</td><td>87</td><td>75</td><td>73</td><td>70</td><td>87</td><td>79</td><td>60</td><td>14</td><td>14</td><td>9</td><td>11</td><td>14</td><td>59</td><td>55</td><td>70</td><td>65</td><td>62</td><td>37</td><td>61</td><td>83</td><td>82</td><td>79</td><td>71</td><td>41</td><td>93</td><td>77</td><td>43</td><td>61</td><td>78</td><td>71</td><td>81.0</td><td>56.0</td><td>64.0</td><td>82.0</td><td>75.0</td><td>209331.0</td><td>81.0</td><td>64.0</td><td>56.0</td><td>75.0</td><td>64.0</td><td>82.0</td><td>82.0</td><td>78.0</td><td>83.0</td><td>68.0</td><td>RW </td><td>81.0</td><td>64.0</td><td>56.0</td><td>75.0</td><td>64.0</td><td>82.0</td><td>82.0</td><td>78.0</td><td>83.0</td><td>68.0</td><td>78.0</td></tr><tr><th>4</th><td>146</td><td>Roberto Firmino</td><td>25</td><td>https://cdn.sofifa.org/48/18/players/201942.png</td><td>Brazil</td><td>https://cdn.sofifa.org/flags/54.png</td><td>83</td><td>87</td><td>Liverpool</td><td>https://cdn.sofifa.org/24/18/teams/9.png</td><td>3.4e7</td><td>€135K</td><td>2101</td><td>77</td><td>66</td><td>82</td><td>81</td><td>85</td><td>78</td><td>72</td><td>80</td><td>87</td><td>83</td><td>67</td><td>8</td><td>11</td><td>9</td><td>6</td><td>10</td><td>72</td><td>37</td><td>81</td><td>75</td><td>80</td><td>30</td><td>72</td><td>84</td><td>82</td><td>83</td><td>79</td><td>42</td><td>77</td><td>86</td><td>59</td><td>76</td><td>83</td><td>79</td><td>83.0</td><td>58.0</td><td>65.0</td><td>83.0</td><td>79.0</td><td>201942.0</td><td>83.0</td><td>63.0</td><td>58.0</td><td>79.0</td><td>65.0</td><td>83.0</td><td>82.0</td><td>81.0</td><td>82.0</td><td>66.0</td><td>CAM CF ST </td><td>83.0</td><td>63.0</td><td>58.0</td><td>79.0</td><td>65.0</td><td>83.0</td><td>82.0</td><td>81.0</td><td>82.0</td><td>66.0</td><td>81.0</td></tr><tr><th>5</th><td>152</td><td>J. Matip</td><td>25</td><td>https://cdn.sofifa.org/48/18/players/197061.png</td><td>Cameroon</td><td>https://cdn.sofifa.org/flags/103.png</td><td>83</td><td>85</td><td>Liverpool</td><td>https://cdn.sofifa.org/24/18/teams/9.png</td><td>2.6e7</td><td>€110K</td><td>1884</td><td>60</td><td>81</td><td>58</td><td>49</td><td>71</td><td>75</td><td>54</td><td>63</td><td>65</td><td>36</td><td>22</td><td>11</td><td>15</td><td>10</td><td>7</td><td>10</td><td>85</td><td>85</td><td>67</td><td>74</td><td>48</td><td>83</td><td>42</td><td>51</td><td>81</td><td>77</td><td>66</td><td>79</td><td>73</td><td>73</td><td>85</td><td>81</td><td>72</td><td>50</td><td>66.0</td><td>82.0</td><td>79.0</td><td>64.0</td><td>72.0</td><td>197061.0</td><td>66.0</td><td>76.0</td><td>82.0</td><td>72.0</td><td>79.0</td><td>64.0</td><td>66.0</td><td>63.0</td><td>63.0</td><td>75.0</td><td>CB </td><td>66.0</td><td>76.0</td><td>82.0</td><td>72.0</td><td>79.0</td><td>64.0</td><td>66.0</td><td>63.0</td><td>63.0</td><td>75.0</td><td>63.0</td></tr><tr><th>6</th><td>172</td><td>A. Lallana</td><td>29</td><td>https://cdn.sofifa.org/48/18/players/180819.png</td><td>England</td><td>https://cdn.sofifa.org/flags/14.png</td><td>83</td><td>83</td><td>Liverpool</td><td>https://cdn.sofifa.org/24/18/teams/9.png</td><td>2.5e7</td><td>€135K</td><td>2141</td><td>74</td><td>74</td><td>83</td><td>76</td><td>86</td><td>80</td><td>74</td><td>77</td><td>85</td><td>79</td><td>66</td><td>6</td><td>15</td><td>14</td><td>8</td><td>11</td><td>67</td><td>68</td><td>73</td><td>77</td><td>72</td><td>60</td><td>70</td><td>77</td><td>78</td><td>86</td><td>72</td><td>62</td><td>72</td><td>90</td><td>67</td><td>67</td><td>83</td><td>72</td><td>82.0</td><td>69.0</td><td>75.0</td><td>80.0</td><td>81.0</td><td>180819.0</td><td>82.0</td><td>73.0</td><td>69.0</td><td>81.0</td><td>75.0</td><td>80.0</td><td>81.0</td><td>77.0</td><td>80.0</td><td>75.0</td><td>CM </td><td>82.0</td><td>73.0</td><td>69.0</td><td>81.0</td><td>75.0</td><td>80.0</td><td>81.0</td><td>77.0</td><td>80.0</td><td>75.0</td><td>77.0</td></tr><tr><th>7</th><td>249</td><td>N. Clyne</td><td>26</td><td>https://cdn.sofifa.org/48/18/players/190456.png</td><td>England</td><td>https://cdn.sofifa.org/flags/14.png</td><td>82</td><td>84</td><td>Liverpool</td><td>https://cdn.sofifa.org/24/18/teams/9.png</td><td>2.2e7</td><td>€115K</td><td>2057</td><td>82</td><td>76</td><td>83</td><td>76</td><td>76</td><td>75</td><td>79</td><td>64</td><td>76</td><td>54</td><td>39</td><td>10</td><td>11</td><td>13</td><td>15</td><td>7</td><td>67</td><td>79</td><td>69</td><td>67</td><td>69</td><td>81</td><td>46</td><td>72</td><td>76</td><td>77</td><td>74</td><td>86</td><td>83</td><td>87</td><td>83</td><td>71</td><td>64</td><td>45</td><td>73.0</td><td>78.0</td><td>77.0</td><td>72.0</td><td>74.0</td><td>190456.0</td><td>73.0</td><td>81.0</td><td>78.0</td><td>74.0</td><td>77.0</td><td>72.0</td><td>75.0</td><td>70.0</td><td>74.0</td><td>81.0</td><td>RB </td><td>73.0</td><td>81.0</td><td>78.0</td><td>74.0</td><td>77.0</td><td>72.0</td><td>75.0</td><td>70.0</td><td>74.0</td><td>81.0</td><td>70.0</td></tr><tr><th>8</th><td>262</td><td>J. Henderson</td><td>27</td><td>https://cdn.sofifa.org/48/18/players/183711.png</td><td>England</td><td>https://cdn.sofifa.org/flags/14.png</td><td>82</td><td>84</td><td>Liverpool</td><td>https://cdn.sofifa.org/24/18/teams/9.png</td><td>2.1e7</td><td>€115K</td><td>2183</td><td>73</td><td>80</td><td>73</td><td>71</td><td>80</td><td>78</td><td>81</td><td>80</td><td>74</td><td>67</td><td>74</td><td>7</td><td>13</td><td>7</td><td>9</td><td>13</td><td>65</td><td>79</td><td>81</td><td>83</td><td>71</td><td>73</td><td>64</td><td>76</td><td>79</td><td>85</td><td>75</td><td>76</td><td>71</td><td>93</td><td>80</td><td>76</td><td>82</td><td>72</td><td>78.0</td><td>77.0</td><td>81.0</td><td>76.0</td><td>81.0</td><td>183711.0</td><td>78.0</td><td>79.0</td><td>77.0</td><td>81.0</td><td>81.0</td><td>76.0</td><td>78.0</td><td>74.0</td><td>76.0</td><td>80.0</td><td>CM CDM </td><td>78.0</td><td>79.0</td><td>77.0</td><td>81.0</td><td>81.0</td><td>76.0</td><td>78.0</td><td>74.0</td><td>76.0</td><td>80.0</td><td>74.0</td></tr><tr><th>9</th><td>268</td><td>G. Wijnaldum</td><td>26</td><td>https://cdn.sofifa.org/48/18/players/181291.png</td><td>Netherlands</td><td>https://cdn.sofifa.org/flags/34.png</td><td>82</td><td>85</td><td>Liverpool</td><td>https://cdn.sofifa.org/24/18/teams/9.png</td><td>2.7e7</td><td>€130K</td><td>2167</td><td>79</td><td>64</td><td>82</td><td>80</td><td>84</td><td>79</td><td>67</td><td>76</td><td>85</td><td>74</td><td>70</td><td>16</td><td>6</td><td>14</td><td>12</td><td>6</td><td>72</td><td>70</td><td>82</td><td>74</td><td>71</td><td>60</td><td>74</td><td>82</td><td>82</td><td>83</td><td>78</td><td>64</td><td>82</td><td>87</td><td>69</td><td>71</td><td>78</td><td>73</td><td>81.0</td><td>70.0</td><td>74.0</td><td>81.0</td><td>80.0</td><td>181291.0</td><td>81.0</td><td>74.0</td><td>70.0</td><td>80.0</td><td>74.0</td><td>81.0</td><td>80.0</td><td>78.0</td><td>80.0</td><td>75.0</td><td>CAM CM </td><td>81.0</td><td>74.0</td><td>70.0</td><td>80.0</td><td>74.0</td><td>81.0</td><td>80.0</td><td>78.0</td><td>80.0</td><td>75.0</td><td>78.0</td></tr><tr><th>10</th><td>279</td><td>D. Sturridge</td><td>27</td><td>https://cdn.sofifa.org/48/18/players/171833.png</td><td>England</td><td>https://cdn.sofifa.org/flags/14.png</td><td>82</td><td>82</td><td>Liverpool</td><td>https://cdn.sofifa.org/24/18/teams/9.png</td><td>2.3e7</td><td>€140K</td><td>1882</td><td>74</td><td>60</td><td>75</td><td>64</td><td>81</td><td>81</td><td>62</td><td>62</td><td>80</td><td>83</td><td>68</td><td>7</td><td>15</td><td>9</td><td>5</td><td>13</td><td>73</td><td>22</td><td>72</td><td>62</td><td>80</td><td>15</td><td>75</td><td>84</td><td>82</td><td>74</td><td>83</td><td>12</td><td>78</td><td>68</td><td>24</td><td>71</td><td>74</td><td>75</td><td>78.0</td><td>44.0</td><td>51.0</td><td>80.0</td><td>70.0</td><td>171833.0</td><td>78.0</td><td>49.0</td><td>44.0</td><td>70.0</td><td>51.0</td><td>80.0</td><td>76.0</td><td>80.0</td><td>78.0</td><td>52.0</td><td>ST </td><td>78.0</td><td>49.0</td><td>44.0</td><td>70.0</td><td>51.0</td><td>80.0</td><td>76.0</td><td>80.0</td><td>78.0</td><td>52.0</td><td>80.0</td></tr><tr><th>11</th><td>340</td><td>D. Lovren</td><td>27</td><td>https://cdn.sofifa.org/48/18/players/195086.png</td><td>Croatia</td><td>https://cdn.sofifa.org/flags/10.png</td><td>81</td><td>83</td><td>Liverpool</td><td>https://cdn.sofifa.org/24/18/teams/9.png</td><td>1.7e7</td><td>€110K</td><td>1739</td><td>57</td><td>87</td><td>53</td><td>43</td><td>67</td><td>69</td><td>59</td><td>26</td><td>63</td><td>33</td><td>18</td><td>14</td><td>14</td><td>13</td><td>10</td><td>7</td><td>77</td><td>82</td><td>82</td><td>66</td><td>34</td><td>78</td><td>52</td><td>21</td><td>75</td><td>68</td><td>63</td><td>85</td><td>55</td><td>70</td><td>82</td><td>86</td><td>56</td><td>42</td><td>56.0</td><td>80.0</td><td>75.0</td><td>54.0</td><td>63.0</td><td>195086.0</td><td>56.0</td><td>73.0</td><td>80.0</td><td>63.0</td><td>75.0</td><td>54.0</td><td>58.0</td><td>54.0</td><td>55.0</td><td>72.0</td><td>CB </td><td>56.0</td><td>73.0</td><td>80.0</td><td>63.0</td><td>75.0</td><td>54.0</td><td>58.0</td><td>54.0</td><td>55.0</td><td>72.0</td><td>54.0</td></tr><tr><th>12</th><td>373</td><td>S. Mignolet</td><td>29</td><td>https://cdn.sofifa.org/48/18/players/173426.png</td><td>Belgium</td><td>https://cdn.sofifa.org/flags/7.png</td><td>81</td><td>81</td><td>Liverpool</td><td>https://cdn.sofifa.org/24/18/teams/9.png</td><td>1.2e7</td><td>€91K</td><td>1266</td><td>55</td><td>34</td><td>34</td><td>42</td><td>24</td><td>66</td><td>11</td><td>16</td><td>14</td><td>11</td><td>12</td><td>80</td><td>76</td><td>65</td><td>78</td><td>84</td><td>16</td><td>21</td><td>69</td><td>34</td><td>16</td><td>13</td><td>41</td><td>16</td><td>77</td><td>37</td><td>45</td><td>16</td><td>56</td><td>31</td><td>14</td><td>72</td><td>40</td><td>16</td><td>0.0</td><td>0.0</td><td>0.0</td><td>0.0</td><td>0.0</td><td>173426.0</td><td>0.0</td><td>0.0</td><td>0.0</td><td>0.0</td><td>0.0</td><td>0.0</td><td>0.0</td><td>0.0</td><td>0.0</td><td>0.0</td><td>GK </td><td>0.0</td><td>0.0</td><td>0.0</td><td>0.0</td><td>0.0</td><td>0.0</td><td>0.0</td><td>0.0</td><td>0.0</td><td>0.0</td><td>0.0</td></tr><tr><th>13</th><td>409</td><td>E. Can</td><td>23</td><td>https://cdn.sofifa.org/48/18/players/208333.png</td><td>Germany</td><td>https://cdn.sofifa.org/flags/21.png</td><td>80</td><td>85</td><td>Liverpool</td><td>https://cdn.sofifa.org/24/18/teams/9.png</td><td>1.9e7</td><td>€105K</td><td>2135</td><td>69</td><td>83</td><td>73</td><td>71</td><td>80</td><td>74</td><td>70</td><td>68</td><td>76</td><td>60</td><td>65</td><td>14</td><td>8</td><td>8</td><td>13</td><td>11</td><td>70</td><td>79</td><td>76</td><td>80</td><td>72</td><td>78</td><td>60</td><td>73</td><td>77</td><td>81</td><td>79</td><td>79</td><td>73</td><td>85</td><td>80</td><td>84</td><td>80</td><td>61</td><td>76.0</td><td>79.0</td><td>80.0</td><td>75.0</td><td>79.0</td><td>208333.0</td><td>76.0</td><td>77.0</td><td>79.0</td><td>79.0</td><td>80.0</td><td>75.0</td><td>76.0</td><td>73.0</td><td>74.0</td><td>78.0</td><td>CDM CM </td><td>76.0</td><td>77.0</td><td>79.0</td><td>79.0</td><td>80.0</td><td>75.0</td><td>76.0</td><td>73.0</td><td>74.0</td><td>78.0</td><td>73.0</td></tr><tr><th>14</th><td>421</td><td>L. Karius</td><td>24</td><td>https://cdn.sofifa.org/48/18/players/203775.png</td><td>Germany</td><td>https://cdn.sofifa.org/flags/21.png</td><td>80</td><td>84</td><td>Liverpool</td><td>https://cdn.sofifa.org/24/18/teams/9.png</td><td>1.4e7</td><td>€71K</td><td>1203</td><td>51</td><td>18</td><td>51</td><td>43</td><td>23</td><td>34</td><td>14</td><td>12</td><td>16</td><td>18</td><td>14</td><td>84</td><td>74</td><td>74</td><td>76</td><td>85</td><td>14</td><td>13</td><td>74</td><td>36</td><td>16</td><td>13</td><td>19</td><td>8</td><td>78</td><td>35</td><td>20</td><td>13</td><td>50</td><td>36</td><td>11</td><td>55</td><td>45</td><td>14</td><td>0.0</td><td>0.0</td><td>0.0</td><td>0.0</td><td>0.0</td><td>203775.0</td><td>0.0</td><td>0.0</td><td>0.0</td><td>0.0</td><td>0.0</td><td>0.0</td><td>0.0</td><td>0.0</td><td>0.0</td><td>0.0</td><td>GK </td><td>0.0</td><td>0.0</td><td>0.0</td><td>0.0</td><td>0.0</td><td>0.0</td><td>0.0</td><td>0.0</td><td>0.0</td><td>0.0</td><td>0.0</td></tr><tr><th>15</th><td>432</td><td>A. Oxlade-Chamberlain</td><td>23</td><td>https://cdn.sofifa.org/48/18/players/198784.png</td><td>England</td><td>https://cdn.sofifa.org/flags/14.png</td><td>80</td><td>85</td><td>Liverpool</td><td>https://cdn.sofifa.org/24/18/teams/9.png</td><td>2.0e7</td><td>€105K</td><td>2004</td><td>87</td><td>66</td><td>84</td><td>88</td><td>82</td><td>73</td><td>75</td><td>67</td><td>85</td><td>68</td><td>53</td><td>16</td><td>9</td><td>6</td><td>9</td><td>9</td><td>39</td><td>51</td><td>66</td><td>73</td><td>74</td><td>52</td><td>69</td><td>74</td><td>74</td><td>78</td><td>75</td><td>54</td><td>88</td><td>76</td><td>57</td><td>70</td><td>72</td><td>58</td><td>78.0</td><td>59.0</td><td>67.0</td><td>77.0</td><td>74.0</td><td>198784.0</td><td>78.0</td><td>66.0</td><td>59.0</td><td>74.0</td><td>67.0</td><td>77.0</td><td>79.0</td><td>72.0</td><td>79.0</td><td>69.0</td><td>RWB LM RM </td><td>78.0</td><td>66.0</td><td>59.0</td><td>74.0</td><td>67.0</td><td>77.0</td><td>79.0</td><td>72.0</td><td>79.0</td><td>69.0</td><td>72.0</td></tr><tr><th>16</th><td>510</td><td>J. Milner</td><td>31</td><td>https://cdn.sofifa.org/48/18/players/138412.png</td><td>England</td><td>https://cdn.sofifa.org/flags/14.png</td><td>80</td><td>80</td><td>Liverpool</td><td>https://cdn.sofifa.org/24/18/teams/9.png</td><td>9.0e6</td><td>€110K</td><td>2155</td><td>69</td><td>79</td><td>72</td><td>73</td><td>78</td><td>86</td><td>85</td><td>81</td><td>77</td><td>66</td><td>77</td><td>1</td><td>1</td><td>1</td><td>1</td><td>1</td><td>69</td><td>76</td><td>64</td><td>81</td><td>77</td><td>76</td><td>83</td><td>75</td><td>84</td><td>84</td><td>85</td><td>79</td><td>66</td><td>91</td><td>77</td><td>73</td><td>77</td><td>76</td><td>77.0</td><td>76.0</td><td>80.0</td><td>76.0</td><td>80.0</td><td>138412.0</td><td>77.0</td><td>79.0</td><td>76.0</td><td>80.0</td><td>80.0</td><td>76.0</td><td>78.0</td><td>75.0</td><td>76.0</td><td>80.0</td><td>CM LB </td><td>77.0</td><td>79.0</td><td>76.0</td><td>80.0</td><td>80.0</td><td>76.0</td><td>78.0</td><td>75.0</td><td>76.0</td><td>80.0</td><td>75.0</td></tr><tr><th>17</th><td>1243</td><td>D. Ings</td><td>24</td><td>https://cdn.sofifa.org/48/18/players/195859.png</td><td>England</td><td>https://cdn.sofifa.org/flags/14.png</td><td>76</td><td>80</td><td>Liverpool</td><td>https://cdn.sofifa.org/24/18/teams/9.png</td><td>1.0e7</td><td>€92K</td><td>1872</td><td>83</td><td>60</td><td>77</td><td>79</td><td>76</td><td>70</td><td>62</td><td>57</td><td>77</td><td>77</td><td>36</td><td>10</td><td>13</td><td>12</td><td>16</td><td>6</td><td>71</td><td>39</td><td>81</td><td>61</td><td>67</td><td>33</td><td>68</td><td>79</td><td>74</td><td>69</td><td>74</td><td>27</td><td>82</td><td>75</td><td>24</td><td>73</td><td>68</td><td>66</td><td>74.0</td><td>49.0</td><td>54.0</td><td>75.0</td><td>67.0</td><td>195859.0</td><td>74.0</td><td>54.0</td><td>49.0</td><td>67.0</td><td>54.0</td><td>75.0</td><td>74.0</td><td>75.0</td><td>75.0</td><td>57.0</td><td>ST </td><td>74.0</td><td>54.0</td><td>49.0</td><td>67.0</td><td>54.0</td><td>75.0</td><td>74.0</td><td>75.0</td><td>75.0</td><td>57.0</td><td>75.0</td></tr><tr><th>18</th><td>1461</td><td>L. Marković</td><td>23</td><td>https://cdn.sofifa.org/48/18/players/212125.png</td><td>Serbia</td><td>https://cdn.sofifa.org/flags/51.png</td><td>76</td><td>80</td><td>Liverpool</td><td>https://cdn.sofifa.org/24/18/teams/9.png</td><td>1.0e7</td><td>€84K</td><td>1877</td><td>89</td><td>41</td><td>88</td><td>79</td><td>81</td><td>76</td><td>68</td><td>79</td><td>83</td><td>66</td><td>62</td><td>8</td><td>9</td><td>15</td><td>6</td><td>7</td><td>58</td><td>49</td><td>66</td><td>57</td><td>60</td><td>32</td><td>70</td><td>73</td><td>73</td><td>71</td><td>65</td><td>37</td><td>91</td><td>61</td><td>39</td><td>55</td><td>71</td><td>68</td><td>75.0</td><td>50.0</td><td>56.0</td><td>75.0</td><td>68.0</td><td>212125.0</td><td>75.0</td><td>59.0</td><td>50.0</td><td>68.0</td><td>56.0</td><td>75.0</td><td>75.0</td><td>71.0</td><td>76.0</td><td>61.0</td><td>CF RM </td><td>75.0</td><td>59.0</td><td>50.0</td><td>68.0</td><td>56.0</td><td>75.0</td><td>75.0</td><td>71.0</td><td>76.0</td><td>61.0</td><td>71.0</td></tr><tr><th>19</th><td>1583</td><td>Alberto Moreno</td><td>24</td><td>https://cdn.sofifa.org/48/18/players/205566.png</td><td>Spain</td><td>https://cdn.sofifa.org/flags/45.png</td><td>76</td><td>79</td><td>Liverpool</td><td>https://cdn.sofifa.org/24/18/teams/9.png</td><td>8.0e6</td><td>€76K</td><td>2028</td><td>87</td><td>83</td><td>86</td><td>87</td><td>79</td><td>63</td><td>78</td><td>59</td><td>76</td><td>59</td><td>40</td><td>10</td><td>14</td><td>9</td><td>10</td><td>11</td><td>61</td><td>70</td><td>85</td><td>64</td><td>74</td><td>64</td><td>54</td><td>69</td><td>69</td><td>74</td><td>80</td><td>76</td><td>88</td><td>85</td><td>73</td><td>64</td><td>58</td><td>35</td><td>72.0</td><td>71.0</td><td>71.0</td><td>72.0</td><td>71.0</td><td>205566.0</td><td>72.0</td><td>75.0</td><td>71.0</td><td>71.0</td><td>71.0</td><td>72.0</td><td>74.0</td><td>70.0</td><td>74.0</td><td>76.0</td><td>LB </td><td>72.0</td><td>75.0</td><td>71.0</td><td>71.0</td><td>71.0</td><td>72.0</td><td>74.0</td><td>70.0</td><td>74.0</td><td>76.0</td><td>70.0</td></tr><tr><th>20</th><td>1947</td><td>A. Robertson</td><td>23</td><td>https://cdn.sofifa.org/48/18/players/216267.png</td><td>Scotland</td><td>https://cdn.sofifa.org/flags/42.png</td><td>75</td><td>82</td><td>Liverpool</td><td>https://cdn.sofifa.org/24/18/teams/9.png</td><td>8.0e6</td><td>€64K</td><td>1926</td><td>78</td><td>69</td><td>81</td><td>74</td><td>75</td><td>67</td><td>78</td><td>71</td><td>74</td><td>60</td><td>30</td><td>11</td><td>8</td><td>10</td><td>7</td><td>14</td><td>65</td><td>73</td><td>55</td><td>59</td><td>61</td><td>72</td><td>55</td><td>64</td><td>71</td><td>68</td><td>67</td><td>70</td><td>82</td><td>81</td><td>74</td><td>68</td><td>69</td><td>32</td><td>70.0</td><td>71.0</td><td>71.0</td><td>70.0</td><td>69.0</td><td>216267.0</td><td>70.0</td><td>74.0</td><td>71.0</td><td>69.0</td><td>71.0</td><td>70.0</td><td>72.0</td><td>67.0</td><td>72.0</td><td>74.0</td><td>LWB LB </td><td>70.0</td><td>74.0</td><td>71.0</td><td>69.0</td><td>71.0</td><td>70.0</td><td>72.0</td><td>67.0</td><td>72.0</td><td>74.0</td><td>67.0</td></tr><tr><th>21</th><td>4537</td><td>M. Grujić</td><td>21</td><td>https://cdn.sofifa.org/48/18/players/232099.png</td><td>Serbia</td><td>https://cdn.sofifa.org/flags/51.png</td><td>71</td><td>85</td><td>Liverpool</td><td>https://cdn.sofifa.org/24/18/teams/9.png</td><td>5.0e6</td><td>€45K</td><td>1927</td><td>63</td><td>75</td><td>56</td><td>53</td><td>72</td><td>60</td><td>60</td><td>60</td><td>67</td><td>70</td><td>43</td><td>9</td><td>14</td><td>8</td><td>12</td><td>13</td><td>69</td><td>70</td><td>74</td><td>72</td><td>62</td><td>66</td><td>57</td><td>72</td><td>64</td><td>74</td><td>75</td><td>71</td><td>71</td><td>78</td><td>72</td><td>78</td><td>66</td><td>61</td><td>69.0</td><td>71.0</td><td>71.0</td><td>69.0</td><td>70.0</td><td>232099.0</td><td>69.0</td><td>69.0</td><td>71.0</td><td>70.0</td><td>71.0</td><td>69.0</td><td>69.0</td><td>70.0</td><td>68.0</td><td>69.0</td><td>CAM CDM CM </td><td>69.0</td><td>69.0</td><td>71.0</td><td>70.0</td><td>71.0</td><td>69.0</td><td>69.0</td><td>70.0</td><td>68.0</td><td>69.0</td><td>70.0</td></tr><tr><th>22</th><td>4868</td><td>D. Solanke</td><td>19</td><td>https://cdn.sofifa.org/48/18/players/225539.png</td><td>England</td><td>https://cdn.sofifa.org/flags/14.png</td><td>70</td><td>84</td><td>Liverpool</td><td>https://cdn.sofifa.org/24/18/teams/9.png</td><td>3.0e6</td><td>€38K</td><td>1688</td><td>76</td><td>34</td><td>73</td><td>69</td><td>76</td><td>64</td><td>54</td><td>54</td><td>73</td><td>70</td><td>42</td><td>9</td><td>15</td><td>14</td><td>9</td><td>10</td><td>64</td><td>22</td><td>69</td><td>58</td><td>57</td><td>24</td><td>71</td><td>66</td><td>63</td><td>71</td><td>68</td><td>22</td><td>74</td><td>68</td><td>15</td><td>70</td><td>63</td><td>65</td><td>69.0</td><td>40.0</td><td>47.0</td><td>69.0</td><td>62.0</td><td>225539.0</td><td>69.0</td><td>46.0</td><td>40.0</td><td>62.0</td><td>47.0</td><td>69.0</td><td>68.0</td><td>69.0</td><td>69.0</td><td>50.0</td><td>ST </td><td>69.0</td><td>46.0</td><td>40.0</td><td>62.0</td><td>47.0</td><td>69.0</td><td>68.0</td><td>69.0</td><td>69.0</td><td>50.0</td><td>69.0</td></tr><tr><th>23</th><td>4893</td><td>A. Bogdán</td><td>29</td><td>https://cdn.sofifa.org/48/18/players/184585.png</td><td>Hungary</td><td>https://cdn.sofifa.org/flags/23.png</td><td>70</td><td>70</td><td>Liverpool</td><td>https://cdn.sofifa.org/24/18/teams/9.png</td><td>1.0e6</td><td>€45K</td><td>1087</td><td>52</td><td>20</td><td>35</td><td>41</td><td>18</td><td>28</td><td>15</td><td>18</td><td>11</td><td>11</td><td>12</td><td>71</td><td>68</td><td>66</td><td>69</td><td>72</td><td>11</td><td>24</td><td>63</td><td>12</td><td>14</td><td>15</td><td>18</td><td>13</td><td>67</td><td>16</td><td>16</td><td>16</td><td>56</td><td>33</td><td>11</td><td>74</td><td>38</td><td>11</td><td>0.0</td><td>0.0</td><td>0.0</td><td>0.0</td><td>0.0</td><td>184585.0</td><td>0.0</td><td>0.0</td><td>0.0</td><td>0.0</td><td>0.0</td><td>0.0</td><td>0.0</td><td>0.0</td><td>0.0</td><td>0.0</td><td>GK </td><td>0.0</td><td>0.0</td><td>0.0</td><td>0.0</td><td>0.0</td><td>0.0</td><td>0.0</td><td>0.0</td><td>0.0</td><td>0.0</td><td>0.0</td></tr><tr><th>24</th><td>4912</td><td>J. Flanagan</td><td>24</td><td>https://cdn.sofifa.org/48/18/players/201999.png</td><td>England</td><td>https://cdn.sofifa.org/flags/14.png</td><td>70</td><td>76</td><td>Liverpool</td><td>https://cdn.sofifa.org/24/18/teams/9.png</td><td>2.0e6</td><td>€45K</td><td>1716</td><td>68</td><td>88</td><td>67</td><td>69</td><td>73</td><td>67</td><td>67</td><td>34</td><td>67</td><td>43</td><td>26</td><td>7</td><td>13</td><td>15</td><td>13</td><td>15</td><td>62</td><td>68</td><td>66</td><td>63</td><td>32</td><td>75</td><td>47</td><td>52</td><td>60</td><td>66</td><td>35</td><td>76</td><td>62</td><td>63</td><td>75</td><td>71</td><td>48</td><td>30</td><td>60.0</td><td>72.0</td><td>69.0</td><td>58.0</td><td>62.0</td><td>201999.0</td><td>60.0</td><td>69.0</td><td>72.0</td><td>62.0</td><td>69.0</td><td>58.0</td><td>63.0</td><td>55.0</td><td>61.0</td><td>68.0</td><td>LB RB </td><td>60.0</td><td>69.0</td><td>72.0</td><td>62.0</td><td>69.0</td><td>58.0</td><td>63.0</td><td>55.0</td><td>61.0</td><td>68.0</td><td>55.0</td></tr><tr><th>25</th><td>5121</td><td>J. Gomez</td><td>20</td><td>https://cdn.sofifa.org/48/18/players/225100.png</td><td>England</td><td>https://cdn.sofifa.org/flags/14.png</td><td>70</td><td>82</td><td>Liverpool</td><td>https://cdn.sofifa.org/24/18/teams/9.png</td><td>2.0e6</td><td>€40K</td><td>1623</td><td>75</td><td>63</td><td>64</td><td>66</td><td>65</td><td>63</td><td>57</td><td>41</td><td>65</td><td>26</td><td>29</td><td>8</td><td>13</td><td>14</td><td>7</td><td>7</td><td>69</td><td>68</td><td>64</td><td>53</td><td>26</td><td>69</td><td>26</td><td>51</td><td>65</td><td>65</td><td>41</td><td>71</td><td>78</td><td>67</td><td>71</td><td>78</td><td>39</td><td>24</td><td>56.0</td><td>69.0</td><td>65.0</td><td>55.0</td><td>57.0</td><td>225100.0</td><td>56.0</td><td>68.0</td><td>69.0</td><td>57.0</td><td>65.0</td><td>55.0</td><td>60.0</td><td>54.0</td><td>57.0</td><td>67.0</td><td>LB RB CB </td><td>56.0</td><td>68.0</td><td>69.0</td><td>57.0</td><td>65.0</td><td>55.0</td><td>60.0</td><td>54.0</td><td>57.0</td><td>67.0</td><td>54.0</td></tr><tr><th>26</th><td>5301</td><td>D. Ward</td><td>24</td><td>https://cdn.sofifa.org/48/18/players/207998.png</td><td>Wales</td><td>https://cdn.sofifa.org/flags/50.png</td><td>70</td><td>78</td><td>Liverpool</td><td>https://cdn.sofifa.org/24/18/teams/9.png</td><td>2.0e6</td><td>€35K</td><td>1148</td><td>47</td><td>25</td><td>38</td><td>60</td><td>23</td><td>30</td><td>13</td><td>15</td><td>19</td><td>11</td><td>14</td><td>70</td><td>69</td><td>63</td><td>67</td><td>73</td><td>13</td><td>22</td><td>55</td><td>42</td><td>16</td><td>19</td><td>20</td><td>19</td><td>67</td><td>30</td><td>25</td><td>18</td><td>42</td><td>22</td><td>20</td><td>60</td><td>38</td><td>13</td><td>0.0</td><td>0.0</td><td>0.0</td><td>0.0</td><td>0.0</td><td>207998.0</td><td>0.0</td><td>0.0</td><td>0.0</td><td>0.0</td><td>0.0</td><td>0.0</td><td>0.0</td><td>0.0</td><td>0.0</td><td>0.0</td><td>GK </td><td>0.0</td><td>0.0</td><td>0.0</td><td>0.0</td><td>0.0</td><td>0.0</td><td>0.0</td><td>0.0</td><td>0.0</td><td>0.0</td><td>0.0</td></tr><tr><th>27</th><td>5809</td><td>C. Brannagan</td><td>21</td><td>https://cdn.sofifa.org/48/18/players/220940.png</td><td>England</td><td>https://cdn.sofifa.org/flags/14.png</td><td>69</td><td>79</td><td>Liverpool</td><td>https://cdn.sofifa.org/24/18/teams/9.png</td><td>1.0e6</td><td>€38K</td><td>1881</td><td>64</td><td>75</td><td>69</td><td>67</td><td>64</td><td>67</td><td>68</td><td>72</td><td>63</td><td>58</td><td>74</td><td>12</td><td>7</td><td>8</td><td>8</td><td>12</td><td>53</td><td>61</td><td>62</td><td>76</td><td>67</td><td>62</td><td>53</td><td>63</td><td>63</td><td>74</td><td>74</td><td>66</td><td>66</td><td>69</td><td>64</td><td>63</td><td>72</td><td>52</td><td>67.0</td><td>64.0</td><td>67.0</td><td>65.0</td><td>68.0</td><td>220940.0</td><td>67.0</td><td>65.0</td><td>64.0</td><td>68.0</td><td>67.0</td><td>65.0</td><td>66.0</td><td>63.0</td><td>65.0</td><td>66.0</td><td>CAM CM </td><td>67.0</td><td>65.0</td><td>64.0</td><td>68.0</td><td>67.0</td><td>65.0</td><td>66.0</td><td>63.0</td><td>65.0</td><td>66.0</td><td>63.0</td></tr><tr><th>28</th><td>6161</td><td>T. Alexander-Arnold</td><td>18</td><td>https://cdn.sofifa.org/48/18/players/231281.png</td><td>England</td><td>https://cdn.sofifa.org/flags/14.png</td><td>69</td><td>85</td><td>Liverpool</td><td>https://cdn.sofifa.org/24/18/teams/9.png</td><td>1.0e6</td><td>€23K</td><td>1904</td><td>81</td><td>69</td><td>75</td><td>75</td><td>63</td><td>65</td><td>70</td><td>73</td><td>68</td><td>56</td><td>74</td><td>14</td><td>15</td><td>14</td><td>6</td><td>7</td><td>56</td><td>64</td><td>67</td><td>67</td><td>63</td><td>63</td><td>55</td><td>62</td><td>60</td><td>73</td><td>62</td><td>64</td><td>81</td><td>78</td><td>66</td><td>59</td><td>63</td><td>41</td><td>66.0</td><td>64.0</td><td>66.0</td><td>65.0</td><td>66.0</td><td>231281.0</td><td>66.0</td><td>68.0</td><td>64.0</td><td>66.0</td><td>66.0</td><td>65.0</td><td>68.0</td><td>62.0</td><td>67.0</td><td>69.0</td><td>CM RM RB </td><td>66.0</td><td>68.0</td><td>64.0</td><td>66.0</td><td>66.0</td><td>65.0</td><td>68.0</td><td>62.0</td><td>67.0</td><td>69.0</td><td>62.0</td></tr><tr><th>29</th><td>9691</td><td>O. Ejaria</td><td>19</td><td>https://cdn.sofifa.org/48/18/players/236246.png</td><td>England</td><td>https://cdn.sofifa.org/flags/14.png</td><td>66</td><td>81</td><td>Liverpool</td><td>https://cdn.sofifa.org/24/18/teams/9.png</td><td>1.0e6</td><td>€13K</td><td>1703</td><td>71</td><td>46</td><td>61</td><td>61</td><td>75</td><td>60</td><td>56</td><td>60</td><td>68</td><td>57</td><td>49</td><td>15</td><td>9</td><td>11</td><td>14</td><td>10</td><td>57</td><td>27</td><td>58</td><td>71</td><td>47</td><td>45</td><td>57</td><td>50</td><td>63</td><td>74</td><td>67</td><td>57</td><td>74</td><td>60</td><td>47</td><td>75</td><td>55</td><td>56</td><td>65.0</td><td>53.0</td><td>57.0</td><td>64.0</td><td>63.0</td><td>236246.0</td><td>65.0</td><td>56.0</td><td>53.0</td><td>63.0</td><td>57.0</td><td>64.0</td><td>65.0</td><td>63.0</td><td>64.0</td><td>58.0</td><td>CM CAM </td><td>65.0</td><td>56.0</td><td>53.0</td><td>63.0</td><td>57.0</td><td>64.0</td><td>65.0</td><td>63.0</td><td>64.0</td><td>58.0</td><td>63.0</td></tr><tr><th>30</th><td>10727</td><td>B. Woodburn</td><td>17</td><td>https://cdn.sofifa.org/48/18/players/236248.png</td><td>Wales</td><td>https://cdn.sofifa.org/flags/50.png</td><td>65</td><td>85</td><td>Liverpool</td><td>https://cdn.sofifa.org/24/18/teams/9.png</td><td>1.0e6</td><td>€15K</td><td>1570</td><td>82</td><td>31</td><td>81</td><td>79</td><td>68</td><td>58</td><td>53</td><td>47</td><td>67</td><td>61</td><td>45</td><td>14</td><td>7</td><td>7</td><td>8</td><td>12</td><td>44</td><td>28</td><td>60</td><td>62</td><td>63</td><td>16</td><td>62</td><td>65</td><td>60</td><td>66</td><td>66</td><td>21</td><td>73</td><td>64</td><td>15</td><td>56</td><td>59</td><td>45</td><td>64.0</td><td>35.0</td><td>44.0</td><td>64.0</td><td>58.0</td><td>236248.0</td><td>64.0</td><td>44.0</td><td>35.0</td><td>58.0</td><td>44.0</td><td>64.0</td><td>64.0</td><td>62.0</td><td>65.0</td><td>47.0</td><td>CAM ST LW </td><td>64.0</td><td>44.0</td><td>35.0</td><td>58.0</td><td>44.0</td><td>64.0</td><td>64.0</td><td>62.0</td><td>65.0</td><td>47.0</td><td>62.0</td></tr><tr><th>&vellip;</th><td>&vellip;</td><td>&vellip;</td><td>&vellip;</td><td>&vellip;</td><td>&vellip;</td><td>&vellip;</td><td>&vellip;</td><td>&vellip;</td><td>&vellip;</td><td>&vellip;</td><td>&vellip;</td><td>&vellip;</td><td>&vellip;</td><td>&vellip;</td><td>&vellip;</td><td>&vellip;</td><td>&vellip;</td><td>&vellip;</td><td>&vellip;</td><td>&vellip;</td><td>&vellip;</td><td>&vellip;</td><td>&vellip;</td><td>&vellip;</td><td>&vellip;</td><td>&vellip;</td><td>&vellip;</td><td>&vellip;</td><td>&vellip;</td><td>&vellip;</td><td>&vellip;</td><td>&vellip;</td><td>&vellip;</td><td>&vellip;</td><td>&vellip;</td><td>&vellip;</td><td>&vellip;</td><td>&vellip;</td><td>&vellip;</td><td>&vellip;</td><td>&vellip;</td><td>&vellip;</td><td>&vellip;</td><td>&vellip;</td><td>&vellip;</td><td>&vellip;</td><td>&vellip;</td><td>&vellip;</td><td>&vellip;</td><td>&vellip;</td><td>&vellip;</td><td>&vellip;</td><td>&vellip;</td><td>&vellip;</td><td>&vellip;</td><td>&vellip;</td><td>&vellip;</td><td>&vellip;</td><td>&vellip;</td><td>&vellip;</td><td>&vellip;</td><td>&vellip;</td><td>&vellip;</td><td>&vellip;</td><td>&vellip;</td><td>&vellip;</td><td>&vellip;</td><td>&vellip;</td><td>&vellip;</td><td>&vellip;</td><td>&vellip;</td><td>&vellip;</td><td>&vellip;</td><td>&vellip;</td><td>&vellip;</td></tr></tbody></table>"
      ],
      "text/plain": [
       "31×75 DataFrames.DataFrame. Omitted printing of 72 columns\n",
       "│ Row │ x     │ Name                │ Age │\n",
       "├─────┼───────┼─────────────────────┼─────┤\n",
       "│ 1   │ 55    │ Coutinho            │ 25  │\n",
       "│ 2   │ 98    │ S. Mané             │ 25  │\n",
       "│ 3   │ 138   │ M. Salah            │ 25  │\n",
       "│ 4   │ 146   │ Roberto Firmino     │ 25  │\n",
       "│ 5   │ 152   │ J. Matip            │ 25  │\n",
       "│ 6   │ 172   │ A. Lallana          │ 29  │\n",
       "│ 7   │ 249   │ N. Clyne            │ 26  │\n",
       "│ 8   │ 262   │ J. Henderson        │ 27  │\n",
       "│ 9   │ 268   │ G. Wijnaldum        │ 26  │\n",
       "│ 10  │ 279   │ D. Sturridge        │ 27  │\n",
       "│ 11  │ 340   │ D. Lovren           │ 27  │\n",
       "⋮\n",
       "│ 20  │ 1947  │ A. Robertson        │ 23  │\n",
       "│ 21  │ 4537  │ M. Grujić           │ 21  │\n",
       "│ 22  │ 4868  │ D. Solanke          │ 19  │\n",
       "│ 23  │ 4893  │ A. Bogdán           │ 29  │\n",
       "│ 24  │ 4912  │ J. Flanagan         │ 24  │\n",
       "│ 25  │ 5121  │ J. Gomez            │ 20  │\n",
       "│ 26  │ 5301  │ D. Ward             │ 24  │\n",
       "│ 27  │ 5809  │ C. Brannagan        │ 21  │\n",
       "│ 28  │ 6161  │ T. Alexander-Arnold │ 18  │\n",
       "│ 29  │ 9691  │ O. Ejaria           │ 19  │\n",
       "│ 30  │ 10727 │ B. Woodburn         │ 17  │\n",
       "│ 31  │ 12877 │ L. Jones            │ 21  │"
      ]
     },
     "execution_count": 3,
     "metadata": {},
     "output_type": "execute_result"
    }
   ],
   "source": [
    "## narrow down the dataset to only teams in the premier league(defined in the teams variable)\n",
    "\n",
    "premierLeagueTeamPlayerIndices = []\n",
    "\n",
    "for i in 1:nrow(df)\n",
    "#     println(i)\n",
    "    if in(df[i, 9],teams) == true\n",
    "        push!(premierLeagueTeamPlayerIndices, i) ## add this index into our array\n",
    "    end\n",
    "end\n",
    "\n",
    "premierLeagueTeamPlayers = df[premierLeagueTeamPlayerIndices,:]\n",
    "\n",
    "# from the players in the premier league, obtain players for my team\n",
    "myteamPlayers = premierLeagueTeamPlayers[premierLeagueTeamPlayers[:,9] .== my_team,:]"
   ]
  },
  {
   "cell_type": "markdown",
   "metadata": {},
   "source": [
    "## Construct best possible squad "
   ]
  },
  {
   "cell_type": "code",
   "execution_count": 4,
   "metadata": {},
   "outputs": [
    {
     "data": {
      "text/html": [
       "<table class=\"data-frame\"><thead><tr><th></th><th>x</th><th>Name</th><th>Age</th><th>Photo</th><th>Nationality</th><th>Flag</th><th>Overall</th><th>Potential</th><th>Club</th><th>Club_Logo</th><th>Value</th><th>Wage</th><th>Special</th><th>Acceleration</th><th>Aggression</th><th>Agility</th><th>Balance</th><th>Ball_control</th><th>Composure</th><th>Crossing</th><th>Curve</th><th>Dribbling</th><th>Finishing</th><th>Free_kick_accuracy</th><th>GK_diving</th><th>GK_handling</th><th>GK_kicking</th><th>GK_positioning</th><th>GK_reflexes</th><th>Heading_accuracy</th><th>Interceptions</th><th>Jumping</th><th>Long_passing</th><th>Long_shots</th><th>Marking</th><th>Penalties</th><th>Positioning</th><th>Reactions</th><th>Short_passing</th><th>Shot_power</th><th>Sliding_tackle</th><th>Sprint_speed</th><th>Stamina</th><th>Standing_tackle</th><th>Strength</th><th>Vision</th><th>Volleys</th><th>CAM</th><th>CB</th><th>CDM</th><th>CF</th><th>CM</th><th>ID</th><th>LAM</th><th>LB</th><th>LCB</th><th>LCM</th><th>LDM</th><th>LF</th><th>LM</th><th>LS</th><th>LW</th><th>LWB</th><th>Preferred_Positions</th><th>RAM</th><th>RB</th><th>RCB</th><th>RCM</th><th>RDM</th><th>RF</th><th>RM</th><th>RS</th><th>RW</th><th>RWB</th><th>ST</th></tr></thead><tbody><tr><th>1</th><td>55</td><td>Coutinho</td><td>25</td><td>https://cdn.sofifa.org/48/18/players/189242.png</td><td>Brazil</td><td>https://cdn.sofifa.org/flags/54.png</td><td>86</td><td>89</td><td>Liverpool</td><td>https://cdn.sofifa.org/24/18/teams/9.png</td><td>5.6e7</td><td>€205K</td><td>2049</td><td>88</td><td>55</td><td>92</td><td>92</td><td>88</td><td>85</td><td>77</td><td>84</td><td>88</td><td>74</td><td>82</td><td>12</td><td>7</td><td>9</td><td>14</td><td>6</td><td>47</td><td>30</td><td>59</td><td>78</td><td>86</td><td>24</td><td>64</td><td>83</td><td>81</td><td>85</td><td>80</td><td>40</td><td>77</td><td>80</td><td>44</td><td>61</td><td>87</td><td>75</td><td>85.0</td><td>49.0</td><td>61.0</td><td>83.0</td><td>79.0</td><td>189242.0</td><td>85.0</td><td>60.0</td><td>49.0</td><td>79.0</td><td>61.0</td><td>83.0</td><td>83.0</td><td>77.0</td><td>84.0</td><td>64.0</td><td>CAM LW </td><td>85.0</td><td>60.0</td><td>49.0</td><td>79.0</td><td>61.0</td><td>83.0</td><td>83.0</td><td>77.0</td><td>84.0</td><td>64.0</td><td>77.0</td></tr><tr><th>2</th><td>98</td><td>S. Mané</td><td>25</td><td>https://cdn.sofifa.org/48/18/players/208722.png</td><td>Senegal</td><td>https://cdn.sofifa.org/flags/136.png</td><td>84</td><td>87</td><td>Liverpool</td><td>https://cdn.sofifa.org/24/18/teams/9.png</td><td>3.9e7</td><td>€175K</td><td>2046</td><td>94</td><td>73</td><td>89</td><td>85</td><td>84</td><td>78</td><td>72</td><td>74</td><td>86</td><td>83</td><td>64</td><td>10</td><td>10</td><td>15</td><td>7</td><td>14</td><td>53</td><td>31</td><td>75</td><td>71</td><td>69</td><td>33</td><td>71</td><td>84</td><td>80</td><td>77</td><td>77</td><td>38</td><td>92</td><td>82</td><td>35</td><td>72</td><td>78</td><td>68</td><td>81.0</td><td>51.0</td><td>60.0</td><td>82.0</td><td>74.0</td><td>208722.0</td><td>81.0</td><td>60.0</td><td>51.0</td><td>74.0</td><td>60.0</td><td>82.0</td><td>82.0</td><td>79.0</td><td>83.0</td><td>63.0</td><td>LW RW </td><td>81.0</td><td>60.0</td><td>51.0</td><td>74.0</td><td>60.0</td><td>82.0</td><td>82.0</td><td>79.0</td><td>83.0</td><td>63.0</td><td>79.0</td></tr><tr><th>3</th><td>146</td><td>Roberto Firmino</td><td>25</td><td>https://cdn.sofifa.org/48/18/players/201942.png</td><td>Brazil</td><td>https://cdn.sofifa.org/flags/54.png</td><td>83</td><td>87</td><td>Liverpool</td><td>https://cdn.sofifa.org/24/18/teams/9.png</td><td>3.4e7</td><td>€135K</td><td>2101</td><td>77</td><td>66</td><td>82</td><td>81</td><td>85</td><td>78</td><td>72</td><td>80</td><td>87</td><td>83</td><td>67</td><td>8</td><td>11</td><td>9</td><td>6</td><td>10</td><td>72</td><td>37</td><td>81</td><td>75</td><td>80</td><td>30</td><td>72</td><td>84</td><td>82</td><td>83</td><td>79</td><td>42</td><td>77</td><td>86</td><td>59</td><td>76</td><td>83</td><td>79</td><td>83.0</td><td>58.0</td><td>65.0</td><td>83.0</td><td>79.0</td><td>201942.0</td><td>83.0</td><td>63.0</td><td>58.0</td><td>79.0</td><td>65.0</td><td>83.0</td><td>82.0</td><td>81.0</td><td>82.0</td><td>66.0</td><td>CAM CF ST </td><td>83.0</td><td>63.0</td><td>58.0</td><td>79.0</td><td>65.0</td><td>83.0</td><td>82.0</td><td>81.0</td><td>82.0</td><td>66.0</td><td>81.0</td></tr><tr><th>4</th><td>152</td><td>J. Matip</td><td>25</td><td>https://cdn.sofifa.org/48/18/players/197061.png</td><td>Cameroon</td><td>https://cdn.sofifa.org/flags/103.png</td><td>83</td><td>85</td><td>Liverpool</td><td>https://cdn.sofifa.org/24/18/teams/9.png</td><td>2.6e7</td><td>€110K</td><td>1884</td><td>60</td><td>81</td><td>58</td><td>49</td><td>71</td><td>75</td><td>54</td><td>63</td><td>65</td><td>36</td><td>22</td><td>11</td><td>15</td><td>10</td><td>7</td><td>10</td><td>85</td><td>85</td><td>67</td><td>74</td><td>48</td><td>83</td><td>42</td><td>51</td><td>81</td><td>77</td><td>66</td><td>79</td><td>73</td><td>73</td><td>85</td><td>81</td><td>72</td><td>50</td><td>66.0</td><td>82.0</td><td>79.0</td><td>64.0</td><td>72.0</td><td>197061.0</td><td>66.0</td><td>76.0</td><td>82.0</td><td>72.0</td><td>79.0</td><td>64.0</td><td>66.0</td><td>63.0</td><td>63.0</td><td>75.0</td><td>CB </td><td>66.0</td><td>76.0</td><td>82.0</td><td>72.0</td><td>79.0</td><td>64.0</td><td>66.0</td><td>63.0</td><td>63.0</td><td>75.0</td><td>63.0</td></tr><tr><th>5</th><td>172</td><td>A. Lallana</td><td>29</td><td>https://cdn.sofifa.org/48/18/players/180819.png</td><td>England</td><td>https://cdn.sofifa.org/flags/14.png</td><td>83</td><td>83</td><td>Liverpool</td><td>https://cdn.sofifa.org/24/18/teams/9.png</td><td>2.5e7</td><td>€135K</td><td>2141</td><td>74</td><td>74</td><td>83</td><td>76</td><td>86</td><td>80</td><td>74</td><td>77</td><td>85</td><td>79</td><td>66</td><td>6</td><td>15</td><td>14</td><td>8</td><td>11</td><td>67</td><td>68</td><td>73</td><td>77</td><td>72</td><td>60</td><td>70</td><td>77</td><td>78</td><td>86</td><td>72</td><td>62</td><td>72</td><td>90</td><td>67</td><td>67</td><td>83</td><td>72</td><td>82.0</td><td>69.0</td><td>75.0</td><td>80.0</td><td>81.0</td><td>180819.0</td><td>82.0</td><td>73.0</td><td>69.0</td><td>81.0</td><td>75.0</td><td>80.0</td><td>81.0</td><td>77.0</td><td>80.0</td><td>75.0</td><td>CM </td><td>82.0</td><td>73.0</td><td>69.0</td><td>81.0</td><td>75.0</td><td>80.0</td><td>81.0</td><td>77.0</td><td>80.0</td><td>75.0</td><td>77.0</td></tr><tr><th>6</th><td>249</td><td>N. Clyne</td><td>26</td><td>https://cdn.sofifa.org/48/18/players/190456.png</td><td>England</td><td>https://cdn.sofifa.org/flags/14.png</td><td>82</td><td>84</td><td>Liverpool</td><td>https://cdn.sofifa.org/24/18/teams/9.png</td><td>2.2e7</td><td>€115K</td><td>2057</td><td>82</td><td>76</td><td>83</td><td>76</td><td>76</td><td>75</td><td>79</td><td>64</td><td>76</td><td>54</td><td>39</td><td>10</td><td>11</td><td>13</td><td>15</td><td>7</td><td>67</td><td>79</td><td>69</td><td>67</td><td>69</td><td>81</td><td>46</td><td>72</td><td>76</td><td>77</td><td>74</td><td>86</td><td>83</td><td>87</td><td>83</td><td>71</td><td>64</td><td>45</td><td>73.0</td><td>78.0</td><td>77.0</td><td>72.0</td><td>74.0</td><td>190456.0</td><td>73.0</td><td>81.0</td><td>78.0</td><td>74.0</td><td>77.0</td><td>72.0</td><td>75.0</td><td>70.0</td><td>74.0</td><td>81.0</td><td>RB </td><td>73.0</td><td>81.0</td><td>78.0</td><td>74.0</td><td>77.0</td><td>72.0</td><td>75.0</td><td>70.0</td><td>74.0</td><td>81.0</td><td>70.0</td></tr><tr><th>7</th><td>262</td><td>J. Henderson</td><td>27</td><td>https://cdn.sofifa.org/48/18/players/183711.png</td><td>England</td><td>https://cdn.sofifa.org/flags/14.png</td><td>82</td><td>84</td><td>Liverpool</td><td>https://cdn.sofifa.org/24/18/teams/9.png</td><td>2.1e7</td><td>€115K</td><td>2183</td><td>73</td><td>80</td><td>73</td><td>71</td><td>80</td><td>78</td><td>81</td><td>80</td><td>74</td><td>67</td><td>74</td><td>7</td><td>13</td><td>7</td><td>9</td><td>13</td><td>65</td><td>79</td><td>81</td><td>83</td><td>71</td><td>73</td><td>64</td><td>76</td><td>79</td><td>85</td><td>75</td><td>76</td><td>71</td><td>93</td><td>80</td><td>76</td><td>82</td><td>72</td><td>78.0</td><td>77.0</td><td>81.0</td><td>76.0</td><td>81.0</td><td>183711.0</td><td>78.0</td><td>79.0</td><td>77.0</td><td>81.0</td><td>81.0</td><td>76.0</td><td>78.0</td><td>74.0</td><td>76.0</td><td>80.0</td><td>CM CDM </td><td>78.0</td><td>79.0</td><td>77.0</td><td>81.0</td><td>81.0</td><td>76.0</td><td>78.0</td><td>74.0</td><td>76.0</td><td>80.0</td><td>74.0</td></tr><tr><th>8</th><td>340</td><td>D. Lovren</td><td>27</td><td>https://cdn.sofifa.org/48/18/players/195086.png</td><td>Croatia</td><td>https://cdn.sofifa.org/flags/10.png</td><td>81</td><td>83</td><td>Liverpool</td><td>https://cdn.sofifa.org/24/18/teams/9.png</td><td>1.7e7</td><td>€110K</td><td>1739</td><td>57</td><td>87</td><td>53</td><td>43</td><td>67</td><td>69</td><td>59</td><td>26</td><td>63</td><td>33</td><td>18</td><td>14</td><td>14</td><td>13</td><td>10</td><td>7</td><td>77</td><td>82</td><td>82</td><td>66</td><td>34</td><td>78</td><td>52</td><td>21</td><td>75</td><td>68</td><td>63</td><td>85</td><td>55</td><td>70</td><td>82</td><td>86</td><td>56</td><td>42</td><td>56.0</td><td>80.0</td><td>75.0</td><td>54.0</td><td>63.0</td><td>195086.0</td><td>56.0</td><td>73.0</td><td>80.0</td><td>63.0</td><td>75.0</td><td>54.0</td><td>58.0</td><td>54.0</td><td>55.0</td><td>72.0</td><td>CB </td><td>56.0</td><td>73.0</td><td>80.0</td><td>63.0</td><td>75.0</td><td>54.0</td><td>58.0</td><td>54.0</td><td>55.0</td><td>72.0</td><td>54.0</td></tr><tr><th>9</th><td>373</td><td>S. Mignolet</td><td>29</td><td>https://cdn.sofifa.org/48/18/players/173426.png</td><td>Belgium</td><td>https://cdn.sofifa.org/flags/7.png</td><td>81</td><td>81</td><td>Liverpool</td><td>https://cdn.sofifa.org/24/18/teams/9.png</td><td>1.2e7</td><td>€91K</td><td>1266</td><td>55</td><td>34</td><td>34</td><td>42</td><td>24</td><td>66</td><td>11</td><td>16</td><td>14</td><td>11</td><td>12</td><td>80</td><td>76</td><td>65</td><td>78</td><td>84</td><td>16</td><td>21</td><td>69</td><td>34</td><td>16</td><td>13</td><td>41</td><td>16</td><td>77</td><td>37</td><td>45</td><td>16</td><td>56</td><td>31</td><td>14</td><td>72</td><td>40</td><td>16</td><td>0.0</td><td>0.0</td><td>0.0</td><td>0.0</td><td>0.0</td><td>173426.0</td><td>0.0</td><td>0.0</td><td>0.0</td><td>0.0</td><td>0.0</td><td>0.0</td><td>0.0</td><td>0.0</td><td>0.0</td><td>0.0</td><td>GK </td><td>0.0</td><td>0.0</td><td>0.0</td><td>0.0</td><td>0.0</td><td>0.0</td><td>0.0</td><td>0.0</td><td>0.0</td><td>0.0</td><td>0.0</td></tr><tr><th>10</th><td>409</td><td>E. Can</td><td>23</td><td>https://cdn.sofifa.org/48/18/players/208333.png</td><td>Germany</td><td>https://cdn.sofifa.org/flags/21.png</td><td>80</td><td>85</td><td>Liverpool</td><td>https://cdn.sofifa.org/24/18/teams/9.png</td><td>1.9e7</td><td>€105K</td><td>2135</td><td>69</td><td>83</td><td>73</td><td>71</td><td>80</td><td>74</td><td>70</td><td>68</td><td>76</td><td>60</td><td>65</td><td>14</td><td>8</td><td>8</td><td>13</td><td>11</td><td>70</td><td>79</td><td>76</td><td>80</td><td>72</td><td>78</td><td>60</td><td>73</td><td>77</td><td>81</td><td>79</td><td>79</td><td>73</td><td>85</td><td>80</td><td>84</td><td>80</td><td>61</td><td>76.0</td><td>79.0</td><td>80.0</td><td>75.0</td><td>79.0</td><td>208333.0</td><td>76.0</td><td>77.0</td><td>79.0</td><td>79.0</td><td>80.0</td><td>75.0</td><td>76.0</td><td>73.0</td><td>74.0</td><td>78.0</td><td>CDM CM </td><td>76.0</td><td>77.0</td><td>79.0</td><td>79.0</td><td>80.0</td><td>75.0</td><td>76.0</td><td>73.0</td><td>74.0</td><td>78.0</td><td>73.0</td></tr><tr><th>11</th><td>510</td><td>J. Milner</td><td>31</td><td>https://cdn.sofifa.org/48/18/players/138412.png</td><td>England</td><td>https://cdn.sofifa.org/flags/14.png</td><td>80</td><td>80</td><td>Liverpool</td><td>https://cdn.sofifa.org/24/18/teams/9.png</td><td>9.0e6</td><td>€110K</td><td>2155</td><td>69</td><td>79</td><td>72</td><td>73</td><td>78</td><td>86</td><td>85</td><td>81</td><td>77</td><td>66</td><td>77</td><td>1</td><td>1</td><td>1</td><td>1</td><td>1</td><td>69</td><td>76</td><td>64</td><td>81</td><td>77</td><td>76</td><td>83</td><td>75</td><td>84</td><td>84</td><td>85</td><td>79</td><td>66</td><td>91</td><td>77</td><td>73</td><td>77</td><td>76</td><td>77.0</td><td>76.0</td><td>80.0</td><td>76.0</td><td>80.0</td><td>138412.0</td><td>77.0</td><td>79.0</td><td>76.0</td><td>80.0</td><td>80.0</td><td>76.0</td><td>78.0</td><td>75.0</td><td>76.0</td><td>80.0</td><td>CM LB </td><td>77.0</td><td>79.0</td><td>76.0</td><td>80.0</td><td>80.0</td><td>76.0</td><td>78.0</td><td>75.0</td><td>76.0</td><td>80.0</td><td>75.0</td></tr></tbody></table>"
      ],
      "text/plain": [
       "11×75 DataFrames.DataFrame. Omitted printing of 72 columns\n",
       "│ Row │ x   │ Name            │ Age │\n",
       "├─────┼─────┼─────────────────┼─────┤\n",
       "│ 1   │ 55  │ Coutinho        │ 25  │\n",
       "│ 2   │ 98  │ S. Mané         │ 25  │\n",
       "│ 3   │ 146 │ Roberto Firmino │ 25  │\n",
       "│ 4   │ 152 │ J. Matip        │ 25  │\n",
       "│ 5   │ 172 │ A. Lallana      │ 29  │\n",
       "│ 6   │ 249 │ N. Clyne        │ 26  │\n",
       "│ 7   │ 262 │ J. Henderson    │ 27  │\n",
       "│ 8   │ 340 │ D. Lovren       │ 27  │\n",
       "│ 9   │ 373 │ S. Mignolet     │ 29  │\n",
       "│ 10  │ 409 │ E. Can          │ 23  │\n",
       "│ 11  │ 510 │ J. Milner       │ 31  │"
      ]
     },
     "execution_count": 4,
     "metadata": {},
     "output_type": "execute_result"
    }
   ],
   "source": [
    "## the following function will take your existing squad and optimize it to be the best it can be for a given game\n",
    "## For sake of simplicity, we will assume that every team always plays the regular (and debatably effective) 4-3-3 formation. \n",
    "## This involves 4 defenders, 3 midfielders and 3 strikers\n",
    "\n",
    "# returns a sparse matrix indicating player positions\n",
    "# takes as input the dataframe of your team (eg: Southampton)\n",
    "positions_labels = [\"ST\",\"LW\",\"RW\",\"GK\",\"CDM\",\"CM\",\"CB\",\"RM\",\"CAM\",\"LM\",\"LB\",\"CF\",\"RB\",\"RWB\",\"LWB\"]\n",
    "\n",
    "function createSquadPosition(team_df)\n",
    "    positionsMatrix = Array{Int}(nrow(team_df),length(positions_labels)) # initialize an array to hold positions\n",
    "    for i in 1:nrow(team_df)\n",
    "        preferredPos =  split(lstrip(rstrip(team_df[i, 64])))\n",
    "        positionsMatrix[i,:] = 0\n",
    "        for j in 1:length(preferredPos) # locate the position definition\n",
    "            f(x) = x .== preferredPos[j]\n",
    "            positionsMatrix[i,find(f, positions_labels)[1]] = 1\n",
    "        end\n",
    "    end\n",
    "    return positionsMatrix\n",
    "end\n",
    "\n",
    "\n",
    "using JuMP, Cbc\n",
    "\n",
    "squad = myteamPlayers\n",
    "positions = createSquadPosition(squad) # get preferred positions of each player (returns a sparse matrix)\n",
    "formation = [1,1,1,1,2,1,2,0,0,0,1,0,1,0,0] # 4-3-3 formation\n",
    "overall = squad[:,7]\n",
    "\n",
    "m = Model(solver=CbcSolver())\n",
    "@variable(m, my_squad[1:nrow(squad)], Bin) # create a variable to hold 33 players\n",
    "@variable(m, position_preference[1:nrow(squad),1:length(positions_labels)], Bin) # holds player preference positions\n",
    "\n",
    "# constraint to pick preferred player\n",
    "for j in 1:length(formation)\n",
    "    @constraint(m, sum(positions[i,j]*(position_preference[i,j]) for i in 1:nrow(squad)) == formation[j])\n",
    "end\n",
    "\n",
    "#constraint to ensure that only one player is picked per position\n",
    "for j in 1:nrow(squad)\n",
    "    @constraint(m,  0 <= sum(position_preference[j,:]) <= 1)\n",
    "end\n",
    "\n",
    "# constraint to ensure that only 11 players are picked in a team\n",
    "@constraint(m, sum(position_preference) == 11)\n",
    "\n",
    "# maximize the overall team rating \n",
    "@objective(m, Max, sum(sum(position_preference[i,:])*overall[i] for i in 1:nrow(squad)))\n",
    "solve(m)\n",
    "\n",
    "selection = []\n",
    "for i in 1:nrow(squad)\n",
    "    if(sum(getvalue(position_preference)[i,:]) == 1)\n",
    "        push!(selection, i)\n",
    "    end\n",
    "end\n",
    "squad[selection,:]\n"
   ]
  },
  {
   "cell_type": "markdown",
   "metadata": {},
   "source": [
    "## Team Chemistry"
   ]
  },
  {
   "cell_type": "code",
   "execution_count": 5,
   "metadata": {
    "collapsed": true
   },
   "outputs": [
    {
     "data": {
      "text/plain": [
       "31×31 Array{Int64,2}:\n",
       " 1  0  0  1  0  0  0  0  0  0  0  0  0  …  0  0  0  0  0  0  0  0  0  0  0  0\n",
       " 0  1  0  0  0  0  0  0  0  0  0  0  0     0  0  0  0  0  0  0  0  0  0  0  0\n",
       " 0  0  1  0  0  0  0  0  0  0  0  0  0     0  0  0  0  0  0  0  0  0  0  0  0\n",
       " 1  0  0  1  0  0  0  0  0  0  0  0  0     0  0  0  0  0  0  0  0  0  0  0  0\n",
       " 0  0  0  0  1  0  0  0  0  0  0  0  0     0  0  0  0  0  0  0  0  0  0  0  0\n",
       " 0  0  0  0  0  1  1  1  0  1  0  0  0  …  0  0  1  0  1  1  0  1  1  1  0  1\n",
       " 0  0  0  0  0  1  1  1  0  1  0  0  0     0  0  1  0  1  1  0  1  1  1  0  1\n",
       " 0  0  0  0  0  1  1  1  0  1  0  0  0     0  0  1  0  1  1  0  1  1  1  0  1\n",
       " 0  0  0  0  0  0  0  0  1  0  0  0  0     0  0  0  0  0  0  0  0  0  0  0  0\n",
       " 0  0  0  0  0  1  1  1  0  1  0  0  0     0  0  1  0  1  1  0  1  1  1  0  1\n",
       " 0  0  0  0  0  0  0  0  0  0  1  0  0  …  0  0  0  0  0  0  0  0  0  0  0  0\n",
       " 0  0  0  0  0  0  0  0  0  0  0  1  0     0  0  0  0  0  0  0  0  0  0  0  0\n",
       " 0  0  0  0  0  0  0  0  0  0  0  0  1     0  0  0  0  0  0  0  0  0  0  0  0\n",
       " ⋮              ⋮              ⋮        ⋱     ⋮              ⋮              ⋮\n",
       " 0  0  0  0  0  0  0  0  0  0  0  0  0     1  0  0  0  0  0  0  0  0  0  0  0\n",
       " 0  0  0  0  0  0  0  0  0  0  0  0  0  …  0  1  0  0  0  0  0  0  0  0  0  0\n",
       " 0  0  0  0  0  1  1  1  0  1  0  0  0     0  0  1  0  1  1  0  1  1  1  0  1\n",
       " 0  0  0  0  0  0  0  0  0  0  0  0  0     0  0  0  1  0  0  0  0  0  0  0  0\n",
       " 0  0  0  0  0  1  1  1  0  1  0  0  0     0  0  1  0  1  1  0  1  1  1  0  1\n",
       " 0  0  0  0  0  1  1  1  0  1  0  0  0     0  0  1  0  1  1  0  1  1  1  0  1\n",
       " 0  0  0  0  0  0  0  0  0  0  0  0  0  …  0  0  0  0  0  0  1  0  0  0  1  0\n",
       " 0  0  0  0  0  1  1  1  0  1  0  0  0     0  0  1  0  1  1  0  1  1  1  0  1\n",
       " 0  0  0  0  0  1  1  1  0  1  0  0  0     0  0  1  0  1  1  0  1  1  1  0  1\n",
       " 0  0  0  0  0  1  1  1  0  1  0  0  0     0  0  1  0  1  1  0  1  1  1  0  1\n",
       " 0  0  0  0  0  0  0  0  0  0  0  0  0     0  0  0  0  0  0  1  0  0  0  1  0\n",
       " 0  0  0  0  0  1  1  1  0  1  0  0  0  …  0  0  1  0  1  1  0  1  1  1  0  1"
      ]
     },
     "execution_count": 5,
     "metadata": {},
     "output_type": "execute_result"
    }
   ],
   "source": [
    "\n",
    "function createChemistryMatrix(squad)\n",
    "    nationality = squad[:,5]\n",
    "    \n",
    "    chemistryMatrix = Array{Int}(nrow(squad),nrow(squad))\n",
    "    for i in 1:length(nationality)\n",
    "        chemistryMatrix[i,:] = 0\n",
    "        chemistryMatrix[i,find(x -> x == nationality[i], nationality)] = 1\n",
    "    end\n",
    "    return chemistryMatrix\n",
    "end\n",
    "createChemistryMatrix(squad)"
   ]
  },
  {
   "cell_type": "code",
   "execution_count": 6,
   "metadata": {},
   "outputs": [],
   "source": [
    "using JuMP, Cbc\n",
    "\n",
    "# obtain our squad of players and set their formations\n",
    "squad = myteamPlayers\n",
    "positions = createSquadPosition(squad) # get preferred positions of each player (returns a sparse matrix)\n",
    "formation = [1,1,1,1,2,1,2,0,0,0,1,0,1,0,0] # 4-3-3 formation\n",
    "overall = squad[:,7]\n",
    "\n",
    "#incidence matrix for 4-3-3 formation\n",
    "# it tells us which position links up with which other position\n",
    "# in the 4-3-3 formation. The neighboring players\n",
    "# that a certain player links up with determines the chemistry\n",
    "# at that position\n",
    "\n",
    "\n",
    "linkups = [0 1 1 0 0 0 0 0 0 0 0 0 0 0 0 0 0  \n",
    "             1 0 1 0 1 0 0 0 1 0 0 0 0 0 0 0 0 \n",
    "             1 1 0 0 0 1 0 0 1 0 0 0 0 0 0 0 0 \n",
    "             0 0 0 0 0 0 0 0 0 0 0 0 0 0 0 0 0 \n",
    "             0 1 0 0 0 0 1 0 0 0 0 0 0 0 0 0 0 \n",
    "             0 0 1 0 0 0 0 1 0 0 0 0 0 0 0 0 0 \n",
    "             0 0 0 0 1 0 0 1 1 0 1 1 0 0 0 0 0 \n",
    "             0 0 0 0 0 1 1 0 1 1 0 1 0 0 0 0 0 \n",
    "             0 1 1 0 0 0 1 1 0 0 0 0 0 0 0 0 0 \n",
    "             0 0 0 0 0 0 0 1 0 0 0 1 0 0 0 0 0 \n",
    "             0 0 0 0 0 0 1 0 0 0 0 1 0 0 0 0 0 \n",
    "             0 0 0 0 0 0 1 1 0 1 1 0 0 0 0 0 0 \n",
    "             0 0 0 0 0 0 0 0 0 0 0 0 0 0 0 0 0 \n",
    "             0 0 0 0 0 0 0 0 0 0 0 0 0 0 0 0 0 \n",
    "             0 0 0 0 0 0 0 0 0 0 0 0 0 0 0 0 0 \n",
    "             0 0 0 0 0 0 0 0 0 0 0 0 0 0 0 0 0 \n",
    "             0 0 0 0 0 0 0 0 0 0 0 0 0 0 0 0 0]\n",
    "                    \n",
    "chemistry = createChemistryMatrix(squad)\n",
    "# for positions in the formation array that have more than 2 players,\n",
    "# they are in reality two different positions that perform the same function \n",
    "# and hence can be performed by players in the same region\n",
    "\n",
    "# find positions with more than one player\n",
    "duplicates = find(x-> x > 1, formation)\n",
    "clone_columns = [] #  store the columns pertaining to the duplicate positions\n",
    "# clone the columns of the duplicates to the right.\n",
    "duplicate_col_pos = length(positions_labels)+1\n",
    "for i in 1:length(duplicates)\n",
    "    dupcol = []\n",
    "    # repeat for formation[j]-1 times\n",
    "    for j in 1:(formation[duplicates[i]] - 1)\n",
    "        positions = hcat(positions, positions[:,duplicates[i]])\n",
    "        push!(dupcol, duplicate_col_pos) # push this new column index\n",
    "        duplicate_col_pos = duplicate_col_pos+1\n",
    "    end\n",
    "    push!(clone_columns, dupcol)\n",
    "end\n",
    "        "
   ]
  },
  {
   "cell_type": "code",
   "execution_count": 7,
   "metadata": {
    "scrolled": true
   },
   "outputs": [
    {
     "data": {
      "text/html": [
       "<table class=\"data-frame\"><thead><tr><th></th><th>x</th><th>Name</th><th>Age</th><th>Photo</th><th>Nationality</th><th>Flag</th><th>Overall</th><th>Potential</th><th>Club</th><th>Club_Logo</th><th>Value</th><th>Wage</th><th>Special</th><th>Acceleration</th><th>Aggression</th><th>Agility</th><th>Balance</th><th>Ball_control</th><th>Composure</th><th>Crossing</th><th>Curve</th><th>Dribbling</th><th>Finishing</th><th>Free_kick_accuracy</th><th>GK_diving</th><th>GK_handling</th><th>GK_kicking</th><th>GK_positioning</th><th>GK_reflexes</th><th>Heading_accuracy</th><th>Interceptions</th><th>Jumping</th><th>Long_passing</th><th>Long_shots</th><th>Marking</th><th>Penalties</th><th>Positioning</th><th>Reactions</th><th>Short_passing</th><th>Shot_power</th><th>Sliding_tackle</th><th>Sprint_speed</th><th>Stamina</th><th>Standing_tackle</th><th>Strength</th><th>Vision</th><th>Volleys</th><th>CAM</th><th>CB</th><th>CDM</th><th>CF</th><th>CM</th><th>ID</th><th>LAM</th><th>LB</th><th>LCB</th><th>LCM</th><th>LDM</th><th>LF</th><th>LM</th><th>LS</th><th>LW</th><th>LWB</th><th>Preferred_Positions</th><th>RAM</th><th>RB</th><th>RCB</th><th>RCM</th><th>RDM</th><th>RF</th><th>RM</th><th>RS</th><th>RW</th><th>RWB</th><th>ST</th></tr></thead><tbody><tr><th>1</th><td>55</td><td>Coutinho</td><td>25</td><td>https://cdn.sofifa.org/48/18/players/189242.png</td><td>Brazil</td><td>https://cdn.sofifa.org/flags/54.png</td><td>86</td><td>89</td><td>Liverpool</td><td>https://cdn.sofifa.org/24/18/teams/9.png</td><td>5.6e7</td><td>€205K</td><td>2049</td><td>88</td><td>55</td><td>92</td><td>92</td><td>88</td><td>85</td><td>77</td><td>84</td><td>88</td><td>74</td><td>82</td><td>12</td><td>7</td><td>9</td><td>14</td><td>6</td><td>47</td><td>30</td><td>59</td><td>78</td><td>86</td><td>24</td><td>64</td><td>83</td><td>81</td><td>85</td><td>80</td><td>40</td><td>77</td><td>80</td><td>44</td><td>61</td><td>87</td><td>75</td><td>85.0</td><td>49.0</td><td>61.0</td><td>83.0</td><td>79.0</td><td>189242.0</td><td>85.0</td><td>60.0</td><td>49.0</td><td>79.0</td><td>61.0</td><td>83.0</td><td>83.0</td><td>77.0</td><td>84.0</td><td>64.0</td><td>CAM LW </td><td>85.0</td><td>60.0</td><td>49.0</td><td>79.0</td><td>61.0</td><td>83.0</td><td>83.0</td><td>77.0</td><td>84.0</td><td>64.0</td><td>77.0</td></tr><tr><th>2</th><td>98</td><td>S. Mané</td><td>25</td><td>https://cdn.sofifa.org/48/18/players/208722.png</td><td>Senegal</td><td>https://cdn.sofifa.org/flags/136.png</td><td>84</td><td>87</td><td>Liverpool</td><td>https://cdn.sofifa.org/24/18/teams/9.png</td><td>3.9e7</td><td>€175K</td><td>2046</td><td>94</td><td>73</td><td>89</td><td>85</td><td>84</td><td>78</td><td>72</td><td>74</td><td>86</td><td>83</td><td>64</td><td>10</td><td>10</td><td>15</td><td>7</td><td>14</td><td>53</td><td>31</td><td>75</td><td>71</td><td>69</td><td>33</td><td>71</td><td>84</td><td>80</td><td>77</td><td>77</td><td>38</td><td>92</td><td>82</td><td>35</td><td>72</td><td>78</td><td>68</td><td>81.0</td><td>51.0</td><td>60.0</td><td>82.0</td><td>74.0</td><td>208722.0</td><td>81.0</td><td>60.0</td><td>51.0</td><td>74.0</td><td>60.0</td><td>82.0</td><td>82.0</td><td>79.0</td><td>83.0</td><td>63.0</td><td>LW RW </td><td>81.0</td><td>60.0</td><td>51.0</td><td>74.0</td><td>60.0</td><td>82.0</td><td>82.0</td><td>79.0</td><td>83.0</td><td>63.0</td><td>79.0</td></tr><tr><th>3</th><td>146</td><td>Roberto Firmino</td><td>25</td><td>https://cdn.sofifa.org/48/18/players/201942.png</td><td>Brazil</td><td>https://cdn.sofifa.org/flags/54.png</td><td>83</td><td>87</td><td>Liverpool</td><td>https://cdn.sofifa.org/24/18/teams/9.png</td><td>3.4e7</td><td>€135K</td><td>2101</td><td>77</td><td>66</td><td>82</td><td>81</td><td>85</td><td>78</td><td>72</td><td>80</td><td>87</td><td>83</td><td>67</td><td>8</td><td>11</td><td>9</td><td>6</td><td>10</td><td>72</td><td>37</td><td>81</td><td>75</td><td>80</td><td>30</td><td>72</td><td>84</td><td>82</td><td>83</td><td>79</td><td>42</td><td>77</td><td>86</td><td>59</td><td>76</td><td>83</td><td>79</td><td>83.0</td><td>58.0</td><td>65.0</td><td>83.0</td><td>79.0</td><td>201942.0</td><td>83.0</td><td>63.0</td><td>58.0</td><td>79.0</td><td>65.0</td><td>83.0</td><td>82.0</td><td>81.0</td><td>82.0</td><td>66.0</td><td>CAM CF ST </td><td>83.0</td><td>63.0</td><td>58.0</td><td>79.0</td><td>65.0</td><td>83.0</td><td>82.0</td><td>81.0</td><td>82.0</td><td>66.0</td><td>81.0</td></tr><tr><th>4</th><td>152</td><td>J. Matip</td><td>25</td><td>https://cdn.sofifa.org/48/18/players/197061.png</td><td>Cameroon</td><td>https://cdn.sofifa.org/flags/103.png</td><td>83</td><td>85</td><td>Liverpool</td><td>https://cdn.sofifa.org/24/18/teams/9.png</td><td>2.6e7</td><td>€110K</td><td>1884</td><td>60</td><td>81</td><td>58</td><td>49</td><td>71</td><td>75</td><td>54</td><td>63</td><td>65</td><td>36</td><td>22</td><td>11</td><td>15</td><td>10</td><td>7</td><td>10</td><td>85</td><td>85</td><td>67</td><td>74</td><td>48</td><td>83</td><td>42</td><td>51</td><td>81</td><td>77</td><td>66</td><td>79</td><td>73</td><td>73</td><td>85</td><td>81</td><td>72</td><td>50</td><td>66.0</td><td>82.0</td><td>79.0</td><td>64.0</td><td>72.0</td><td>197061.0</td><td>66.0</td><td>76.0</td><td>82.0</td><td>72.0</td><td>79.0</td><td>64.0</td><td>66.0</td><td>63.0</td><td>63.0</td><td>75.0</td><td>CB </td><td>66.0</td><td>76.0</td><td>82.0</td><td>72.0</td><td>79.0</td><td>64.0</td><td>66.0</td><td>63.0</td><td>63.0</td><td>75.0</td><td>63.0</td></tr><tr><th>5</th><td>172</td><td>A. Lallana</td><td>29</td><td>https://cdn.sofifa.org/48/18/players/180819.png</td><td>England</td><td>https://cdn.sofifa.org/flags/14.png</td><td>83</td><td>83</td><td>Liverpool</td><td>https://cdn.sofifa.org/24/18/teams/9.png</td><td>2.5e7</td><td>€135K</td><td>2141</td><td>74</td><td>74</td><td>83</td><td>76</td><td>86</td><td>80</td><td>74</td><td>77</td><td>85</td><td>79</td><td>66</td><td>6</td><td>15</td><td>14</td><td>8</td><td>11</td><td>67</td><td>68</td><td>73</td><td>77</td><td>72</td><td>60</td><td>70</td><td>77</td><td>78</td><td>86</td><td>72</td><td>62</td><td>72</td><td>90</td><td>67</td><td>67</td><td>83</td><td>72</td><td>82.0</td><td>69.0</td><td>75.0</td><td>80.0</td><td>81.0</td><td>180819.0</td><td>82.0</td><td>73.0</td><td>69.0</td><td>81.0</td><td>75.0</td><td>80.0</td><td>81.0</td><td>77.0</td><td>80.0</td><td>75.0</td><td>CM </td><td>82.0</td><td>73.0</td><td>69.0</td><td>81.0</td><td>75.0</td><td>80.0</td><td>81.0</td><td>77.0</td><td>80.0</td><td>75.0</td><td>77.0</td></tr><tr><th>6</th><td>249</td><td>N. Clyne</td><td>26</td><td>https://cdn.sofifa.org/48/18/players/190456.png</td><td>England</td><td>https://cdn.sofifa.org/flags/14.png</td><td>82</td><td>84</td><td>Liverpool</td><td>https://cdn.sofifa.org/24/18/teams/9.png</td><td>2.2e7</td><td>€115K</td><td>2057</td><td>82</td><td>76</td><td>83</td><td>76</td><td>76</td><td>75</td><td>79</td><td>64</td><td>76</td><td>54</td><td>39</td><td>10</td><td>11</td><td>13</td><td>15</td><td>7</td><td>67</td><td>79</td><td>69</td><td>67</td><td>69</td><td>81</td><td>46</td><td>72</td><td>76</td><td>77</td><td>74</td><td>86</td><td>83</td><td>87</td><td>83</td><td>71</td><td>64</td><td>45</td><td>73.0</td><td>78.0</td><td>77.0</td><td>72.0</td><td>74.0</td><td>190456.0</td><td>73.0</td><td>81.0</td><td>78.0</td><td>74.0</td><td>77.0</td><td>72.0</td><td>75.0</td><td>70.0</td><td>74.0</td><td>81.0</td><td>RB </td><td>73.0</td><td>81.0</td><td>78.0</td><td>74.0</td><td>77.0</td><td>72.0</td><td>75.0</td><td>70.0</td><td>74.0</td><td>81.0</td><td>70.0</td></tr><tr><th>7</th><td>262</td><td>J. Henderson</td><td>27</td><td>https://cdn.sofifa.org/48/18/players/183711.png</td><td>England</td><td>https://cdn.sofifa.org/flags/14.png</td><td>82</td><td>84</td><td>Liverpool</td><td>https://cdn.sofifa.org/24/18/teams/9.png</td><td>2.1e7</td><td>€115K</td><td>2183</td><td>73</td><td>80</td><td>73</td><td>71</td><td>80</td><td>78</td><td>81</td><td>80</td><td>74</td><td>67</td><td>74</td><td>7</td><td>13</td><td>7</td><td>9</td><td>13</td><td>65</td><td>79</td><td>81</td><td>83</td><td>71</td><td>73</td><td>64</td><td>76</td><td>79</td><td>85</td><td>75</td><td>76</td><td>71</td><td>93</td><td>80</td><td>76</td><td>82</td><td>72</td><td>78.0</td><td>77.0</td><td>81.0</td><td>76.0</td><td>81.0</td><td>183711.0</td><td>78.0</td><td>79.0</td><td>77.0</td><td>81.0</td><td>81.0</td><td>76.0</td><td>78.0</td><td>74.0</td><td>76.0</td><td>80.0</td><td>CM CDM </td><td>78.0</td><td>79.0</td><td>77.0</td><td>81.0</td><td>81.0</td><td>76.0</td><td>78.0</td><td>74.0</td><td>76.0</td><td>80.0</td><td>74.0</td></tr><tr><th>8</th><td>340</td><td>D. Lovren</td><td>27</td><td>https://cdn.sofifa.org/48/18/players/195086.png</td><td>Croatia</td><td>https://cdn.sofifa.org/flags/10.png</td><td>81</td><td>83</td><td>Liverpool</td><td>https://cdn.sofifa.org/24/18/teams/9.png</td><td>1.7e7</td><td>€110K</td><td>1739</td><td>57</td><td>87</td><td>53</td><td>43</td><td>67</td><td>69</td><td>59</td><td>26</td><td>63</td><td>33</td><td>18</td><td>14</td><td>14</td><td>13</td><td>10</td><td>7</td><td>77</td><td>82</td><td>82</td><td>66</td><td>34</td><td>78</td><td>52</td><td>21</td><td>75</td><td>68</td><td>63</td><td>85</td><td>55</td><td>70</td><td>82</td><td>86</td><td>56</td><td>42</td><td>56.0</td><td>80.0</td><td>75.0</td><td>54.0</td><td>63.0</td><td>195086.0</td><td>56.0</td><td>73.0</td><td>80.0</td><td>63.0</td><td>75.0</td><td>54.0</td><td>58.0</td><td>54.0</td><td>55.0</td><td>72.0</td><td>CB </td><td>56.0</td><td>73.0</td><td>80.0</td><td>63.0</td><td>75.0</td><td>54.0</td><td>58.0</td><td>54.0</td><td>55.0</td><td>72.0</td><td>54.0</td></tr><tr><th>9</th><td>373</td><td>S. Mignolet</td><td>29</td><td>https://cdn.sofifa.org/48/18/players/173426.png</td><td>Belgium</td><td>https://cdn.sofifa.org/flags/7.png</td><td>81</td><td>81</td><td>Liverpool</td><td>https://cdn.sofifa.org/24/18/teams/9.png</td><td>1.2e7</td><td>€91K</td><td>1266</td><td>55</td><td>34</td><td>34</td><td>42</td><td>24</td><td>66</td><td>11</td><td>16</td><td>14</td><td>11</td><td>12</td><td>80</td><td>76</td><td>65</td><td>78</td><td>84</td><td>16</td><td>21</td><td>69</td><td>34</td><td>16</td><td>13</td><td>41</td><td>16</td><td>77</td><td>37</td><td>45</td><td>16</td><td>56</td><td>31</td><td>14</td><td>72</td><td>40</td><td>16</td><td>0.0</td><td>0.0</td><td>0.0</td><td>0.0</td><td>0.0</td><td>173426.0</td><td>0.0</td><td>0.0</td><td>0.0</td><td>0.0</td><td>0.0</td><td>0.0</td><td>0.0</td><td>0.0</td><td>0.0</td><td>0.0</td><td>GK </td><td>0.0</td><td>0.0</td><td>0.0</td><td>0.0</td><td>0.0</td><td>0.0</td><td>0.0</td><td>0.0</td><td>0.0</td><td>0.0</td><td>0.0</td></tr><tr><th>10</th><td>409</td><td>E. Can</td><td>23</td><td>https://cdn.sofifa.org/48/18/players/208333.png</td><td>Germany</td><td>https://cdn.sofifa.org/flags/21.png</td><td>80</td><td>85</td><td>Liverpool</td><td>https://cdn.sofifa.org/24/18/teams/9.png</td><td>1.9e7</td><td>€105K</td><td>2135</td><td>69</td><td>83</td><td>73</td><td>71</td><td>80</td><td>74</td><td>70</td><td>68</td><td>76</td><td>60</td><td>65</td><td>14</td><td>8</td><td>8</td><td>13</td><td>11</td><td>70</td><td>79</td><td>76</td><td>80</td><td>72</td><td>78</td><td>60</td><td>73</td><td>77</td><td>81</td><td>79</td><td>79</td><td>73</td><td>85</td><td>80</td><td>84</td><td>80</td><td>61</td><td>76.0</td><td>79.0</td><td>80.0</td><td>75.0</td><td>79.0</td><td>208333.0</td><td>76.0</td><td>77.0</td><td>79.0</td><td>79.0</td><td>80.0</td><td>75.0</td><td>76.0</td><td>73.0</td><td>74.0</td><td>78.0</td><td>CDM CM </td><td>76.0</td><td>77.0</td><td>79.0</td><td>79.0</td><td>80.0</td><td>75.0</td><td>76.0</td><td>73.0</td><td>74.0</td><td>78.0</td><td>73.0</td></tr><tr><th>11</th><td>510</td><td>J. Milner</td><td>31</td><td>https://cdn.sofifa.org/48/18/players/138412.png</td><td>England</td><td>https://cdn.sofifa.org/flags/14.png</td><td>80</td><td>80</td><td>Liverpool</td><td>https://cdn.sofifa.org/24/18/teams/9.png</td><td>9.0e6</td><td>€110K</td><td>2155</td><td>69</td><td>79</td><td>72</td><td>73</td><td>78</td><td>86</td><td>85</td><td>81</td><td>77</td><td>66</td><td>77</td><td>1</td><td>1</td><td>1</td><td>1</td><td>1</td><td>69</td><td>76</td><td>64</td><td>81</td><td>77</td><td>76</td><td>83</td><td>75</td><td>84</td><td>84</td><td>85</td><td>79</td><td>66</td><td>91</td><td>77</td><td>73</td><td>77</td><td>76</td><td>77.0</td><td>76.0</td><td>80.0</td><td>76.0</td><td>80.0</td><td>138412.0</td><td>77.0</td><td>79.0</td><td>76.0</td><td>80.0</td><td>80.0</td><td>76.0</td><td>78.0</td><td>75.0</td><td>76.0</td><td>80.0</td><td>CM LB </td><td>77.0</td><td>79.0</td><td>76.0</td><td>80.0</td><td>80.0</td><td>76.0</td><td>78.0</td><td>75.0</td><td>76.0</td><td>80.0</td><td>75.0</td></tr></tbody></table>"
      ],
      "text/plain": [
       "11×75 DataFrames.DataFrame. Omitted printing of 72 columns\n",
       "│ Row │ x   │ Name            │ Age │\n",
       "├─────┼─────┼─────────────────┼─────┤\n",
       "│ 1   │ 55  │ Coutinho        │ 25  │\n",
       "│ 2   │ 98  │ S. Mané         │ 25  │\n",
       "│ 3   │ 146 │ Roberto Firmino │ 25  │\n",
       "│ 4   │ 152 │ J. Matip        │ 25  │\n",
       "│ 5   │ 172 │ A. Lallana      │ 29  │\n",
       "│ 6   │ 249 │ N. Clyne        │ 26  │\n",
       "│ 7   │ 262 │ J. Henderson    │ 27  │\n",
       "│ 8   │ 340 │ D. Lovren       │ 27  │\n",
       "│ 9   │ 373 │ S. Mignolet     │ 29  │\n",
       "│ 10  │ 409 │ E. Can          │ 23  │\n",
       "│ 11  │ 510 │ J. Milner       │ 31  │"
      ]
     },
     "execution_count": 7,
     "metadata": {},
     "output_type": "execute_result"
    }
   ],
   "source": [
    "# create a model\n",
    "m = Model(solver=CbcSolver())\n",
    "\n",
    "@variable(m, position_preference[1:nrow(squad),1:size(positions)[2]], Bin) # holds player preference positions\n",
    "\n",
    "\n",
    "# constraint to pick preferred player\n",
    "for j in 1:length(formation) # now that we have split columns to identify unique positions, we each positionw ill sum up to be 1\n",
    "    if formation[j] == 0 #if there are no players in a position, then make sure that the sum of that column is 0\n",
    "        @constraint(m, sum(positions[i,j]*(position_preference[i,j]) for i in 1:nrow(squad)) == 0)\n",
    "    else\n",
    "        @constraint(m, sum(positions[i,j]*(position_preference[i,j]) for i in 1:nrow(squad)) == 1)\n",
    "    end\n",
    "end\n",
    "\n",
    "# deal with multiple positions\n",
    "# clone_columns and duplicates have the same size\n",
    "for i in 1:length(clone_columns)\n",
    "    \n",
    "    # ensure that the sum of each clone column is 1, since each position is now treated as unique\n",
    "    for j in 1:length(clone_columns[i])\n",
    "        @constraint(m, sum(positions[k,clone_columns[i][j]]*(position_preference[k,clone_columns[i][j]]) for k in 1:nrow(squad)) == 1)\n",
    "    end\n",
    "    # ensure that the colsums of the clones and the original columns is equal to the number of occurances of that position in the formation vector\n",
    "    @constraint(m, sum(position_preference[:, duplicates[i]]) +\n",
    "            sum(sum(position_preference[:, clone_columns[i][k]]) for k in 1:length(clone_columns[i]))  \n",
    "     == formation[duplicates[i]])\n",
    "    \n",
    "end\n",
    "\n",
    "\n",
    "\n",
    "#constraint to ensure that only one player is picked per position\n",
    "for j in 1:nrow(squad)\n",
    "    @constraint(m,  0 <= sum(position_preference[j,:]) <= 1)\n",
    "end\n",
    "\n",
    "# constraint to ensure that only 11 players are picked in a team\n",
    "@constraint(m, sum(position_preference) == 11)\n",
    "lambda = 0.000001;\n",
    "# maximize the0 overall team rating \n",
    "@objective(m, Max,\n",
    "    sum(sum(position_preference[i,:])*overall[i] for i in 1:nrow(squad)) +\n",
    "    vecdot((lambda*chemistry*position_preference*linkups)*ones(size(linkups)[1]),overall))\n",
    "\n",
    "solve(m)\n",
    "\n",
    "selection = []\n",
    "for i in 1:nrow(squad)\n",
    "    if(sum(getvalue(position_preference)[i,:]) == 1)\n",
    "        push!(selection, i)\n",
    "    end\n",
    "end\n",
    "squad[selection,:]"
   ]
  },
  {
   "cell_type": "code",
   "execution_count": null,
   "metadata": {},
   "outputs": [],
   "source": []
  },
  {
   "cell_type": "markdown",
   "metadata": {},
   "source": [
    "# Buying Players"
   ]
  },
  {
   "cell_type": "code",
   "execution_count": 8,
   "metadata": {},
   "outputs": [
    {
     "data": {
      "text/latex": [
       "$$ \\begin{alignat*}{1}\\min\\quad & 0\\\\\n",
       "\\text{Subject to} \\quad\\end{alignat*}\n",
       " $$"
      ],
      "text/plain": [
       "Feasibility problem with:\n",
       " * 0 linear constraints\n",
       " * 0 variables\n",
       "Solver is Gurobi"
      ]
     },
     "execution_count": 8,
     "metadata": {},
     "output_type": "execute_result"
    }
   ],
   "source": [
    " \n",
    "# create a model\n",
    "using JuMP, Gurobi\n",
    "m = Model(solver=GurobiSolver(OutputFlag=0))\n"
   ]
  },
  {
   "cell_type": "code",
   "execution_count": 9,
   "metadata": {
    "collapsed": true
   },
   "outputs": [
    {
     "data": {
      "text/html": [
       "<table class=\"data-frame\"><thead><tr><th></th><th>Acceleration</th><th>Aggression</th><th>Agility</th><th>Balance</th><th>Ball_control</th><th>Composure</th><th>Crossing</th><th>Curve</th><th>Dribbling</th><th>Finishing</th><th>Free_kick_accuracy</th><th>GK_diving</th><th>GK_handling</th><th>GK_kicking</th><th>GK_positioning</th><th>GK_reflexes</th><th>Heading_accuracy</th><th>Interceptions</th><th>Jumping</th><th>Long_passing</th><th>Long_shots</th><th>Marking</th><th>Penalties</th><th>Positioning</th><th>Reactions</th><th>Short_passing</th><th>Shot_power</th><th>Sliding_tackle</th><th>Sprint_speed</th><th>Stamina</th><th>Standing_tackle</th><th>Strength</th><th>Vision</th><th>Volleys</th><th>CAM</th><th>CB</th><th>CDM</th><th>CF</th><th>CM</th><th>LAM</th><th>LB</th><th>LCB</th><th>LCM</th><th>LDM</th><th>LF</th><th>LM</th><th>LS</th><th>LW</th><th>LWB</th><th>RAM</th><th>RB</th><th>RCB</th><th>RCM</th><th>RDM</th><th>RF</th><th>RM</th><th>RS</th><th>RW</th><th>RWB</th><th>ST</th></tr></thead><tbody><tr><th>1</th><td>88</td><td>55</td><td>92</td><td>92</td><td>88</td><td>85</td><td>77</td><td>84</td><td>88</td><td>74</td><td>82</td><td>12</td><td>7</td><td>9</td><td>14</td><td>6</td><td>47</td><td>30</td><td>59</td><td>78</td><td>86</td><td>24</td><td>64</td><td>83</td><td>81</td><td>85</td><td>80</td><td>40</td><td>77</td><td>80</td><td>44</td><td>61</td><td>87</td><td>75</td><td>85.0</td><td>49.0</td><td>61.0</td><td>83.0</td><td>79.0</td><td>85.0</td><td>60.0</td><td>49.0</td><td>79.0</td><td>61.0</td><td>83.0</td><td>83.0</td><td>77.0</td><td>84.0</td><td>64.0</td><td>85.0</td><td>60.0</td><td>49.0</td><td>79.0</td><td>61.0</td><td>83.0</td><td>83.0</td><td>77.0</td><td>84.0</td><td>64.0</td><td>77.0</td></tr><tr><th>2</th><td>94</td><td>73</td><td>89</td><td>85</td><td>84</td><td>78</td><td>72</td><td>74</td><td>86</td><td>83</td><td>64</td><td>10</td><td>10</td><td>15</td><td>7</td><td>14</td><td>53</td><td>31</td><td>75</td><td>71</td><td>69</td><td>33</td><td>71</td><td>84</td><td>80</td><td>77</td><td>77</td><td>38</td><td>92</td><td>82</td><td>35</td><td>72</td><td>78</td><td>68</td><td>81.0</td><td>51.0</td><td>60.0</td><td>82.0</td><td>74.0</td><td>81.0</td><td>60.0</td><td>51.0</td><td>74.0</td><td>60.0</td><td>82.0</td><td>82.0</td><td>79.0</td><td>83.0</td><td>63.0</td><td>81.0</td><td>60.0</td><td>51.0</td><td>74.0</td><td>60.0</td><td>82.0</td><td>82.0</td><td>79.0</td><td>83.0</td><td>63.0</td><td>79.0</td></tr><tr><th>3</th><td>93</td><td>63</td><td>86</td><td>84</td><td>87</td><td>75</td><td>73</td><td>70</td><td>87</td><td>79</td><td>60</td><td>14</td><td>14</td><td>9</td><td>11</td><td>14</td><td>59</td><td>55</td><td>70</td><td>65</td><td>62</td><td>37</td><td>61</td><td>83</td><td>82</td><td>79</td><td>71</td><td>41</td><td>93</td><td>77</td><td>43</td><td>61</td><td>78</td><td>71</td><td>81.0</td><td>56.0</td><td>64.0</td><td>82.0</td><td>75.0</td><td>81.0</td><td>64.0</td><td>56.0</td><td>75.0</td><td>64.0</td><td>82.0</td><td>82.0</td><td>78.0</td><td>83.0</td><td>68.0</td><td>81.0</td><td>64.0</td><td>56.0</td><td>75.0</td><td>64.0</td><td>82.0</td><td>82.0</td><td>78.0</td><td>83.0</td><td>68.0</td><td>78.0</td></tr><tr><th>4</th><td>77</td><td>66</td><td>82</td><td>81</td><td>85</td><td>78</td><td>72</td><td>80</td><td>87</td><td>83</td><td>67</td><td>8</td><td>11</td><td>9</td><td>6</td><td>10</td><td>72</td><td>37</td><td>81</td><td>75</td><td>80</td><td>30</td><td>72</td><td>84</td><td>82</td><td>83</td><td>79</td><td>42</td><td>77</td><td>86</td><td>59</td><td>76</td><td>83</td><td>79</td><td>83.0</td><td>58.0</td><td>65.0</td><td>83.0</td><td>79.0</td><td>83.0</td><td>63.0</td><td>58.0</td><td>79.0</td><td>65.0</td><td>83.0</td><td>82.0</td><td>81.0</td><td>82.0</td><td>66.0</td><td>83.0</td><td>63.0</td><td>58.0</td><td>79.0</td><td>65.0</td><td>83.0</td><td>82.0</td><td>81.0</td><td>82.0</td><td>66.0</td><td>81.0</td></tr><tr><th>5</th><td>60</td><td>81</td><td>58</td><td>49</td><td>71</td><td>75</td><td>54</td><td>63</td><td>65</td><td>36</td><td>22</td><td>11</td><td>15</td><td>10</td><td>7</td><td>10</td><td>85</td><td>85</td><td>67</td><td>74</td><td>48</td><td>83</td><td>42</td><td>51</td><td>81</td><td>77</td><td>66</td><td>79</td><td>73</td><td>73</td><td>85</td><td>81</td><td>72</td><td>50</td><td>66.0</td><td>82.0</td><td>79.0</td><td>64.0</td><td>72.0</td><td>66.0</td><td>76.0</td><td>82.0</td><td>72.0</td><td>79.0</td><td>64.0</td><td>66.0</td><td>63.0</td><td>63.0</td><td>75.0</td><td>66.0</td><td>76.0</td><td>82.0</td><td>72.0</td><td>79.0</td><td>64.0</td><td>66.0</td><td>63.0</td><td>63.0</td><td>75.0</td><td>63.0</td></tr><tr><th>6</th><td>74</td><td>74</td><td>83</td><td>76</td><td>86</td><td>80</td><td>74</td><td>77</td><td>85</td><td>79</td><td>66</td><td>6</td><td>15</td><td>14</td><td>8</td><td>11</td><td>67</td><td>68</td><td>73</td><td>77</td><td>72</td><td>60</td><td>70</td><td>77</td><td>78</td><td>86</td><td>72</td><td>62</td><td>72</td><td>90</td><td>67</td><td>67</td><td>83</td><td>72</td><td>82.0</td><td>69.0</td><td>75.0</td><td>80.0</td><td>81.0</td><td>82.0</td><td>73.0</td><td>69.0</td><td>81.0</td><td>75.0</td><td>80.0</td><td>81.0</td><td>77.0</td><td>80.0</td><td>75.0</td><td>82.0</td><td>73.0</td><td>69.0</td><td>81.0</td><td>75.0</td><td>80.0</td><td>81.0</td><td>77.0</td><td>80.0</td><td>75.0</td><td>77.0</td></tr><tr><th>7</th><td>82</td><td>76</td><td>83</td><td>76</td><td>76</td><td>75</td><td>79</td><td>64</td><td>76</td><td>54</td><td>39</td><td>10</td><td>11</td><td>13</td><td>15</td><td>7</td><td>67</td><td>79</td><td>69</td><td>67</td><td>69</td><td>81</td><td>46</td><td>72</td><td>76</td><td>77</td><td>74</td><td>86</td><td>83</td><td>87</td><td>83</td><td>71</td><td>64</td><td>45</td><td>73.0</td><td>78.0</td><td>77.0</td><td>72.0</td><td>74.0</td><td>73.0</td><td>81.0</td><td>78.0</td><td>74.0</td><td>77.0</td><td>72.0</td><td>75.0</td><td>70.0</td><td>74.0</td><td>81.0</td><td>73.0</td><td>81.0</td><td>78.0</td><td>74.0</td><td>77.0</td><td>72.0</td><td>75.0</td><td>70.0</td><td>74.0</td><td>81.0</td><td>70.0</td></tr><tr><th>8</th><td>73</td><td>80</td><td>73</td><td>71</td><td>80</td><td>78</td><td>81</td><td>80</td><td>74</td><td>67</td><td>74</td><td>7</td><td>13</td><td>7</td><td>9</td><td>13</td><td>65</td><td>79</td><td>81</td><td>83</td><td>71</td><td>73</td><td>64</td><td>76</td><td>79</td><td>85</td><td>75</td><td>76</td><td>71</td><td>93</td><td>80</td><td>76</td><td>82</td><td>72</td><td>78.0</td><td>77.0</td><td>81.0</td><td>76.0</td><td>81.0</td><td>78.0</td><td>79.0</td><td>77.0</td><td>81.0</td><td>81.0</td><td>76.0</td><td>78.0</td><td>74.0</td><td>76.0</td><td>80.0</td><td>78.0</td><td>79.0</td><td>77.0</td><td>81.0</td><td>81.0</td><td>76.0</td><td>78.0</td><td>74.0</td><td>76.0</td><td>80.0</td><td>74.0</td></tr><tr><th>9</th><td>79</td><td>64</td><td>82</td><td>80</td><td>84</td><td>79</td><td>67</td><td>76</td><td>85</td><td>74</td><td>70</td><td>16</td><td>6</td><td>14</td><td>12</td><td>6</td><td>72</td><td>70</td><td>82</td><td>74</td><td>71</td><td>60</td><td>74</td><td>82</td><td>82</td><td>83</td><td>78</td><td>64</td><td>82</td><td>87</td><td>69</td><td>71</td><td>78</td><td>73</td><td>81.0</td><td>70.0</td><td>74.0</td><td>81.0</td><td>80.0</td><td>81.0</td><td>74.0</td><td>70.0</td><td>80.0</td><td>74.0</td><td>81.0</td><td>80.0</td><td>78.0</td><td>80.0</td><td>75.0</td><td>81.0</td><td>74.0</td><td>70.0</td><td>80.0</td><td>74.0</td><td>81.0</td><td>80.0</td><td>78.0</td><td>80.0</td><td>75.0</td><td>78.0</td></tr><tr><th>10</th><td>74</td><td>60</td><td>75</td><td>64</td><td>81</td><td>81</td><td>62</td><td>62</td><td>80</td><td>83</td><td>68</td><td>7</td><td>15</td><td>9</td><td>5</td><td>13</td><td>73</td><td>22</td><td>72</td><td>62</td><td>80</td><td>15</td><td>75</td><td>84</td><td>82</td><td>74</td><td>83</td><td>12</td><td>78</td><td>68</td><td>24</td><td>71</td><td>74</td><td>75</td><td>78.0</td><td>44.0</td><td>51.0</td><td>80.0</td><td>70.0</td><td>78.0</td><td>49.0</td><td>44.0</td><td>70.0</td><td>51.0</td><td>80.0</td><td>76.0</td><td>80.0</td><td>78.0</td><td>52.0</td><td>78.0</td><td>49.0</td><td>44.0</td><td>70.0</td><td>51.0</td><td>80.0</td><td>76.0</td><td>80.0</td><td>78.0</td><td>52.0</td><td>80.0</td></tr><tr><th>11</th><td>57</td><td>87</td><td>53</td><td>43</td><td>67</td><td>69</td><td>59</td><td>26</td><td>63</td><td>33</td><td>18</td><td>14</td><td>14</td><td>13</td><td>10</td><td>7</td><td>77</td><td>82</td><td>82</td><td>66</td><td>34</td><td>78</td><td>52</td><td>21</td><td>75</td><td>68</td><td>63</td><td>85</td><td>55</td><td>70</td><td>82</td><td>86</td><td>56</td><td>42</td><td>56.0</td><td>80.0</td><td>75.0</td><td>54.0</td><td>63.0</td><td>56.0</td><td>73.0</td><td>80.0</td><td>63.0</td><td>75.0</td><td>54.0</td><td>58.0</td><td>54.0</td><td>55.0</td><td>72.0</td><td>56.0</td><td>73.0</td><td>80.0</td><td>63.0</td><td>75.0</td><td>54.0</td><td>58.0</td><td>54.0</td><td>55.0</td><td>72.0</td><td>54.0</td></tr><tr><th>12</th><td>55</td><td>34</td><td>34</td><td>42</td><td>24</td><td>66</td><td>11</td><td>16</td><td>14</td><td>11</td><td>12</td><td>80</td><td>76</td><td>65</td><td>78</td><td>84</td><td>16</td><td>21</td><td>69</td><td>34</td><td>16</td><td>13</td><td>41</td><td>16</td><td>77</td><td>37</td><td>45</td><td>16</td><td>56</td><td>31</td><td>14</td><td>72</td><td>40</td><td>16</td><td>0.0</td><td>0.0</td><td>0.0</td><td>0.0</td><td>0.0</td><td>0.0</td><td>0.0</td><td>0.0</td><td>0.0</td><td>0.0</td><td>0.0</td><td>0.0</td><td>0.0</td><td>0.0</td><td>0.0</td><td>0.0</td><td>0.0</td><td>0.0</td><td>0.0</td><td>0.0</td><td>0.0</td><td>0.0</td><td>0.0</td><td>0.0</td><td>0.0</td><td>0.0</td></tr><tr><th>13</th><td>69</td><td>83</td><td>73</td><td>71</td><td>80</td><td>74</td><td>70</td><td>68</td><td>76</td><td>60</td><td>65</td><td>14</td><td>8</td><td>8</td><td>13</td><td>11</td><td>70</td><td>79</td><td>76</td><td>80</td><td>72</td><td>78</td><td>60</td><td>73</td><td>77</td><td>81</td><td>79</td><td>79</td><td>73</td><td>85</td><td>80</td><td>84</td><td>80</td><td>61</td><td>76.0</td><td>79.0</td><td>80.0</td><td>75.0</td><td>79.0</td><td>76.0</td><td>77.0</td><td>79.0</td><td>79.0</td><td>80.0</td><td>75.0</td><td>76.0</td><td>73.0</td><td>74.0</td><td>78.0</td><td>76.0</td><td>77.0</td><td>79.0</td><td>79.0</td><td>80.0</td><td>75.0</td><td>76.0</td><td>73.0</td><td>74.0</td><td>78.0</td><td>73.0</td></tr><tr><th>14</th><td>51</td><td>18</td><td>51</td><td>43</td><td>23</td><td>34</td><td>14</td><td>12</td><td>16</td><td>18</td><td>14</td><td>84</td><td>74</td><td>74</td><td>76</td><td>85</td><td>14</td><td>13</td><td>74</td><td>36</td><td>16</td><td>13</td><td>19</td><td>8</td><td>78</td><td>35</td><td>20</td><td>13</td><td>50</td><td>36</td><td>11</td><td>55</td><td>45</td><td>14</td><td>0.0</td><td>0.0</td><td>0.0</td><td>0.0</td><td>0.0</td><td>0.0</td><td>0.0</td><td>0.0</td><td>0.0</td><td>0.0</td><td>0.0</td><td>0.0</td><td>0.0</td><td>0.0</td><td>0.0</td><td>0.0</td><td>0.0</td><td>0.0</td><td>0.0</td><td>0.0</td><td>0.0</td><td>0.0</td><td>0.0</td><td>0.0</td><td>0.0</td><td>0.0</td></tr><tr><th>15</th><td>87</td><td>66</td><td>84</td><td>88</td><td>82</td><td>73</td><td>75</td><td>67</td><td>85</td><td>68</td><td>53</td><td>16</td><td>9</td><td>6</td><td>9</td><td>9</td><td>39</td><td>51</td><td>66</td><td>73</td><td>74</td><td>52</td><td>69</td><td>74</td><td>74</td><td>78</td><td>75</td><td>54</td><td>88</td><td>76</td><td>57</td><td>70</td><td>72</td><td>58</td><td>78.0</td><td>59.0</td><td>67.0</td><td>77.0</td><td>74.0</td><td>78.0</td><td>66.0</td><td>59.0</td><td>74.0</td><td>67.0</td><td>77.0</td><td>79.0</td><td>72.0</td><td>79.0</td><td>69.0</td><td>78.0</td><td>66.0</td><td>59.0</td><td>74.0</td><td>67.0</td><td>77.0</td><td>79.0</td><td>72.0</td><td>79.0</td><td>69.0</td><td>72.0</td></tr><tr><th>16</th><td>69</td><td>79</td><td>72</td><td>73</td><td>78</td><td>86</td><td>85</td><td>81</td><td>77</td><td>66</td><td>77</td><td>1</td><td>1</td><td>1</td><td>1</td><td>1</td><td>69</td><td>76</td><td>64</td><td>81</td><td>77</td><td>76</td><td>83</td><td>75</td><td>84</td><td>84</td><td>85</td><td>79</td><td>66</td><td>91</td><td>77</td><td>73</td><td>77</td><td>76</td><td>77.0</td><td>76.0</td><td>80.0</td><td>76.0</td><td>80.0</td><td>77.0</td><td>79.0</td><td>76.0</td><td>80.0</td><td>80.0</td><td>76.0</td><td>78.0</td><td>75.0</td><td>76.0</td><td>80.0</td><td>77.0</td><td>79.0</td><td>76.0</td><td>80.0</td><td>80.0</td><td>76.0</td><td>78.0</td><td>75.0</td><td>76.0</td><td>80.0</td><td>75.0</td></tr><tr><th>17</th><td>83</td><td>60</td><td>77</td><td>79</td><td>76</td><td>70</td><td>62</td><td>57</td><td>77</td><td>77</td><td>36</td><td>10</td><td>13</td><td>12</td><td>16</td><td>6</td><td>71</td><td>39</td><td>81</td><td>61</td><td>67</td><td>33</td><td>68</td><td>79</td><td>74</td><td>69</td><td>74</td><td>27</td><td>82</td><td>75</td><td>24</td><td>73</td><td>68</td><td>66</td><td>74.0</td><td>49.0</td><td>54.0</td><td>75.0</td><td>67.0</td><td>74.0</td><td>54.0</td><td>49.0</td><td>67.0</td><td>54.0</td><td>75.0</td><td>74.0</td><td>75.0</td><td>75.0</td><td>57.0</td><td>74.0</td><td>54.0</td><td>49.0</td><td>67.0</td><td>54.0</td><td>75.0</td><td>74.0</td><td>75.0</td><td>75.0</td><td>57.0</td><td>75.0</td></tr><tr><th>18</th><td>89</td><td>41</td><td>88</td><td>79</td><td>81</td><td>76</td><td>68</td><td>79</td><td>83</td><td>66</td><td>62</td><td>8</td><td>9</td><td>15</td><td>6</td><td>7</td><td>58</td><td>49</td><td>66</td><td>57</td><td>60</td><td>32</td><td>70</td><td>73</td><td>73</td><td>71</td><td>65</td><td>37</td><td>91</td><td>61</td><td>39</td><td>55</td><td>71</td><td>68</td><td>75.0</td><td>50.0</td><td>56.0</td><td>75.0</td><td>68.0</td><td>75.0</td><td>59.0</td><td>50.0</td><td>68.0</td><td>56.0</td><td>75.0</td><td>75.0</td><td>71.0</td><td>76.0</td><td>61.0</td><td>75.0</td><td>59.0</td><td>50.0</td><td>68.0</td><td>56.0</td><td>75.0</td><td>75.0</td><td>71.0</td><td>76.0</td><td>61.0</td><td>71.0</td></tr><tr><th>19</th><td>87</td><td>83</td><td>86</td><td>87</td><td>79</td><td>63</td><td>78</td><td>59</td><td>76</td><td>59</td><td>40</td><td>10</td><td>14</td><td>9</td><td>10</td><td>11</td><td>61</td><td>70</td><td>85</td><td>64</td><td>74</td><td>64</td><td>54</td><td>69</td><td>69</td><td>74</td><td>80</td><td>76</td><td>88</td><td>85</td><td>73</td><td>64</td><td>58</td><td>35</td><td>72.0</td><td>71.0</td><td>71.0</td><td>72.0</td><td>71.0</td><td>72.0</td><td>75.0</td><td>71.0</td><td>71.0</td><td>71.0</td><td>72.0</td><td>74.0</td><td>70.0</td><td>74.0</td><td>76.0</td><td>72.0</td><td>75.0</td><td>71.0</td><td>71.0</td><td>71.0</td><td>72.0</td><td>74.0</td><td>70.0</td><td>74.0</td><td>76.0</td><td>70.0</td></tr><tr><th>20</th><td>78</td><td>69</td><td>81</td><td>74</td><td>75</td><td>67</td><td>78</td><td>71</td><td>74</td><td>60</td><td>30</td><td>11</td><td>8</td><td>10</td><td>7</td><td>14</td><td>65</td><td>73</td><td>55</td><td>59</td><td>61</td><td>72</td><td>55</td><td>64</td><td>71</td><td>68</td><td>67</td><td>70</td><td>82</td><td>81</td><td>74</td><td>68</td><td>69</td><td>32</td><td>70.0</td><td>71.0</td><td>71.0</td><td>70.0</td><td>69.0</td><td>70.0</td><td>74.0</td><td>71.0</td><td>69.0</td><td>71.0</td><td>70.0</td><td>72.0</td><td>67.0</td><td>72.0</td><td>74.0</td><td>70.0</td><td>74.0</td><td>71.0</td><td>69.0</td><td>71.0</td><td>70.0</td><td>72.0</td><td>67.0</td><td>72.0</td><td>74.0</td><td>67.0</td></tr><tr><th>21</th><td>63</td><td>75</td><td>56</td><td>53</td><td>72</td><td>60</td><td>60</td><td>60</td><td>67</td><td>70</td><td>43</td><td>9</td><td>14</td><td>8</td><td>12</td><td>13</td><td>69</td><td>70</td><td>74</td><td>72</td><td>62</td><td>66</td><td>57</td><td>72</td><td>64</td><td>74</td><td>75</td><td>71</td><td>71</td><td>78</td><td>72</td><td>78</td><td>66</td><td>61</td><td>69.0</td><td>71.0</td><td>71.0</td><td>69.0</td><td>70.0</td><td>69.0</td><td>69.0</td><td>71.0</td><td>70.0</td><td>71.0</td><td>69.0</td><td>69.0</td><td>70.0</td><td>68.0</td><td>69.0</td><td>69.0</td><td>69.0</td><td>71.0</td><td>70.0</td><td>71.0</td><td>69.0</td><td>69.0</td><td>70.0</td><td>68.0</td><td>69.0</td><td>70.0</td></tr><tr><th>22</th><td>76</td><td>34</td><td>73</td><td>69</td><td>76</td><td>64</td><td>54</td><td>54</td><td>73</td><td>70</td><td>42</td><td>9</td><td>15</td><td>14</td><td>9</td><td>10</td><td>64</td><td>22</td><td>69</td><td>58</td><td>57</td><td>24</td><td>71</td><td>66</td><td>63</td><td>71</td><td>68</td><td>22</td><td>74</td><td>68</td><td>15</td><td>70</td><td>63</td><td>65</td><td>69.0</td><td>40.0</td><td>47.0</td><td>69.0</td><td>62.0</td><td>69.0</td><td>46.0</td><td>40.0</td><td>62.0</td><td>47.0</td><td>69.0</td><td>68.0</td><td>69.0</td><td>69.0</td><td>50.0</td><td>69.0</td><td>46.0</td><td>40.0</td><td>62.0</td><td>47.0</td><td>69.0</td><td>68.0</td><td>69.0</td><td>69.0</td><td>50.0</td><td>69.0</td></tr><tr><th>23</th><td>52</td><td>20</td><td>35</td><td>41</td><td>18</td><td>28</td><td>15</td><td>18</td><td>11</td><td>11</td><td>12</td><td>71</td><td>68</td><td>66</td><td>69</td><td>72</td><td>11</td><td>24</td><td>63</td><td>12</td><td>14</td><td>15</td><td>18</td><td>13</td><td>67</td><td>16</td><td>16</td><td>16</td><td>56</td><td>33</td><td>11</td><td>74</td><td>38</td><td>11</td><td>0.0</td><td>0.0</td><td>0.0</td><td>0.0</td><td>0.0</td><td>0.0</td><td>0.0</td><td>0.0</td><td>0.0</td><td>0.0</td><td>0.0</td><td>0.0</td><td>0.0</td><td>0.0</td><td>0.0</td><td>0.0</td><td>0.0</td><td>0.0</td><td>0.0</td><td>0.0</td><td>0.0</td><td>0.0</td><td>0.0</td><td>0.0</td><td>0.0</td><td>0.0</td></tr><tr><th>24</th><td>68</td><td>88</td><td>67</td><td>69</td><td>73</td><td>67</td><td>67</td><td>34</td><td>67</td><td>43</td><td>26</td><td>7</td><td>13</td><td>15</td><td>13</td><td>15</td><td>62</td><td>68</td><td>66</td><td>63</td><td>32</td><td>75</td><td>47</td><td>52</td><td>60</td><td>66</td><td>35</td><td>76</td><td>62</td><td>63</td><td>75</td><td>71</td><td>48</td><td>30</td><td>60.0</td><td>72.0</td><td>69.0</td><td>58.0</td><td>62.0</td><td>60.0</td><td>69.0</td><td>72.0</td><td>62.0</td><td>69.0</td><td>58.0</td><td>63.0</td><td>55.0</td><td>61.0</td><td>68.0</td><td>60.0</td><td>69.0</td><td>72.0</td><td>62.0</td><td>69.0</td><td>58.0</td><td>63.0</td><td>55.0</td><td>61.0</td><td>68.0</td><td>55.0</td></tr><tr><th>25</th><td>75</td><td>63</td><td>64</td><td>66</td><td>65</td><td>63</td><td>57</td><td>41</td><td>65</td><td>26</td><td>29</td><td>8</td><td>13</td><td>14</td><td>7</td><td>7</td><td>69</td><td>68</td><td>64</td><td>53</td><td>26</td><td>69</td><td>26</td><td>51</td><td>65</td><td>65</td><td>41</td><td>71</td><td>78</td><td>67</td><td>71</td><td>78</td><td>39</td><td>24</td><td>56.0</td><td>69.0</td><td>65.0</td><td>55.0</td><td>57.0</td><td>56.0</td><td>68.0</td><td>69.0</td><td>57.0</td><td>65.0</td><td>55.0</td><td>60.0</td><td>54.0</td><td>57.0</td><td>67.0</td><td>56.0</td><td>68.0</td><td>69.0</td><td>57.0</td><td>65.0</td><td>55.0</td><td>60.0</td><td>54.0</td><td>57.0</td><td>67.0</td><td>54.0</td></tr><tr><th>26</th><td>47</td><td>25</td><td>38</td><td>60</td><td>23</td><td>30</td><td>13</td><td>15</td><td>19</td><td>11</td><td>14</td><td>70</td><td>69</td><td>63</td><td>67</td><td>73</td><td>13</td><td>22</td><td>55</td><td>42</td><td>16</td><td>19</td><td>20</td><td>19</td><td>67</td><td>30</td><td>25</td><td>18</td><td>42</td><td>22</td><td>20</td><td>60</td><td>38</td><td>13</td><td>0.0</td><td>0.0</td><td>0.0</td><td>0.0</td><td>0.0</td><td>0.0</td><td>0.0</td><td>0.0</td><td>0.0</td><td>0.0</td><td>0.0</td><td>0.0</td><td>0.0</td><td>0.0</td><td>0.0</td><td>0.0</td><td>0.0</td><td>0.0</td><td>0.0</td><td>0.0</td><td>0.0</td><td>0.0</td><td>0.0</td><td>0.0</td><td>0.0</td><td>0.0</td></tr><tr><th>27</th><td>64</td><td>75</td><td>69</td><td>67</td><td>64</td><td>67</td><td>68</td><td>72</td><td>63</td><td>58</td><td>74</td><td>12</td><td>7</td><td>8</td><td>8</td><td>12</td><td>53</td><td>61</td><td>62</td><td>76</td><td>67</td><td>62</td><td>53</td><td>63</td><td>63</td><td>74</td><td>74</td><td>66</td><td>66</td><td>69</td><td>64</td><td>63</td><td>72</td><td>52</td><td>67.0</td><td>64.0</td><td>67.0</td><td>65.0</td><td>68.0</td><td>67.0</td><td>65.0</td><td>64.0</td><td>68.0</td><td>67.0</td><td>65.0</td><td>66.0</td><td>63.0</td><td>65.0</td><td>66.0</td><td>67.0</td><td>65.0</td><td>64.0</td><td>68.0</td><td>67.0</td><td>65.0</td><td>66.0</td><td>63.0</td><td>65.0</td><td>66.0</td><td>63.0</td></tr><tr><th>28</th><td>81</td><td>69</td><td>75</td><td>75</td><td>63</td><td>65</td><td>70</td><td>73</td><td>68</td><td>56</td><td>74</td><td>14</td><td>15</td><td>14</td><td>6</td><td>7</td><td>56</td><td>64</td><td>67</td><td>67</td><td>63</td><td>63</td><td>55</td><td>62</td><td>60</td><td>73</td><td>62</td><td>64</td><td>81</td><td>78</td><td>66</td><td>59</td><td>63</td><td>41</td><td>66.0</td><td>64.0</td><td>66.0</td><td>65.0</td><td>66.0</td><td>66.0</td><td>68.0</td><td>64.0</td><td>66.0</td><td>66.0</td><td>65.0</td><td>68.0</td><td>62.0</td><td>67.0</td><td>69.0</td><td>66.0</td><td>68.0</td><td>64.0</td><td>66.0</td><td>66.0</td><td>65.0</td><td>68.0</td><td>62.0</td><td>67.0</td><td>69.0</td><td>62.0</td></tr><tr><th>29</th><td>71</td><td>46</td><td>61</td><td>61</td><td>75</td><td>60</td><td>56</td><td>60</td><td>68</td><td>57</td><td>49</td><td>15</td><td>9</td><td>11</td><td>14</td><td>10</td><td>57</td><td>27</td><td>58</td><td>71</td><td>47</td><td>45</td><td>57</td><td>50</td><td>63</td><td>74</td><td>67</td><td>57</td><td>74</td><td>60</td><td>47</td><td>75</td><td>55</td><td>56</td><td>65.0</td><td>53.0</td><td>57.0</td><td>64.0</td><td>63.0</td><td>65.0</td><td>56.0</td><td>53.0</td><td>63.0</td><td>57.0</td><td>64.0</td><td>65.0</td><td>63.0</td><td>64.0</td><td>58.0</td><td>65.0</td><td>56.0</td><td>53.0</td><td>63.0</td><td>57.0</td><td>64.0</td><td>65.0</td><td>63.0</td><td>64.0</td><td>58.0</td><td>63.0</td></tr><tr><th>30</th><td>82</td><td>31</td><td>81</td><td>79</td><td>68</td><td>58</td><td>53</td><td>47</td><td>67</td><td>61</td><td>45</td><td>14</td><td>7</td><td>7</td><td>8</td><td>12</td><td>44</td><td>28</td><td>60</td><td>62</td><td>63</td><td>16</td><td>62</td><td>65</td><td>60</td><td>66</td><td>66</td><td>21</td><td>73</td><td>64</td><td>15</td><td>56</td><td>59</td><td>45</td><td>64.0</td><td>35.0</td><td>44.0</td><td>64.0</td><td>58.0</td><td>64.0</td><td>44.0</td><td>35.0</td><td>58.0</td><td>44.0</td><td>64.0</td><td>64.0</td><td>62.0</td><td>65.0</td><td>47.0</td><td>64.0</td><td>44.0</td><td>35.0</td><td>58.0</td><td>44.0</td><td>64.0</td><td>64.0</td><td>62.0</td><td>65.0</td><td>47.0</td><td>62.0</td></tr><tr><th>&vellip;</th><td>&vellip;</td><td>&vellip;</td><td>&vellip;</td><td>&vellip;</td><td>&vellip;</td><td>&vellip;</td><td>&vellip;</td><td>&vellip;</td><td>&vellip;</td><td>&vellip;</td><td>&vellip;</td><td>&vellip;</td><td>&vellip;</td><td>&vellip;</td><td>&vellip;</td><td>&vellip;</td><td>&vellip;</td><td>&vellip;</td><td>&vellip;</td><td>&vellip;</td><td>&vellip;</td><td>&vellip;</td><td>&vellip;</td><td>&vellip;</td><td>&vellip;</td><td>&vellip;</td><td>&vellip;</td><td>&vellip;</td><td>&vellip;</td><td>&vellip;</td><td>&vellip;</td><td>&vellip;</td><td>&vellip;</td><td>&vellip;</td><td>&vellip;</td><td>&vellip;</td><td>&vellip;</td><td>&vellip;</td><td>&vellip;</td><td>&vellip;</td><td>&vellip;</td><td>&vellip;</td><td>&vellip;</td><td>&vellip;</td><td>&vellip;</td><td>&vellip;</td><td>&vellip;</td><td>&vellip;</td><td>&vellip;</td><td>&vellip;</td><td>&vellip;</td><td>&vellip;</td><td>&vellip;</td><td>&vellip;</td><td>&vellip;</td><td>&vellip;</td><td>&vellip;</td><td>&vellip;</td><td>&vellip;</td><td>&vellip;</td></tr></tbody></table>"
      ],
      "text/plain": [
       "31×60 DataFrames.DataFrame. Omitted printing of 55 columns\n",
       "│ Row │ Acceleration │ Aggression │ Agility │ Balance │ Ball_control │\n",
       "├─────┼──────────────┼────────────┼─────────┼─────────┼──────────────┤\n",
       "│ 1   │ 88           │ 55         │ 92      │ 92      │ 88           │\n",
       "│ 2   │ 94           │ 73         │ 89      │ 85      │ 84           │\n",
       "│ 3   │ 93           │ 63         │ 86      │ 84      │ 87           │\n",
       "│ 4   │ 77           │ 66         │ 82      │ 81      │ 85           │\n",
       "│ 5   │ 60           │ 81         │ 58      │ 49      │ 71           │\n",
       "│ 6   │ 74           │ 74         │ 83      │ 76      │ 86           │\n",
       "│ 7   │ 82           │ 76         │ 83      │ 76      │ 76           │\n",
       "│ 8   │ 73           │ 80         │ 73      │ 71      │ 80           │\n",
       "│ 9   │ 79           │ 64         │ 82      │ 80      │ 84           │\n",
       "│ 10  │ 74           │ 60         │ 75      │ 64      │ 81           │\n",
       "│ 11  │ 57           │ 87         │ 53      │ 43      │ 67           │\n",
       "⋮\n",
       "│ 20  │ 78           │ 69         │ 81      │ 74      │ 75           │\n",
       "│ 21  │ 63           │ 75         │ 56      │ 53      │ 72           │\n",
       "│ 22  │ 76           │ 34         │ 73      │ 69      │ 76           │\n",
       "│ 23  │ 52           │ 20         │ 35      │ 41      │ 18           │\n",
       "│ 24  │ 68           │ 88         │ 67      │ 69      │ 73           │\n",
       "│ 25  │ 75           │ 63         │ 64      │ 66      │ 65           │\n",
       "│ 26  │ 47           │ 25         │ 38      │ 60      │ 23           │\n",
       "│ 27  │ 64           │ 75         │ 69      │ 67      │ 64           │\n",
       "│ 28  │ 81           │ 69         │ 75      │ 75      │ 63           │\n",
       "│ 29  │ 71           │ 46         │ 61      │ 61      │ 75           │\n",
       "│ 30  │ 82           │ 31         │ 81      │ 79      │ 68           │\n",
       "│ 31  │ 46           │ 51         │ 38      │ 51      │ 40           │"
      ]
     },
     "execution_count": 9,
     "metadata": {},
     "output_type": "execute_result"
    }
   ],
   "source": [
    "attributes = hcat(squad[:, 14:52],squad[:,54:63],squad[:,65:75]) # matrix of attributes\n"
   ]
  },
  {
   "cell_type": "code",
   "execution_count": 10,
   "metadata": {},
   "outputs": [
    {
     "name": "stdout",
     "output_type": "stream",
     "text": [
      "Academic license - for non-commercial use only\n"
     ]
    },
    {
     "data": {
      "text/plain": [
       ":Optimal"
      ]
     },
     "execution_count": 10,
     "metadata": {},
     "output_type": "execute_result"
    }
   ],
   "source": [
    "@variable(m, 0 <= x[1:60] <= 99)\n",
    "overall = squad[:,7]\n",
    "attributes = Array{Int}(attributes)\n",
    "@objective(m, Min, sum((overall - attributes*x).^2))\n",
    "solve(m)"
   ]
  },
  {
   "cell_type": "code",
   "execution_count": 11,
   "metadata": {
    "collapsed": true
   },
   "outputs": [
    {
     "data": {
      "text/plain": [
       "60-element Array{Float64,1}:\n",
       " 1.0     \n",
       " 0.948402\n",
       " 0.65375 \n",
       " 1.0     \n",
       " 0.955439\n",
       " 0.783591\n",
       " 1.0     \n",
       " 1.0     \n",
       " 1.0     \n",
       " 1.0     \n",
       " 1.0     \n",
       " 0.967465\n",
       " 0.545305\n",
       " ⋮       \n",
       " 1.0     \n",
       " 1.0     \n",
       " 1.0     \n",
       " 0.969423\n",
       " 1.0     \n",
       " 0.989815\n",
       " 1.0     \n",
       " 1.0     \n",
       " 1.0     \n",
       " 1.0     \n",
       " 1.0     \n",
       " 1.0     "
      ]
     },
     "execution_count": 11,
     "metadata": {},
     "output_type": "execute_result"
    }
   ],
   "source": [
    "# normalize weights\n",
    "weights = getvalue(x)\n",
    "weights = weights/maximum(weights)\n",
    "\n",
    "# take inverse of each attribute to get the characteristics that we are poor at\n",
    "weights = 1.0 - weights\n"
   ]
  },
  {
   "cell_type": "code",
   "execution_count": 12,
   "metadata": {
    "collapsed": true
   },
   "outputs": [
    {
     "data": {
      "text/html": [
       "<table class=\"data-frame\"><thead><tr><th></th><th>x</th><th>Name</th><th>Age</th><th>Photo</th><th>Nationality</th><th>Flag</th><th>Overall</th><th>Potential</th><th>Club</th><th>Club_Logo</th><th>Value</th><th>Wage</th><th>Special</th><th>Acceleration</th><th>Aggression</th><th>Agility</th><th>Balance</th><th>Ball_control</th><th>Composure</th><th>Crossing</th><th>Curve</th><th>Dribbling</th><th>Finishing</th><th>Free_kick_accuracy</th><th>GK_diving</th><th>GK_handling</th><th>GK_kicking</th><th>GK_positioning</th><th>GK_reflexes</th><th>Heading_accuracy</th><th>Interceptions</th><th>Jumping</th><th>Long_passing</th><th>Long_shots</th><th>Marking</th><th>Penalties</th><th>Positioning</th><th>Reactions</th><th>Short_passing</th><th>Shot_power</th><th>Sliding_tackle</th><th>Sprint_speed</th><th>Stamina</th><th>Standing_tackle</th><th>Strength</th><th>Vision</th><th>Volleys</th><th>CAM</th><th>CB</th><th>CDM</th><th>CF</th><th>CM</th><th>ID</th><th>LAM</th><th>LB</th><th>LCB</th><th>LCM</th><th>LDM</th><th>LF</th><th>LM</th><th>LS</th><th>LW</th><th>LWB</th><th>Preferred_Positions</th><th>RAM</th><th>RB</th><th>RCB</th><th>RCM</th><th>RDM</th><th>RF</th><th>RM</th><th>RS</th><th>RW</th><th>RWB</th><th>ST</th></tr></thead><tbody><tr><th>1</th><td>15</td><td>L. Modrić</td><td>31</td><td>https://cdn.sofifa.org/48/18/players/177003.png</td><td>Croatia</td><td>https://cdn.sofifa.org/flags/10.png</td><td>89</td><td>89</td><td>Real Madrid CF</td><td>https://cdn.sofifa.org/24/18/teams/243.png</td><td>5.7e7</td><td>€340K</td><td>2228</td><td>75</td><td>62</td><td>93</td><td>94</td><td>92</td><td>84</td><td>78</td><td>79</td><td>86</td><td>71</td><td>77</td><td>13</td><td>9</td><td>7</td><td>14</td><td>9</td><td>55</td><td>76</td><td>67</td><td>83</td><td>82</td><td>66</td><td>80</td><td>79</td><td>88</td><td>92</td><td>73</td><td>73</td><td>71</td><td>82</td><td>80</td><td>58</td><td>90</td><td>74</td><td>86.0</td><td>72.0</td><td>80.0</td><td>83.0</td><td>86.0</td><td>177003.0</td><td>86.0</td><td>78.0</td><td>72.0</td><td>86.0</td><td>80.0</td><td>83.0</td><td>84.0</td><td>76.0</td><td>83.0</td><td>80.0</td><td>CDM CM </td><td>86.0</td><td>78.0</td><td>72.0</td><td>86.0</td><td>80.0</td><td>83.0</td><td>84.0</td><td>76.0</td><td>83.0</td><td>80.0</td><td>76.0</td></tr><tr><th>2</th><td>16</td><td>G. Bale</td><td>27</td><td>https://cdn.sofifa.org/48/18/players/173731.png</td><td>Wales</td><td>https://cdn.sofifa.org/flags/50.png</td><td>89</td><td>89</td><td>Real Madrid CF</td><td>https://cdn.sofifa.org/24/18/teams/243.png</td><td>6.9e7</td><td>€370K</td><td>2263</td><td>93</td><td>65</td><td>77</td><td>65</td><td>87</td><td>85</td><td>87</td><td>86</td><td>89</td><td>87</td><td>85</td><td>15</td><td>15</td><td>11</td><td>5</td><td>6</td><td>86</td><td>59</td><td>85</td><td>80</td><td>90</td><td>51</td><td>76</td><td>86</td><td>87</td><td>86</td><td>91</td><td>52</td><td>95</td><td>76</td><td>55</td><td>80</td><td>79</td><td>76</td><td>86.0</td><td>67.0</td><td>71.0</td><td>87.0</td><td>81.0</td><td>173731.0</td><td>86.0</td><td>72.0</td><td>67.0</td><td>81.0</td><td>71.0</td><td>87.0</td><td>87.0</td><td>87.0</td><td>87.0</td><td>74.0</td><td>RW </td><td>86.0</td><td>72.0</td><td>67.0</td><td>81.0</td><td>71.0</td><td>87.0</td><td>87.0</td><td>87.0</td><td>87.0</td><td>74.0</td><td>87.0</td></tr><tr><th>3</th><td>36</td><td>P. Pogba</td><td>24</td><td>https://cdn.sofifa.org/48/18/players/195864.png</td><td>France</td><td>https://cdn.sofifa.org/flags/18.png</td><td>87</td><td>92</td><td>Manchester United</td><td>https://cdn.sofifa.org/24/18/teams/11.png</td><td>6.6e7</td><td>€195K</td><td>2238</td><td>72</td><td>75</td><td>76</td><td>61</td><td>89</td><td>85</td><td>78</td><td>84</td><td>86</td><td>71</td><td>82</td><td>5</td><td>6</td><td>2</td><td>4</td><td>3</td><td>73</td><td>68</td><td>85</td><td>88</td><td>82</td><td>66</td><td>76</td><td>83</td><td>84</td><td>86</td><td>90</td><td>66</td><td>76</td><td>91</td><td>68</td><td>91</td><td>86</td><td>85</td><td>84.0</td><td>74.0</td><td>79.0</td><td>83.0</td><td>84.0</td><td>195864.0</td><td>84.0</td><td>75.0</td><td>74.0</td><td>84.0</td><td>79.0</td><td>83.0</td><td>83.0</td><td>81.0</td><td>82.0</td><td>77.0</td><td>CDM CM </td><td>84.0</td><td>75.0</td><td>74.0</td><td>84.0</td><td>79.0</td><td>83.0</td><td>83.0</td><td>81.0</td><td>82.0</td><td>77.0</td><td>81.0</td></tr><tr><th>4</th><td>38</td><td>A. Vidal</td><td>30</td><td>https://cdn.sofifa.org/48/18/players/181872.png</td><td>Chile</td><td>https://cdn.sofifa.org/flags/55.png</td><td>87</td><td>87</td><td>FC Bayern Munich</td><td>https://cdn.sofifa.org/24/18/teams/21.png</td><td>3.7e7</td><td>€160K</td><td>2278</td><td>76</td><td>93</td><td>75</td><td>77</td><td>83</td><td>86</td><td>76</td><td>76</td><td>76</td><td>77</td><td>68</td><td>4</td><td>2</td><td>4</td><td>2</td><td>4</td><td>81</td><td>85</td><td>82</td><td>82</td><td>85</td><td>76</td><td>81</td><td>80</td><td>89</td><td>84</td><td>86</td><td>85</td><td>74</td><td>91</td><td>89</td><td>77</td><td>80</td><td>78</td><td>81.0</td><td>84.0</td><td>85.0</td><td>81.0</td><td>83.0</td><td>181872.0</td><td>81.0</td><td>83.0</td><td>84.0</td><td>83.0</td><td>85.0</td><td>81.0</td><td>80.0</td><td>81.0</td><td>80.0</td><td>83.0</td><td>CM CDM </td><td>81.0</td><td>83.0</td><td>84.0</td><td>83.0</td><td>85.0</td><td>81.0</td><td>80.0</td><td>81.0</td><td>80.0</td><td>83.0</td><td>81.0</td></tr><tr><th>5</th><td>40</td><td>Marcelo</td><td>29</td><td>https://cdn.sofifa.org/48/18/players/176676.png</td><td>Brazil</td><td>https://cdn.sofifa.org/flags/54.png</td><td>87</td><td>87</td><td>Real Madrid CF</td><td>https://cdn.sofifa.org/24/18/teams/243.png</td><td>3.8e7</td><td>€250K</td><td>2209</td><td>77</td><td>84</td><td>77</td><td>82</td><td>88</td><td>85</td><td>90</td><td>80</td><td>84</td><td>67</td><td>67</td><td>12</td><td>5</td><td>5</td><td>5</td><td>9</td><td>71</td><td>83</td><td>77</td><td>76</td><td>66</td><td>80</td><td>59</td><td>75</td><td>87</td><td>82</td><td>83</td><td>87</td><td>79</td><td>81</td><td>85</td><td>77</td><td>75</td><td>54</td><td>79.0</td><td>82.0</td><td>82.0</td><td>79.0</td><td>80.0</td><td>176676.0</td><td>79.0</td><td>84.0</td><td>82.0</td><td>80.0</td><td>82.0</td><td>79.0</td><td>81.0</td><td>77.0</td><td>80.0</td><td>84.0</td><td>LB </td><td>79.0</td><td>84.0</td><td>82.0</td><td>80.0</td><td>82.0</td><td>79.0</td><td>81.0</td><td>77.0</td><td>80.0</td><td>84.0</td><td>77.0</td></tr><tr><th>6</th><td>50</td><td>D. Alaba</td><td>25</td><td>https://cdn.sofifa.org/48/18/players/197445.png</td><td>Austria</td><td>https://cdn.sofifa.org/flags/4.png</td><td>86</td><td>88</td><td>FC Bayern Munich</td><td>https://cdn.sofifa.org/24/18/teams/21.png</td><td>4.4e7</td><td>€150K</td><td>2278</td><td>86</td><td>69</td><td>79</td><td>77</td><td>83</td><td>79</td><td>82</td><td>78</td><td>79</td><td>63</td><td>85</td><td>5</td><td>7</td><td>14</td><td>15</td><td>9</td><td>75</td><td>85</td><td>82</td><td>80</td><td>83</td><td>81</td><td>80</td><td>77</td><td>84</td><td>83</td><td>83</td><td>83</td><td>86</td><td>87</td><td>83</td><td>69</td><td>78</td><td>68</td><td>80.0</td><td>80.0</td><td>82.0</td><td>79.0</td><td>81.0</td><td>197445.0</td><td>80.0</td><td>83.0</td><td>80.0</td><td>81.0</td><td>82.0</td><td>79.0</td><td>81.0</td><td>77.0</td><td>80.0</td><td>84.0</td><td>CM CB LB </td><td>80.0</td><td>83.0</td><td>80.0</td><td>81.0</td><td>82.0</td><td>79.0</td><td>81.0</td><td>77.0</td><td>80.0</td><td>84.0</td><td>77.0</td></tr><tr><th>7</th><td>60</td><td>R. Nainggolan</td><td>29</td><td>https://cdn.sofifa.org/48/18/players/178518.png</td><td>Belgium</td><td>https://cdn.sofifa.org/flags/7.png</td><td>86</td><td>86</td><td>Roma</td><td>https://cdn.sofifa.org/24/18/teams/52.png</td><td>4.2e7</td><td>€130K</td><td>2286</td><td>80</td><td>88</td><td>81</td><td>84</td><td>85</td><td>85</td><td>73</td><td>73</td><td>80</td><td>76</td><td>68</td><td>11</td><td>11</td><td>14</td><td>8</td><td>11</td><td>59</td><td>86</td><td>76</td><td>81</td><td>86</td><td>78</td><td>63</td><td>88</td><td>87</td><td>84</td><td>84</td><td>88</td><td>76</td><td>94</td><td>86</td><td>76</td><td>76</td><td>75</td><td>82.0</td><td>81.0</td><td>84.0</td><td>82.0</td><td>84.0</td><td>178518.0</td><td>82.0</td><td>83.0</td><td>81.0</td><td>84.0</td><td>84.0</td><td>82.0</td><td>82.0</td><td>80.0</td><td>81.0</td><td>84.0</td><td>CAM CM </td><td>82.0</td><td>83.0</td><td>81.0</td><td>84.0</td><td>84.0</td><td>82.0</td><td>82.0</td><td>80.0</td><td>81.0</td><td>84.0</td><td>80.0</td></tr><tr><th>8</th><td>86</td><td>C. Marchisio</td><td>31</td><td>https://cdn.sofifa.org/48/18/players/173210.png</td><td>Italy</td><td>https://cdn.sofifa.org/flags/27.png</td><td>85</td><td>85</td><td>Juventus</td><td>https://cdn.sofifa.org/24/18/teams/45.png</td><td>3.3e7</td><td>€160K</td><td>2210</td><td>78</td><td>78</td><td>81</td><td>79</td><td>85</td><td>84</td><td>76</td><td>78</td><td>84</td><td>61</td><td>78</td><td>4</td><td>3</td><td>4</td><td>2</td><td>4</td><td>68</td><td>80</td><td>68</td><td>85</td><td>82</td><td>72</td><td>78</td><td>80</td><td>86</td><td>87</td><td>82</td><td>80</td><td>78</td><td>81</td><td>78</td><td>70</td><td>84</td><td>76</td><td>82.0</td><td>77.0</td><td>81.0</td><td>80.0</td><td>83.0</td><td>173210.0</td><td>82.0</td><td>79.0</td><td>77.0</td><td>83.0</td><td>81.0</td><td>80.0</td><td>81.0</td><td>76.0</td><td>80.0</td><td>80.0</td><td>CDM CM </td><td>82.0</td><td>79.0</td><td>77.0</td><td>83.0</td><td>81.0</td><td>80.0</td><td>81.0</td><td>76.0</td><td>80.0</td><td>80.0</td><td>76.0</td></tr><tr><th>9</th><td>108</td><td>Ander Herrera</td><td>27</td><td>https://cdn.sofifa.org/48/18/players/191740.png</td><td>Spain</td><td>https://cdn.sofifa.org/flags/45.png</td><td>84</td><td>84</td><td>Manchester United</td><td>https://cdn.sofifa.org/24/18/teams/11.png</td><td>3.2e7</td><td>€190K</td><td>2213</td><td>76</td><td>86</td><td>84</td><td>82</td><td>86</td><td>84</td><td>74</td><td>80</td><td>81</td><td>71</td><td>65</td><td>9</td><td>12</td><td>15</td><td>9</td><td>8</td><td>60</td><td>86</td><td>63</td><td>80</td><td>72</td><td>80</td><td>79</td><td>78</td><td>85</td><td>86</td><td>72</td><td>76</td><td>70</td><td>87</td><td>78</td><td>70</td><td>84</td><td>69</td><td>81.0</td><td>78.0</td><td>83.0</td><td>79.0</td><td>83.0</td><td>191740.0</td><td>81.0</td><td>80.0</td><td>78.0</td><td>83.0</td><td>83.0</td><td>79.0</td><td>80.0</td><td>75.0</td><td>79.0</td><td>81.0</td><td>CDM CM </td><td>81.0</td><td>80.0</td><td>78.0</td><td>83.0</td><td>83.0</td><td>79.0</td><td>80.0</td><td>75.0</td><td>79.0</td><td>81.0</td><td>75.0</td></tr><tr><th>10</th><td>227</td><td>A. Florenzi</td><td>26</td><td>https://cdn.sofifa.org/48/18/players/203551.png</td><td>Italy</td><td>https://cdn.sofifa.org/flags/27.png</td><td>82</td><td>84</td><td>Roma</td><td>https://cdn.sofifa.org/24/18/teams/52.png</td><td>2.2e7</td><td>€73K</td><td>2265</td><td>86</td><td>79</td><td>87</td><td>84</td><td>84</td><td>79</td><td>77</td><td>73</td><td>79</td><td>76</td><td>79</td><td>9</td><td>8</td><td>10</td><td>11</td><td>10</td><td>70</td><td>77</td><td>74</td><td>75</td><td>82</td><td>73</td><td>76</td><td>82</td><td>79</td><td>82</td><td>82</td><td>78</td><td>84</td><td>90</td><td>79</td><td>68</td><td>75</td><td>87</td><td>80.0</td><td>76.0</td><td>79.0</td><td>80.0</td><td>80.0</td><td>203551.0</td><td>80.0</td><td>80.0</td><td>76.0</td><td>80.0</td><td>79.0</td><td>80.0</td><td>81.0</td><td>79.0</td><td>81.0</td><td>80.0</td><td>CM RW RB </td><td>80.0</td><td>80.0</td><td>76.0</td><td>80.0</td><td>79.0</td><td>80.0</td><td>81.0</td><td>79.0</td><td>81.0</td><td>80.0</td><td>79.0</td></tr></tbody></table>"
      ],
      "text/plain": [
       "10×75 DataFrames.DataFrame. Omitted printing of 72 columns\n",
       "│ Row │ x   │ Name          │ Age │\n",
       "├─────┼─────┼───────────────┼─────┤\n",
       "│ 1   │ 15  │ L. Modrić     │ 31  │\n",
       "│ 2   │ 16  │ G. Bale       │ 27  │\n",
       "│ 3   │ 36  │ P. Pogba      │ 24  │\n",
       "│ 4   │ 38  │ A. Vidal      │ 30  │\n",
       "│ 5   │ 40  │ Marcelo       │ 29  │\n",
       "│ 6   │ 50  │ D. Alaba      │ 25  │\n",
       "│ 7   │ 60  │ R. Nainggolan │ 29  │\n",
       "│ 8   │ 86  │ C. Marchisio  │ 31  │\n",
       "│ 9   │ 108 │ Ander Herrera │ 27  │\n",
       "│ 10  │ 227 │ A. Florenzi   │ 26  │"
      ]
     },
     "execution_count": 12,
     "metadata": {},
     "output_type": "execute_result"
    }
   ],
   "source": [
    "using JuMP, Cbc\n",
    "\n",
    "m1 = Model(solver=CbcSolver())\n",
    "\n",
    "BUDGET = 1000000000000000000000000000000000000000000000000000000000000000000000000000000000000000000000 # budget for spending\n",
    "NUM_PLAYERS = 10 #  Number of players we would like to buy\n",
    "df2 = df[find(x->x != my_team, df[:,9]),:] # narrow down dataframe only to players not in our team\n",
    "df2 = df2[find(x->x != 0, df2[:,11]),:] # get rid of free agents because their actual cost is unavailable\n",
    "df3 = df2\n",
    "player_values = Array{Int}(df2[:, 11])\n",
    "df2 = hcat(df2[:, 14:52],df2[:,54:63],df2[:,65:75]) # reduce to attributes only\n",
    "df2 = Array{Int}(df2)\n",
    "\n",
    "@variable(m1, player_pick[1:size(df2)[1]], Bin)\n",
    "@constraint(m1, sum(player_values[i]*player_pick[i] for i in 1:length(player_values)) <= BUDGET) # our team has to stay in budget\n",
    "@constraint(m1, sum(player_pick[i] for i in 1:length(player_values)) == NUM_PLAYERS) # we need to restrict the number of players we will buy\n",
    "@objective(m1, Max, sum(vecdot((df2*weights),player_pick)))\n",
    "solve(m1)\n",
    "df3[find(x->x ==1 ,getvalue(player_pick)),:]"
   ]
  },
  {
   "cell_type": "code",
   "execution_count": 107,
   "metadata": {},
   "outputs": [
    {
     "data": {
      "text/plain": [
       "60-element Array{Float64,1}:\n",
       " 72.3871\n",
       " 60.9355\n",
       " 69.6452\n",
       " 68.6452\n",
       " 68.5161\n",
       " 67.0645\n",
       " 59.871 \n",
       " 57.129 \n",
       " 66.2581\n",
       " 55.3871\n",
       " 47.1935\n",
       " 18.8387\n",
       " 18.9677\n",
       "  ⋮     \n",
       " 58.3871\n",
       " 61.9677\n",
       " 57.1935\n",
       " 54.7742\n",
       " 60.8065\n",
       " 57.4516\n",
       " 61.4194\n",
       " 62.3548\n",
       " 59.7742\n",
       " 61.871 \n",
       " 58.3871\n",
       " 59.7742"
      ]
     },
     "execution_count": 107,
     "metadata": {},
     "output_type": "execute_result"
    }
   ],
   "source": [
    "# average rating of each attribute before adding new players\n",
    "transpose(attributes)*ones(31)/size(attributes)[1]"
   ]
  },
  {
   "cell_type": "code",
   "execution_count": 102,
   "metadata": {},
   "outputs": [
    {
     "data": {
      "text/plain": [
       "31"
      ]
     },
     "execution_count": 102,
     "metadata": {},
     "output_type": "execute_result"
    }
   ],
   "source": [
    "size(attributes)[1]\n"
   ]
  },
  {
   "cell_type": "code",
   "execution_count": 13,
   "metadata": {},
   "outputs": [
    {
     "name": "stdout",
     "output_type": "stream",
     "text": [
      "if !Plots.is_installed(\"PyPlot\")\n",
      "    Pkg.add(\"PyPlot\")\n",
      "end\n",
      "withenv(\"PYTHON\" => \"\") do\n",
      "    Pkg.build(\"PyPlot\")\n",
      "end\n",
      "\n",
      "# now restart julia!\n",
      "\n",
      "\n"
     ]
    },
    {
     "name": "stderr",
     "output_type": "stream",
     "text": [
      "\u001b[1m\u001b[33mWARNING: \u001b[39m\u001b[22m\u001b[33mCouldn't initialize pyplot.  (might need to install it?)\u001b[39m\n",
      "\u001b[1m\u001b[36mINFO: \u001b[39m\u001b[22m\u001b[36mTo do a standard install of pyplot, copy and run this:\n",
      "\n",
      "\u001b[39m"
     ]
    },
    {
     "ename": "LoadError",
     "evalue": "InitError: \u001b[91mPyError (ccall(@pysym(:PyImport_ImportModule), PyPtr, (Cstring,), name)\n\nThe Python package matplotlib.pyplot could not be found by pyimport. Usually this means\nthat you did not install matplotlib.pyplot in the Python version being used by PyCall.\n\nPyCall is currently configured to use the Julia-specific Python distribution\ninstalled by the Conda.jl package.  To install the matplotlib.pyplot module, you can\nuse `pyimport_conda(\"matplotlib.pyplot\", PKG)`, where PKG is the Anaconda\npackage the contains the module matplotlib.pyplot, or alternatively you can use the\nConda package directly (via `using Conda` followed by `Conda.add` etcetera).\n\nAlternatively, if you want to use a different Python distribution on your\nsystem, such as a system-wide Python (as opposed to the Julia-specific Python),\nyou can re-configure PyCall with that Python.   As explained in the PyCall\ndocumentation, set ENV[\"PYTHON\"] to the path/name of the python executable\nyou want to use, run Pkg.build(\"PyCall\"), and re-launch Julia.\n\n) <type 'exceptions.ImportError'>\nImportError(\"/lib/x86_64-linux-gnu/libz.so.1: version `ZLIB_1.2.9' not found (required by /home/adithya/.julia/v0.6/Conda/deps/usr/lib/python2.7/site-packages/matplotlib/../../.././libpng16.so.16)\",)\n  File \"/home/adithya/.julia/v0.6/Conda/deps/usr/lib/python2.7/site-packages/matplotlib/pyplot.py\", line 32, in <module>\n    import matplotlib.colorbar\n  File \"/home/adithya/.julia/v0.6/Conda/deps/usr/lib/python2.7/site-packages/matplotlib/colorbar.py\", line 36, in <module>\n    import matplotlib.contour as contour\n  File \"/home/adithya/.julia/v0.6/Conda/deps/usr/lib/python2.7/site-packages/matplotlib/contour.py\", line 21, in <module>\n    import matplotlib.font_manager as font_manager\n  File \"/home/adithya/.julia/v0.6/Conda/deps/usr/lib/python2.7/site-packages/matplotlib/font_manager.py\", line 58, in <module>\n    from matplotlib import afm, cbook, ft2font, rcParams, get_cachedir\n\u001b[39m\nduring initialization of module PyPlot",
     "output_type": "error",
     "traceback": [
      "InitError: \u001b[91mPyError (ccall(@pysym(:PyImport_ImportModule), PyPtr, (Cstring,), name)\n\nThe Python package matplotlib.pyplot could not be found by pyimport. Usually this means\nthat you did not install matplotlib.pyplot in the Python version being used by PyCall.\n\nPyCall is currently configured to use the Julia-specific Python distribution\ninstalled by the Conda.jl package.  To install the matplotlib.pyplot module, you can\nuse `pyimport_conda(\"matplotlib.pyplot\", PKG)`, where PKG is the Anaconda\npackage the contains the module matplotlib.pyplot, or alternatively you can use the\nConda package directly (via `using Conda` followed by `Conda.add` etcetera).\n\nAlternatively, if you want to use a different Python distribution on your\nsystem, such as a system-wide Python (as opposed to the Julia-specific Python),\nyou can re-configure PyCall with that Python.   As explained in the PyCall\ndocumentation, set ENV[\"PYTHON\"] to the path/name of the python executable\nyou want to use, run Pkg.build(\"PyCall\"), and re-launch Julia.\n\n) <type 'exceptions.ImportError'>\nImportError(\"/lib/x86_64-linux-gnu/libz.so.1: version `ZLIB_1.2.9' not found (required by /home/adithya/.julia/v0.6/Conda/deps/usr/lib/python2.7/site-packages/matplotlib/../../.././libpng16.so.16)\",)\n  File \"/home/adithya/.julia/v0.6/Conda/deps/usr/lib/python2.7/site-packages/matplotlib/pyplot.py\", line 32, in <module>\n    import matplotlib.colorbar\n  File \"/home/adithya/.julia/v0.6/Conda/deps/usr/lib/python2.7/site-packages/matplotlib/colorbar.py\", line 36, in <module>\n    import matplotlib.contour as contour\n  File \"/home/adithya/.julia/v0.6/Conda/deps/usr/lib/python2.7/site-packages/matplotlib/contour.py\", line 21, in <module>\n    import matplotlib.font_manager as font_manager\n  File \"/home/adithya/.julia/v0.6/Conda/deps/usr/lib/python2.7/site-packages/matplotlib/font_manager.py\", line 58, in <module>\n    from matplotlib import afm, cbook, ft2font, rcParams, get_cachedir\n\u001b[39m\nduring initialization of module PyPlot",
      ""
     ]
    }
   ],
   "source": [
    "using Plots\n",
    "plot(transpose(attributes)*ones(31)/size(attributes)[1])"
   ]
  }
 ],
 "metadata": {
  "kernelspec": {
   "display_name": "Julia 0.6.2",
   "language": "julia",
   "name": "julia-0.6"
  },
  "language_info": {
   "file_extension": ".jl",
   "mimetype": "application/julia",
   "name": "julia",
   "version": "0.6.2"
  }
 },
 "nbformat": 4,
 "nbformat_minor": 2
}
