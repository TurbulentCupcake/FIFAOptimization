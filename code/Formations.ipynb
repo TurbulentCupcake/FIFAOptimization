{
 "cells": [
  {
   "cell_type": "code",
   "execution_count": 3,
   "metadata": {},
   "outputs": [
    {
     "name": "stdout",
     "output_type": "stream",
     "text": [
      "13×13 Named Array{Int64,2}\n",
      "A ╲ B │  :GK  :CB1  :CB2  :CAM   :LB  …  :CDM   :RW   :LW  :ST1  :ST2\n",
      "──────┼──────────────────────────────────────────────────────────────\n",
      ":GK   │    0     1     1     0     0  …     0     0     0     0     0\n",
      ":CB1  │    1     0     1     0     1        1     0     0     0     0\n",
      ":CB2  │    1     1     0     0     0        1     0     0     0     0\n",
      ":CAM  │    0     0     0     0     0        0     0     0     0     0\n",
      ":LB   │    0     1     0     0     0        0     0     0     0     0\n",
      ":RB   │    0     0     1     0     0        0     0     0     0     0\n",
      ":CM1  │    0     0     0     0     1        1     0     1     0     0\n",
      ":CM2  │    0     0     0     0     0        1     1     0     0     0\n",
      ":CDM  │    0     1     1     0     0        0     0     0     0     0\n",
      ":RW   │    0     0     0     0     0        0     0     0     1     0\n",
      ":LW   │    0     0     0     0     0        0     0     0     1     0\n",
      ":ST1  │    0     0     0     0     0        0     1     1     0     0\n",
      ":ST2  │    0     0     0     0     0  …     0     0     0     0     0\n"
     ]
    }
   ],
   "source": [
    "#4-3-3 (2)\n",
    "using NamedArrays\n",
    "\n",
    "players = [:GK, :CB1, :CB2, :CAM, :LB, :RB, :CM1, :CM2, :CDM, :RW, :LW, :ST1, :ST2, :LM, :RM]\n",
    "\n",
    "positions = [0 1 1 0 0 0 0 0 0 0 0 0 0 0 0\n",
    "             1 0 1 0 1 0 0 0 1 0 0 0 0 0 0\n",
    "             1 1 0 0 0 1 0 0 1 0 0 0 0 0 0\n",
    "             0 0 0 0 0 0 0 0 0 0 0 0 0 0 0\n",
    "             0 1 0 0 0 0 1 0 0 0 0 0 0 0 0\n",
    "             0 0 1 0 0 0 0 1 0 0 0 0 0 0 0\n",
    "             0 0 0 0 1 0 0 1 1 0 1 0 0 0 0\n",
    "             0 0 0 0 0 1 1 0 1 1 0 0 0 0 0\n",
    "             0 1 1 0 0 0 1 1 0 0 0 0 0 0 0\n",
    "             0 0 0 0 0 0 0 1 0 0 0 1 0 0 0\n",
    "             0 0 0 0 0 0 1 0 0 0 0 1 0 0 0\n",
    "             0 0 0 0 0 0 1 1 0 1 1 0 0 0 0\n",
    "             0 0 0 0 0 0 0 0 0 0 0 0 0 0 0]\n",
    "    \n",
    "    \n",
    "\n",
    "c = NamedArray(positions,(players, players))\n",
    "println(c)"
   ]
  },
  {
   "cell_type": "code",
   "execution_count": 2,
   "metadata": {},
   "outputs": [
    {
     "name": "stdout",
     "output_type": "stream",
     "text": [
      "13×13 Named Array{Int64,2}\n",
      "A ╲ B │  :GK  :CB1  :CB2  :CAM   :LB  …  :CDM   :RW   :LW  :ST1  :ST2\n",
      "──────┼──────────────────────────────────────────────────────────────\n",
      ":GK   │    0     1     1     0     0  …     0     0     0     0     0\n",
      ":CB1  │    1     0     1     0     1        1     0     0     0     0\n",
      ":CB2  │    1     1     0     0     0        1     0     0     0     0\n",
      ":CAM  │    0     0     0     0     0        0     0     0     1     1\n",
      ":LB   │    0     1     0     0     0        0     0     0     0     0\n",
      ":RB   │    0     0     1     0     0        0     0     0     0     0\n",
      ":CM1  │    0     0     0     1     1        1     0     0     1     0\n",
      ":CM2  │    0     0     0     1     0        1     0     0     0     1\n",
      ":CDM  │    0     1     1     0     0        0     0     0     0     0\n",
      ":RW   │    0     0     0     0     0        0     0     0     0     0\n",
      ":LW   │    0     0     0     0     0        0     0     0     0     0\n",
      ":ST1  │    0     0     0     1     0        0     0     0     0     1\n",
      ":ST2  │    0     0     0     1     0  …     0     0     0     1     0\n"
     ]
    }
   ],
   "source": [
    "#4-2-1-2\n",
    "using NamedArrays\n",
    "\n",
    "players = [:GK, :CB1, :CB2, :CAM, :LB, :RB, :CM1, :CM2, :CDM, :RW, :LW, :ST1, :ST2, :LM, :RM]\n",
    "\n",
    "positions = [0 1 1 0 0 0 0 0 0 0 0 0 0 0 0\n",
    "             1 0 1 0 1 0 0 0 1 0 0 0 0 0 0\n",
    "             1 1 0 0 0 1 0 0 1 0 0 0 0 0 0\n",
    "             0 0 0 0 0 0 1 1 0 0 0 1 1 0 0\n",
    "             0 1 0 0 0 0 1 0 0 0 0 0 0 0 0\n",
    "             0 0 1 0 0 0 0 1 0 0 0 0 0 0 0\n",
    "             0 0 0 1 1 0 0 0 1 0 0 1 0 0 0\n",
    "             0 0 0 1 0 1 0 0 1 0 0 0 1 0 0\n",
    "             0 1 1 0 0 0 1 1 0 0 0 0 0 0 0\n",
    "             0 0 0 0 0 0 0 0 0 0 0 0 0 0 0\n",
    "             0 0 0 0 0 0 0 0 0 0 0 0 0 0 0\n",
    "             0 0 0 1 0 0 1 0 0 0 0 0 1 0 0\n",
    "             0 0 0 1 0 0 0 1 0 0 0 1 0 0 0]\n",
    "    \n",
    "            \n",
    "    \n",
    "             \n",
    "c = NamedArray(positions,(players, players))\n",
    "println(c)"
   ]
  },
  {
   "cell_type": "code",
   "execution_count": 5,
   "metadata": {},
   "outputs": [
    {
     "name": "stdout",
     "output_type": "stream",
     "text": [
      "15×15 Named Array{Int64,2}\n",
      "A ╲ B │  :GK  :CB1  :CB2  :CAM   :LB  …   :LW  :ST1  :ST2   :LM   :RM\n",
      "──────┼──────────────────────────────────────────────────────────────\n",
      ":GK   │    0     1     1     0     0  …     0     0     0     0     0\n",
      ":CB1  │    1     0     0     0     0        0     0     0     1     0\n",
      ":CB2  │    1     0     0     0     0        0     0     0     0     1\n",
      ":CAM  │    0     0     0     0     0        0     1     1     0     0\n",
      ":LB   │    0     0     0     0     0        0     0     0     0     0\n",
      ":RB   │    0     0     0     0     0        0     0     0     0     0\n",
      ":CM1  │    0     0     0     1     0        0     0     0     1     0\n",
      ":CM2  │    0     0     0     1     0        0     0     0     0     1\n",
      ":CDM  │    1     1     1     0     0        0     0     0     0     0\n",
      ":RW   │    0     0     0     0     0        0     0     0     0     0\n",
      ":LW   │    0     0     0     0     0        0     0     0     0     0\n",
      ":ST1  │    0     0     0     1     0        0     0     1     1     0\n",
      ":ST2  │    0     0     0     1     0        0     1     0     0     1\n",
      ":LM   │    0     1     0     0     0        0     1     0     0     0\n",
      ":RM   │    0     0     1     0     0  …     0     0     1     0     0\n"
     ]
    }
   ],
   "source": [
    "#3-4-1-2\n",
    "#4-2-1-2\n",
    "using NamedArrays\n",
    "\n",
    "players = [:GK, :CB1, :CB2, :CAM, :LB, :RB, :CM1, :CM2, :CDM, :RW, :LW, :ST1, :ST2, :LM, :RM]\n",
    "        \n",
    "positions = [0 1 1 0 0 0 0 0 1 0 0 0 0 0 0\n",
    "             1 0 0 0 0 0 0 0 1 0 0 0 0 1 0\n",
    "             1 0 0 0 0 0 0 0 1 0 0 0 0 0 1\n",
    "             0 0 0 0 0 0 1 1 0 0 0 1 1 0 0\n",
    "             0 0 0 0 0 0 0 0 0 0 0 0 0 0 0\n",
    "             0 0 0 0 0 0 0 0 0 0 0 0 0 0 0\n",
    "             0 0 0 1 0 0 0 1 1 0 0 0 0 1 0\n",
    "             0 0 0 1 0 0 1 0 1 0 0 0 0 0 1\n",
    "             1 1 1 0 0 0 1 1 0 0 0 0 0 0 0\n",
    "             0 0 0 0 0 0 0 0 0 0 0 0 0 0 0\n",
    "             0 0 0 0 0 0 0 0 0 0 0 0 0 0 0\n",
    "             0 0 0 1 0 0 0 0 0 0 0 0 1 1 0\n",
    "             0 0 0 1 0 0 0 0 0 0 0 1 0 0 1\n",
    "             0 1 0 0 0 0 1 0 0 0 0 1 0 0 0\n",
    "             0 0 1 0 0 0 0 1 0 0 0 0 1 0 0]\n",
    "    \n",
    "            \n",
    "    \n",
    "             \n",
    "c = NamedArray(positions,(players, players))\n",
    "println(c)"
   ]
  },
  {
   "cell_type": "code",
   "execution_count": null,
   "metadata": {},
   "outputs": [],
   "source": []
  }
 ],
 "metadata": {
  "kernelspec": {
   "display_name": "Julia 0.6.2",
   "language": "julia",
   "name": "julia-0.6"
  },
  "language_info": {
   "file_extension": ".jl",
   "mimetype": "application/julia",
   "name": "julia",
   "version": "0.6.2"
  }
 },
 "nbformat": 4,
 "nbformat_minor": 2
}
